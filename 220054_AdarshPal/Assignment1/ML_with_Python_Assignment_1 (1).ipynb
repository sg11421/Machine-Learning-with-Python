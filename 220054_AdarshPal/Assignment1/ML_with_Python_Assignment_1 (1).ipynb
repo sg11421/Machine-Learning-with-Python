{
  "cells": [
    {
      "cell_type": "markdown",
      "metadata": {
        "id": "UOzd0zRXW5Uv"
      },
      "source": [
        "# Week-1 Assignment\n",
        "\n",
        "*Welcome to your first assignment for the SimuTech Winter Project 2022! I hope you are excited to implement and test everything you have learned up until now. There is an interesting set of questions for you to refine your acquired skills as you delve into hands-on coding and deepen your understanding of numpy, pandas, and data visualization libraries.*"
      ]
    },
    {
      "cell_type": "markdown",
      "metadata": {
        "id": "2XFUXyq9Y9TG"
      },
      "source": [
        "# Section 0 : Importing Libraries"
      ]
    },
    {
      "cell_type": "markdown",
      "metadata": {
        "id": "D_bzcLusjSO0"
      },
      "source": [
        "*Let's begin by importing numpy, pandas and matplotlib.*"
      ]
    },
    {
      "cell_type": "code",
      "execution_count": 14,
      "metadata": {
        "id": "jdwX7bI7aGeY"
      },
      "outputs": [],
      "source": [
        "#your code here\n",
        "import numpy as np\n",
        "import pandas as pd\n",
        "from matplotlib import pyplot as plt"
      ]
    },
    {
      "cell_type": "markdown",
      "metadata": {
        "id": "LM25mz5ta-Q_"
      },
      "source": [
        "# Section 1 : Playing with Python and Numpy"
      ]
    },
    {
      "cell_type": "markdown",
      "metadata": {
        "id": "TcFQVqhAdQw_"
      },
      "source": [
        "### Q1. Matrix Multiplication"
      ]
    },
    {
      "cell_type": "markdown",
      "metadata": {
        "id": "6Dcai9pys0j8"
      },
      "source": [
        "##### (i) Check if matrix multiplication is valid"
      ]
    },
    {
      "cell_type": "code",
      "execution_count": 15,
      "metadata": {
        "id": "0qC4txIss3gG",
        "colab": {
          "base_uri": "https://localhost:8080/"
        },
        "outputId": "21a9e104-627a-41a5-bd77-72681029e5b3"
      },
      "outputs": [
        {
          "output_type": "stream",
          "name": "stdout",
          "text": [
            "1\n",
            "4\n"
          ]
        }
      ],
      "source": [
        "def isValid(A,B):\n",
        "  #your code here\n",
        "  if (A.shape[1] == B.shape[0]):\n",
        "    return 1\n",
        "  else:\n",
        "    return 0\n",
        "\n",
        "\n",
        "\n",
        "A = np.array([\n",
        "    [1, 2, 3],\n",
        "    [4, 5, 6],\n",
        "    [7, 8, 9],\n",
        "    [10, 11, 12]\n",
        "])\n",
        "B = np.array([\n",
        "    [13, 14, 15],\n",
        "    [16, 17, 18],\n",
        "    [19, 20, 21]\n",
        "])\n",
        "print(isValid(A,B))\n",
        "print(A.shape[0])\n",
        "\n"
      ]
    },
    {
      "cell_type": "markdown",
      "metadata": {
        "id": "OPTfRGlTdXxa"
      },
      "source": [
        "##### (ii) Using loops (without using numpy)"
      ]
    },
    {
      "cell_type": "code",
      "execution_count": 16,
      "metadata": {
        "id": "V8F5ETsRct3S",
        "colab": {
          "base_uri": "https://localhost:8080/"
        },
        "outputId": "68ebe0df-66de-496d-dfad-f7dfc157a20e"
      },
      "outputs": [
        {
          "output_type": "execute_result",
          "data": {
            "text/plain": [
              "[[102, 108, 114], [246, 261, 276], [390, 414, 438], [534, 567, 600]]"
            ]
          },
          "metadata": {},
          "execution_count": 16
        }
      ],
      "source": [
        "lst = []\n",
        "def matrix_multiply(A,B):\n",
        "  #your code here\n",
        "\n",
        "  for i in range(4):\n",
        "\n",
        "    for j in range(3):\n",
        "      sum = 0\n",
        "      for k in range(3):\n",
        "         sum = sum + (A[i][k]*B[k][j])\n",
        "      lst.append(sum)\n",
        "  C = [[lst[0],lst[1],lst[2]],\n",
        "     [lst[3],lst[4],lst[5]],\n",
        "      [lst[6],lst[7],lst[8]],\n",
        "       [lst[9],lst[10],lst[11]]]\n",
        "\n",
        "  return C\n",
        "\n",
        "\n",
        "\n",
        "matrix_multiply(A,B)\n",
        "\n",
        "\n",
        "\n",
        "\n",
        "\n",
        "\n"
      ]
    },
    {
      "cell_type": "markdown",
      "metadata": {
        "id": "umUgUTSWdos8"
      },
      "source": [
        "##### (iii) Using numpy"
      ]
    },
    {
      "cell_type": "code",
      "execution_count": 17,
      "metadata": {
        "id": "-tdXlCHrduBP",
        "colab": {
          "base_uri": "https://localhost:8080/"
        },
        "outputId": "94b78b3b-b8ad-4917-cdc3-fc1cfb8e9924"
      },
      "outputs": [
        {
          "output_type": "stream",
          "name": "stdout",
          "text": [
            "[[102 108 114]\n",
            " [246 261 276]\n",
            " [390 414 438]\n",
            " [534 567 600]]\n"
          ]
        }
      ],
      "source": [
        "def matrix_multiply_2(A,B):\n",
        "  #your code here\n",
        "  return np.dot(A,B)\n",
        "\n",
        "print(matrix_multiply_2(A,B))"
      ]
    },
    {
      "cell_type": "markdown",
      "metadata": {
        "id": "2nMFnl84edJG"
      },
      "source": [
        "##### (iv) Testing your code\n",
        "\n",
        "Run the following cell to check if your functions are working properly.\n",
        "\n",
        "*Expected output:*\n",
        "[ [102 108 114]\n",
        " [246 261 276]\n",
        " [390 414 438]\n",
        " [534 567 600] ]"
      ]
    },
    {
      "cell_type": "code",
      "execution_count": 18,
      "metadata": {
        "id": "09rX_Cm9ezmq",
        "colab": {
          "base_uri": "https://localhost:8080/"
        },
        "outputId": "1f8ade97-fce9-4a64-e838-fadf684d06cb"
      },
      "outputs": [
        {
          "output_type": "stream",
          "name": "stdout",
          "text": [
            "Result using loops: [[102, 108, 114], [246, 261, 276], [390, 414, 438], [534, 567, 600]]\n",
            "Result using numpy: [[102 108 114]\n",
            " [246 261 276]\n",
            " [390 414 438]\n",
            " [534 567 600]]\n"
          ]
        }
      ],
      "source": [
        "A = np.array([\n",
        "    [1, 2, 3],\n",
        "    [4, 5, 6],\n",
        "    [7, 8, 9],\n",
        "    [10, 11, 12]\n",
        "])\n",
        "\n",
        "B = np.array([\n",
        "    [13, 14, 15],\n",
        "    [16, 17, 18],\n",
        "    [19, 20, 21]\n",
        "])\n",
        "\n",
        "if isValid(A,B):\n",
        "  print(f\"Result using loops: {matrix_multiply(A,B)}\")\n",
        "  print(f\"Result using numpy: {matrix_multiply_2(A,B)}\")\n",
        "else:\n",
        "  print(f\"Matrix multiplication is not valid\")\n",
        "\n"
      ]
    },
    {
      "cell_type": "markdown",
      "metadata": {
        "id": "5hfP7Ao1fwqV"
      },
      "source": [
        "### Q2. Z-Score Normalisation"
      ]
    },
    {
      "cell_type": "markdown",
      "metadata": {
        "id": "0e81Xx5Kw_CQ"
      },
      "source": [
        "Z-score normalization refers to the process of normalizing every value in a dataset such that the mean of all of the values is 0 and the standard deviation is 1.\n",
        "\n",
        "We use the following formula to perform a z-score normalization on every value in a dataset:\n",
        "\n",
        "New value = (x – μ) / σ\n",
        "\n",
        "where:\n",
        "\n",
        "x: Original value\n",
        "\n",
        "μ: Mean of data\n",
        "\n",
        "σ: Standard deviation of data"
      ]
    },
    {
      "cell_type": "markdown",
      "metadata": {
        "id": "GP_MuyUbguSR"
      },
      "source": [
        "##### (i) Without using numpy"
      ]
    },
    {
      "cell_type": "code",
      "execution_count": 19,
      "metadata": {
        "id": "0vix8qaaghwP"
      },
      "outputs": [],
      "source": [
        "def mean(x):\n",
        "  sum = 0\n",
        "  for i in range(len(x)):\n",
        "    sum = sum + x[i]\n",
        "  return sum/len(x)\n",
        "\n",
        "  #your code here"
      ]
    },
    {
      "cell_type": "code",
      "execution_count": 20,
      "metadata": {
        "id": "j1qabel-g_f5"
      },
      "outputs": [],
      "source": [
        "import math\n",
        "def standard_deviation(x):\n",
        "  sum = 0\n",
        "  for i in range(len(x)):\n",
        "    sum = sum + (mean(x) - x[i])**2\n",
        "\n",
        "  return math.sqrt(sum/(len(x)))\n",
        "\n",
        "  #your code here"
      ]
    },
    {
      "cell_type": "code",
      "execution_count": 21,
      "metadata": {
        "id": "797ewbNqhEpY"
      },
      "outputs": [],
      "source": [
        "def zscore_normalisation(x):\n",
        "  lst_ = []\n",
        "  for i in range(len(x)):\n",
        "    lst_.append((x[i]-mean(x))/standard_deviation(x))\n",
        "\n",
        "  return lst_\n",
        "\n",
        "  #your code here"
      ]
    },
    {
      "cell_type": "markdown",
      "metadata": {
        "id": "k8dq1wqRhbUB"
      },
      "source": [
        "##### (ii) Using numpy\n",
        "\n",
        "Numpy has in_built functions for calculating mean and standard deviation"
      ]
    },
    {
      "cell_type": "code",
      "execution_count": 22,
      "metadata": {
        "id": "WjxJTUDihsYg"
      },
      "outputs": [],
      "source": [
        "def zscore_normalisation_2(x):\n",
        "  mean = np.mean(x)\n",
        "  std = np.std(x)\n",
        "  print(std)\n",
        "  lstf = []\n",
        "  for i in range(len(x)):\n",
        "    lstf.append((x[i]-mean)/std)\n",
        "\n",
        "  return np.array(lstf)\n",
        "\n",
        "  #your code here"
      ]
    },
    {
      "cell_type": "markdown",
      "metadata": {
        "id": "glRqKU-_1pue"
      },
      "source": [
        "##### (iii) Testing your code"
      ]
    },
    {
      "cell_type": "markdown",
      "metadata": {
        "id": "Kl7XBymOigCU"
      },
      "source": [
        "Run the following cell to check if your functions are working properly.\n",
        "\n",
        "*Expected Output:* [-1.06753267 -0.99745394 -0.99745394 -0.81057732 -0.41346451 -0.06307086\n",
        "  0.31068237  0.91803138  1.22170588  1.89913361]"
      ]
    },
    {
      "cell_type": "code",
      "execution_count": 23,
      "metadata": {
        "id": "78ptZxf6ipZp",
        "colab": {
          "base_uri": "https://localhost:8080/"
        },
        "outputId": "c7cad2b1-ad54-4c4c-d1c2-e069ecb9763e"
      },
      "outputs": [
        {
          "output_type": "stream",
          "name": "stdout",
          "text": [
            "Result without using numpy: [-1.0675326683028088, -0.9974539373420117, -0.9974539373420117, -0.8105773214465528, -0.41346451266870277, -0.06307085786471743, 0.3106823739262003, 0.9180313755864415, 1.2217058764165623, 1.8991336090376005]\n",
            "42.8089943820221\n",
            "Result using numpy: [-1.06753267 -0.99745394 -0.99745394 -0.81057732 -0.41346451 -0.06307086\n",
            "  0.31068237  0.91803138  1.22170588  1.89913361]\n"
          ]
        }
      ],
      "source": [
        "x = [4, 7, 7, 15, 32, 47, 63, 89, 102, 131]\n",
        "print(f\"Result without using numpy: {zscore_normalisation(x)}\")\n",
        "print(f\"Result using numpy: {zscore_normalisation_2(x)}\")"
      ]
    },
    {
      "cell_type": "markdown",
      "metadata": {
        "id": "0WVscJ0z14rp"
      },
      "source": [
        "### Q3. Sigmoid fn and its derivative"
      ]
    },
    {
      "cell_type": "markdown",
      "metadata": {
        "id": "Jfntb0Rg94Tu"
      },
      "source": [
        "The sigmoid function is a mathematical function that maps any input value to a value between 0 and 1.\n",
        "\n",
        "It is defined mathematically as s(x) = 1/(1+e^(-x))."
      ]
    },
    {
      "cell_type": "markdown",
      "metadata": {
        "id": "8SCAPkjO2m7u"
      },
      "source": [
        "##### (i) Write a fn to implement sigmoid fn"
      ]
    },
    {
      "cell_type": "code",
      "execution_count": 24,
      "metadata": {
        "id": "jL_TRQFG2l5m"
      },
      "outputs": [],
      "source": [
        "def sigmoidfn(x):\n",
        "  #your code here\n",
        "  return 1/(1+np.exp(-x))"
      ]
    },
    {
      "cell_type": "markdown",
      "metadata": {
        "id": "t7KBbl7N3AUM"
      },
      "source": [
        "##### (ii) Write a fn to implement derivative of sigmoid fn"
      ]
    },
    {
      "cell_type": "code",
      "execution_count": 25,
      "metadata": {
        "id": "okjuOpba3KOJ"
      },
      "outputs": [],
      "source": [
        "def derivative(x):\n",
        "  #your code here\n",
        "  return np.exp(-x)/((1+np.exp(-x))**2)\n"
      ]
    },
    {
      "cell_type": "markdown",
      "metadata": {
        "id": "NdGTSpsp3mwr"
      },
      "source": [
        "##### (iii) Test your code"
      ]
    },
    {
      "cell_type": "markdown",
      "metadata": {
        "id": "lWY8RBex7gnd"
      },
      "source": [
        "Run the following cell to check if your functions are working properly.\n",
        "\n",
        "*Expected output:*\n",
        "\n",
        "x on applying sigmoid activation fn is: [ [0.99987661 0.88079708 0.99330715 0.5        0.5       ]\n",
        " [0.99908895 0.99330715 0.5        0.5        0.5       ] ]\n",
        "\n",
        "x on applying derivative of sigmoid activation fn is: [ [-1.23379350e-04 -1.04993585e-01 -6.64805667e-03 -2.50000000e-01\n",
        "  -2.50000000e-01]\n",
        " [-9.10221180e-04 -6.64805667e-03 -2.50000000e-01 -2.50000000e-01\n",
        "  -2.50000000e-01] ]"
      ]
    },
    {
      "cell_type": "code",
      "execution_count": 26,
      "metadata": {
        "id": "ssDGpmS33vdA",
        "colab": {
          "base_uri": "https://localhost:8080/"
        },
        "outputId": "740c7a95-1a77-4033-99e9-d0cbfcb5678e"
      },
      "outputs": [
        {
          "output_type": "stream",
          "name": "stdout",
          "text": [
            "x on applying sigmoid activation fn is: [[0.99987661 0.88079708 0.99330715 0.5        0.5       ]\n",
            " [0.99908895 0.99330715 0.5        0.5        0.5       ]]\n",
            "x on applying derivative of sigmoid activation fn is: [[1.23379350e-04 1.04993585e-01 6.64805667e-03 2.50000000e-01\n",
            "  2.50000000e-01]\n",
            " [9.10221180e-04 6.64805667e-03 2.50000000e-01 2.50000000e-01\n",
            "  2.50000000e-01]]\n"
          ]
        }
      ],
      "source": [
        "x = np.array([\n",
        "    [9,2,5,0,0],\n",
        "    [7,5,0,0,0]\n",
        "])\n",
        "print(f\"x on applying sigmoid activation fn is: {sigmoidfn(x)}\")\n",
        "print(f\"x on applying derivative of sigmoid activation fn is: {derivative(x)}\")"
      ]
    },
    {
      "cell_type": "markdown",
      "metadata": {
        "id": "PMa0cseyZpa1"
      },
      "source": [
        "# Section 2: Exploring Pandas"
      ]
    },
    {
      "cell_type": "markdown",
      "metadata": {
        "id": "2EWm6tRP0HPq"
      },
      "source": [
        "*You have been provided with a dataset which includes information about properties of superheated vapor.*\n",
        "\n",
        "*The dataset consists of the thermophysical properties: specific volume, specific internal energy, specific enthalpy, specific entropy of superheated vapor.*\n",
        "\n",
        "*Pressure is in kPa and Temperature in centigrade. In the dataframe 75, 100, 125, etc. are temperatures.*"
      ]
    },
    {
      "cell_type": "markdown",
      "metadata": {
        "id": "i5Okb_jxZ_VW"
      },
      "source": [
        "### Read the csv file\n"
      ]
    },
    {
      "cell_type": "code",
      "execution_count": 27,
      "metadata": {
        "id": "aQgvyavrcM1l",
        "colab": {
          "base_uri": "https://localhost:8080/",
          "height": 726
        },
        "outputId": "74e9253f-30ba-4070-df2c-692f5573677e"
      },
      "outputs": [
        {
          "output_type": "execute_result",
          "data": {
            "text/plain": [
              "    Pressure Property   Liq_Sat      Vap_Sat           75          100  \\\n",
              "0        1.0        V    1.0000  129200.0000  160640.0000  172180.0000   \n",
              "1        1.0        U   29.3340    2385.2000    2480.8000    2516.4000   \n",
              "2        1.0        H   29.3350    2514.4000    2641.5000    2688.6000   \n",
              "3        1.0        S    0.1060       8.9767       9.3828       9.5136   \n",
              "4       10.0        V    1.0100   14670.0000   16030.0000   17190.0000   \n",
              "5       10.0        U  191.8220    2438.0000    2479.7000    2515.6000   \n",
              "6       10.0        H  191.8320    2584.8000    2640.0000    2687.5000   \n",
              "7       10.0        S    0.6493       8.1511       8.3168       8.4486   \n",
              "8       20.0        V    1.0170    7649.8000    8000.0000    8584.7000   \n",
              "9       20.0        U  251.4320    2456.9000    2478.4000    2514.6000   \n",
              "10      20.0        H  251.4530    2609.9000    2638.4000    2686.3000   \n",
              "11      20.0        S    0.8321       7.9094       7.9933       8.1261   \n",
              "12      30.0        V    1.0220    5229.3000    5322.0000    5714.4000   \n",
              "13      30.0        U  289.2710    2468.6000    2477.1000    2513.6000   \n",
              "14      30.0        H  289.3020    2625.4000    2636.8000    2685.1000   \n",
              "15      30.0        S    0.9441       7.7695       7.8024       7.9363   \n",
              "16      40.0        V    1.0270    3993.4000          NaN    4279.2000   \n",
              "17      40.0        U  317.6090    2477.1000          NaN    2512.6000   \n",
              "18      40.0        H  317.6500    2636.9000          NaN    2683.8000   \n",
              "19      40.0        S    1.0261       7.6709          NaN       7.8009   \n",
              "\n",
              "            125          150          175          200  ...  425          450  \\\n",
              "0   183720.0000  195270.0000  206810.0000  218350.0000  ...  NaN  333730.0000   \n",
              "1     2552.3000    2588.5000    2624.9000    2661.7000  ...  NaN    3049.9000   \n",
              "2     2736.0000    2783.7000    2831.7000    2880.1000  ...  NaN    3383.6000   \n",
              "3        9.6365       9.7527       9.8629       9.9679  ...  NaN      10.8200   \n",
              "4    18350.0000   19510.0000   20660.0000   21820.0000  ...  NaN   33370.0000   \n",
              "5     2551.6000    2588.0000    2624.5000    2661.4000  ...  NaN    3049.8000   \n",
              "6     2735.2000    2783.1000    2831.2000    2879.6000  ...  NaN    3383.5000   \n",
              "7        8.5722       8.6888       8.7994       8.9045  ...  NaN       9.7572   \n",
              "8     9167.1000    9748.0000   10320.0000   10900.0000  ...  NaN   16680.0000   \n",
              "9     2550.9000    2587.4000    2624.1000    2661.0000  ...  NaN    3049.7000   \n",
              "10    2734.2000    2782.3000    2830.6000    2879.2000  ...  NaN    3383.4000   \n",
              "11       8.2504       8.3676       8.4785       8.5839  ...  NaN       9.4372   \n",
              "12    6104.6000    6493.2000    6880.8000    7267.5000  ...  NaN   11120.0000   \n",
              "13    2550.2000    2586.8000    2623.6000    2660.7000  ...  NaN    3049.6000   \n",
              "14    2733.3000    2781.6000    2830.0000    2878.7000  ...  NaN    3383.3000   \n",
              "15       8.0614       8.1791       8.2903       8.3960  ...  NaN       9.2499   \n",
              "16    4573.3000    4865.8000    5157.2000    5447.8000  ...  NaN    8340.1000   \n",
              "17    2549.4000    2586.2000    2623.2000    2660.3000  ...  NaN    3049.5000   \n",
              "18    2732.3000    2780.9000    2829.5000    2878.2000  ...  NaN    3383.1000   \n",
              "19       7.9268       8.0450       8.1566       8.2624  ...  NaN       9.1170   \n",
              "\n",
              "    475          500  525          550  575          600  625          650  \n",
              "0   NaN  356810.0000  NaN  379880.0000  NaN  402960.0000  NaN  426040.0000  \n",
              "1   NaN    3132.4000  NaN    3216.7000  NaN    3302.6000  NaN    3390.3000  \n",
              "2   NaN    3489.2000  NaN    3596.5000  NaN    3705.6000  NaN    3816.4000  \n",
              "3   NaN      10.9612  NaN      11.0957  NaN      11.2243  NaN      11.3476  \n",
              "4   NaN   35670.0000  NaN   37980.0000  NaN   40290.0000  NaN   42600.0000  \n",
              "5   NaN    3132.3000  NaN    3216.6000  NaN    3302.6000  NaN    3390.3000  \n",
              "6   NaN    3489.1000  NaN    3596.5000  NaN    3705.5000  NaN    3816.3000  \n",
              "7   NaN       9.8984  NaN      10.0329  NaN      10.1616  NaN      10.2849  \n",
              "8   NaN   17830.0000  NaN   18990.0000  NaN   20140.0000  NaN   21300.0000  \n",
              "9   NaN    3132.3000  NaN    3216.5000  NaN    3302.5000  NaN    3390.2000  \n",
              "10  NaN    3489.0000  NaN    3596.4000  NaN    3705.4000  NaN    3816.2000  \n",
              "11  NaN       9.5784  NaN       9.7130  NaN       9.8416  NaN       9.9650  \n",
              "12  NaN   11890.0000  NaN   12660.0000  NaN   13430.0000  NaN   14190.0000  \n",
              "13  NaN    3132.2000  NaN    3216.5000  NaN    3302.5000  NaN    3390.2000  \n",
              "14  NaN    3488.9000  NaN    3596.3000  NaN    3705.4000  NaN    3816.2000  \n",
              "15  NaN       9.3912  NaN       9.5257  NaN       9.6544  NaN       9.7778  \n",
              "16  NaN    8917.6000  NaN    9494.9000  NaN   10070.0000  NaN   10640.0000  \n",
              "17  NaN    3132.1000  NaN    3216.4000  NaN    3302.4000  NaN    3390.1000  \n",
              "18  NaN    3488.8000  NaN    3596.2000  NaN    3705.3000  NaN    3816.1000  \n",
              "19  NaN       9.2583  NaN       9.3929  NaN       9.5216  NaN       9.6450  \n",
              "\n",
              "[20 rows x 37 columns]"
            ],
            "text/html": [
              "\n",
              "  <div id=\"df-606baf4b-6a69-45a1-be7c-68358dba9d75\" class=\"colab-df-container\">\n",
              "    <div>\n",
              "<style scoped>\n",
              "    .dataframe tbody tr th:only-of-type {\n",
              "        vertical-align: middle;\n",
              "    }\n",
              "\n",
              "    .dataframe tbody tr th {\n",
              "        vertical-align: top;\n",
              "    }\n",
              "\n",
              "    .dataframe thead th {\n",
              "        text-align: right;\n",
              "    }\n",
              "</style>\n",
              "<table border=\"1\" class=\"dataframe\">\n",
              "  <thead>\n",
              "    <tr style=\"text-align: right;\">\n",
              "      <th></th>\n",
              "      <th>Pressure</th>\n",
              "      <th>Property</th>\n",
              "      <th>Liq_Sat</th>\n",
              "      <th>Vap_Sat</th>\n",
              "      <th>75</th>\n",
              "      <th>100</th>\n",
              "      <th>125</th>\n",
              "      <th>150</th>\n",
              "      <th>175</th>\n",
              "      <th>200</th>\n",
              "      <th>...</th>\n",
              "      <th>425</th>\n",
              "      <th>450</th>\n",
              "      <th>475</th>\n",
              "      <th>500</th>\n",
              "      <th>525</th>\n",
              "      <th>550</th>\n",
              "      <th>575</th>\n",
              "      <th>600</th>\n",
              "      <th>625</th>\n",
              "      <th>650</th>\n",
              "    </tr>\n",
              "  </thead>\n",
              "  <tbody>\n",
              "    <tr>\n",
              "      <th>0</th>\n",
              "      <td>1.0</td>\n",
              "      <td>V</td>\n",
              "      <td>1.0000</td>\n",
              "      <td>129200.0000</td>\n",
              "      <td>160640.0000</td>\n",
              "      <td>172180.0000</td>\n",
              "      <td>183720.0000</td>\n",
              "      <td>195270.0000</td>\n",
              "      <td>206810.0000</td>\n",
              "      <td>218350.0000</td>\n",
              "      <td>...</td>\n",
              "      <td>NaN</td>\n",
              "      <td>333730.0000</td>\n",
              "      <td>NaN</td>\n",
              "      <td>356810.0000</td>\n",
              "      <td>NaN</td>\n",
              "      <td>379880.0000</td>\n",
              "      <td>NaN</td>\n",
              "      <td>402960.0000</td>\n",
              "      <td>NaN</td>\n",
              "      <td>426040.0000</td>\n",
              "    </tr>\n",
              "    <tr>\n",
              "      <th>1</th>\n",
              "      <td>1.0</td>\n",
              "      <td>U</td>\n",
              "      <td>29.3340</td>\n",
              "      <td>2385.2000</td>\n",
              "      <td>2480.8000</td>\n",
              "      <td>2516.4000</td>\n",
              "      <td>2552.3000</td>\n",
              "      <td>2588.5000</td>\n",
              "      <td>2624.9000</td>\n",
              "      <td>2661.7000</td>\n",
              "      <td>...</td>\n",
              "      <td>NaN</td>\n",
              "      <td>3049.9000</td>\n",
              "      <td>NaN</td>\n",
              "      <td>3132.4000</td>\n",
              "      <td>NaN</td>\n",
              "      <td>3216.7000</td>\n",
              "      <td>NaN</td>\n",
              "      <td>3302.6000</td>\n",
              "      <td>NaN</td>\n",
              "      <td>3390.3000</td>\n",
              "    </tr>\n",
              "    <tr>\n",
              "      <th>2</th>\n",
              "      <td>1.0</td>\n",
              "      <td>H</td>\n",
              "      <td>29.3350</td>\n",
              "      <td>2514.4000</td>\n",
              "      <td>2641.5000</td>\n",
              "      <td>2688.6000</td>\n",
              "      <td>2736.0000</td>\n",
              "      <td>2783.7000</td>\n",
              "      <td>2831.7000</td>\n",
              "      <td>2880.1000</td>\n",
              "      <td>...</td>\n",
              "      <td>NaN</td>\n",
              "      <td>3383.6000</td>\n",
              "      <td>NaN</td>\n",
              "      <td>3489.2000</td>\n",
              "      <td>NaN</td>\n",
              "      <td>3596.5000</td>\n",
              "      <td>NaN</td>\n",
              "      <td>3705.6000</td>\n",
              "      <td>NaN</td>\n",
              "      <td>3816.4000</td>\n",
              "    </tr>\n",
              "    <tr>\n",
              "      <th>3</th>\n",
              "      <td>1.0</td>\n",
              "      <td>S</td>\n",
              "      <td>0.1060</td>\n",
              "      <td>8.9767</td>\n",
              "      <td>9.3828</td>\n",
              "      <td>9.5136</td>\n",
              "      <td>9.6365</td>\n",
              "      <td>9.7527</td>\n",
              "      <td>9.8629</td>\n",
              "      <td>9.9679</td>\n",
              "      <td>...</td>\n",
              "      <td>NaN</td>\n",
              "      <td>10.8200</td>\n",
              "      <td>NaN</td>\n",
              "      <td>10.9612</td>\n",
              "      <td>NaN</td>\n",
              "      <td>11.0957</td>\n",
              "      <td>NaN</td>\n",
              "      <td>11.2243</td>\n",
              "      <td>NaN</td>\n",
              "      <td>11.3476</td>\n",
              "    </tr>\n",
              "    <tr>\n",
              "      <th>4</th>\n",
              "      <td>10.0</td>\n",
              "      <td>V</td>\n",
              "      <td>1.0100</td>\n",
              "      <td>14670.0000</td>\n",
              "      <td>16030.0000</td>\n",
              "      <td>17190.0000</td>\n",
              "      <td>18350.0000</td>\n",
              "      <td>19510.0000</td>\n",
              "      <td>20660.0000</td>\n",
              "      <td>21820.0000</td>\n",
              "      <td>...</td>\n",
              "      <td>NaN</td>\n",
              "      <td>33370.0000</td>\n",
              "      <td>NaN</td>\n",
              "      <td>35670.0000</td>\n",
              "      <td>NaN</td>\n",
              "      <td>37980.0000</td>\n",
              "      <td>NaN</td>\n",
              "      <td>40290.0000</td>\n",
              "      <td>NaN</td>\n",
              "      <td>42600.0000</td>\n",
              "    </tr>\n",
              "    <tr>\n",
              "      <th>5</th>\n",
              "      <td>10.0</td>\n",
              "      <td>U</td>\n",
              "      <td>191.8220</td>\n",
              "      <td>2438.0000</td>\n",
              "      <td>2479.7000</td>\n",
              "      <td>2515.6000</td>\n",
              "      <td>2551.6000</td>\n",
              "      <td>2588.0000</td>\n",
              "      <td>2624.5000</td>\n",
              "      <td>2661.4000</td>\n",
              "      <td>...</td>\n",
              "      <td>NaN</td>\n",
              "      <td>3049.8000</td>\n",
              "      <td>NaN</td>\n",
              "      <td>3132.3000</td>\n",
              "      <td>NaN</td>\n",
              "      <td>3216.6000</td>\n",
              "      <td>NaN</td>\n",
              "      <td>3302.6000</td>\n",
              "      <td>NaN</td>\n",
              "      <td>3390.3000</td>\n",
              "    </tr>\n",
              "    <tr>\n",
              "      <th>6</th>\n",
              "      <td>10.0</td>\n",
              "      <td>H</td>\n",
              "      <td>191.8320</td>\n",
              "      <td>2584.8000</td>\n",
              "      <td>2640.0000</td>\n",
              "      <td>2687.5000</td>\n",
              "      <td>2735.2000</td>\n",
              "      <td>2783.1000</td>\n",
              "      <td>2831.2000</td>\n",
              "      <td>2879.6000</td>\n",
              "      <td>...</td>\n",
              "      <td>NaN</td>\n",
              "      <td>3383.5000</td>\n",
              "      <td>NaN</td>\n",
              "      <td>3489.1000</td>\n",
              "      <td>NaN</td>\n",
              "      <td>3596.5000</td>\n",
              "      <td>NaN</td>\n",
              "      <td>3705.5000</td>\n",
              "      <td>NaN</td>\n",
              "      <td>3816.3000</td>\n",
              "    </tr>\n",
              "    <tr>\n",
              "      <th>7</th>\n",
              "      <td>10.0</td>\n",
              "      <td>S</td>\n",
              "      <td>0.6493</td>\n",
              "      <td>8.1511</td>\n",
              "      <td>8.3168</td>\n",
              "      <td>8.4486</td>\n",
              "      <td>8.5722</td>\n",
              "      <td>8.6888</td>\n",
              "      <td>8.7994</td>\n",
              "      <td>8.9045</td>\n",
              "      <td>...</td>\n",
              "      <td>NaN</td>\n",
              "      <td>9.7572</td>\n",
              "      <td>NaN</td>\n",
              "      <td>9.8984</td>\n",
              "      <td>NaN</td>\n",
              "      <td>10.0329</td>\n",
              "      <td>NaN</td>\n",
              "      <td>10.1616</td>\n",
              "      <td>NaN</td>\n",
              "      <td>10.2849</td>\n",
              "    </tr>\n",
              "    <tr>\n",
              "      <th>8</th>\n",
              "      <td>20.0</td>\n",
              "      <td>V</td>\n",
              "      <td>1.0170</td>\n",
              "      <td>7649.8000</td>\n",
              "      <td>8000.0000</td>\n",
              "      <td>8584.7000</td>\n",
              "      <td>9167.1000</td>\n",
              "      <td>9748.0000</td>\n",
              "      <td>10320.0000</td>\n",
              "      <td>10900.0000</td>\n",
              "      <td>...</td>\n",
              "      <td>NaN</td>\n",
              "      <td>16680.0000</td>\n",
              "      <td>NaN</td>\n",
              "      <td>17830.0000</td>\n",
              "      <td>NaN</td>\n",
              "      <td>18990.0000</td>\n",
              "      <td>NaN</td>\n",
              "      <td>20140.0000</td>\n",
              "      <td>NaN</td>\n",
              "      <td>21300.0000</td>\n",
              "    </tr>\n",
              "    <tr>\n",
              "      <th>9</th>\n",
              "      <td>20.0</td>\n",
              "      <td>U</td>\n",
              "      <td>251.4320</td>\n",
              "      <td>2456.9000</td>\n",
              "      <td>2478.4000</td>\n",
              "      <td>2514.6000</td>\n",
              "      <td>2550.9000</td>\n",
              "      <td>2587.4000</td>\n",
              "      <td>2624.1000</td>\n",
              "      <td>2661.0000</td>\n",
              "      <td>...</td>\n",
              "      <td>NaN</td>\n",
              "      <td>3049.7000</td>\n",
              "      <td>NaN</td>\n",
              "      <td>3132.3000</td>\n",
              "      <td>NaN</td>\n",
              "      <td>3216.5000</td>\n",
              "      <td>NaN</td>\n",
              "      <td>3302.5000</td>\n",
              "      <td>NaN</td>\n",
              "      <td>3390.2000</td>\n",
              "    </tr>\n",
              "    <tr>\n",
              "      <th>10</th>\n",
              "      <td>20.0</td>\n",
              "      <td>H</td>\n",
              "      <td>251.4530</td>\n",
              "      <td>2609.9000</td>\n",
              "      <td>2638.4000</td>\n",
              "      <td>2686.3000</td>\n",
              "      <td>2734.2000</td>\n",
              "      <td>2782.3000</td>\n",
              "      <td>2830.6000</td>\n",
              "      <td>2879.2000</td>\n",
              "      <td>...</td>\n",
              "      <td>NaN</td>\n",
              "      <td>3383.4000</td>\n",
              "      <td>NaN</td>\n",
              "      <td>3489.0000</td>\n",
              "      <td>NaN</td>\n",
              "      <td>3596.4000</td>\n",
              "      <td>NaN</td>\n",
              "      <td>3705.4000</td>\n",
              "      <td>NaN</td>\n",
              "      <td>3816.2000</td>\n",
              "    </tr>\n",
              "    <tr>\n",
              "      <th>11</th>\n",
              "      <td>20.0</td>\n",
              "      <td>S</td>\n",
              "      <td>0.8321</td>\n",
              "      <td>7.9094</td>\n",
              "      <td>7.9933</td>\n",
              "      <td>8.1261</td>\n",
              "      <td>8.2504</td>\n",
              "      <td>8.3676</td>\n",
              "      <td>8.4785</td>\n",
              "      <td>8.5839</td>\n",
              "      <td>...</td>\n",
              "      <td>NaN</td>\n",
              "      <td>9.4372</td>\n",
              "      <td>NaN</td>\n",
              "      <td>9.5784</td>\n",
              "      <td>NaN</td>\n",
              "      <td>9.7130</td>\n",
              "      <td>NaN</td>\n",
              "      <td>9.8416</td>\n",
              "      <td>NaN</td>\n",
              "      <td>9.9650</td>\n",
              "    </tr>\n",
              "    <tr>\n",
              "      <th>12</th>\n",
              "      <td>30.0</td>\n",
              "      <td>V</td>\n",
              "      <td>1.0220</td>\n",
              "      <td>5229.3000</td>\n",
              "      <td>5322.0000</td>\n",
              "      <td>5714.4000</td>\n",
              "      <td>6104.6000</td>\n",
              "      <td>6493.2000</td>\n",
              "      <td>6880.8000</td>\n",
              "      <td>7267.5000</td>\n",
              "      <td>...</td>\n",
              "      <td>NaN</td>\n",
              "      <td>11120.0000</td>\n",
              "      <td>NaN</td>\n",
              "      <td>11890.0000</td>\n",
              "      <td>NaN</td>\n",
              "      <td>12660.0000</td>\n",
              "      <td>NaN</td>\n",
              "      <td>13430.0000</td>\n",
              "      <td>NaN</td>\n",
              "      <td>14190.0000</td>\n",
              "    </tr>\n",
              "    <tr>\n",
              "      <th>13</th>\n",
              "      <td>30.0</td>\n",
              "      <td>U</td>\n",
              "      <td>289.2710</td>\n",
              "      <td>2468.6000</td>\n",
              "      <td>2477.1000</td>\n",
              "      <td>2513.6000</td>\n",
              "      <td>2550.2000</td>\n",
              "      <td>2586.8000</td>\n",
              "      <td>2623.6000</td>\n",
              "      <td>2660.7000</td>\n",
              "      <td>...</td>\n",
              "      <td>NaN</td>\n",
              "      <td>3049.6000</td>\n",
              "      <td>NaN</td>\n",
              "      <td>3132.2000</td>\n",
              "      <td>NaN</td>\n",
              "      <td>3216.5000</td>\n",
              "      <td>NaN</td>\n",
              "      <td>3302.5000</td>\n",
              "      <td>NaN</td>\n",
              "      <td>3390.2000</td>\n",
              "    </tr>\n",
              "    <tr>\n",
              "      <th>14</th>\n",
              "      <td>30.0</td>\n",
              "      <td>H</td>\n",
              "      <td>289.3020</td>\n",
              "      <td>2625.4000</td>\n",
              "      <td>2636.8000</td>\n",
              "      <td>2685.1000</td>\n",
              "      <td>2733.3000</td>\n",
              "      <td>2781.6000</td>\n",
              "      <td>2830.0000</td>\n",
              "      <td>2878.7000</td>\n",
              "      <td>...</td>\n",
              "      <td>NaN</td>\n",
              "      <td>3383.3000</td>\n",
              "      <td>NaN</td>\n",
              "      <td>3488.9000</td>\n",
              "      <td>NaN</td>\n",
              "      <td>3596.3000</td>\n",
              "      <td>NaN</td>\n",
              "      <td>3705.4000</td>\n",
              "      <td>NaN</td>\n",
              "      <td>3816.2000</td>\n",
              "    </tr>\n",
              "    <tr>\n",
              "      <th>15</th>\n",
              "      <td>30.0</td>\n",
              "      <td>S</td>\n",
              "      <td>0.9441</td>\n",
              "      <td>7.7695</td>\n",
              "      <td>7.8024</td>\n",
              "      <td>7.9363</td>\n",
              "      <td>8.0614</td>\n",
              "      <td>8.1791</td>\n",
              "      <td>8.2903</td>\n",
              "      <td>8.3960</td>\n",
              "      <td>...</td>\n",
              "      <td>NaN</td>\n",
              "      <td>9.2499</td>\n",
              "      <td>NaN</td>\n",
              "      <td>9.3912</td>\n",
              "      <td>NaN</td>\n",
              "      <td>9.5257</td>\n",
              "      <td>NaN</td>\n",
              "      <td>9.6544</td>\n",
              "      <td>NaN</td>\n",
              "      <td>9.7778</td>\n",
              "    </tr>\n",
              "    <tr>\n",
              "      <th>16</th>\n",
              "      <td>40.0</td>\n",
              "      <td>V</td>\n",
              "      <td>1.0270</td>\n",
              "      <td>3993.4000</td>\n",
              "      <td>NaN</td>\n",
              "      <td>4279.2000</td>\n",
              "      <td>4573.3000</td>\n",
              "      <td>4865.8000</td>\n",
              "      <td>5157.2000</td>\n",
              "      <td>5447.8000</td>\n",
              "      <td>...</td>\n",
              "      <td>NaN</td>\n",
              "      <td>8340.1000</td>\n",
              "      <td>NaN</td>\n",
              "      <td>8917.6000</td>\n",
              "      <td>NaN</td>\n",
              "      <td>9494.9000</td>\n",
              "      <td>NaN</td>\n",
              "      <td>10070.0000</td>\n",
              "      <td>NaN</td>\n",
              "      <td>10640.0000</td>\n",
              "    </tr>\n",
              "    <tr>\n",
              "      <th>17</th>\n",
              "      <td>40.0</td>\n",
              "      <td>U</td>\n",
              "      <td>317.6090</td>\n",
              "      <td>2477.1000</td>\n",
              "      <td>NaN</td>\n",
              "      <td>2512.6000</td>\n",
              "      <td>2549.4000</td>\n",
              "      <td>2586.2000</td>\n",
              "      <td>2623.2000</td>\n",
              "      <td>2660.3000</td>\n",
              "      <td>...</td>\n",
              "      <td>NaN</td>\n",
              "      <td>3049.5000</td>\n",
              "      <td>NaN</td>\n",
              "      <td>3132.1000</td>\n",
              "      <td>NaN</td>\n",
              "      <td>3216.4000</td>\n",
              "      <td>NaN</td>\n",
              "      <td>3302.4000</td>\n",
              "      <td>NaN</td>\n",
              "      <td>3390.1000</td>\n",
              "    </tr>\n",
              "    <tr>\n",
              "      <th>18</th>\n",
              "      <td>40.0</td>\n",
              "      <td>H</td>\n",
              "      <td>317.6500</td>\n",
              "      <td>2636.9000</td>\n",
              "      <td>NaN</td>\n",
              "      <td>2683.8000</td>\n",
              "      <td>2732.3000</td>\n",
              "      <td>2780.9000</td>\n",
              "      <td>2829.5000</td>\n",
              "      <td>2878.2000</td>\n",
              "      <td>...</td>\n",
              "      <td>NaN</td>\n",
              "      <td>3383.1000</td>\n",
              "      <td>NaN</td>\n",
              "      <td>3488.8000</td>\n",
              "      <td>NaN</td>\n",
              "      <td>3596.2000</td>\n",
              "      <td>NaN</td>\n",
              "      <td>3705.3000</td>\n",
              "      <td>NaN</td>\n",
              "      <td>3816.1000</td>\n",
              "    </tr>\n",
              "    <tr>\n",
              "      <th>19</th>\n",
              "      <td>40.0</td>\n",
              "      <td>S</td>\n",
              "      <td>1.0261</td>\n",
              "      <td>7.6709</td>\n",
              "      <td>NaN</td>\n",
              "      <td>7.8009</td>\n",
              "      <td>7.9268</td>\n",
              "      <td>8.0450</td>\n",
              "      <td>8.1566</td>\n",
              "      <td>8.2624</td>\n",
              "      <td>...</td>\n",
              "      <td>NaN</td>\n",
              "      <td>9.1170</td>\n",
              "      <td>NaN</td>\n",
              "      <td>9.2583</td>\n",
              "      <td>NaN</td>\n",
              "      <td>9.3929</td>\n",
              "      <td>NaN</td>\n",
              "      <td>9.5216</td>\n",
              "      <td>NaN</td>\n",
              "      <td>9.6450</td>\n",
              "    </tr>\n",
              "  </tbody>\n",
              "</table>\n",
              "<p>20 rows × 37 columns</p>\n",
              "</div>\n",
              "    <div class=\"colab-df-buttons\">\n",
              "\n",
              "  <div class=\"colab-df-container\">\n",
              "    <button class=\"colab-df-convert\" onclick=\"convertToInteractive('df-606baf4b-6a69-45a1-be7c-68358dba9d75')\"\n",
              "            title=\"Convert this dataframe to an interactive table.\"\n",
              "            style=\"display:none;\">\n",
              "\n",
              "  <svg xmlns=\"http://www.w3.org/2000/svg\" height=\"24px\" viewBox=\"0 -960 960 960\">\n",
              "    <path d=\"M120-120v-720h720v720H120Zm60-500h600v-160H180v160Zm220 220h160v-160H400v160Zm0 220h160v-160H400v160ZM180-400h160v-160H180v160Zm440 0h160v-160H620v160ZM180-180h160v-160H180v160Zm440 0h160v-160H620v160Z\"/>\n",
              "  </svg>\n",
              "    </button>\n",
              "\n",
              "  <style>\n",
              "    .colab-df-container {\n",
              "      display:flex;\n",
              "      gap: 12px;\n",
              "    }\n",
              "\n",
              "    .colab-df-convert {\n",
              "      background-color: #E8F0FE;\n",
              "      border: none;\n",
              "      border-radius: 50%;\n",
              "      cursor: pointer;\n",
              "      display: none;\n",
              "      fill: #1967D2;\n",
              "      height: 32px;\n",
              "      padding: 0 0 0 0;\n",
              "      width: 32px;\n",
              "    }\n",
              "\n",
              "    .colab-df-convert:hover {\n",
              "      background-color: #E2EBFA;\n",
              "      box-shadow: 0px 1px 2px rgba(60, 64, 67, 0.3), 0px 1px 3px 1px rgba(60, 64, 67, 0.15);\n",
              "      fill: #174EA6;\n",
              "    }\n",
              "\n",
              "    .colab-df-buttons div {\n",
              "      margin-bottom: 4px;\n",
              "    }\n",
              "\n",
              "    [theme=dark] .colab-df-convert {\n",
              "      background-color: #3B4455;\n",
              "      fill: #D2E3FC;\n",
              "    }\n",
              "\n",
              "    [theme=dark] .colab-df-convert:hover {\n",
              "      background-color: #434B5C;\n",
              "      box-shadow: 0px 1px 3px 1px rgba(0, 0, 0, 0.15);\n",
              "      filter: drop-shadow(0px 1px 2px rgba(0, 0, 0, 0.3));\n",
              "      fill: #FFFFFF;\n",
              "    }\n",
              "  </style>\n",
              "\n",
              "    <script>\n",
              "      const buttonEl =\n",
              "        document.querySelector('#df-606baf4b-6a69-45a1-be7c-68358dba9d75 button.colab-df-convert');\n",
              "      buttonEl.style.display =\n",
              "        google.colab.kernel.accessAllowed ? 'block' : 'none';\n",
              "\n",
              "      async function convertToInteractive(key) {\n",
              "        const element = document.querySelector('#df-606baf4b-6a69-45a1-be7c-68358dba9d75');\n",
              "        const dataTable =\n",
              "          await google.colab.kernel.invokeFunction('convertToInteractive',\n",
              "                                                    [key], {});\n",
              "        if (!dataTable) return;\n",
              "\n",
              "        const docLinkHtml = 'Like what you see? Visit the ' +\n",
              "          '<a target=\"_blank\" href=https://colab.research.google.com/notebooks/data_table.ipynb>data table notebook</a>'\n",
              "          + ' to learn more about interactive tables.';\n",
              "        element.innerHTML = '';\n",
              "        dataTable['output_type'] = 'display_data';\n",
              "        await google.colab.output.renderOutput(dataTable, element);\n",
              "        const docLink = document.createElement('div');\n",
              "        docLink.innerHTML = docLinkHtml;\n",
              "        element.appendChild(docLink);\n",
              "      }\n",
              "    </script>\n",
              "  </div>\n",
              "\n",
              "\n",
              "<div id=\"df-57853518-e236-4d18-8a7e-823b12c96ab7\">\n",
              "  <button class=\"colab-df-quickchart\" onclick=\"quickchart('df-57853518-e236-4d18-8a7e-823b12c96ab7')\"\n",
              "            title=\"Suggest charts\"\n",
              "            style=\"display:none;\">\n",
              "\n",
              "<svg xmlns=\"http://www.w3.org/2000/svg\" height=\"24px\"viewBox=\"0 0 24 24\"\n",
              "     width=\"24px\">\n",
              "    <g>\n",
              "        <path d=\"M19 3H5c-1.1 0-2 .9-2 2v14c0 1.1.9 2 2 2h14c1.1 0 2-.9 2-2V5c0-1.1-.9-2-2-2zM9 17H7v-7h2v7zm4 0h-2V7h2v10zm4 0h-2v-4h2v4z\"/>\n",
              "    </g>\n",
              "</svg>\n",
              "  </button>\n",
              "\n",
              "<style>\n",
              "  .colab-df-quickchart {\n",
              "      --bg-color: #E8F0FE;\n",
              "      --fill-color: #1967D2;\n",
              "      --hover-bg-color: #E2EBFA;\n",
              "      --hover-fill-color: #174EA6;\n",
              "      --disabled-fill-color: #AAA;\n",
              "      --disabled-bg-color: #DDD;\n",
              "  }\n",
              "\n",
              "  [theme=dark] .colab-df-quickchart {\n",
              "      --bg-color: #3B4455;\n",
              "      --fill-color: #D2E3FC;\n",
              "      --hover-bg-color: #434B5C;\n",
              "      --hover-fill-color: #FFFFFF;\n",
              "      --disabled-bg-color: #3B4455;\n",
              "      --disabled-fill-color: #666;\n",
              "  }\n",
              "\n",
              "  .colab-df-quickchart {\n",
              "    background-color: var(--bg-color);\n",
              "    border: none;\n",
              "    border-radius: 50%;\n",
              "    cursor: pointer;\n",
              "    display: none;\n",
              "    fill: var(--fill-color);\n",
              "    height: 32px;\n",
              "    padding: 0;\n",
              "    width: 32px;\n",
              "  }\n",
              "\n",
              "  .colab-df-quickchart:hover {\n",
              "    background-color: var(--hover-bg-color);\n",
              "    box-shadow: 0 1px 2px rgba(60, 64, 67, 0.3), 0 1px 3px 1px rgba(60, 64, 67, 0.15);\n",
              "    fill: var(--button-hover-fill-color);\n",
              "  }\n",
              "\n",
              "  .colab-df-quickchart-complete:disabled,\n",
              "  .colab-df-quickchart-complete:disabled:hover {\n",
              "    background-color: var(--disabled-bg-color);\n",
              "    fill: var(--disabled-fill-color);\n",
              "    box-shadow: none;\n",
              "  }\n",
              "\n",
              "  .colab-df-spinner {\n",
              "    border: 2px solid var(--fill-color);\n",
              "    border-color: transparent;\n",
              "    border-bottom-color: var(--fill-color);\n",
              "    animation:\n",
              "      spin 1s steps(1) infinite;\n",
              "  }\n",
              "\n",
              "  @keyframes spin {\n",
              "    0% {\n",
              "      border-color: transparent;\n",
              "      border-bottom-color: var(--fill-color);\n",
              "      border-left-color: var(--fill-color);\n",
              "    }\n",
              "    20% {\n",
              "      border-color: transparent;\n",
              "      border-left-color: var(--fill-color);\n",
              "      border-top-color: var(--fill-color);\n",
              "    }\n",
              "    30% {\n",
              "      border-color: transparent;\n",
              "      border-left-color: var(--fill-color);\n",
              "      border-top-color: var(--fill-color);\n",
              "      border-right-color: var(--fill-color);\n",
              "    }\n",
              "    40% {\n",
              "      border-color: transparent;\n",
              "      border-right-color: var(--fill-color);\n",
              "      border-top-color: var(--fill-color);\n",
              "    }\n",
              "    60% {\n",
              "      border-color: transparent;\n",
              "      border-right-color: var(--fill-color);\n",
              "    }\n",
              "    80% {\n",
              "      border-color: transparent;\n",
              "      border-right-color: var(--fill-color);\n",
              "      border-bottom-color: var(--fill-color);\n",
              "    }\n",
              "    90% {\n",
              "      border-color: transparent;\n",
              "      border-bottom-color: var(--fill-color);\n",
              "    }\n",
              "  }\n",
              "</style>\n",
              "\n",
              "  <script>\n",
              "    async function quickchart(key) {\n",
              "      const quickchartButtonEl =\n",
              "        document.querySelector('#' + key + ' button');\n",
              "      quickchartButtonEl.disabled = true;  // To prevent multiple clicks.\n",
              "      quickchartButtonEl.classList.add('colab-df-spinner');\n",
              "      try {\n",
              "        const charts = await google.colab.kernel.invokeFunction(\n",
              "            'suggestCharts', [key], {});\n",
              "      } catch (error) {\n",
              "        console.error('Error during call to suggestCharts:', error);\n",
              "      }\n",
              "      quickchartButtonEl.classList.remove('colab-df-spinner');\n",
              "      quickchartButtonEl.classList.add('colab-df-quickchart-complete');\n",
              "    }\n",
              "    (() => {\n",
              "      let quickchartButtonEl =\n",
              "        document.querySelector('#df-57853518-e236-4d18-8a7e-823b12c96ab7 button');\n",
              "      quickchartButtonEl.style.display =\n",
              "        google.colab.kernel.accessAllowed ? 'block' : 'none';\n",
              "    })();\n",
              "  </script>\n",
              "</div>\n",
              "\n",
              "    </div>\n",
              "  </div>\n"
            ]
          },
          "metadata": {},
          "execution_count": 27
        }
      ],
      "source": [
        "#your code here\n",
        "df = pd.read_csv(\"/content/superheated_vapor_properties.csv\")\n",
        "df.head(20)"
      ]
    },
    {
      "cell_type": "markdown",
      "metadata": {
        "id": "Zp8F3rk2cNxy"
      },
      "source": [
        "### Display the shape of data frame\n"
      ]
    },
    {
      "cell_type": "code",
      "execution_count": 28,
      "metadata": {
        "id": "v3Q8kQkucgK0",
        "colab": {
          "base_uri": "https://localhost:8080/"
        },
        "outputId": "f1eeba8a-60d7-4136-f821-341349d818c0"
      },
      "outputs": [
        {
          "output_type": "execute_result",
          "data": {
            "text/plain": [
              "(544, 37)"
            ]
          },
          "metadata": {},
          "execution_count": 28
        }
      ],
      "source": [
        "#your code here\n",
        "df.shape"
      ]
    },
    {
      "cell_type": "markdown",
      "metadata": {
        "id": "w49cp-8zcgd2"
      },
      "source": [
        "### Return an array containing names of all the columns"
      ]
    },
    {
      "cell_type": "code",
      "execution_count": 29,
      "metadata": {
        "id": "fz4HRb3JcsZp",
        "colab": {
          "base_uri": "https://localhost:8080/"
        },
        "outputId": "a4c17af3-baae-4a70-9409-55c9a8ab4d13"
      },
      "outputs": [
        {
          "output_type": "execute_result",
          "data": {
            "text/plain": [
              "Index(['Pressure', 'Property', 'Liq_Sat', 'Vap_Sat', '75', '100', '125', '150',\n",
              "       '175', '200', '220', '225', '240', '250', '260', '275', '280', '290',\n",
              "       '300', '320', '325', '340', '350', '360', '375', '380', '400', '425',\n",
              "       '450', '475', '500', '525', '550', '575', '600', '625', '650'],\n",
              "      dtype='object')"
            ]
          },
          "metadata": {},
          "execution_count": 29
        }
      ],
      "source": [
        "#your code here\n",
        "df.columns"
      ]
    },
    {
      "cell_type": "markdown",
      "metadata": {
        "id": "YkTH9tRWcrH-"
      },
      "source": [
        "### Display the number of null values in each column of the dataframe\n",
        "\n"
      ]
    },
    {
      "cell_type": "code",
      "execution_count": 30,
      "metadata": {
        "id": "GK9-PJPxc3Ot",
        "colab": {
          "base_uri": "https://localhost:8080/"
        },
        "outputId": "80d1f2dd-9aa2-4efe-8463-72c19ca28570"
      },
      "outputs": [
        {
          "output_type": "execute_result",
          "data": {
            "text/plain": [
              "Pressure      0\n",
              "Property      0\n",
              "Liq_Sat       0\n",
              "Vap_Sat       0\n",
              "75          528\n",
              "100         508\n",
              "125         488\n",
              "150         448\n",
              "175         384\n",
              "200         320\n",
              "220         408\n",
              "225         400\n",
              "240         408\n",
              "250         344\n",
              "260         384\n",
              "275         340\n",
              "280         380\n",
              "290         488\n",
              "300          60\n",
              "320         480\n",
              "325         136\n",
              "340         476\n",
              "350          68\n",
              "360         476\n",
              "375         204\n",
              "380         476\n",
              "400           0\n",
              "425         204\n",
              "450           0\n",
              "475         204\n",
              "500           0\n",
              "525         272\n",
              "550           0\n",
              "575         340\n",
              "600           0\n",
              "625         476\n",
              "650           0\n",
              "dtype: int64"
            ]
          },
          "metadata": {},
          "execution_count": 30
        }
      ],
      "source": [
        "#your code here\n",
        "df.isnull().sum()"
      ]
    },
    {
      "cell_type": "markdown",
      "metadata": {
        "id": "Av-lcft2c3mx"
      },
      "source": [
        "### Create a column which contains the Pressure and Property columns, seperated with 'at' (For eg. V at 1, H at 101.325). Using this print the following:\n",
        "- Enthalpy at 75 kPa and 573 K\n",
        "- Entropy at 493 K and 250 kPa\n",
        "\n"
      ]
    },
    {
      "cell_type": "code",
      "execution_count": 31,
      "metadata": {
        "id": "B2AihQj_c32C",
        "colab": {
          "base_uri": "https://localhost:8080/"
        },
        "outputId": "496302fe-5ebc-41e1-893a-419272cec41d"
      },
      "outputs": [
        {
          "output_type": "stream",
          "name": "stdout",
          "text": [
            "26    3075.1\n",
            "Name: 300, dtype: float64\n",
            "\n",
            "\n",
            "\n",
            "\n",
            "59   NaN\n",
            "Name: 220, dtype: float64\n",
            "\n",
            "\n"
          ]
        }
      ],
      "source": [
        "#your code here\n",
        "df['Combined'] = df['Property'].astype(str) + \" at \" + df['Pressure'].astype(str)\n",
        "print(df[df['Combined'] == 'H at 75.0'].iloc[:,18])\n",
        "print(\"\\n\")\n",
        "print(\"\\n\")\n",
        "print(df[df['Combined'] == 'S at 250.0'].iloc[:,10])\n",
        "print(\"\\n\")\n",
        "\n"
      ]
    },
    {
      "cell_type": "code",
      "source": [
        "df.dtypes"
      ],
      "metadata": {
        "colab": {
          "base_uri": "https://localhost:8080/"
        },
        "id": "6hX4rd15qfVf",
        "outputId": "77ce75c0-645c-4add-93c7-b7ed449059ea"
      },
      "execution_count": 32,
      "outputs": [
        {
          "output_type": "execute_result",
          "data": {
            "text/plain": [
              "Pressure    float64\n",
              "Property     object\n",
              "Liq_Sat     float64\n",
              "Vap_Sat     float64\n",
              "75          float64\n",
              "100         float64\n",
              "125         float64\n",
              "150         float64\n",
              "175         float64\n",
              "200         float64\n",
              "220         float64\n",
              "225         float64\n",
              "240         float64\n",
              "250         float64\n",
              "260         float64\n",
              "275         float64\n",
              "280         float64\n",
              "290         float64\n",
              "300         float64\n",
              "320         float64\n",
              "325         float64\n",
              "340         float64\n",
              "350         float64\n",
              "360         float64\n",
              "375         float64\n",
              "380         float64\n",
              "400         float64\n",
              "425         float64\n",
              "450         float64\n",
              "475         float64\n",
              "500         float64\n",
              "525         float64\n",
              "550         float64\n",
              "575         float64\n",
              "600         float64\n",
              "625         float64\n",
              "650         float64\n",
              "Combined     object\n",
              "dtype: object"
            ]
          },
          "metadata": {},
          "execution_count": 32
        }
      ]
    },
    {
      "cell_type": "markdown",
      "metadata": {
        "id": "GpLtXYRLc4Ho"
      },
      "source": [
        "### Find out the column with the highest number of missing values"
      ]
    },
    {
      "cell_type": "code",
      "execution_count": 33,
      "metadata": {
        "id": "q80Grgeyc4Xn",
        "colab": {
          "base_uri": "https://localhost:8080/",
          "height": 36
        },
        "outputId": "d7f49a85-e4c0-47ab-992d-0735fae5abb6"
      },
      "outputs": [
        {
          "output_type": "execute_result",
          "data": {
            "text/plain": [
              "'75'"
            ],
            "application/vnd.google.colaboratory.intrinsic+json": {
              "type": "string"
            }
          },
          "metadata": {},
          "execution_count": 33
        }
      ],
      "source": [
        "#your code here\n",
        "df.count().idxmin()"
      ]
    },
    {
      "cell_type": "markdown",
      "metadata": {
        "id": "74NVHTTac4nv"
      },
      "source": [
        "### What is the average enthalpy of Sat. Liq. at all different pressures in the dataset?"
      ]
    },
    {
      "cell_type": "code",
      "execution_count": 34,
      "metadata": {
        "id": "g3mByhBDdpVr",
        "colab": {
          "base_uri": "https://localhost:8080/"
        },
        "outputId": "d57451b1-b8c9-4bd9-d34f-9756f5b0f6e3"
      },
      "outputs": [
        {
          "output_type": "execute_result",
          "data": {
            "text/plain": [
              "936.9707720588235"
            ]
          },
          "metadata": {},
          "execution_count": 34
        }
      ],
      "source": [
        "#your code\n",
        "Res= df.loc[(df['Property']=='H') & (df['Liq_Sat'])]['Liq_Sat'].mean()\n",
        "Res\n"
      ]
    },
    {
      "cell_type": "markdown",
      "metadata": {
        "id": "uS-SuqU8dpxg"
      },
      "source": [
        "### Separate out the V,U,H,S data from the dataset into V_data, U_data, H_data, S_data"
      ]
    },
    {
      "cell_type": "code",
      "execution_count": 35,
      "metadata": {
        "id": "Sg3V9Toyd1Av",
        "colab": {
          "base_uri": "https://localhost:8080/",
          "height": 530
        },
        "outputId": "730b60b3-e4a8-4f0f-90bc-56d96b9d5754"
      },
      "outputs": [
        {
          "output_type": "execute_result",
          "data": {
            "text/plain": [
              "     Pressure Property  Liq_Sat     Vap_Sat        75       100       125  \\\n",
              "0         1.0        V    1.000  129200.000  160640.0  172180.0  183720.0   \n",
              "4        10.0        V    1.010   14670.000   16030.0   17190.0   18350.0   \n",
              "8        20.0        V    1.017    7649.800    8000.0    8584.7    9167.1   \n",
              "12       30.0        V    1.022    5229.300    5322.0    5714.4    6104.6   \n",
              "16       40.0        V    1.027    3993.400       NaN    4279.2    4573.3   \n",
              "..        ...      ...      ...         ...       ...       ...       ...   \n",
              "524   10600.0        V    1.474      16.778       NaN       NaN       NaN   \n",
              "528   10800.0        V    1.481      16.385       NaN       NaN       NaN   \n",
              "532   11000.0        V    1.489      16.006       NaN       NaN       NaN   \n",
              "536   11200.0        V    1.496      15.639       NaN       NaN       NaN   \n",
              "540   11400.0        V    1.504      15.284       NaN       NaN       NaN   \n",
              "\n",
              "          150       175       200  ...         450     475         500  \\\n",
              "0    195270.0  206810.0  218350.0  ...  333730.000     NaN  356810.000   \n",
              "4     19510.0   20660.0   21820.0  ...   33370.000     NaN   35670.000   \n",
              "8      9748.0   10320.0   10900.0  ...   16680.000     NaN   17830.000   \n",
              "12     6493.2    6880.8    7267.5  ...   11120.000     NaN   11890.000   \n",
              "16     4865.8    5157.2    5447.8  ...    8340.100     NaN    8917.600   \n",
              "..        ...       ...       ...  ...         ...     ...         ...   \n",
              "524       NaN       NaN       NaN  ...      27.834  29.313      30.732   \n",
              "528       NaN       NaN       NaN  ...      27.245  28.706      30.106   \n",
              "532       NaN       NaN       NaN  ...      26.676  28.120      29.503   \n",
              "536       NaN       NaN       NaN  ...      26.128  27.555      28.921   \n",
              "540       NaN       NaN       NaN  ...      25.599  27.010      28.359   \n",
              "\n",
              "        525         550     575         600     625         650      Combined  \n",
              "0       NaN  379880.000     NaN  402960.000     NaN  426040.000      V at 1.0  \n",
              "4       NaN   37980.000     NaN   40290.000     NaN   42600.000     V at 10.0  \n",
              "8       NaN   18990.000     NaN   20140.000     NaN   21300.000     V at 20.0  \n",
              "12      NaN   12660.000     NaN   13430.000     NaN   14190.000     V at 30.0  \n",
              "16      NaN    9494.900     NaN   10070.000     NaN   10640.000     V at 40.0  \n",
              "..      ...         ...     ...         ...     ...         ...           ...  \n",
              "524  32.106      33.444  34.753      36.039  37.304      38.552  V at 10600.0  \n",
              "528  31.461      32.779  34.069      35.335  36.580      37.808  V at 10800.0  \n",
              "532  30.839      32.139  33.410      34.656  35.882      37.091  V at 11000.0  \n",
              "536  30.240      31.521  32.774      34.002  35.210      36.400  V at 11200.0  \n",
              "540  29.661      30.925  32.160      33.370  34.560      35.733  V at 11400.0  \n",
              "\n",
              "[136 rows x 38 columns]"
            ],
            "text/html": [
              "\n",
              "  <div id=\"df-f7d2e79e-a902-4699-9877-80e2cfcad751\" class=\"colab-df-container\">\n",
              "    <div>\n",
              "<style scoped>\n",
              "    .dataframe tbody tr th:only-of-type {\n",
              "        vertical-align: middle;\n",
              "    }\n",
              "\n",
              "    .dataframe tbody tr th {\n",
              "        vertical-align: top;\n",
              "    }\n",
              "\n",
              "    .dataframe thead th {\n",
              "        text-align: right;\n",
              "    }\n",
              "</style>\n",
              "<table border=\"1\" class=\"dataframe\">\n",
              "  <thead>\n",
              "    <tr style=\"text-align: right;\">\n",
              "      <th></th>\n",
              "      <th>Pressure</th>\n",
              "      <th>Property</th>\n",
              "      <th>Liq_Sat</th>\n",
              "      <th>Vap_Sat</th>\n",
              "      <th>75</th>\n",
              "      <th>100</th>\n",
              "      <th>125</th>\n",
              "      <th>150</th>\n",
              "      <th>175</th>\n",
              "      <th>200</th>\n",
              "      <th>...</th>\n",
              "      <th>450</th>\n",
              "      <th>475</th>\n",
              "      <th>500</th>\n",
              "      <th>525</th>\n",
              "      <th>550</th>\n",
              "      <th>575</th>\n",
              "      <th>600</th>\n",
              "      <th>625</th>\n",
              "      <th>650</th>\n",
              "      <th>Combined</th>\n",
              "    </tr>\n",
              "  </thead>\n",
              "  <tbody>\n",
              "    <tr>\n",
              "      <th>0</th>\n",
              "      <td>1.0</td>\n",
              "      <td>V</td>\n",
              "      <td>1.000</td>\n",
              "      <td>129200.000</td>\n",
              "      <td>160640.0</td>\n",
              "      <td>172180.0</td>\n",
              "      <td>183720.0</td>\n",
              "      <td>195270.0</td>\n",
              "      <td>206810.0</td>\n",
              "      <td>218350.0</td>\n",
              "      <td>...</td>\n",
              "      <td>333730.000</td>\n",
              "      <td>NaN</td>\n",
              "      <td>356810.000</td>\n",
              "      <td>NaN</td>\n",
              "      <td>379880.000</td>\n",
              "      <td>NaN</td>\n",
              "      <td>402960.000</td>\n",
              "      <td>NaN</td>\n",
              "      <td>426040.000</td>\n",
              "      <td>V at 1.0</td>\n",
              "    </tr>\n",
              "    <tr>\n",
              "      <th>4</th>\n",
              "      <td>10.0</td>\n",
              "      <td>V</td>\n",
              "      <td>1.010</td>\n",
              "      <td>14670.000</td>\n",
              "      <td>16030.0</td>\n",
              "      <td>17190.0</td>\n",
              "      <td>18350.0</td>\n",
              "      <td>19510.0</td>\n",
              "      <td>20660.0</td>\n",
              "      <td>21820.0</td>\n",
              "      <td>...</td>\n",
              "      <td>33370.000</td>\n",
              "      <td>NaN</td>\n",
              "      <td>35670.000</td>\n",
              "      <td>NaN</td>\n",
              "      <td>37980.000</td>\n",
              "      <td>NaN</td>\n",
              "      <td>40290.000</td>\n",
              "      <td>NaN</td>\n",
              "      <td>42600.000</td>\n",
              "      <td>V at 10.0</td>\n",
              "    </tr>\n",
              "    <tr>\n",
              "      <th>8</th>\n",
              "      <td>20.0</td>\n",
              "      <td>V</td>\n",
              "      <td>1.017</td>\n",
              "      <td>7649.800</td>\n",
              "      <td>8000.0</td>\n",
              "      <td>8584.7</td>\n",
              "      <td>9167.1</td>\n",
              "      <td>9748.0</td>\n",
              "      <td>10320.0</td>\n",
              "      <td>10900.0</td>\n",
              "      <td>...</td>\n",
              "      <td>16680.000</td>\n",
              "      <td>NaN</td>\n",
              "      <td>17830.000</td>\n",
              "      <td>NaN</td>\n",
              "      <td>18990.000</td>\n",
              "      <td>NaN</td>\n",
              "      <td>20140.000</td>\n",
              "      <td>NaN</td>\n",
              "      <td>21300.000</td>\n",
              "      <td>V at 20.0</td>\n",
              "    </tr>\n",
              "    <tr>\n",
              "      <th>12</th>\n",
              "      <td>30.0</td>\n",
              "      <td>V</td>\n",
              "      <td>1.022</td>\n",
              "      <td>5229.300</td>\n",
              "      <td>5322.0</td>\n",
              "      <td>5714.4</td>\n",
              "      <td>6104.6</td>\n",
              "      <td>6493.2</td>\n",
              "      <td>6880.8</td>\n",
              "      <td>7267.5</td>\n",
              "      <td>...</td>\n",
              "      <td>11120.000</td>\n",
              "      <td>NaN</td>\n",
              "      <td>11890.000</td>\n",
              "      <td>NaN</td>\n",
              "      <td>12660.000</td>\n",
              "      <td>NaN</td>\n",
              "      <td>13430.000</td>\n",
              "      <td>NaN</td>\n",
              "      <td>14190.000</td>\n",
              "      <td>V at 30.0</td>\n",
              "    </tr>\n",
              "    <tr>\n",
              "      <th>16</th>\n",
              "      <td>40.0</td>\n",
              "      <td>V</td>\n",
              "      <td>1.027</td>\n",
              "      <td>3993.400</td>\n",
              "      <td>NaN</td>\n",
              "      <td>4279.2</td>\n",
              "      <td>4573.3</td>\n",
              "      <td>4865.8</td>\n",
              "      <td>5157.2</td>\n",
              "      <td>5447.8</td>\n",
              "      <td>...</td>\n",
              "      <td>8340.100</td>\n",
              "      <td>NaN</td>\n",
              "      <td>8917.600</td>\n",
              "      <td>NaN</td>\n",
              "      <td>9494.900</td>\n",
              "      <td>NaN</td>\n",
              "      <td>10070.000</td>\n",
              "      <td>NaN</td>\n",
              "      <td>10640.000</td>\n",
              "      <td>V at 40.0</td>\n",
              "    </tr>\n",
              "    <tr>\n",
              "      <th>...</th>\n",
              "      <td>...</td>\n",
              "      <td>...</td>\n",
              "      <td>...</td>\n",
              "      <td>...</td>\n",
              "      <td>...</td>\n",
              "      <td>...</td>\n",
              "      <td>...</td>\n",
              "      <td>...</td>\n",
              "      <td>...</td>\n",
              "      <td>...</td>\n",
              "      <td>...</td>\n",
              "      <td>...</td>\n",
              "      <td>...</td>\n",
              "      <td>...</td>\n",
              "      <td>...</td>\n",
              "      <td>...</td>\n",
              "      <td>...</td>\n",
              "      <td>...</td>\n",
              "      <td>...</td>\n",
              "      <td>...</td>\n",
              "      <td>...</td>\n",
              "    </tr>\n",
              "    <tr>\n",
              "      <th>524</th>\n",
              "      <td>10600.0</td>\n",
              "      <td>V</td>\n",
              "      <td>1.474</td>\n",
              "      <td>16.778</td>\n",
              "      <td>NaN</td>\n",
              "      <td>NaN</td>\n",
              "      <td>NaN</td>\n",
              "      <td>NaN</td>\n",
              "      <td>NaN</td>\n",
              "      <td>NaN</td>\n",
              "      <td>...</td>\n",
              "      <td>27.834</td>\n",
              "      <td>29.313</td>\n",
              "      <td>30.732</td>\n",
              "      <td>32.106</td>\n",
              "      <td>33.444</td>\n",
              "      <td>34.753</td>\n",
              "      <td>36.039</td>\n",
              "      <td>37.304</td>\n",
              "      <td>38.552</td>\n",
              "      <td>V at 10600.0</td>\n",
              "    </tr>\n",
              "    <tr>\n",
              "      <th>528</th>\n",
              "      <td>10800.0</td>\n",
              "      <td>V</td>\n",
              "      <td>1.481</td>\n",
              "      <td>16.385</td>\n",
              "      <td>NaN</td>\n",
              "      <td>NaN</td>\n",
              "      <td>NaN</td>\n",
              "      <td>NaN</td>\n",
              "      <td>NaN</td>\n",
              "      <td>NaN</td>\n",
              "      <td>...</td>\n",
              "      <td>27.245</td>\n",
              "      <td>28.706</td>\n",
              "      <td>30.106</td>\n",
              "      <td>31.461</td>\n",
              "      <td>32.779</td>\n",
              "      <td>34.069</td>\n",
              "      <td>35.335</td>\n",
              "      <td>36.580</td>\n",
              "      <td>37.808</td>\n",
              "      <td>V at 10800.0</td>\n",
              "    </tr>\n",
              "    <tr>\n",
              "      <th>532</th>\n",
              "      <td>11000.0</td>\n",
              "      <td>V</td>\n",
              "      <td>1.489</td>\n",
              "      <td>16.006</td>\n",
              "      <td>NaN</td>\n",
              "      <td>NaN</td>\n",
              "      <td>NaN</td>\n",
              "      <td>NaN</td>\n",
              "      <td>NaN</td>\n",
              "      <td>NaN</td>\n",
              "      <td>...</td>\n",
              "      <td>26.676</td>\n",
              "      <td>28.120</td>\n",
              "      <td>29.503</td>\n",
              "      <td>30.839</td>\n",
              "      <td>32.139</td>\n",
              "      <td>33.410</td>\n",
              "      <td>34.656</td>\n",
              "      <td>35.882</td>\n",
              "      <td>37.091</td>\n",
              "      <td>V at 11000.0</td>\n",
              "    </tr>\n",
              "    <tr>\n",
              "      <th>536</th>\n",
              "      <td>11200.0</td>\n",
              "      <td>V</td>\n",
              "      <td>1.496</td>\n",
              "      <td>15.639</td>\n",
              "      <td>NaN</td>\n",
              "      <td>NaN</td>\n",
              "      <td>NaN</td>\n",
              "      <td>NaN</td>\n",
              "      <td>NaN</td>\n",
              "      <td>NaN</td>\n",
              "      <td>...</td>\n",
              "      <td>26.128</td>\n",
              "      <td>27.555</td>\n",
              "      <td>28.921</td>\n",
              "      <td>30.240</td>\n",
              "      <td>31.521</td>\n",
              "      <td>32.774</td>\n",
              "      <td>34.002</td>\n",
              "      <td>35.210</td>\n",
              "      <td>36.400</td>\n",
              "      <td>V at 11200.0</td>\n",
              "    </tr>\n",
              "    <tr>\n",
              "      <th>540</th>\n",
              "      <td>11400.0</td>\n",
              "      <td>V</td>\n",
              "      <td>1.504</td>\n",
              "      <td>15.284</td>\n",
              "      <td>NaN</td>\n",
              "      <td>NaN</td>\n",
              "      <td>NaN</td>\n",
              "      <td>NaN</td>\n",
              "      <td>NaN</td>\n",
              "      <td>NaN</td>\n",
              "      <td>...</td>\n",
              "      <td>25.599</td>\n",
              "      <td>27.010</td>\n",
              "      <td>28.359</td>\n",
              "      <td>29.661</td>\n",
              "      <td>30.925</td>\n",
              "      <td>32.160</td>\n",
              "      <td>33.370</td>\n",
              "      <td>34.560</td>\n",
              "      <td>35.733</td>\n",
              "      <td>V at 11400.0</td>\n",
              "    </tr>\n",
              "  </tbody>\n",
              "</table>\n",
              "<p>136 rows × 38 columns</p>\n",
              "</div>\n",
              "    <div class=\"colab-df-buttons\">\n",
              "\n",
              "  <div class=\"colab-df-container\">\n",
              "    <button class=\"colab-df-convert\" onclick=\"convertToInteractive('df-f7d2e79e-a902-4699-9877-80e2cfcad751')\"\n",
              "            title=\"Convert this dataframe to an interactive table.\"\n",
              "            style=\"display:none;\">\n",
              "\n",
              "  <svg xmlns=\"http://www.w3.org/2000/svg\" height=\"24px\" viewBox=\"0 -960 960 960\">\n",
              "    <path d=\"M120-120v-720h720v720H120Zm60-500h600v-160H180v160Zm220 220h160v-160H400v160Zm0 220h160v-160H400v160ZM180-400h160v-160H180v160Zm440 0h160v-160H620v160ZM180-180h160v-160H180v160Zm440 0h160v-160H620v160Z\"/>\n",
              "  </svg>\n",
              "    </button>\n",
              "\n",
              "  <style>\n",
              "    .colab-df-container {\n",
              "      display:flex;\n",
              "      gap: 12px;\n",
              "    }\n",
              "\n",
              "    .colab-df-convert {\n",
              "      background-color: #E8F0FE;\n",
              "      border: none;\n",
              "      border-radius: 50%;\n",
              "      cursor: pointer;\n",
              "      display: none;\n",
              "      fill: #1967D2;\n",
              "      height: 32px;\n",
              "      padding: 0 0 0 0;\n",
              "      width: 32px;\n",
              "    }\n",
              "\n",
              "    .colab-df-convert:hover {\n",
              "      background-color: #E2EBFA;\n",
              "      box-shadow: 0px 1px 2px rgba(60, 64, 67, 0.3), 0px 1px 3px 1px rgba(60, 64, 67, 0.15);\n",
              "      fill: #174EA6;\n",
              "    }\n",
              "\n",
              "    .colab-df-buttons div {\n",
              "      margin-bottom: 4px;\n",
              "    }\n",
              "\n",
              "    [theme=dark] .colab-df-convert {\n",
              "      background-color: #3B4455;\n",
              "      fill: #D2E3FC;\n",
              "    }\n",
              "\n",
              "    [theme=dark] .colab-df-convert:hover {\n",
              "      background-color: #434B5C;\n",
              "      box-shadow: 0px 1px 3px 1px rgba(0, 0, 0, 0.15);\n",
              "      filter: drop-shadow(0px 1px 2px rgba(0, 0, 0, 0.3));\n",
              "      fill: #FFFFFF;\n",
              "    }\n",
              "  </style>\n",
              "\n",
              "    <script>\n",
              "      const buttonEl =\n",
              "        document.querySelector('#df-f7d2e79e-a902-4699-9877-80e2cfcad751 button.colab-df-convert');\n",
              "      buttonEl.style.display =\n",
              "        google.colab.kernel.accessAllowed ? 'block' : 'none';\n",
              "\n",
              "      async function convertToInteractive(key) {\n",
              "        const element = document.querySelector('#df-f7d2e79e-a902-4699-9877-80e2cfcad751');\n",
              "        const dataTable =\n",
              "          await google.colab.kernel.invokeFunction('convertToInteractive',\n",
              "                                                    [key], {});\n",
              "        if (!dataTable) return;\n",
              "\n",
              "        const docLinkHtml = 'Like what you see? Visit the ' +\n",
              "          '<a target=\"_blank\" href=https://colab.research.google.com/notebooks/data_table.ipynb>data table notebook</a>'\n",
              "          + ' to learn more about interactive tables.';\n",
              "        element.innerHTML = '';\n",
              "        dataTable['output_type'] = 'display_data';\n",
              "        await google.colab.output.renderOutput(dataTable, element);\n",
              "        const docLink = document.createElement('div');\n",
              "        docLink.innerHTML = docLinkHtml;\n",
              "        element.appendChild(docLink);\n",
              "      }\n",
              "    </script>\n",
              "  </div>\n",
              "\n",
              "\n",
              "<div id=\"df-d7eeb96f-9623-4b32-b79d-e91014b093b1\">\n",
              "  <button class=\"colab-df-quickchart\" onclick=\"quickchart('df-d7eeb96f-9623-4b32-b79d-e91014b093b1')\"\n",
              "            title=\"Suggest charts\"\n",
              "            style=\"display:none;\">\n",
              "\n",
              "<svg xmlns=\"http://www.w3.org/2000/svg\" height=\"24px\"viewBox=\"0 0 24 24\"\n",
              "     width=\"24px\">\n",
              "    <g>\n",
              "        <path d=\"M19 3H5c-1.1 0-2 .9-2 2v14c0 1.1.9 2 2 2h14c1.1 0 2-.9 2-2V5c0-1.1-.9-2-2-2zM9 17H7v-7h2v7zm4 0h-2V7h2v10zm4 0h-2v-4h2v4z\"/>\n",
              "    </g>\n",
              "</svg>\n",
              "  </button>\n",
              "\n",
              "<style>\n",
              "  .colab-df-quickchart {\n",
              "      --bg-color: #E8F0FE;\n",
              "      --fill-color: #1967D2;\n",
              "      --hover-bg-color: #E2EBFA;\n",
              "      --hover-fill-color: #174EA6;\n",
              "      --disabled-fill-color: #AAA;\n",
              "      --disabled-bg-color: #DDD;\n",
              "  }\n",
              "\n",
              "  [theme=dark] .colab-df-quickchart {\n",
              "      --bg-color: #3B4455;\n",
              "      --fill-color: #D2E3FC;\n",
              "      --hover-bg-color: #434B5C;\n",
              "      --hover-fill-color: #FFFFFF;\n",
              "      --disabled-bg-color: #3B4455;\n",
              "      --disabled-fill-color: #666;\n",
              "  }\n",
              "\n",
              "  .colab-df-quickchart {\n",
              "    background-color: var(--bg-color);\n",
              "    border: none;\n",
              "    border-radius: 50%;\n",
              "    cursor: pointer;\n",
              "    display: none;\n",
              "    fill: var(--fill-color);\n",
              "    height: 32px;\n",
              "    padding: 0;\n",
              "    width: 32px;\n",
              "  }\n",
              "\n",
              "  .colab-df-quickchart:hover {\n",
              "    background-color: var(--hover-bg-color);\n",
              "    box-shadow: 0 1px 2px rgba(60, 64, 67, 0.3), 0 1px 3px 1px rgba(60, 64, 67, 0.15);\n",
              "    fill: var(--button-hover-fill-color);\n",
              "  }\n",
              "\n",
              "  .colab-df-quickchart-complete:disabled,\n",
              "  .colab-df-quickchart-complete:disabled:hover {\n",
              "    background-color: var(--disabled-bg-color);\n",
              "    fill: var(--disabled-fill-color);\n",
              "    box-shadow: none;\n",
              "  }\n",
              "\n",
              "  .colab-df-spinner {\n",
              "    border: 2px solid var(--fill-color);\n",
              "    border-color: transparent;\n",
              "    border-bottom-color: var(--fill-color);\n",
              "    animation:\n",
              "      spin 1s steps(1) infinite;\n",
              "  }\n",
              "\n",
              "  @keyframes spin {\n",
              "    0% {\n",
              "      border-color: transparent;\n",
              "      border-bottom-color: var(--fill-color);\n",
              "      border-left-color: var(--fill-color);\n",
              "    }\n",
              "    20% {\n",
              "      border-color: transparent;\n",
              "      border-left-color: var(--fill-color);\n",
              "      border-top-color: var(--fill-color);\n",
              "    }\n",
              "    30% {\n",
              "      border-color: transparent;\n",
              "      border-left-color: var(--fill-color);\n",
              "      border-top-color: var(--fill-color);\n",
              "      border-right-color: var(--fill-color);\n",
              "    }\n",
              "    40% {\n",
              "      border-color: transparent;\n",
              "      border-right-color: var(--fill-color);\n",
              "      border-top-color: var(--fill-color);\n",
              "    }\n",
              "    60% {\n",
              "      border-color: transparent;\n",
              "      border-right-color: var(--fill-color);\n",
              "    }\n",
              "    80% {\n",
              "      border-color: transparent;\n",
              "      border-right-color: var(--fill-color);\n",
              "      border-bottom-color: var(--fill-color);\n",
              "    }\n",
              "    90% {\n",
              "      border-color: transparent;\n",
              "      border-bottom-color: var(--fill-color);\n",
              "    }\n",
              "  }\n",
              "</style>\n",
              "\n",
              "  <script>\n",
              "    async function quickchart(key) {\n",
              "      const quickchartButtonEl =\n",
              "        document.querySelector('#' + key + ' button');\n",
              "      quickchartButtonEl.disabled = true;  // To prevent multiple clicks.\n",
              "      quickchartButtonEl.classList.add('colab-df-spinner');\n",
              "      try {\n",
              "        const charts = await google.colab.kernel.invokeFunction(\n",
              "            'suggestCharts', [key], {});\n",
              "      } catch (error) {\n",
              "        console.error('Error during call to suggestCharts:', error);\n",
              "      }\n",
              "      quickchartButtonEl.classList.remove('colab-df-spinner');\n",
              "      quickchartButtonEl.classList.add('colab-df-quickchart-complete');\n",
              "    }\n",
              "    (() => {\n",
              "      let quickchartButtonEl =\n",
              "        document.querySelector('#df-d7eeb96f-9623-4b32-b79d-e91014b093b1 button');\n",
              "      quickchartButtonEl.style.display =\n",
              "        google.colab.kernel.accessAllowed ? 'block' : 'none';\n",
              "    })();\n",
              "  </script>\n",
              "</div>\n",
              "\n",
              "  <div id=\"id_3ca6e2d8-82b3-495f-9607-fd5e927dd948\">\n",
              "    <style>\n",
              "      .colab-df-generate {\n",
              "        background-color: #E8F0FE;\n",
              "        border: none;\n",
              "        border-radius: 50%;\n",
              "        cursor: pointer;\n",
              "        display: none;\n",
              "        fill: #1967D2;\n",
              "        height: 32px;\n",
              "        padding: 0 0 0 0;\n",
              "        width: 32px;\n",
              "      }\n",
              "\n",
              "      .colab-df-generate:hover {\n",
              "        background-color: #E2EBFA;\n",
              "        box-shadow: 0px 1px 2px rgba(60, 64, 67, 0.3), 0px 1px 3px 1px rgba(60, 64, 67, 0.15);\n",
              "        fill: #174EA6;\n",
              "      }\n",
              "\n",
              "      [theme=dark] .colab-df-generate {\n",
              "        background-color: #3B4455;\n",
              "        fill: #D2E3FC;\n",
              "      }\n",
              "\n",
              "      [theme=dark] .colab-df-generate:hover {\n",
              "        background-color: #434B5C;\n",
              "        box-shadow: 0px 1px 3px 1px rgba(0, 0, 0, 0.15);\n",
              "        filter: drop-shadow(0px 1px 2px rgba(0, 0, 0, 0.3));\n",
              "        fill: #FFFFFF;\n",
              "      }\n",
              "    </style>\n",
              "    <button class=\"colab-df-generate\" onclick=\"generateWithVariable('V_data')\"\n",
              "            title=\"Generate code using this dataframe.\"\n",
              "            style=\"display:none;\">\n",
              "\n",
              "  <svg xmlns=\"http://www.w3.org/2000/svg\" height=\"24px\"viewBox=\"0 0 24 24\"\n",
              "       width=\"24px\">\n",
              "    <path d=\"M7,19H8.4L18.45,9,17,7.55,7,17.6ZM5,21V16.75L18.45,3.32a2,2,0,0,1,2.83,0l1.4,1.43a1.91,1.91,0,0,1,.58,1.4,1.91,1.91,0,0,1-.58,1.4L9.25,21ZM18.45,9,17,7.55Zm-12,3A5.31,5.31,0,0,0,4.9,8.1,5.31,5.31,0,0,0,1,6.5,5.31,5.31,0,0,0,4.9,4.9,5.31,5.31,0,0,0,6.5,1,5.31,5.31,0,0,0,8.1,4.9,5.31,5.31,0,0,0,12,6.5,5.46,5.46,0,0,0,6.5,12Z\"/>\n",
              "  </svg>\n",
              "    </button>\n",
              "    <script>\n",
              "      (() => {\n",
              "      const buttonEl =\n",
              "        document.querySelector('#id_3ca6e2d8-82b3-495f-9607-fd5e927dd948 button.colab-df-generate');\n",
              "      buttonEl.style.display =\n",
              "        google.colab.kernel.accessAllowed ? 'block' : 'none';\n",
              "\n",
              "      buttonEl.onclick = () => {\n",
              "        google.colab.notebook.generateWithVariable('V_data');\n",
              "      }\n",
              "      })();\n",
              "    </script>\n",
              "  </div>\n",
              "\n",
              "    </div>\n",
              "  </div>\n"
            ]
          },
          "metadata": {},
          "execution_count": 35
        }
      ],
      "source": [
        "#your code here\n",
        "H_data = df.loc[(df['Property']=='H')]\n",
        "V_data = df.loc[(df['Property']=='V')]\n",
        "U_data = df.loc[(df['Property']=='U')]\n",
        "S_data = df.loc[(df['Property']=='S')]\n",
        "V_data\n"
      ]
    },
    {
      "cell_type": "markdown",
      "metadata": {
        "id": "Ghkj0-0-d1W7"
      },
      "source": [
        "# Section 3: Plotting with Matplotlib"
      ]
    },
    {
      "cell_type": "markdown",
      "metadata": {
        "id": "ka0qrDcZeAL6"
      },
      "source": [
        "### Plot the properties (specific volume, specific internal energy, specific enthalpy, specific entropy) vs Pressure for saturated liquid.\n",
        "\n",
        "Note:\n",
        "- Try using the subplot feature of matplotlib(Explore it!!)\n",
        "- Provide appropriate title, labels, markersize and other parameters to the plot"
      ]
    },
    {
      "cell_type": "code",
      "execution_count": 36,
      "metadata": {
        "id": "XbKdm-cUePKA",
        "colab": {
          "base_uri": "https://localhost:8080/",
          "height": 486
        },
        "outputId": "65a9d3d1-c179-49a1-df54-9e4626584487"
      },
      "outputs": [
        {
          "output_type": "display_data",
          "data": {
            "text/plain": [
              "<Figure size 640x480 with 4 Axes>"
            ],
            "image/png": "[encoded data removed]"
          },
          "metadata": {}
        }
      ],
      "source": [
        "#your code here\n",
        "#1\n",
        "\n",
        "fig, ((a1,a2),(a3,a4)) = plt.subplots(2,2)\n",
        "a1.plot(np.array(H_data['Pressure']), np.array(H_data['Liq_Sat']),'--',color = 'r',label = 'line-1',markersize = '2')\n",
        "a1.legend()\n",
        "a1.set_xlabel('Pressure')\n",
        "a1.set_ylabel('Enthalpy')\n",
        "a1.set_title('H vs P')\n",
        "\n",
        "a2.plot(np.array(V_data['Pressure']), np.array(V_data['Liq_Sat']),'--',color = 'b',label = 'line-2',markersize = '2')\n",
        "a2.legend()\n",
        "a2.set_xlabel('Pressure')\n",
        "a2.set_ylabel('Sp.Vol')\n",
        "a2.set_title('Sp.Vol vs P')\n",
        "\n",
        "a3.plot(np.array(U_data['Pressure']), np.array(U_data['Liq_Sat']),'--',color = 'g',label = 'line-3',markersize = '2')\n",
        "a3.legend()\n",
        "a3.set_xlabel('Pressure')\n",
        "a3.set_ylabel('Internal Energy')\n",
        "a3.set_title('U vs P')\n",
        "\n",
        "a4.plot(np.array(S_data['Pressure']), np.array(S_data['Liq_Sat']),'--',color = 'y',label = 'line-4',markersize = '2')\n",
        "a4.legend()\n",
        "a4.set_xlabel('Pressure')\n",
        "a4.set_ylabel('Entropy')\n",
        "a4.set_title('S vs P')\n",
        "\n",
        "plt.tight_layout()\n",
        "\n",
        "\n"
      ]
    },
    {
      "cell_type": "markdown",
      "metadata": {
        "id": "kBhLiHgv0HP1"
      },
      "source": [
        "### Plot the same for saturated vapor."
      ]
    },
    {
      "cell_type": "code",
      "execution_count": 37,
      "metadata": {
        "id": "FA_8VAoL0HP1",
        "colab": {
          "base_uri": "https://localhost:8080/",
          "height": 486
        },
        "outputId": "6d239de2-e561-481d-cfe2-90b0174e1e0f"
      },
      "outputs": [
        {
          "output_type": "display_data",
          "data": {
            "text/plain": [
              "<Figure size 640x480 with 4 Axes>"
            ],
            "image/png": "[encoded data removed]"
          },
          "metadata": {}
        }
      ],
      "source": [
        "#your code here\n",
        "\n",
        "fig, ((a1,a2),(a3,a4)) = plt.subplots(2,2)\n",
        "a1.plot(np.array(H_data['Pressure']), np.array(H_data['Vap_Sat']),'--',color = 'r',label = 'line-1',markersize = '2')\n",
        "a1.legend()\n",
        "a1.set_xlabel('Pressure')\n",
        "a1.set_ylabel('Enthalpy')\n",
        "a1.set_title('H vs P')\n",
        "\n",
        "a2.plot(np.array(V_data['Pressure']), np.array(V_data['Vap_Sat']),'--',color = 'b',label = 'line-2',markersize = '2')\n",
        "a2.legend()\n",
        "a2.set_xlabel('Pressure')\n",
        "a2.set_ylabel('Sp.Vol')\n",
        "a2.set_title('Sp.Vol vs P')\n",
        "\n",
        "a3.plot(np.array(U_data['Pressure']), np.array(U_data['Vap_Sat']),'--',color = 'g',label = 'line-3',markersize = '2')\n",
        "a3.legend()\n",
        "a3.set_xlabel('Pressure')\n",
        "a3.set_ylabel('Internal Energy')\n",
        "a3.set_title('U vs P')\n",
        "\n",
        "a4.plot(np.array(S_data['Pressure']), np.array(S_data['Vap_Sat']),'--',color = 'y',label = 'line-4',markersize = '2')\n",
        "a4.legend()\n",
        "a4.set_xlabel('Pressure')\n",
        "a4.set_ylabel('Entropy')\n",
        "a4.set_title('S vs P')\n",
        "\n",
        "plt.tight_layout()\n",
        "\n"
      ]
    },
    {
      "cell_type": "markdown",
      "metadata": {
        "id": "SCLRji6TeQgh"
      },
      "source": [
        "### Plot the specific volume of saturated liquid between 300 kPa and 1500 kPa"
      ]
    },
    {
      "cell_type": "code",
      "execution_count": 38,
      "metadata": {
        "id": "u6DyyI7MeYgE",
        "colab": {
          "base_uri": "https://localhost:8080/",
          "height": 489
        },
        "outputId": "3ab48a09-f55c-4807-dd4f-5c8ca335dea7"
      },
      "outputs": [
        {
          "output_type": "execute_result",
          "data": {
            "text/plain": [
              "Text(0, 0.5, 'Sp.Vol')"
            ]
          },
          "metadata": {},
          "execution_count": 38
        },
        {
          "output_type": "display_data",
          "data": {
            "text/plain": [
              "<Figure size 640x480 with 1 Axes>"
            ],
            "image/png": "[encoded data removed]"
          },
          "metadata": {}
        }
      ],
      "source": [
        "#your code here\n",
        "y = V_data.loc[(V_data.Pressure>=300) & (V_data.Pressure<=1500)]['Liq_Sat']\n",
        "x = V_data.loc[(V_data.Pressure>=300) & (V_data.Pressure<=1500)]['Pressure']\n",
        "plt.plot(x,y, color = 'g',markersize = '4',label = 'l-1')\n",
        "plt.title('Sp.Vol Vs P')\n",
        "plt.legend()\n",
        "plt.xlabel('Pressure')\n",
        "plt.ylabel('Sp.Vol')"
      ]
    },
    {
      "cell_type": "markdown",
      "metadata": {
        "id": "9xJHL4es0HP1"
      },
      "source": [
        "# Section 4 : Conclusion"
      ]
    },
    {
      "cell_type": "markdown",
      "metadata": {
        "id": "HIUmVOOp0HP1"
      },
      "source": [
        "*Congratulations on reaching this point! I hope you had fun solving your first assignment and have also built confidence in applying these libraries. If you are wondering, we will cover more about z-score normalization in Week 2, and the sigmoid function will be used in Week 3. After completing this assignment, you are now prepared to learn about machine learning techniques and implement your own machine learning models.*"
      ]
    }
  ],
  "metadata": {
    "colab": {
      "provenance": []
    },
    "kernelspec": {
      "display_name": "Python 3 (ipykernel)",
      "language": "python",
      "name": "python3"
    },
    "language_info": {
      "codemirror_mode": {
        "name": "ipython",
        "version": 3
      },
      "file_extension": ".py",
      "mimetype": "text/x-python",
      "name": "python",
      "nbconvert_exporter": "python",
      "pygments_lexer": "ipython3",
      "version": "3.10.5"
    }
  },
  "nbformat": 4,
  "nbformat_minor": 0
}