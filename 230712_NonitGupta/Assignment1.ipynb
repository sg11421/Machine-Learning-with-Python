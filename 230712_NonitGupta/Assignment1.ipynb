{
 "cells": [
  {
   "cell_type": "markdown",
   "metadata": {
    "id": "UOzd0zRXW5Uv"
   },
   "source": [
    "# Week-1 Assignment\n",
    "\n",
    "*Welcome to your first assignment for the SimuTech Winter Project 2022! I hope you are excited to implement and test everything you have learned up until now. There is an interesting set of questions for you to refine your acquired skills as you delve into hands-on coding and deepen your understanding of numpy, pandas, and data visualization libraries.*"
   ]
  },
  {
   "cell_type": "markdown",
   "metadata": {
    "id": "2XFUXyq9Y9TG"
   },
   "source": [
    "# Section 0 : Importing Libraries"
   ]
  },
  {
   "cell_type": "markdown",
   "metadata": {
    "id": "D_bzcLusjSO0"
   },
   "source": [
    "*Let's begin by importing numpy, pandas and matplotlib.*"
   ]
  },
  {
   "cell_type": "code",
   "execution_count": 3,
   "metadata": {
    "id": "jdwX7bI7aGeY"
   },
   "outputs": [],
   "source": [
    "import numpy as np\n",
    "import pandas as pd\n",
    "import matplotlib.pyplot as plt"
   ]
  },
  {
   "cell_type": "markdown",
   "metadata": {
    "id": "LM25mz5ta-Q_"
   },
   "source": [
    "# Section 1 : Playing with Python and Numpy"
   ]
  },
  {
   "cell_type": "markdown",
   "metadata": {
    "id": "TcFQVqhAdQw_"
   },
   "source": [
    "### Q1. Matrix Multiplication"
   ]
  },
  {
   "cell_type": "markdown",
   "metadata": {
    "id": "6Dcai9pys0j8"
   },
   "source": [
    "##### (i) Check if matrix multiplication is valid"
   ]
  },
  {
   "cell_type": "code",
   "execution_count": 3,
   "metadata": {
    "id": "0qC4txIss3gG"
   },
   "outputs": [],
   "source": [
    "def isValid(A,B):\n",
    "  if A.shape[1]==B.shape[0]:\n",
    "    print(\"Matrix Multiplication is valid\")\n",
    "  else:\n",
    "    print(\"Matrix Multiplication is invalid\")  "
   ]
  },
  {
   "cell_type": "markdown",
   "metadata": {
    "id": "OPTfRGlTdXxa"
   },
   "source": [
    "##### (ii) Using loops (without using numpy)"
   ]
  },
  {
   "cell_type": "code",
   "execution_count": null,
   "metadata": {
    "id": "V8F5ETsRct3S"
   },
   "outputs": [],
   "source": [
    "def matrix_multiply(A,B):"
   ]
  },
  {
   "cell_type": "markdown",
   "metadata": {
    "id": "umUgUTSWdos8"
   },
   "source": [
    "##### (iii) Using numpy"
   ]
  },
  {
   "cell_type": "code",
   "execution_count": 4,
   "metadata": {
    "id": "-tdXlCHrduBP"
   },
   "outputs": [],
   "source": [
    "def matrix_multiply_2(A,B):\n",
    "  return np.dot(A,B)"
   ]
  },
  {
   "cell_type": "markdown",
   "metadata": {
    "id": "2nMFnl84edJG"
   },
   "source": [
    "##### (iv) Testing your code\n",
    "\n",
    "Run the following cell to check if your functions are working properly.\n",
    "\n",
    "*Expected output:*\n",
    "[ [102 108 114]\n",
    " [246 261 276]\n",
    " [390 414 438]\n",
    " [534 567 600] ]"
   ]
  },
  {
   "cell_type": "code",
   "execution_count": null,
   "metadata": {
    "id": "09rX_Cm9ezmq"
   },
   "outputs": [],
   "source": [
    "A = np.array([\n",
    "    [1, 2, 3],\n",
    "    [4, 5, 6],\n",
    "    [7, 8, 9],\n",
    "    [10, 11, 12]\n",
    "])\n",
    "\n",
    "B = np.array([\n",
    "    [13, 14, 15],\n",
    "    [16, 17, 18],\n",
    "    [19, 20, 21]\n",
    "])\n",
    "\n",
    "if isValid(A,B):\n",
    "  print(f\"Result using loops: {matrix_multiply(A,B)}\")\n",
    "  print(f\"Result using numpy: {matrix_multiply_2(A,B)}\")\n",
    "else:\n",
    "  print(f\"Matrix multiplication is not valid\")"
   ]
  },
  {
   "cell_type": "markdown",
   "metadata": {
    "id": "5hfP7Ao1fwqV"
   },
   "source": [
    "### Q2. Z-Score Normalisation"
   ]
  },
  {
   "cell_type": "markdown",
   "metadata": {
    "id": "0e81Xx5Kw_CQ"
   },
   "source": [
    "Z-score normalization refers to the process of normalizing every value in a dataset such that the mean of all of the values is 0 and the standard deviation is 1.\n",
    "\n",
    "We use the following formula to perform a z-score normalization on every value in a dataset:\n",
    "\n",
    "New value = (x – μ) / σ\n",
    "\n",
    "where:\n",
    "\n",
    "x: Original value\n",
    "\n",
    "μ: Mean of data\n",
    "\n",
    "σ: Standard deviation of data"
   ]
  },
  {
   "cell_type": "markdown",
   "metadata": {
    "id": "GP_MuyUbguSR"
   },
   "source": [
    "##### (i) Without using numpy"
   ]
  },
  {
   "cell_type": "code",
   "execution_count": 5,
   "metadata": {
    "id": "0vix8qaaghwP"
   },
   "outputs": [],
   "source": [
    "def mean(x):\n",
    "  s=0\n",
    "  j=0\n",
    "  for i in x:\n",
    "    j+=1\n",
    "    s=s+i\n",
    "  return s/j  "
   ]
  },
  {
   "cell_type": "code",
   "execution_count": 6,
   "metadata": {
    "id": "j1qabel-g_f5"
   },
   "outputs": [],
   "source": [
    "def standard_deviation(x):\n",
    "  s=0\n",
    "  j=0\n",
    "  for i in x:\n",
    "    j+=1\n",
    "    s=s+(i-mean(x))**2\n",
    "  return (s/j)**0.5"
   ]
  },
  {
   "cell_type": "code",
   "execution_count": 7,
   "metadata": {
    "id": "797ewbNqhEpY"
   },
   "outputs": [],
   "source": [
    "def zscore_normalisation(x):\n",
    "  m=mean(x)\n",
    "  s=standard_deviation(x)\n",
    "  for i in range(len(x)):\n",
    "    x[i]=(x[i]-m)/s\n",
    "  return x "
   ]
  },
  {
   "cell_type": "markdown",
   "metadata": {
    "id": "k8dq1wqRhbUB"
   },
   "source": [
    "##### (ii) Using numpy\n",
    "\n",
    "Numpy has in_built functions for calculating mean and standard deviation"
   ]
  },
  {
   "cell_type": "code",
   "execution_count": 8,
   "metadata": {
    "id": "WjxJTUDihsYg"
   },
   "outputs": [],
   "source": [
    "def zscore_normalisation_2(x):\n",
    "  m=np.mean(x)\n",
    "  s=np.std(x)\n",
    "  for i in range(len(x)):\n",
    "    x[i]=(x[i]-m)/s\n",
    "  return x"
   ]
  },
  {
   "cell_type": "markdown",
   "metadata": {
    "id": "glRqKU-_1pue"
   },
   "source": [
    "##### (iii) Testing your code"
   ]
  },
  {
   "cell_type": "markdown",
   "metadata": {
    "id": "Kl7XBymOigCU"
   },
   "source": [
    "Run the following cell to check if your functions are working properly.\n",
    "\n",
    "*Expected Output:* [-1.06753267 -0.99745394 -0.99745394 -0.81057732 -0.41346451 -0.06307086\n",
    "  0.31068237  0.91803138  1.22170588  1.89913361]"
   ]
  },
  {
   "cell_type": "code",
   "execution_count": 9,
   "metadata": {
    "id": "78ptZxf6ipZp"
   },
   "outputs": [
    {
     "name": "stdout",
     "output_type": "stream",
     "text": [
      "Result without using numpy: [-1.0675326683028088, -0.9974539373420117, -0.9974539373420117, -0.8105773214465528, -0.41346451266870277, -0.06307085786471743, 0.3106823739262003, 0.9180313755864415, 1.2217058764165623, 1.8991336090376005]\n",
      "Result using numpy: [-1.0675326683028088, -0.9974539373420116, -0.9974539373420116, -0.8105773214465527, -0.41346451266870266, -0.06307085786471735, 0.3106823739262004, 0.9180313755864417, 1.2217058764165623, 1.8991336090376005]\n"
     ]
    }
   ],
   "source": [
    "x = [4, 7, 7, 15, 32, 47, 63, 89, 102, 131]\n",
    "print(f\"Result without using numpy: {zscore_normalisation(x)}\")\n",
    "print(f\"Result using numpy: {zscore_normalisation_2(x)}\")"
   ]
  },
  {
   "cell_type": "markdown",
   "metadata": {
    "id": "0WVscJ0z14rp"
   },
   "source": [
    "### Q3. Sigmoid fn and its derivative"
   ]
  },
  {
   "cell_type": "markdown",
   "metadata": {
    "id": "Jfntb0Rg94Tu"
   },
   "source": [
    "The sigmoid function is a mathematical function that maps any input value to a value between 0 and 1.\n",
    "\n",
    "It is defined mathematically as s(x) = 1/(1+e^(-x))."
   ]
  },
  {
   "cell_type": "markdown",
   "metadata": {
    "id": "8SCAPkjO2m7u"
   },
   "source": [
    "##### (i) Write a fn to implement sigmoid fn"
   ]
  },
  {
   "cell_type": "code",
   "execution_count": 10,
   "metadata": {
    "id": "jL_TRQFG2l5m"
   },
   "outputs": [],
   "source": [
    "def sigmoidfn(x):\n",
    "  s=1/(1+np.exp(-x))\n",
    "  return s"
   ]
  },
  {
   "cell_type": "markdown",
   "metadata": {
    "id": "t7KBbl7N3AUM"
   },
   "source": [
    "##### (ii) Write a fn to implement derivative of sigmoid fn"
   ]
  },
  {
   "cell_type": "code",
   "execution_count": 12,
   "metadata": {
    "id": "okjuOpba3KOJ"
   },
   "outputs": [],
   "source": [
    "def derivative(x):\n",
    "  y=sigmoidfn(x)\n",
    "  d=y*(1-y)\n",
    "  return d"
   ]
  },
  {
   "cell_type": "markdown",
   "metadata": {
    "id": "NdGTSpsp3mwr"
   },
   "source": [
    "##### (iii) Test your code"
   ]
  },
  {
   "cell_type": "markdown",
   "metadata": {
    "id": "lWY8RBex7gnd"
   },
   "source": [
    "Run the following cell to check if your functions are working properly.\n",
    "\n",
    "*Expected output:*\n",
    "\n",
    "x on applying sigmoid activation fn is: [ [0.99987661 0.88079708 0.99330715 0.5        0.5       ]\n",
    " [0.99908895 0.99330715 0.5        0.5        0.5       ] ]\n",
    "\n",
    "x on applying derivative of sigmoid activation fn is: [ [-1.23379350e-04 -1.04993585e-01 -6.64805667e-03 -2.50000000e-01\n",
    "  -2.50000000e-01]\n",
    " [-9.10221180e-04 -6.64805667e-03 -2.50000000e-01 -2.50000000e-01\n",
    "  -2.50000000e-01] ]"
   ]
  },
  {
   "cell_type": "code",
   "execution_count": 13,
   "metadata": {
    "id": "ssDGpmS33vdA"
   },
   "outputs": [
    {
     "name": "stdout",
     "output_type": "stream",
     "text": [
      "x on applying sigmoid activation fn is: [[0.99987661 0.88079708 0.99330715 0.5        0.5       ]\n",
      " [0.99908895 0.99330715 0.5        0.5        0.5       ]]\n",
      "x on applying derivative of sigmoid activation fn is: [[1.23379350e-04 1.04993585e-01 6.64805667e-03 2.50000000e-01\n",
      "  2.50000000e-01]\n",
      " [9.10221180e-04 6.64805667e-03 2.50000000e-01 2.50000000e-01\n",
      "  2.50000000e-01]]\n"
     ]
    }
   ],
   "source": [
    "x = np.array([\n",
    "    [9,2,5,0,0],\n",
    "    [7,5,0,0,0]\n",
    "])\n",
    "print(f\"x on applying sigmoid activation fn is: {sigmoidfn(x)}\")\n",
    "print(f\"x on applying derivative of sigmoid activation fn is: {derivative(x)}\")"
   ]
  },
  {
   "cell_type": "markdown",
   "metadata": {
    "id": "PMa0cseyZpa1"
   },
   "source": [
    "# Section 2: Exploring Pandas"
   ]
  },
  {
   "cell_type": "markdown",
   "metadata": {},
   "source": [
    "*You have been provided with a dataset which includes information about properties of superheated vapor.*\n",
    "\n",
    "*The dataset consists of the thermophysical properties: specific volume, specific internal energy, specific enthalpy, specific entropy of superheated vapor.*\n",
    "\n",
    "*Pressure is in kPa and Temperature in centigrade. In the dataframe 75, 100, 125, etc. are temperatures.*"
   ]
  },
  {
   "cell_type": "markdown",
   "metadata": {
    "id": "i5Okb_jxZ_VW"
   },
   "source": [
    "### Read the csv file\n"
   ]
  },
  {
   "cell_type": "code",
   "execution_count": 4,
   "metadata": {
    "id": "aQgvyavrcM1l"
   },
   "outputs": [],
   "source": [
    "df=pd.read_csv(r\"C:\\Users\\nonit\\Machine-Learning-with-Python\\Assignments\\Assignment 1\\superheated_vapor_properties.csv\")"
   ]
  },
  {
   "cell_type": "markdown",
   "metadata": {
    "id": "Zp8F3rk2cNxy"
   },
   "source": [
    "### Display the shape of data frame\n"
   ]
  },
  {
   "cell_type": "code",
   "execution_count": 16,
   "metadata": {
    "id": "v3Q8kQkucgK0"
   },
   "outputs": [
    {
     "data": {
      "text/plain": [
       "(544, 37)"
      ]
     },
     "execution_count": 16,
     "metadata": {},
     "output_type": "execute_result"
    }
   ],
   "source": [
    "df.shape"
   ]
  },
  {
   "cell_type": "markdown",
   "metadata": {
    "id": "w49cp-8zcgd2"
   },
   "source": [
    "### Return an array containing names of all the columns"
   ]
  },
  {
   "cell_type": "code",
   "execution_count": 19,
   "metadata": {
    "id": "fz4HRb3JcsZp"
   },
   "outputs": [
    {
     "data": {
      "text/plain": [
       "<bound method IndexOpsMixin.to_numpy of Index(['Pressure', 'Property', 'Liq_Sat', 'Vap_Sat', '75', '100', '125', '150',\n",
       "       '175', '200', '220', '225', '240', '250', '260', '275', '280', '290',\n",
       "       '300', '320', '325', '340', '350', '360', '375', '380', '400', '425',\n",
       "       '450', '475', '500', '525', '550', '575', '600', '625', '650'],\n",
       "      dtype='object')>"
      ]
     },
     "execution_count": 19,
     "metadata": {},
     "output_type": "execute_result"
    }
   ],
   "source": [
    "df.columns.to_numpy"
   ]
  },
  {
   "cell_type": "markdown",
   "metadata": {
    "id": "YkTH9tRWcrH-"
   },
   "source": [
    "### Display the number of null values in each column of the dataframe\n",
    "\n"
   ]
  },
  {
   "cell_type": "code",
   "execution_count": 20,
   "metadata": {
    "id": "GK9-PJPxc3Ot"
   },
   "outputs": [
    {
     "data": {
      "text/plain": [
       "Pressure      0\n",
       "Property      0\n",
       "Liq_Sat       0\n",
       "Vap_Sat       0\n",
       "75          528\n",
       "100         508\n",
       "125         488\n",
       "150         448\n",
       "175         384\n",
       "200         320\n",
       "220         408\n",
       "225         400\n",
       "240         408\n",
       "250         344\n",
       "260         384\n",
       "275         340\n",
       "280         380\n",
       "290         488\n",
       "300          60\n",
       "320         480\n",
       "325         136\n",
       "340         476\n",
       "350          68\n",
       "360         476\n",
       "375         204\n",
       "380         476\n",
       "400           0\n",
       "425         204\n",
       "450           0\n",
       "475         204\n",
       "500           0\n",
       "525         272\n",
       "550           0\n",
       "575         340\n",
       "600           0\n",
       "625         476\n",
       "650           0\n",
       "dtype: int64"
      ]
     },
     "execution_count": 20,
     "metadata": {},
     "output_type": "execute_result"
    }
   ],
   "source": [
    "df.isnull().sum()"
   ]
  },
  {
   "cell_type": "markdown",
   "metadata": {
    "id": "Av-lcft2c3mx"
   },
   "source": [
    "### Create a column which contains the Pressure and Property columns, seperated with 'at' (For eg. V at 1, H at 101.325). Using this print the following:\n",
    "- Enthalpy at 75 kPa and 573 K\n",
    "- Entropy at 493 K and 250 kPa\n",
    "\n"
   ]
  },
  {
   "cell_type": "code",
   "execution_count": 11,
   "metadata": {
    "id": "B2AihQj_c32C"
   },
   "outputs": [
    {
     "data": {
      "text/plain": [
       "26    3075.1\n",
       "Name: 300, dtype: float64"
      ]
     },
     "execution_count": 11,
     "metadata": {},
     "output_type": "execute_result"
    }
   ],
   "source": [
    "df[(df['Property']=='H') & (df['Pressure']==75)]['300']\n"
   ]
  },
  {
   "cell_type": "code",
   "execution_count": 10,
   "metadata": {},
   "outputs": [
    {
     "data": {
      "text/plain": [
       "59   NaN\n",
       "Name: 220, dtype: float64"
      ]
     },
     "execution_count": 10,
     "metadata": {},
     "output_type": "execute_result"
    }
   ],
   "source": [
    "df[(df['Property']=='S') & (df['Pressure']==250)]['220']"
   ]
  },
  {
   "cell_type": "markdown",
   "metadata": {
    "id": "GpLtXYRLc4Ho"
   },
   "source": [
    "### Find out the column with the highest number of missing values"
   ]
  },
  {
   "cell_type": "code",
   "execution_count": 24,
   "metadata": {
    "id": "q80Grgeyc4Xn"
   },
   "outputs": [
    {
     "data": {
      "text/plain": [
       "'75'"
      ]
     },
     "execution_count": 24,
     "metadata": {},
     "output_type": "execute_result"
    }
   ],
   "source": [
    "df.columns[df.isnull().sum().argmax()]"
   ]
  },
  {
   "cell_type": "markdown",
   "metadata": {
    "id": "74NVHTTac4nv"
   },
   "source": [
    "### What is the average enthalpy of Sat. Liq. at all different pressures in the dataset?"
   ]
  },
  {
   "cell_type": "code",
   "execution_count": 25,
   "metadata": {
    "id": "g3mByhBDdpVr"
   },
   "outputs": [
    {
     "data": {
      "text/plain": [
       "936.9707720588235"
      ]
     },
     "execution_count": 25,
     "metadata": {},
     "output_type": "execute_result"
    }
   ],
   "source": [
    "df[df['Property']=='H']['Liq_Sat'].mean()"
   ]
  },
  {
   "cell_type": "markdown",
   "metadata": {
    "id": "uS-SuqU8dpxg"
   },
   "source": [
    "### Separate out the V,U,H,S data from the dataset into V_data, U_data, H_data, S_data"
   ]
  },
  {
   "cell_type": "code",
   "execution_count": 28,
   "metadata": {
    "id": "Sg3V9Toyd1Av"
   },
   "outputs": [
    {
     "data": {
      "text/html": [
       "<div>\n",
       "<style scoped>\n",
       "    .dataframe tbody tr th:only-of-type {\n",
       "        vertical-align: middle;\n",
       "    }\n",
       "\n",
       "    .dataframe tbody tr th {\n",
       "        vertical-align: top;\n",
       "    }\n",
       "\n",
       "    .dataframe thead th {\n",
       "        text-align: right;\n",
       "    }\n",
       "</style>\n",
       "<table border=\"1\" class=\"dataframe\">\n",
       "  <thead>\n",
       "    <tr style=\"text-align: right;\">\n",
       "      <th></th>\n",
       "      <th>Pressure</th>\n",
       "      <th>Property</th>\n",
       "      <th>Liq_Sat</th>\n",
       "      <th>Vap_Sat</th>\n",
       "      <th>75</th>\n",
       "      <th>100</th>\n",
       "      <th>125</th>\n",
       "      <th>150</th>\n",
       "      <th>175</th>\n",
       "      <th>200</th>\n",
       "      <th>...</th>\n",
       "      <th>425</th>\n",
       "      <th>450</th>\n",
       "      <th>475</th>\n",
       "      <th>500</th>\n",
       "      <th>525</th>\n",
       "      <th>550</th>\n",
       "      <th>575</th>\n",
       "      <th>600</th>\n",
       "      <th>625</th>\n",
       "      <th>650</th>\n",
       "    </tr>\n",
       "  </thead>\n",
       "  <tbody>\n",
       "    <tr>\n",
       "      <th>3</th>\n",
       "      <td>1.0</td>\n",
       "      <td>S</td>\n",
       "      <td>0.1060</td>\n",
       "      <td>8.9767</td>\n",
       "      <td>9.3828</td>\n",
       "      <td>9.5136</td>\n",
       "      <td>9.6365</td>\n",
       "      <td>9.7527</td>\n",
       "      <td>9.8629</td>\n",
       "      <td>9.9679</td>\n",
       "      <td>...</td>\n",
       "      <td>NaN</td>\n",
       "      <td>10.8200</td>\n",
       "      <td>NaN</td>\n",
       "      <td>10.9612</td>\n",
       "      <td>NaN</td>\n",
       "      <td>11.0957</td>\n",
       "      <td>NaN</td>\n",
       "      <td>11.2243</td>\n",
       "      <td>NaN</td>\n",
       "      <td>11.3476</td>\n",
       "    </tr>\n",
       "    <tr>\n",
       "      <th>7</th>\n",
       "      <td>10.0</td>\n",
       "      <td>S</td>\n",
       "      <td>0.6493</td>\n",
       "      <td>8.1511</td>\n",
       "      <td>8.3168</td>\n",
       "      <td>8.4486</td>\n",
       "      <td>8.5722</td>\n",
       "      <td>8.6888</td>\n",
       "      <td>8.7994</td>\n",
       "      <td>8.9045</td>\n",
       "      <td>...</td>\n",
       "      <td>NaN</td>\n",
       "      <td>9.7572</td>\n",
       "      <td>NaN</td>\n",
       "      <td>9.8984</td>\n",
       "      <td>NaN</td>\n",
       "      <td>10.0329</td>\n",
       "      <td>NaN</td>\n",
       "      <td>10.1616</td>\n",
       "      <td>NaN</td>\n",
       "      <td>10.2849</td>\n",
       "    </tr>\n",
       "    <tr>\n",
       "      <th>11</th>\n",
       "      <td>20.0</td>\n",
       "      <td>S</td>\n",
       "      <td>0.8321</td>\n",
       "      <td>7.9094</td>\n",
       "      <td>7.9933</td>\n",
       "      <td>8.1261</td>\n",
       "      <td>8.2504</td>\n",
       "      <td>8.3676</td>\n",
       "      <td>8.4785</td>\n",
       "      <td>8.5839</td>\n",
       "      <td>...</td>\n",
       "      <td>NaN</td>\n",
       "      <td>9.4372</td>\n",
       "      <td>NaN</td>\n",
       "      <td>9.5784</td>\n",
       "      <td>NaN</td>\n",
       "      <td>9.7130</td>\n",
       "      <td>NaN</td>\n",
       "      <td>9.8416</td>\n",
       "      <td>NaN</td>\n",
       "      <td>9.9650</td>\n",
       "    </tr>\n",
       "    <tr>\n",
       "      <th>15</th>\n",
       "      <td>30.0</td>\n",
       "      <td>S</td>\n",
       "      <td>0.9441</td>\n",
       "      <td>7.7695</td>\n",
       "      <td>7.8024</td>\n",
       "      <td>7.9363</td>\n",
       "      <td>8.0614</td>\n",
       "      <td>8.1791</td>\n",
       "      <td>8.2903</td>\n",
       "      <td>8.3960</td>\n",
       "      <td>...</td>\n",
       "      <td>NaN</td>\n",
       "      <td>9.2499</td>\n",
       "      <td>NaN</td>\n",
       "      <td>9.3912</td>\n",
       "      <td>NaN</td>\n",
       "      <td>9.5257</td>\n",
       "      <td>NaN</td>\n",
       "      <td>9.6544</td>\n",
       "      <td>NaN</td>\n",
       "      <td>9.7778</td>\n",
       "    </tr>\n",
       "    <tr>\n",
       "      <th>19</th>\n",
       "      <td>40.0</td>\n",
       "      <td>S</td>\n",
       "      <td>1.0261</td>\n",
       "      <td>7.6709</td>\n",
       "      <td>NaN</td>\n",
       "      <td>7.8009</td>\n",
       "      <td>7.9268</td>\n",
       "      <td>8.0450</td>\n",
       "      <td>8.1566</td>\n",
       "      <td>8.2624</td>\n",
       "      <td>...</td>\n",
       "      <td>NaN</td>\n",
       "      <td>9.1170</td>\n",
       "      <td>NaN</td>\n",
       "      <td>9.2583</td>\n",
       "      <td>NaN</td>\n",
       "      <td>9.3929</td>\n",
       "      <td>NaN</td>\n",
       "      <td>9.5216</td>\n",
       "      <td>NaN</td>\n",
       "      <td>9.6450</td>\n",
       "    </tr>\n",
       "    <tr>\n",
       "      <th>...</th>\n",
       "      <td>...</td>\n",
       "      <td>...</td>\n",
       "      <td>...</td>\n",
       "      <td>...</td>\n",
       "      <td>...</td>\n",
       "      <td>...</td>\n",
       "      <td>...</td>\n",
       "      <td>...</td>\n",
       "      <td>...</td>\n",
       "      <td>...</td>\n",
       "      <td>...</td>\n",
       "      <td>...</td>\n",
       "      <td>...</td>\n",
       "      <td>...</td>\n",
       "      <td>...</td>\n",
       "      <td>...</td>\n",
       "      <td>...</td>\n",
       "      <td>...</td>\n",
       "      <td>...</td>\n",
       "      <td>...</td>\n",
       "      <td>...</td>\n",
       "    </tr>\n",
       "    <tr>\n",
       "      <th>527</th>\n",
       "      <td>10600.0</td>\n",
       "      <td>S</td>\n",
       "      <td>3.4029</td>\n",
       "      <td>5.5835</td>\n",
       "      <td>NaN</td>\n",
       "      <td>NaN</td>\n",
       "      <td>NaN</td>\n",
       "      <td>NaN</td>\n",
       "      <td>NaN</td>\n",
       "      <td>NaN</td>\n",
       "      <td>...</td>\n",
       "      <td>6.2872</td>\n",
       "      <td>6.3872</td>\n",
       "      <td>6.4793</td>\n",
       "      <td>6.5652</td>\n",
       "      <td>6.6465</td>\n",
       "      <td>6.7239</td>\n",
       "      <td>6.7983</td>\n",
       "      <td>6.8700</td>\n",
       "      <td>6.9394</td>\n",
       "      <td>7.0067</td>\n",
       "    </tr>\n",
       "    <tr>\n",
       "      <th>531</th>\n",
       "      <td>10800.0</td>\n",
       "      <td>S</td>\n",
       "      <td>3.4167</td>\n",
       "      <td>5.5715</td>\n",
       "      <td>NaN</td>\n",
       "      <td>NaN</td>\n",
       "      <td>NaN</td>\n",
       "      <td>NaN</td>\n",
       "      <td>NaN</td>\n",
       "      <td>NaN</td>\n",
       "      <td>...</td>\n",
       "      <td>6.2744</td>\n",
       "      <td>6.3752</td>\n",
       "      <td>6.4678</td>\n",
       "      <td>6.5542</td>\n",
       "      <td>6.6357</td>\n",
       "      <td>6.7134</td>\n",
       "      <td>6.7880</td>\n",
       "      <td>6.8599</td>\n",
       "      <td>6.9294</td>\n",
       "      <td>6.9969</td>\n",
       "    </tr>\n",
       "    <tr>\n",
       "      <th>535</th>\n",
       "      <td>11000.0</td>\n",
       "      <td>S</td>\n",
       "      <td>3.4304</td>\n",
       "      <td>5.5595</td>\n",
       "      <td>NaN</td>\n",
       "      <td>NaN</td>\n",
       "      <td>NaN</td>\n",
       "      <td>NaN</td>\n",
       "      <td>NaN</td>\n",
       "      <td>NaN</td>\n",
       "      <td>...</td>\n",
       "      <td>6.2617</td>\n",
       "      <td>6.3633</td>\n",
       "      <td>6.4564</td>\n",
       "      <td>6.5432</td>\n",
       "      <td>6.6251</td>\n",
       "      <td>6.7031</td>\n",
       "      <td>6.7779</td>\n",
       "      <td>6.8499</td>\n",
       "      <td>6.9196</td>\n",
       "      <td>6.9872</td>\n",
       "    </tr>\n",
       "    <tr>\n",
       "      <th>539</th>\n",
       "      <td>11200.0</td>\n",
       "      <td>S</td>\n",
       "      <td>3.4440</td>\n",
       "      <td>5.5476</td>\n",
       "      <td>NaN</td>\n",
       "      <td>NaN</td>\n",
       "      <td>NaN</td>\n",
       "      <td>NaN</td>\n",
       "      <td>NaN</td>\n",
       "      <td>NaN</td>\n",
       "      <td>...</td>\n",
       "      <td>6.2491</td>\n",
       "      <td>6.3515</td>\n",
       "      <td>6.4452</td>\n",
       "      <td>6.5324</td>\n",
       "      <td>6.6147</td>\n",
       "      <td>6.6929</td>\n",
       "      <td>6.7679</td>\n",
       "      <td>6.8401</td>\n",
       "      <td>6.9099</td>\n",
       "      <td>6.9777</td>\n",
       "    </tr>\n",
       "    <tr>\n",
       "      <th>543</th>\n",
       "      <td>11400.0</td>\n",
       "      <td>S</td>\n",
       "      <td>3.4575</td>\n",
       "      <td>5.5357</td>\n",
       "      <td>NaN</td>\n",
       "      <td>NaN</td>\n",
       "      <td>NaN</td>\n",
       "      <td>NaN</td>\n",
       "      <td>NaN</td>\n",
       "      <td>NaN</td>\n",
       "      <td>...</td>\n",
       "      <td>6.2367</td>\n",
       "      <td>6.3399</td>\n",
       "      <td>6.4341</td>\n",
       "      <td>6.5218</td>\n",
       "      <td>6.6043</td>\n",
       "      <td>6.6828</td>\n",
       "      <td>6.7580</td>\n",
       "      <td>6.8304</td>\n",
       "      <td>6.9004</td>\n",
       "      <td>6.9683</td>\n",
       "    </tr>\n",
       "  </tbody>\n",
       "</table>\n",
       "<p>136 rows × 37 columns</p>\n",
       "</div>"
      ],
      "text/plain": [
       "     Pressure Property  Liq_Sat  Vap_Sat      75     100     125     150  \\\n",
       "3         1.0        S   0.1060   8.9767  9.3828  9.5136  9.6365  9.7527   \n",
       "7        10.0        S   0.6493   8.1511  8.3168  8.4486  8.5722  8.6888   \n",
       "11       20.0        S   0.8321   7.9094  7.9933  8.1261  8.2504  8.3676   \n",
       "15       30.0        S   0.9441   7.7695  7.8024  7.9363  8.0614  8.1791   \n",
       "19       40.0        S   1.0261   7.6709     NaN  7.8009  7.9268  8.0450   \n",
       "..        ...      ...      ...      ...     ...     ...     ...     ...   \n",
       "527   10600.0        S   3.4029   5.5835     NaN     NaN     NaN     NaN   \n",
       "531   10800.0        S   3.4167   5.5715     NaN     NaN     NaN     NaN   \n",
       "535   11000.0        S   3.4304   5.5595     NaN     NaN     NaN     NaN   \n",
       "539   11200.0        S   3.4440   5.5476     NaN     NaN     NaN     NaN   \n",
       "543   11400.0        S   3.4575   5.5357     NaN     NaN     NaN     NaN   \n",
       "\n",
       "        175     200  ...     425      450     475      500     525      550  \\\n",
       "3    9.8629  9.9679  ...     NaN  10.8200     NaN  10.9612     NaN  11.0957   \n",
       "7    8.7994  8.9045  ...     NaN   9.7572     NaN   9.8984     NaN  10.0329   \n",
       "11   8.4785  8.5839  ...     NaN   9.4372     NaN   9.5784     NaN   9.7130   \n",
       "15   8.2903  8.3960  ...     NaN   9.2499     NaN   9.3912     NaN   9.5257   \n",
       "19   8.1566  8.2624  ...     NaN   9.1170     NaN   9.2583     NaN   9.3929   \n",
       "..      ...     ...  ...     ...      ...     ...      ...     ...      ...   \n",
       "527     NaN     NaN  ...  6.2872   6.3872  6.4793   6.5652  6.6465   6.7239   \n",
       "531     NaN     NaN  ...  6.2744   6.3752  6.4678   6.5542  6.6357   6.7134   \n",
       "535     NaN     NaN  ...  6.2617   6.3633  6.4564   6.5432  6.6251   6.7031   \n",
       "539     NaN     NaN  ...  6.2491   6.3515  6.4452   6.5324  6.6147   6.6929   \n",
       "543     NaN     NaN  ...  6.2367   6.3399  6.4341   6.5218  6.6043   6.6828   \n",
       "\n",
       "        575      600     625      650  \n",
       "3       NaN  11.2243     NaN  11.3476  \n",
       "7       NaN  10.1616     NaN  10.2849  \n",
       "11      NaN   9.8416     NaN   9.9650  \n",
       "15      NaN   9.6544     NaN   9.7778  \n",
       "19      NaN   9.5216     NaN   9.6450  \n",
       "..      ...      ...     ...      ...  \n",
       "527  6.7983   6.8700  6.9394   7.0067  \n",
       "531  6.7880   6.8599  6.9294   6.9969  \n",
       "535  6.7779   6.8499  6.9196   6.9872  \n",
       "539  6.7679   6.8401  6.9099   6.9777  \n",
       "543  6.7580   6.8304  6.9004   6.9683  \n",
       "\n",
       "[136 rows x 37 columns]"
      ]
     },
     "execution_count": 28,
     "metadata": {},
     "output_type": "execute_result"
    }
   ],
   "source": [
    "dataset=df\n",
    "V_data=dataset[dataset['Property']=='V']\n",
    "U_data=dataset[dataset['Property']=='U']\n",
    "H_data=dataset[dataset['Property']=='H']\n",
    "S_data=dataset[dataset['Property']=='S']\n",
    "V_data\n",
    "U_data\n",
    "H_data\n",
    "S_data"
   ]
  },
  {
   "cell_type": "markdown",
   "metadata": {
    "id": "Ghkj0-0-d1W7"
   },
   "source": [
    "# Section 3: Plotting with Matplotlib"
   ]
  },
  {
   "cell_type": "markdown",
   "metadata": {
    "id": "ka0qrDcZeAL6"
   },
   "source": [
    "### Plot the properties (specific volume, specific internal energy, specific enthalpy, specific entropy) vs Pressure for saturated liquid.\n",
    "\n",
    "Note:\n",
    "- Try using the subplot feature of matplotlib(Explore it!!)\n",
    "- Provide appropriate title, labels, markersize and other parameters to the plot"
   ]
  },
  {
   "cell_type": "code",
   "execution_count": 29,
   "metadata": {
    "id": "XbKdm-cUePKA"
   },
   "outputs": [
    {
     "data": {
      "image/png": "[encoded data removed]",
      "text/plain": [
       "<Figure size 640x480 with 4 Axes>"
      ]
     },
     "metadata": {},
     "output_type": "display_data"
    }
   ],
   "source": [
    "plt.subplots(nrows=2, ncols=2)\n",
    "plt.subplot(2,2,1)\n",
    "plt.ylabel('Specific volume')\n",
    "plt.xlabel('Pressure')\n",
    "plt.plot(df[df['Property']=='V']['Pressure'],df[df['Property']=='V']['Liq_Sat'],label='Graph 1')\n",
    "plt.subplot(2,2,2)\n",
    "plt.ylabel('Specific internal energy')\n",
    "plt.xlabel('Pressure')\n",
    "plt.plot(df[df['Property']=='U']['Pressure'],df[df['Property']=='U']['Liq_Sat'])\n",
    "plt.subplot(2,2,3)\n",
    "plt.ylabel('Specific Enthalpy')\n",
    "plt.xlabel('Pressure')\n",
    "plt.plot(df[df['Property']=='H']['Pressure'],df[df['Property']=='H']['Liq_Sat'])\n",
    "plt.subplot(2,2,4)\n",
    "plt.ylabel('Specific entropy')\n",
    "plt.xlabel('Pressure')\n",
    "plt.plot(df[df['Property']=='S']['Pressure'],df[df['Property']=='S']['Liq_Sat'])\n",
    "plt.tight_layout()\n",
    "plt.show()"
   ]
  },
  {
   "cell_type": "markdown",
   "metadata": {},
   "source": [
    "### Plot the same for saturated vapor."
   ]
  },
  {
   "cell_type": "code",
   "execution_count": 30,
   "metadata": {},
   "outputs": [
    {
     "data": {
      "image/png": "[encoded data removed]",
      "text/plain": [
       "<Figure size 640x480 with 4 Axes>"
      ]
     },
     "metadata": {},
     "output_type": "display_data"
    }
   ],
   "source": [
    "plt.subplots(nrows=2, ncols=2)\n",
    "plt.subplot(2,2,1)\n",
    "plt.ylabel('Specific volume')\n",
    "plt.xlabel('Pressure')\n",
    "plt.plot(df[df['Property']=='V']['Pressure'],df[df['Property']=='V']['Vap_Sat'],label='Graph 1')\n",
    "plt.subplot(2,2,2)\n",
    "plt.ylabel('Specific internal energy')\n",
    "plt.xlabel('Pressure')\n",
    "plt.plot(df[df['Property']=='U']['Pressure'],df[df['Property']=='U']['Vap_Sat'])\n",
    "plt.subplot(2,2,3)\n",
    "plt.ylabel('Specific Enthalpy')\n",
    "plt.xlabel('Pressure')\n",
    "plt.plot(df[df['Property']=='H']['Pressure'],df[df['Property']=='H']['Vap_Sat'])\n",
    "plt.subplot(2,2,4)\n",
    "plt.ylabel('Specific entropy')\n",
    "plt.xlabel('Pressure')\n",
    "plt.plot(df[df['Property']=='S']['Pressure'],df[df['Property']=='S']['Vap_Sat'])\n",
    "plt.tight_layout()\n",
    "plt.show()"
   ]
  },
  {
   "cell_type": "markdown",
   "metadata": {
    "id": "SCLRji6TeQgh"
   },
   "source": [
    "### Plot the specific volume of saturated liquid between 300 kPa and 1500 kPa"
   ]
  },
  {
   "cell_type": "code",
   "execution_count": 31,
   "metadata": {
    "id": "u6DyyI7MeYgE"
   },
   "outputs": [
    {
     "data": {
      "image/png": "[encoded data removed]",
      "text/plain": [
       "<Figure size 640x480 with 1 Axes>"
      ]
     },
     "metadata": {},
     "output_type": "display_data"
    }
   ],
   "source": [
    "plt.ylabel('Specific volume')\n",
    "plt.xlabel('Pressure')\n",
    "plt.plot(df[(df['Property']=='V') & (df['Pressure']>300) & (df['Pressure']<1500)]['Pressure'], df[(df['Property']=='V') & (df['Pressure']>300) & (df['Pressure']<1500)]['Liq_Sat'])\n",
    "plt.show()"
   ]
  },
  {
   "cell_type": "markdown",
   "metadata": {},
   "source": [
    "# Section 4 : Conclusion"
   ]
  },
  {
   "cell_type": "markdown",
   "metadata": {},
   "source": [
    "*Congratulations on reaching this point! I hope you had fun solving your first assignment and have also built confidence in applying these libraries. If you are wondering, we will cover more about z-score normalization in Week 2, and the sigmoid function will be used in Week 3. After completing this assignment, you are now prepared to learn about machine learning techniques and implement your own machine learning models.*"
   ]
  }
 ],
 "metadata": {
  "colab": {
   "provenance": [],
   "toc_visible": true
  },
  "kernelspec": {
   "display_name": "Python 3 (ipykernel)",
   "language": "python",
   "name": "python3"
  },
  "language_info": {
   "codemirror_mode": {
    "name": "ipython",
    "version": 3
   },
   "file_extension": ".py",
   "mimetype": "text/x-python",
   "name": "python",
   "nbconvert_exporter": "python",
   "pygments_lexer": "ipython3",
   "version": "3.11.7"
  }
 },
 "nbformat": 4,
 "nbformat_minor": 1
}
