{
 "cells": [
  {
   "cell_type": "markdown",
   "metadata": {
    "id": "UOzd0zRXW5Uv"
   },
   "source": [
    "# Week-1 Assignment\n",
    "\n",
    "*Welcome to your first assignment for the SimuTech Winter Project 2022! I hope you are excited to implement and test everything you have learned up until now. There is an interesting set of questions for you to refine your acquired skills as you delve into hands-on coding and deepen your understanding of numpy, pandas, and data visualization libraries.*"
   ]
  },
  {
   "cell_type": "markdown",
   "metadata": {
    "id": "2XFUXyq9Y9TG"
   },
   "source": [
    "# Section 0 : Importing Libraries"
   ]
  },
  {
   "cell_type": "markdown",
   "metadata": {
    "id": "D_bzcLusjSO0"
   },
   "source": [
    "*Let's begin by importing numpy, pandas and matplotlib.*"
   ]
  },
  {
   "cell_type": "code",
   "execution_count": 1,
   "metadata": {
    "id": "jdwX7bI7aGeY"
   },
   "outputs": [],
   "source": [
    "#your code here\n",
    "import pandas as pd\n",
    "import numpy as np\n",
    "from matplotlib import pyplot as plt\n"
   ]
  },
  {
   "cell_type": "markdown",
   "metadata": {
    "id": "LM25mz5ta-Q_"
   },
   "source": [
    "# Section 1 : Playing with Python and Numpy"
   ]
  },
  {
   "cell_type": "markdown",
   "metadata": {
    "id": "TcFQVqhAdQw_"
   },
   "source": [
    "### Q1. Matrix Multiplication"
   ]
  },
  {
   "cell_type": "markdown",
   "metadata": {
    "id": "6Dcai9pys0j8"
   },
   "source": [
    "##### (i) Check if matrix multiplication is valid"
   ]
  },
  {
   "cell_type": "code",
   "execution_count": null,
   "metadata": {
    "id": "0qC4txIss3gG"
   },
   "outputs": [],
   "source": [
    "def isValid(A,B):\n",
    "  #your code here\n",
    "  if np.shape(A)[1]==np.shape(B)[0]:\n",
    "        return 1\n",
    "  else:\n",
    "        return 0"
   ]
  },
  {
   "cell_type": "markdown",
   "metadata": {
    "id": "OPTfRGlTdXxa"
   },
   "source": [
    "##### (ii) Using loops (without using numpy)"
   ]
  },
  {
   "cell_type": "code",
   "execution_count": null,
   "metadata": {
    "id": "V8F5ETsRct3S"
   },
   "outputs": [],
   "source": [
    "def matrix_multiply(A,B):\n",
    "  #your code \n",
    "  r1=np.shape(A)[0]\n",
    "  c1=np.shape(A)[1]\n",
    "  r2=np.shape(B)[0]\n",
    "  c2=np.shape(B)[1]\n",
    "\n",
    "  #Creating a list with all values set to 0\n",
    "  result = [[0 for x in range(c2)] for y in range(r1)]\n",
    "\n",
    "  #Using loops\n",
    "  for i in range(r1):\n",
    "        for j in range(c2):\n",
    "            for k in range(c1):\n",
    "                result[i][j] = result[i][j]+ A[i][k] * B[k][j]\n",
    "\n",
    "  return result"
   ]
  },
  {
   "cell_type": "markdown",
   "metadata": {
    "id": "umUgUTSWdos8"
   },
   "source": [
    "##### (iii) Using numpy"
   ]
  },
  {
   "cell_type": "code",
   "execution_count": null,
   "metadata": {
    "id": "-tdXlCHrduBP"
   },
   "outputs": [],
   "source": [
    "def matrix_multiply_2(A,B):\n",
    "  #your code here\n",
    "    return A@B"
   ]
  },
  {
   "cell_type": "markdown",
   "metadata": {
    "id": "2nMFnl84edJG"
   },
   "source": [
    "##### (iv) Testing your code\n",
    "\n",
    "Run the following cell to check if your functions are working properly.\n",
    "\n",
    "*Expected output:*\n",
    "[ [102 108 114]\n",
    " [246 261 276]\n",
    " [390 414 438]\n",
    " [534 567 600] ]"
   ]
  },
  {
   "cell_type": "code",
   "execution_count": null,
   "metadata": {
    "id": "09rX_Cm9ezmq"
   },
   "outputs": [],
   "source": [
    "A = np.array([\n",
    "    [1, 2, 3],\n",
    "    [4, 5, 6],\n",
    "    [7, 8, 9],\n",
    "    [10, 11, 12]\n",
    "])\n",
    "\n",
    "B = np.array([\n",
    "    [13, 14, 15],\n",
    "    [16, 17, 18],\n",
    "    [19, 20, 21]\n",
    "])\n",
    "\n",
    "\n",
    "if isValid(A,B):\n",
    "  print(f\"Result using loops: {matrix_multiply(A,B)}\")\n",
    "  print(f\"Result using numpy: {matrix_multiply_2(A,B)}\")\n",
    "else:\n",
    "  print(f\"Matrix multiplication is not valid\")"
   ]
  },
  {
   "cell_type": "markdown",
   "metadata": {
    "id": "5hfP7Ao1fwqV"
   },
   "source": [
    "### Q2. Z-Score Normalisation"
   ]
  },
  {
   "cell_type": "markdown",
   "metadata": {
    "id": "0e81Xx5Kw_CQ"
   },
   "source": [
    "Z-score normalization refers to the process of normalizing every value in a dataset such that the mean of all of the values is 0 and the standard deviation is 1.\n",
    "\n",
    "We use the following formula to perform a z-score normalization on every value in a dataset:\n",
    "\n",
    "New value = (x – μ) / σ\n",
    "\n",
    "where:\n",
    "\n",
    "x: Original value\n",
    "\n",
    "μ: Mean of data\n",
    "\n",
    "σ: Standard deviation of data"
   ]
  },
  {
   "cell_type": "markdown",
   "metadata": {
    "id": "GP_MuyUbguSR"
   },
   "source": [
    "##### (i) Without using numpy"
   ]
  },
  {
   "cell_type": "code",
   "execution_count": 2,
   "metadata": {
    "id": "0vix8qaaghwP"
   },
   "outputs": [],
   "source": [
    "def mean(x):\n",
    "  #your code here\n",
    "    sum=0\n",
    "    for i in x:\n",
    "        sum=sum+i\n",
    "    den=len(x)\n",
    "    return (sum/den)"
   ]
  },
  {
   "cell_type": "code",
   "execution_count": 3,
   "metadata": {
    "id": "j1qabel-g_f5"
   },
   "outputs": [],
   "source": [
    "def standard_deviation(x): \n",
    "  #your code here\n",
    "  sum=0\n",
    "  for i in x:\n",
    "    sum=sum+((i-mean(x))**2)\n",
    "\n",
    "  variance = sum / len(x)\n",
    "  \n",
    "  SD=variance**0.5\n",
    "  \n",
    "  return SD"
   ]
  },
  {
   "cell_type": "code",
   "execution_count": null,
   "metadata": {
    "id": "797ewbNqhEpY"
   },
   "outputs": [],
   "source": [
    "def zscore_normalisation(x):\n",
    "  #your code here\n",
    "   \n",
    "    normalized_data = [(i - mean(x)) / standard_deviation(x) for i in x]\n",
    "    return normalized_data\n",
    "        \n",
    "    "
   ]
  },
  {
   "cell_type": "markdown",
   "metadata": {
    "id": "k8dq1wqRhbUB"
   },
   "source": [
    "##### (ii) Using numpy\n",
    "\n",
    "Numpy has in_built functions for calculating mean and standard deviation"
   ]
  },
  {
   "cell_type": "code",
   "execution_count": null,
   "metadata": {
    "id": "WjxJTUDihsYg"
   },
   "outputs": [],
   "source": [
    "def zscore_normalisation_2(x):\n",
    "    #your code here\n",
    "    mean1=np.mean(x)\n",
    "    std1=np.std(x)\n",
    "\n",
    "    normalized_data2 = [(i - mean1) / std1 for i in x]\n",
    "    \n",
    "    return normalized_data2\n",
    "  "
   ]
  },
  {
   "cell_type": "markdown",
   "metadata": {
    "id": "glRqKU-_1pue"
   },
   "source": [
    "##### (iii) Testing your code"
   ]
  },
  {
   "cell_type": "markdown",
   "metadata": {
    "id": "Kl7XBymOigCU"
   },
   "source": [
    "Run the following cell to check if your functions are working properly.\n",
    "\n",
    "*Expected Output:* [-1.06753267 -0.99745394 -0.99745394 -0.81057732 -0.41346451 -0.06307086\n",
    "  0.31068237  0.91803138  1.22170588  1.89913361]"
   ]
  },
  {
   "cell_type": "code",
   "execution_count": null,
   "metadata": {
    "id": "78ptZxf6ipZp"
   },
   "outputs": [],
   "source": [
    "x = [4, 7, 7, 15, 32, 47, 63, 89, 102, 131]\n",
    "print(f\"Result without using numpy: {zscore_normalisation(x)}\")\n",
    "print(f\"Result using numpy: {zscore_normalisation_2(x)}\")"
   ]
  },
  {
   "cell_type": "markdown",
   "metadata": {
    "id": "0WVscJ0z14rp"
   },
   "source": [
    "### Q3. Sigmoid fn and its derivative"
   ]
  },
  {
   "cell_type": "markdown",
   "metadata": {
    "id": "8SCAPkjO2m7u"
   },
   "source": [
    "##### (i) Write a fn to implement sigmoid fn"
   ]
  },
  {
   "cell_type": "code",
   "execution_count": 4,
   "metadata": {
    "id": "jL_TRQFG2l5m"
   },
   "outputs": [],
   "source": [
    "def sigmoidfn(x):\n",
    "  #your code here\n",
    "  e=2.718281828459045\n",
    "  return 1/(1+(e**(-x)))"
   ]
  },
  {
   "cell_type": "markdown",
   "metadata": {
    "id": "Jfntb0Rg94Tu"
   },
   "source": [
    "The sigmoid function is a mathematical function that maps any input value to a value between 0 and 1.\n",
    "\n",
    "It is defined mathematically as s(x) = 1/(1+e^(-x))."
   ]
  },
  {
   "cell_type": "markdown",
   "metadata": {
    "id": "t7KBbl7N3AUM"
   },
   "source": [
    "##### (ii) Write a fn to implement derivative of sigmoid fn"
   ]
  },
  {
   "cell_type": "code",
   "execution_count": 5,
   "metadata": {
    "id": "okjuOpba3KOJ"
   },
   "outputs": [],
   "source": [
    "def derivative(x):\n",
    "  #your code here\n",
    "  e=2.718281828459045\n",
    "  num=(e**(-x))\n",
    "  den=(1+(e**(-x)))**2\n",
    "  return num/den\n"
   ]
  },
  {
   "cell_type": "markdown",
   "metadata": {
    "id": "NdGTSpsp3mwr"
   },
   "source": [
    "##### (iii) Test your code"
   ]
  },
  {
   "cell_type": "markdown",
   "metadata": {
    "id": "lWY8RBex7gnd"
   },
   "source": [
    "Run the following cell to check if your functions are working properly.\n",
    "\n",
    "*Expected output:*\n",
    "\n",
    "x on applying sigmoid activation fn is: [ [0.99987661 0.88079708 0.99330715 0.5        0.5       ]\n",
    " [0.99908895 0.99330715 0.5        0.5        0.5       ] ]\n",
    "\n",
    "x on applying derivative of sigmoid activation fn is: [ [-1.23379350e-04 -1.04993585e-01 -6.64805667e-03 -2.50000000e-01\n",
    "  -2.50000000e-01]\n",
    " [-9.10221180e-04 -6.64805667e-03 -2.50000000e-01 -2.50000000e-01\n",
    "  -2.50000000e-01] ]"
   ]
  },
  {
   "cell_type": "code",
   "execution_count": 6,
   "metadata": {
    "id": "ssDGpmS33vdA"
   },
   "outputs": [
    {
     "name": "stdout",
     "output_type": "stream",
     "text": [
      "x on applying sigmoid activation fn is: [[0.99987661 0.88079708 0.99330715 0.5        0.5       ]\n",
      " [0.99908895 0.99330715 0.5        0.5        0.5       ]]\n",
      "x on applying derivative of sigmoid activation fn is: [[-1.23379350e-04 -1.04993585e-01 -6.64805667e-03 -2.50000000e-01\n",
      "  -2.50000000e-01]\n",
      " [-9.10221180e-04 -6.64805667e-03 -2.50000000e-01 -2.50000000e-01\n",
      "  -2.50000000e-01]]\n"
     ]
    }
   ],
   "source": [
    "x = np.array([\n",
    "    [9,2,5,0,0],\n",
    "    [7,5,0,0,0]\n",
    "])\n",
    "print(f\"x on applying sigmoid activation fn is: {sigmoidfn(x)}\")\n",
    "print(f\"x on applying derivative of sigmoid activation fn is: {derivative(x)}\")"
   ]
  },
  {
   "cell_type": "markdown",
   "metadata": {
    "id": "PMa0cseyZpa1"
   },
   "source": [
    "# Section 2: Exploring Pandas"
   ]
  },
  {
   "cell_type": "markdown",
   "metadata": {},
   "source": [
    "*You have been provided with a dataset which includes information about properties of superheated vapor.*\n",
    "\n",
    "*The dataset consists of the thermophysical properties: specific volume, specific internal energy, specific enthalpy, specific entropy of superheated vapor.*\n",
    "\n",
    "*Pressure is in kPa and Temperature in centigrade. In the dataframe 75, 100, 125, etc. are temperatures.*"
   ]
  },
  {
   "cell_type": "markdown",
   "metadata": {
    "id": "i5Okb_jxZ_VW"
   },
   "source": [
    "### Read the csv file\n"
   ]
  },
  {
   "cell_type": "code",
   "execution_count": null,
   "metadata": {
    "id": "aQgvyavrcM1l"
   },
   "outputs": [],
   "source": [
    "#your code here\n",
    "x=pd.read_csv(\"superheated_vapor_properties.csv\")\n",
    "df=pd.DataFrame(x)\n",
    "df.head()\n"
   ]
  },
  {
   "cell_type": "markdown",
   "metadata": {
    "id": "Zp8F3rk2cNxy"
   },
   "source": [
    "### Display the shape of data frame\n"
   ]
  },
  {
   "cell_type": "code",
   "execution_count": null,
   "metadata": {
    "id": "v3Q8kQkucgK0"
   },
   "outputs": [],
   "source": [
    "#your code here\n",
    "Shape=df.shape\n",
    "print(\"Shape of Dataframe is:\",Shape)\n",
    "\n",
    "\n"
   ]
  },
  {
   "cell_type": "markdown",
   "metadata": {
    "id": "w49cp-8zcgd2"
   },
   "source": [
    "### Return an array containing names of all the columns"
   ]
  },
  {
   "cell_type": "code",
   "execution_count": null,
   "metadata": {
    "id": "fz4HRb3JcsZp"
   },
   "outputs": [],
   "source": [
    "#your code here\n",
    "Col_name=df.columns\n",
    "array=Col_name.to_numpy()\n",
    "print(\"Given is the array of column names:\\n\",array)\n",
    "type(array)"
   ]
  },
  {
   "cell_type": "markdown",
   "metadata": {
    "id": "YkTH9tRWcrH-"
   },
   "source": [
    "### Display the number of null values in each column of the dataframe\n",
    "\n"
   ]
  },
  {
   "cell_type": "code",
   "execution_count": null,
   "metadata": {
    "id": "GK9-PJPxc3Ot"
   },
   "outputs": [],
   "source": [
    "#your code here\n",
    "df.isnull().sum(axis=0)\n",
    " "
   ]
  },
  {
   "cell_type": "markdown",
   "metadata": {
    "id": "Av-lcft2c3mx"
   },
   "source": [
    "### Create a column which contains the Pressure and Property columns, seperated with 'at' (For eg. V at 1, H at 101.325). Using this print the following:\n",
    "- Enthalpy at 75 kPa and 573 K\n",
    "- Entropy at 493 K and 250 kPa\n",
    "\n"
   ]
  },
  {
   "cell_type": "code",
   "execution_count": null,
   "metadata": {
    "id": "B2AihQj_c32C"
   },
   "outputs": [],
   "source": [
    "#your code here\n",
    "\n",
    "#I am using string concatenation here and hence converting columns into 'str' type\n",
    "df['Combined'] = df['Property'].astype(str) + ' at ' + df['Pressure'].astype(str)\n",
    "\n",
    "#Considering the given temperatures are in degree celsius \n",
    "\n",
    "row1=df.loc[(df[\"Combined\"]==\"V at 75.0\")].index #Using the Combined column\n",
    "col1=df.columns.get_loc(\"300\")\n",
    "print(\"Enthalpy at 75 kPa and 573 K is: \",df.iloc[row1,col1].values)\n",
    "\n",
    "row2=df.loc[(df[\"Combined\"]==\"S at 250.0\")].index #Using the Combined column\n",
    "col2=df.columns.get_loc(\"220\")\n",
    "print(\"Entropy at 493K and 250 kPa is: \",df.iloc[row2,col2].values)\n",
    "\n",
    "#The column 220Deg celsius is not present therefore Nan value\n"
   ]
  },
  {
   "cell_type": "markdown",
   "metadata": {
    "id": "GpLtXYRLc4Ho"
   },
   "source": [
    "### Find out the column with the highest number of missing values"
   ]
  },
  {
   "cell_type": "code",
   "execution_count": null,
   "metadata": {
    "id": "q80Grgeyc4Xn"
   },
   "outputs": [],
   "source": [
    "#your code here\n",
    "print(\"The column at the top has the maximum null values: \\n\")\n",
    "df.isnull().sum().sort_values(ascending=False)\n"
   ]
  },
  {
   "cell_type": "markdown",
   "metadata": {
    "id": "74NVHTTac4nv"
   },
   "source": [
    "### What is the average enthalpy of Sat. Liq. at all different pressures in the dataset?"
   ]
  },
  {
   "cell_type": "code",
   "execution_count": null,
   "metadata": {
    "id": "g3mByhBDdpVr"
   },
   "outputs": [],
   "source": [
    "#your code here\n",
    "grouped = df.groupby(df.Property)\n",
    "H_data = grouped.get_group(\"H\")\n",
    "print(\"The average enthalp of Sat. Liq. at all different pressures is: \")\n",
    "H_data[\"Liq_Sat\"].mean()\n",
    "\n",
    "\n"
   ]
  },
  {
   "cell_type": "markdown",
   "metadata": {
    "id": "uS-SuqU8dpxg"
   },
   "source": [
    "### Separate out the V,U,H,S data from the dataset into V_data, U_data, H_data, S_data\n"
   ]
  },
  {
   "cell_type": "code",
   "execution_count": null,
   "metadata": {
    "id": "Sg3V9Toyd1Av"
   },
   "outputs": [],
   "source": [
    "#your code here\n",
    "grouped = df.groupby(df.Property)\n",
    "V_data = grouped.get_group(\"V\")\n",
    "print (\"V_data is: \\n\",V_data)\n",
    "\n",
    "grouped = df.groupby(df.Property)\n",
    "U_data = grouped.get_group(\"U\")\n",
    "print (\"U_data is: \\n\",U_data)\n",
    "\n",
    "grouped = df.groupby(df.Property)\n",
    "H_data = grouped.get_group(\"H\")\n",
    "print (\"H_data is: \\n\",H_data)\n",
    "\n",
    "grouped = df.groupby(df.Property)\n",
    "S_data = grouped.get_group(\"S\")\n",
    "print (\"S_data is: \\n\",S_data)"
   ]
  },
  {
   "cell_type": "markdown",
   "metadata": {
    "id": "Ghkj0-0-d1W7"
   },
   "source": [
    "# Section 3: Plotting with Matplotlib"
   ]
  },
  {
   "cell_type": "markdown",
   "metadata": {
    "id": "ka0qrDcZeAL6"
   },
   "source": [
    "### Plot the properties (specific volume, specific internal energy, specific enthalpy, specific entropy) vs Pressure for saturated liquid.\n",
    "\n",
    "Note:\n",
    "- Try using the subplot feature of matplotlib(Explore it!!)\n",
    "- Provide appropriate title, labels, markersize and other parameters to the plot"
   ]
  },
  {
   "cell_type": "code",
   "execution_count": null,
   "metadata": {
    "id": "XbKdm-cUePKA"
   },
   "outputs": [],
   "source": [
    "#your code here\n",
    "\n",
    "fig, axes = plt.subplots(2, 2)\n",
    "fig.suptitle(\"V,U,H,S v/s P graph for Sat_Liq \")\n",
    "fig.supxlabel('Pressure')\n",
    "fig.supylabel('Properties')\n",
    "axes[0, 0].plot(V_data[\"Pressure\"],V_data[\"Liq_Sat\"],color='r',marker='*') \n",
    "axes[0, 0].set_title(\"V v/s P\")\n",
    "\n",
    "axes[0, 1].plot(U_data[\"Pressure\"],U_data[\"Liq_Sat\"], marker='>' ) \n",
    "axes[0, 1].set_title(\"U v/s P\")\n",
    "\n",
    "axes[1, 0].plot(H_data[\"Pressure\"],H_data[\"Liq_Sat\"],color='y')\n",
    "axes[1, 0].set_title(\"H v/s P\")\n",
    "\n",
    "axes[1, 1].plot(S_data[\"Pressure\"],S_data[\"Liq_Sat\"], color='g')\n",
    "axes[1, 1].set_title(\"S v/s P\")\n",
    "\n",
    "\n",
    "\n",
    "\n",
    "\n",
    "\n",
    "#V_data[\"Liq_Sat\"].isnull().sum() \n",
    "\n",
    "#No Null Values in Pressure,Liq_Sat and Vap_Sat therefore we plot directly\n",
    "\n"
   ]
  },
  {
   "cell_type": "markdown",
   "metadata": {},
   "source": [
    "### Plot the same for saturated vapor."
   ]
  },
  {
   "cell_type": "code",
   "execution_count": null,
   "metadata": {},
   "outputs": [],
   "source": [
    "#your code here\n",
    "\n",
    "\n",
    "fig, axes = plt.subplots(2, 2)\n",
    "\n",
    "fig.suptitle(\"V,U,H,S v/s P graph for Sat_Vap \")\n",
    "fig.supxlabel('Pressure')\n",
    "fig.supylabel('Properties')\n",
    "\n",
    "axes[0, 0].plot(V_data[\"Pressure\"],V_data[\"Vap_Sat\"],color='r',marker='*') \n",
    "axes[0, 0].set_title(\"V v/s P\")\n",
    "\n",
    "axes[0, 1].plot(U_data[\"Pressure\"],U_data[\"Vap_Sat\"], marker='>' ) \n",
    "axes[0, 1].set_title(\"U v/s P\")\n",
    "\n",
    "axes[1, 0].plot(H_data[\"Pressure\"],H_data[\"Vap_Sat\"],color='y')\n",
    "axes[1, 0].set_title(\"H v/s P\")\n",
    "\n",
    "axes[1, 1].plot(S_data[\"Pressure\"],S_data[\"Vap_Sat\"], color='g')\n",
    "axes[1, 1].set_title(\"S v/s P\")\n",
    "\n",
    "\n",
    "\n",
    "\n",
    "\n",
    "\n",
    "\n"
   ]
  },
  {
   "cell_type": "markdown",
   "metadata": {
    "id": "SCLRji6TeQgh"
   },
   "source": [
    "### Plot the specific volume of saturated liquid between 300 kPa and 1500 kPa"
   ]
  },
  {
   "cell_type": "code",
   "execution_count": null,
   "metadata": {
    "id": "u6DyyI7MeYgE"
   },
   "outputs": [],
   "source": [
    "#your code here\n",
    "\n",
    "vplot=V_data.loc[(V_data['Pressure'] > 300) & (V_data['Pressure'] < 1500)]\n",
    "plt.plot(vplot[\"Pressure\"],vplot[\"Liq_Sat\"],color='m',marker='+')\n",
    "plt.xlabel(\"Pressure (in kPa)\",color='r')\n",
    "plt.ylabel(\"Specific Volume\",color='r')\n",
    "plt.title(\"Specific Volume v/s Pressure graph\")\n"
   ]
  },
  {
   "cell_type": "markdown",
   "metadata": {},
   "source": [
    "# Section 4 : Conclusion"
   ]
  },
  {
   "cell_type": "markdown",
   "metadata": {},
   "source": [
    "*Congratulations on reaching this point! I hope you had fun solving your first assignment and have also built confidence in applying these libraries. If you are wondering, we will cover more about z-score normalization in Week 2, and the sigmoid function will be used in Week 3. After completing this assignment, you are now prepared to learn about machine learning techniques and implement your own machine learning models.*"
   ]
  }
 ],
 "metadata": {
  "colab": {
   "provenance": [],
   "toc_visible": true
  },
  "kernelspec": {
   "display_name": "Python 3 (ipykernel)",
   "language": "python",
   "name": "python3"
  },
  "language_info": {
   "codemirror_mode": {
    "name": "ipython",
    "version": 3
   },
   "file_extension": ".py",
   "mimetype": "text/x-python",
   "name": "python",
   "nbconvert_exporter": "python",
   "pygments_lexer": "ipython3",
   "version": "3.12.1"
  }
 },
 "nbformat": 4,
 "nbformat_minor": 1
}
