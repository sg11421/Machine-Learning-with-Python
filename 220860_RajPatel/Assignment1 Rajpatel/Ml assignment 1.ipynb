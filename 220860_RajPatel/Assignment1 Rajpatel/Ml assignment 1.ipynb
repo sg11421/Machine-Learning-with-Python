{
 "cells": [
  {
   "cell_type": "code",
   "execution_count": 1,
   "id": "7eb1f08d",
   "metadata": {},
   "outputs": [],
   "source": [
    "import numpy as np\n",
    "import pandas as pd\n",
    "import matplotlib "
   ]
  },
  {
   "cell_type": "code",
   "execution_count": 2,
   "id": "42d38c36",
   "metadata": {},
   "outputs": [],
   "source": [
    "A = np.array([[1,2],[3,4]])\n",
    "\n",
    "B = np.array([[5,6],[7,8]])\n",
    "\n",
    "def isValid(A,B):\n",
    "    if len(A[0]) != len(B):\n",
    "        return 0\n",
    "    else:\n",
    "        return 1"
   ]
  },
  {
   "cell_type": "code",
   "execution_count": 4,
   "id": "cfa8fa70",
   "metadata": {},
   "outputs": [
    {
     "ename": "IndentationError",
     "evalue": "expected an indented block after 'for' statement on line 10 (1577405667.py, line 11)",
     "output_type": "error",
     "traceback": [
      "\u001b[1;36m  Cell \u001b[1;32mIn[4], line 11\u001b[1;36m\u001b[0m\n\u001b[1;33m    result[i][j] += A[i][k] * B[k][j]\u001b[0m\n\u001b[1;37m    ^\u001b[0m\n\u001b[1;31mIndentationError\u001b[0m\u001b[1;31m:\u001b[0m expected an indented block after 'for' statement on line 10\n"
     ]
    }
   ],
   "source": [
    "A = np.array([[1,2],[3,4]])\n",
    "\n",
    "B = np.array([[5,6],[7,8]])\n",
    "\n",
    "def matrix_multiply(A,B):\n",
    "    result = [[0 for j in range(len(B[0]))] for i in range(len(A))]\n",
    "    for i in range(len(A)):\n",
    "        \n",
    "        for j in range(len(B[0])):\n",
    "            for k in range(len(B)):\n",
    "            result[i][j] += A[i][k] * B[k][j]\n",
    "       \n",
    "       \n",
    "            \n",
    "    for r in result:\n",
    "        print(r)\n",
    "   \n",
    "\n",
    "     \n"
   ]
  },
  {
   "cell_type": "code",
   "execution_count": 5,
   "id": "3e230980",
   "metadata": {},
   "outputs": [],
   "source": [
    "def matrix_multiply(A,B):\n",
    "    result = [[0 for j in range(len(B[0]))] for i in range(len(A))]\n",
    "    \n",
    "    result = np.dot(A,B)\n",
    "    \n",
    "    for r in result:\n",
    "        print(r)"
   ]
  },
  {
   "cell_type": "code",
   "execution_count": 6,
   "id": "8d68bce7",
   "metadata": {},
   "outputs": [],
   "source": [
    "# question 2\n",
    "# Z- square normalization"
   ]
  },
  {
   "cell_type": "code",
   "execution_count": 7,
   "id": "7be986ed",
   "metadata": {},
   "outputs": [],
   "source": [
    "def mean(x):\n",
    "    \n",
    "    sum = 0\n",
    "    num = len(x)\n",
    "    for i in x:\n",
    "        sum = sum + i\n",
    "        \n",
    "    mean_x = sum/num\n",
    "    return(mean_x)\n",
    "        \n"
   ]
  },
  {
   "cell_type": "code",
   "execution_count": 8,
   "id": "3669ba49",
   "metadata": {},
   "outputs": [],
   "source": [
    "import statistics\n",
    "def standard_deviation(x):\n",
    "    print(statistics.stdev(x))"
   ]
  },
  {
   "cell_type": "code",
   "execution_count": 9,
   "id": "c229eb1d",
   "metadata": {},
   "outputs": [],
   "source": [
    "def normalization_score(x):\n",
    "    mean = mean(x)\n",
    "    sta = standard_deviation(x)\n",
    "    \n",
    "    ans = (x-mean)/sta\n",
    "    return ans\n",
    "    "
   ]
  },
  {
   "cell_type": "code",
   "execution_count": 10,
   "id": "ed22f8f1",
   "metadata": {},
   "outputs": [],
   "source": [
    "def normalization_score2(x):\n",
    "    data  = np.array(x)\n",
    "    normalizedData = data/np.sqrt(np.sum(data**2)) \n",
    "    \n",
    "    return normalizedData"
   ]
  },
  {
   "cell_type": "code",
   "execution_count": 11,
   "id": "7ced811f",
   "metadata": {},
   "outputs": [],
   "source": [
    "# Question 3\n"
   ]
  },
  {
   "cell_type": "code",
   "execution_count": 12,
   "id": "3acef9d6",
   "metadata": {},
   "outputs": [],
   "source": [
    "def sigmoidfn(x):\n",
    "    return 1/(1 + np.exp(-x))"
   ]
  },
  {
   "cell_type": "code",
   "execution_count": 13,
   "id": "ad310cd9",
   "metadata": {},
   "outputs": [],
   "source": [
    "def derivative(x):\n",
    "    return sigmoidfn(x) * (1 - sigmoidfn(x))"
   ]
  },
  {
   "cell_type": "code",
   "execution_count": 14,
   "id": "2bbb1e79",
   "metadata": {},
   "outputs": [
    {
     "name": "stdout",
     "output_type": "stream",
     "text": [
      "x on applying sigmoid activation fn is: [[0.99987661 0.88079708 0.99330715 0.5        0.5       ]\n",
      " [0.99908895 0.99330715 0.5        0.5        0.5       ]]\n",
      "x on applying derivative of sigmoid activation fn is: [[1.23379350e-04 1.04993585e-01 6.64805667e-03 2.50000000e-01\n",
      "  2.50000000e-01]\n",
      " [9.10221180e-04 6.64805667e-03 2.50000000e-01 2.50000000e-01\n",
      "  2.50000000e-01]]\n"
     ]
    }
   ],
   "source": [
    "x = np.array([\n",
    "    [9,2,5,0,0],\n",
    "    [7,5,0,0,0]\n",
    "])\n",
    "print(f\"x on applying sigmoid activation fn is: {sigmoidfn(x)}\")\n",
    "print(f\"x on applying derivative of sigmoid activation fn is: {derivative(x)}\")"
   ]
  },
  {
   "cell_type": "code",
   "execution_count": 15,
   "id": "e216596b",
   "metadata": {},
   "outputs": [],
   "source": [
    "# section 2"
   ]
  },
  {
   "cell_type": "code",
   "execution_count": null,
   "id": "b115d90f",
   "metadata": {},
   "outputs": [],
   "source": [
    "df = np.read_csv(\"superheated_vapor_properties.csv\")\n"
   ]
  },
  {
   "cell_type": "code",
   "execution_count": null,
   "id": "e2a2bb3a",
   "metadata": {},
   "outputs": [],
   "source": [
    "df.shape"
   ]
  },
  {
   "cell_type": "code",
   "execution_count": null,
   "id": "c2886a08",
   "metadata": {},
   "outputs": [],
   "source": [
    "list(df.columns.values)\n"
   ]
  },
  {
   "cell_type": "code",
   "execution_count": null,
   "id": "1cb72992",
   "metadata": {},
   "outputs": [],
   "source": [
    "print(df.loc[:,:].isnull().sum())"
   ]
  },
  {
   "cell_type": "code",
   "execution_count": null,
   "id": "c95e8262",
   "metadata": {},
   "outputs": [],
   "source": [
    "df.isnull().sum().sort_values(ascending = false)"
   ]
  },
  {
   "cell_type": "code",
   "execution_count": null,
   "id": "9d60e793",
   "metadata": {},
   "outputs": [],
   "source": [
    "df[['Liq_sat']].mean(axis = 1)"
   ]
  },
  {
   "cell_type": "code",
   "execution_count": 16,
   "id": "471d71ba",
   "metadata": {},
   "outputs": [],
   "source": [
    "# section 3"
   ]
  },
  {
   "cell_type": "code",
   "execution_count": 19,
   "id": "10075f4b",
   "metadata": {},
   "outputs": [],
   "source": [
    "%matplotlib inline\n",
    "from matplotlib import pyplot as plt\n"
   ]
  },
  {
   "cell_type": "code",
   "execution_count": null,
   "id": "61724174",
   "metadata": {},
   "outputs": [],
   "source": [
    "plt.title(\"Variation of pressure of saturated liquid\")\n",
    "plt.ylabel(\"Pressure of saturated liquid\")\n",
    "plt.xlabel(\"properties\")\n",
    "plt.show()"
   ]
  },
  {
   "cell_type": "code",
   "execution_count": null,
   "id": "bb753a5c",
   "metadata": {},
   "outputs": [],
   "source": [
    "plt.title(\"Variation of pressure of saturated vapor\")\n",
    "plt.ylabel(\"Pressure of saturated vapor\")\n",
    "plt.xlabel(\"properties\")\n",
    "plt.show()"
   ]
  }
 ],
 "metadata": {
  "kernelspec": {
   "display_name": "Python 3 (ipykernel)",
   "language": "python",
   "name": "python3"
  },
  "language_info": {
   "codemirror_mode": {
    "name": "ipython",
    "version": 3
   },
   "file_extension": ".py",
   "mimetype": "text/x-python",
   "name": "python",
   "nbconvert_exporter": "python",
   "pygments_lexer": "ipython3",
   "version": "3.11.3"
  }
 },
 "nbformat": 4,
 "nbformat_minor": 5
}
