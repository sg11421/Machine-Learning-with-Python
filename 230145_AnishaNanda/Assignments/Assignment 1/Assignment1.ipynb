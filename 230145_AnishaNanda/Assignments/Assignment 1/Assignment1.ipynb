{
 "cells": [
  {
   "cell_type": "markdown",
   "metadata": {
    "id": "UOzd0zRXW5Uv"
   },
   "source": [
    "# Week-1 Assignment\n",
    "\n",
    "*Welcome to your first assignment for the SimuTech Winter Project 2022! I hope you are excited to implement and test everything you have learned up until now. There is an interesting set of questions for you to refine your acquired skills as you delve into hands-on coding and deepen your understanding of numpy, pandas, and data visualization libraries.*"
   ]
  },
  {
   "cell_type": "markdown",
   "metadata": {
    "id": "2XFUXyq9Y9TG"
   },
   "source": [
    "# Section 0 : Importing Libraries"
   ]
  },
  {
   "cell_type": "markdown",
   "metadata": {
    "id": "D_bzcLusjSO0"
   },
   "source": [
    "*Let's begin by importing numpy, pandas and matplotlib.*"
   ]
  },
  {
   "cell_type": "code",
   "execution_count": null,
   "metadata": {
    "id": "jdwX7bI7aGeY"
   },
   "outputs": [],
   "source": [
    "#your code here\n",
    "import numpy as np\n",
    "import pandas as pd\n",
    "from matplotlib import pyplot \n",
    "import math"
   ]
  },
  {
   "cell_type": "markdown",
   "metadata": {
    "id": "LM25mz5ta-Q_"
   },
   "source": [
    "# Section 1 : Playing with Python and Numpy"
   ]
  },
  {
   "cell_type": "markdown",
   "metadata": {
    "id": "TcFQVqhAdQw_"
   },
   "source": [
    "### Q1. Matrix Multiplication"
   ]
  },
  {
   "cell_type": "markdown",
   "metadata": {
    "id": "6Dcai9pys0j8"
   },
   "source": [
    "##### (i) Check if matrix multiplication is valid"
   ]
  },
  {
   "cell_type": "code",
   "execution_count": null,
   "metadata": {
    "id": "0qC4txIss3gG"
   },
   "outputs": [],
   "source": [
    "def isValid(A,B):\n",
    "  #your code here\n",
    "  if len(A[0]) == len(B):\n",
    "     return True\n",
    "  else:\n",
    "     return False\n"
   ]
  },
  {
   "cell_type": "markdown",
   "metadata": {
    "id": "OPTfRGlTdXxa"
   },
   "source": [
    "##### (ii) Using loops (without using numpy)"
   ]
  },
  {
   "cell_type": "code",
   "execution_count": null,
   "metadata": {
    "id": "V8F5ETsRct3S"
   },
   "outputs": [],
   "source": [
    "def matrix_multiply(A,B):\n",
    "    #your code here\n",
    "    a = []\n",
    "    for x in A:\n",
    "        a.append(list(x))\n",
    "    b = []\n",
    "    for y in B:\n",
    "        b.append(list(y))\n",
    "    prod = []\n",
    "    for i in range(len(a)):\n",
    "        prod.append([])\n",
    "        for j in range(len(b[0])):\n",
    "            s=0\n",
    "            for k in range(len(a[0])):\n",
    "                s+=a[i][k]*b[k][j]\n",
    "            prod[i]+=[s,]\n",
    "    return np.array(prod)"
   ]
  },
  {
   "cell_type": "markdown",
   "metadata": {
    "id": "umUgUTSWdos8"
   },
   "source": [
    "##### (iii) Using numpy"
   ]
  },
  {
   "cell_type": "code",
   "execution_count": null,
   "metadata": {
    "id": "-tdXlCHrduBP"
   },
   "outputs": [],
   "source": [
    "def matrix_multiply_2(A,B):\n",
    "  #your code here\n",
    "  np.matmul(A,B)"
   ]
  },
  {
   "cell_type": "markdown",
   "metadata": {
    "id": "2nMFnl84edJG"
   },
   "source": [
    "##### (iv) Testing your code\n",
    "\n",
    "Run the following cell to check if your functions are working properly.\n",
    "\n",
    "*Expected output:*\n",
    "[ [102 108 114]\n",
    " [246 261 276]\n",
    " [390 414 438]\n",
    " [534 567 600] ]"
   ]
  },
  {
   "cell_type": "code",
   "execution_count": null,
   "metadata": {
    "id": "09rX_Cm9ezmq"
   },
   "outputs": [],
   "source": [
    "A = np.array([\n",
    "    [1, 2, 3],\n",
    "    [4, 5, 6],\n",
    "    [7, 8, 9],\n",
    "    [10, 11, 12]\n",
    "])\n",
    "\n",
    "B = np.array([\n",
    "    [13, 14, 15],\n",
    "    [16, 17, 18],\n",
    "    [19, 20, 21]\n",
    "])\n",
    "\n",
    "if isValid(A,B):\n",
    "  print(f\"Result using loops: {matrix_multiply(A,B)}\")\n",
    "  print(f\"Result using numpy: {matrix_multiply_2(A,B)}\")\n",
    "else:\n",
    "  print(f\"Matrix multiplication is not valid\")"
   ]
  },
  {
   "cell_type": "markdown",
   "metadata": {
    "id": "5hfP7Ao1fwqV"
   },
   "source": [
    "### Q2. Z-Score Normalisation"
   ]
  },
  {
   "cell_type": "markdown",
   "metadata": {
    "id": "0e81Xx5Kw_CQ"
   },
   "source": [
    "Z-score normalization refers to the process of normalizing every value in a dataset such that the mean of all of the values is 0 and the standard deviation is 1.\n",
    "\n",
    "We use the following formula to perform a z-score normalization on every value in a dataset:\n",
    "\n",
    "New value = (x – μ) / σ\n",
    "\n",
    "where:\n",
    "\n",
    "x: Original value\n",
    "\n",
    "μ: Mean of data\n",
    "\n",
    "σ: Standard deviation of data"
   ]
  },
  {
   "cell_type": "markdown",
   "metadata": {
    "id": "GP_MuyUbguSR"
   },
   "source": [
    "##### (i) Without using numpy"
   ]
  },
  {
   "cell_type": "code",
   "execution_count": null,
   "metadata": {
    "id": "0vix8qaaghwP"
   },
   "outputs": [],
   "source": [
    "def mean(x):\n",
    "    #your code here\n",
    "    # a,b is the size of the matrix\n",
    "    s = 0\n",
    "    if type(x[0]) != list:\n",
    "        a,b = 1, len(x)\n",
    "        s = sum(x)\n",
    "    else:\n",
    "        a,b = len(x[0]), len(x)\n",
    "        for i in range(b):\n",
    "            for k in x[i] :\n",
    "                s+=k\n",
    "    return s/(a*b)"
   ]
  },
  {
   "cell_type": "code",
   "execution_count": null,
   "metadata": {
    "id": "j1qabel-g_f5"
   },
   "outputs": [],
   "source": [
    "def standard_deviation(x):\n",
    "    #your code here\n",
    "    #root of avg of sum of squares of deviation\n",
    "    ss = 0\n",
    "    x_ = mean(x)\n",
    "    if type(x[0]) != list:\n",
    "        a,b = 1, len(x)\n",
    "        for i in range(b):\n",
    "            ss += (x_ - x[i])**2\n",
    "    else:\n",
    "        a,b = len(x[0]), len(x)\n",
    "        for i in range(b):\n",
    "            for k in x[i] :\n",
    "                ss +=(x_ - k)**2\n",
    "    return (ss/(a*b))**(1/2)\n"
   ]
  },
  {
   "cell_type": "code",
   "execution_count": null,
   "metadata": {
    "id": "797ewbNqhEpY"
   },
   "outputs": [],
   "source": [
    "def zscore_normalisation(x):\n",
    "    #your code here\n",
    "    # (x-mean)/std\n",
    "    x_ = mean(x)\n",
    "    xstd = standard_deviation(x)\n",
    "    if type(x[0]) != list:\n",
    "        a,b = 1, len(x)\n",
    "        y=[]\n",
    "        for i in range(b):\n",
    "            y.append(0)\n",
    "        for i in range(b):\n",
    "            try:\n",
    "                y[i] = (x[i] - x_)/xstd\n",
    "            except(ZeroDivisionError):\n",
    "                y[i]=0\n",
    "    else:\n",
    "        a,b = len(x[0]), len(x)\n",
    "        y=[]\n",
    "        dummy = []\n",
    "        for i in range(a):\n",
    "            dummy.append(0)\n",
    "        for _ in range(b):\n",
    "            y.append(list(dummy))\n",
    "        for i in range(b):\n",
    "            for j in range(len(x[i])):\n",
    "                y[i][j] =(x[i][j] - x_)/xstd\n",
    "    return y\n"
   ]
  },
  {
   "cell_type": "markdown",
   "metadata": {
    "id": "k8dq1wqRhbUB"
   },
   "source": [
    "##### (ii) Using numpy\n",
    "\n",
    "Numpy has in_built functions for calculating mean and standard deviation"
   ]
  },
  {
   "cell_type": "code",
   "execution_count": null,
   "metadata": {
    "id": "WjxJTUDihsYg"
   },
   "outputs": [],
   "source": [
    "def zscore_normalisation_2(x):\n",
    "    #your code here\n",
    "    x = np.array(x)\n",
    "    x = (x - x.mean())/x.std()\n",
    "    a = []\n",
    "    try: \n",
    "        for k in list(x):\n",
    "            a.append(list(k))\n",
    "    except(TypeError):\n",
    "        a = list(x)\n",
    "    return a\n",
    "    "
   ]
  },
  {
   "cell_type": "markdown",
   "metadata": {
    "id": "glRqKU-_1pue"
   },
   "source": [
    "##### (iii) Testing your code"
   ]
  },
  {
   "cell_type": "markdown",
   "metadata": {
    "id": "Kl7XBymOigCU"
   },
   "source": [
    "Run the following cell to check if your functions are working properly.\n",
    "\n",
    "*Expected Output:* [-1.06753267 -0.99745394 -0.99745394 -0.81057732 -0.41346451 -0.06307086\n",
    "  0.31068237  0.91803138  1.22170588  1.89913361]"
   ]
  },
  {
   "cell_type": "code",
   "execution_count": null,
   "metadata": {
    "id": "78ptZxf6ipZp"
   },
   "outputs": [],
   "source": [
    "x = [4, 7, 7, 15, 32, 47, 63, 89, 102, 131]\n",
    "print(f\"Result without using numpy: {zscore_normalisation(x)}\")\n",
    "print(f\"Result using numpy: {zscore_normalisation_2(x)}\")"
   ]
  },
  {
   "cell_type": "markdown",
   "metadata": {
    "id": "0WVscJ0z14rp"
   },
   "source": [
    "### Q3. Sigmoid fn and its derivative"
   ]
  },
  {
   "cell_type": "markdown",
   "metadata": {
    "id": "Jfntb0Rg94Tu"
   },
   "source": [
    "The sigmoid function is a mathematical function that maps any input value to a value between 0 and 1.\n",
    "\n",
    "It is defined mathematically as s(x) = 1/(1+e^(-x))."
   ]
  },
  {
   "cell_type": "markdown",
   "metadata": {
    "id": "8SCAPkjO2m7u"
   },
   "source": [
    "##### (i) Write a fn to implement sigmoid fn"
   ]
  },
  {
   "cell_type": "code",
   "execution_count": null,
   "metadata": {
    "id": "jL_TRQFG2l5m"
   },
   "outputs": [],
   "source": [
    "def sigmoidfn(x):\n",
    "  #your code here\n",
    "    g = 1/(1+ math.exp(-x))\n",
    "    return g\n"
   ]
  },
  {
   "cell_type": "markdown",
   "metadata": {
    "id": "t7KBbl7N3AUM"
   },
   "source": [
    "##### (ii) Write a fn to implement derivative of sigmoid fn"
   ]
  },
  {
   "cell_type": "code",
   "execution_count": null,
   "metadata": {
    "id": "okjuOpba3KOJ"
   },
   "outputs": [],
   "source": [
    "def derivative(x):\n",
    "  #your code here\n",
    "    g_ = math.exp(-x)/(1+ math.exp(-x))**2\n",
    "    return g_"
   ]
  },
  {
   "cell_type": "markdown",
   "metadata": {
    "id": "NdGTSpsp3mwr"
   },
   "source": [
    "##### (iii) Test your code"
   ]
  },
  {
   "cell_type": "markdown",
   "metadata": {
    "id": "lWY8RBex7gnd"
   },
   "source": [
    "Run the following cell to check if your functions are working properly.\n",
    "\n",
    "*Expected output:*\n",
    "\n",
    "x on applying sigmoid activation fn is: [ [0.99987661 0.88079708 0.99330715 0.5        0.5       ]\n",
    " [0.99908895 0.99330715 0.5        0.5        0.5       ] ]\n",
    "\n",
    "x on applying derivative of sigmoid activation fn is: [ [-1.23379350e-04 -1.04993585e-01 -6.64805667e-03 -2.50000000e-01\n",
    "  -2.50000000e-01]\n",
    " [-9.10221180e-04 -6.64805667e-03 -2.50000000e-01 -2.50000000e-01\n",
    "  -2.50000000e-01] ]"
   ]
  },
  {
   "cell_type": "code",
   "execution_count": null,
   "metadata": {
    "id": "ssDGpmS33vdA"
   },
   "outputs": [],
   "source": [
    "x = np.array([\n",
    "    [9,2,5,0,0],\n",
    "    [7,5,0,0,0]\n",
    "])\n",
    "print(f\"x on applying sigmoid activation fn is: {sigmoidfn(x)}\")\n",
    "print(f\"x on applying derivative of sigmoid activation fn is: {derivative(x)}\")"
   ]
  },
  {
   "cell_type": "markdown",
   "metadata": {
    "id": "PMa0cseyZpa1"
   },
   "source": [
    "# Section 2: Exploring Pandas"
   ]
  },
  {
   "cell_type": "markdown",
   "metadata": {},
   "source": [
    "*You have been provided with a dataset which includes information about properties of superheated vapor.*\n",
    "\n",
    "*The dataset consists of the thermophysical properties: specific volume, specific internal energy, specific enthalpy, specific entropy of superheated vapor.*\n",
    "\n",
    "*Pressure is in kPa and Temperature in centigrade. In the dataframe 75, 100, 125, etc. are temperatures.*"
   ]
  },
  {
   "cell_type": "markdown",
   "metadata": {
    "id": "i5Okb_jxZ_VW"
   },
   "source": [
    "### Read the csv file\n"
   ]
  },
  {
   "cell_type": "code",
   "execution_count": null,
   "metadata": {
    "id": "aQgvyavrcM1l"
   },
   "outputs": [],
   "source": [
    "#your code here\n",
    "svp = pd.read_csv(\"superheated_vapor_properties.csv\")"
   ]
  },
  {
   "cell_type": "markdown",
   "metadata": {
    "id": "Zp8F3rk2cNxy"
   },
   "source": [
    "### Display the shape of data frame\n"
   ]
  },
  {
   "cell_type": "code",
   "execution_count": null,
   "metadata": {
    "id": "v3Q8kQkucgK0"
   },
   "outputs": [],
   "source": [
    "#your code here\n",
    "print(svp.shape)"
   ]
  },
  {
   "cell_type": "markdown",
   "metadata": {
    "id": "w49cp-8zcgd2"
   },
   "source": [
    "### Return an array containing names of all the columns"
   ]
  },
  {
   "cell_type": "code",
   "execution_count": null,
   "metadata": {
    "id": "fz4HRb3JcsZp"
   },
   "outputs": [],
   "source": [
    "#your code here\n",
    "print(svp.columns)"
   ]
  },
  {
   "cell_type": "markdown",
   "metadata": {
    "id": "YkTH9tRWcrH-"
   },
   "source": [
    "### Display the number of null values in each column of the dataframe\n",
    "\n"
   ]
  },
  {
   "cell_type": "code",
   "execution_count": null,
   "metadata": {
    "id": "GK9-PJPxc3Ot"
   },
   "outputs": [],
   "source": [
    "#your code here\n",
    "mv = svp.isnull().sum()\n",
    "print(mv)"
   ]
  },
  {
   "cell_type": "markdown",
   "metadata": {
    "id": "Av-lcft2c3mx"
   },
   "source": [
    "### Create a column which contains the Pressure and Property columns, seperated with 'at' (For eg. V at 1, H at 101.325). Using this print the following:\n",
    "- Enthalpy at 75 kPa and 573 K\n",
    "- Entropy at 493 K and 250 kPa\n",
    "\n"
   ]
  },
  {
   "cell_type": "code",
   "execution_count": null,
   "metadata": {
    "id": "B2AihQj_c32C"
   },
   "outputs": [],
   "source": [
    "#your code here\n",
    "svp[\"Property at Pressure\"] = svp['Property'] + ' at ' + ((svp['Pressure'])).astype(int).astype(str) \n",
    "enthalpy = svp.loc[svp[\"Property at Pressure\"]=='H at 75']['300']\n",
    "print(enthalpy.values[0])\n",
    "entropy = svp.loc[svp[\"Pressure\"]==250]['220']\n",
    "print(entropy.values[0])"
   ]
  },
  {
   "cell_type": "markdown",
   "metadata": {
    "id": "GpLtXYRLc4Ho"
   },
   "source": [
    "### Find out the column with the highest number of missing values"
   ]
  },
  {
   "cell_type": "code",
   "execution_count": null,
   "metadata": {
    "id": "q80Grgeyc4Xn"
   },
   "outputs": [],
   "source": [
    "#your code here\n",
    "\n",
    "m = mv.max()\n",
    "c = dict(mv.eq(m))\n",
    "col = ''\n",
    "for a in c:\n",
    "  if c[a]:\n",
    "    col = a\n",
    "print(col)"
   ]
  },
  {
   "cell_type": "markdown",
   "metadata": {
    "id": "74NVHTTac4nv"
   },
   "source": [
    "### What is the average enthalpy of Sat. Liq. at all different pressures in the dataset?"
   ]
  },
  {
   "cell_type": "code",
   "execution_count": null,
   "metadata": {
    "id": "g3mByhBDdpVr"
   },
   "outputs": [],
   "source": [
    "#your code here\n",
    "avg_enthalpy = svp.loc[svp[\"Property\"]=='H'][\"Liq_Sat\"].mean()\n",
    "print(avg_enthalpy)"
   ]
  },
  {
   "cell_type": "markdown",
   "metadata": {
    "id": "uS-SuqU8dpxg"
   },
   "source": [
    "### Separate out the V,U,H,S data from the dataset into V_data, U_data, H_data, S_data"
   ]
  },
  {
   "cell_type": "code",
   "execution_count": null,
   "metadata": {
    "id": "Sg3V9Toyd1Av"
   },
   "outputs": [],
   "source": [
    "#your code here\n",
    "Vdat = svp.loc[svp[\"Property\"]=='V']\n",
    "Vdat.to_csv(\"V_data\")\n",
    "Udat = svp.loc[svp[\"Property\"]=='U']\n",
    "Udat.to_csv(\"U_data\")\n",
    "Hdat = svp.loc[svp[\"Property\"]=='H']\n",
    "Hdat.to_csv(\"H_data\")\n",
    "Sdat = svp.loc[svp[\"Property\"]=='S']\n",
    "Sdat.to_csv(\"S_data\")"
   ]
  },
  {
   "cell_type": "markdown",
   "metadata": {
    "id": "Ghkj0-0-d1W7"
   },
   "source": [
    "# Section 3: Plotting with Matplotlib"
   ]
  },
  {
   "cell_type": "markdown",
   "metadata": {
    "id": "ka0qrDcZeAL6"
   },
   "source": [
    "### Plot the properties (specific volume, specific internal energy, specific enthalpy, specific entropy) vs Pressure for saturated liquid.\n",
    "\n",
    "Note:\n",
    "- Try using the subplot feature of matplotlib(Explore it!!)\n",
    "- Provide appropriate title, labels, markersize and other parameters to the plot"
   ]
  },
  {
   "cell_type": "code",
   "execution_count": null,
   "metadata": {
    "id": "XbKdm-cUePKA"
   },
   "outputs": [],
   "source": [
    "#your code here\n",
    "plt.subplot(1, 4, 1)\n",
    "plt.scatter(Vdat[\"Pressure\"], Vdat[\"Liq_Sat\"],s=5)\n",
    "plt.xlabel(\"Pressure\")\n",
    "plt.ylabel(\"Specific Volume\")\n",
    "plt.subplot(1, 4, 2)\n",
    "plt.scatter(Udat[\"Pressure\"], Udat[\"Liq_Sat\"],s=5)\n",
    "plt.xlabel(\"Pressure\")\n",
    "plt.ylabel(\"Specific Energy\")\n",
    "plt.subplot(1, 4, 3)\n",
    "plt.scatter(Hdat[\"Pressure\"], Hdat[\"Liq_Sat\"],s=5)\n",
    "plt.xlabel(\"Pressure\")\n",
    "plt.ylabel(\"Specific Enthalpy\")\n",
    "plt.subplot(1, 4, 4)\n",
    "plt.scatter(Sdat[\"Pressure\"], Sdat[\"Liq_Sat\"],s=5)\n",
    "plt.xlabel(\"Pressure\")\n",
    "plt.ylabel(\"Specific Entropy\")\n",
    "plt.suptitle(\"Pressure v/s Property\")\n",
    "plt.tight_layout()\n",
    "plt.show()"
   ]
  },
  {
   "cell_type": "markdown",
   "metadata": {},
   "source": [
    "### Plot the same for saturated vapor."
   ]
  },
  {
   "cell_type": "code",
   "execution_count": null,
   "metadata": {},
   "outputs": [],
   "source": [
    "#your code here\n",
    "plt.subplot(1, 4, 1)\n",
    "plt.scatter(Vdat[\"Pressure\"], Vdat[\"Vap_Sat\"],s=5)\n",
    "plt.xlabel(\"Pressure\")\n",
    "plt.ylabel(\"Specific Volume\")\n",
    "plt.subplot(1, 4, 2)\n",
    "plt.scatter(Udat[\"Pressure\"], Udat[\"Vap_Sat\"],s=5)\n",
    "plt.xlabel(\"Pressure\")\n",
    "plt.ylabel(\"Specific Energy\")\n",
    "plt.subplot(1, 4, 3)\n",
    "plt.scatter(Hdat[\"Pressure\"], Hdat[\"Vap_Sat\"],s=5)\n",
    "plt.xlabel(\"Pressure\")\n",
    "plt.ylabel(\"Specific Enthalpy\")\n",
    "plt.subplot(1, 4, 4)\n",
    "plt.scatter(Sdat[\"Pressure\"], Sdat[\"Vap_Sat\"],s=5)\n",
    "plt.xlabel(\"Pressure\")\n",
    "plt.ylabel(\"Specific Entropy\")\n",
    "plt.suptitle(\"Pressure v/s Property\")\n",
    "plt.tight_layout()\n",
    "plt.show()"
   ]
  },
  {
   "cell_type": "markdown",
   "metadata": {
    "id": "SCLRji6TeQgh"
   },
   "source": [
    "### Plot the specific volume of saturated liquid between 300 kPa and 1500 kPa"
   ]
  },
  {
   "cell_type": "code",
   "execution_count": null,
   "metadata": {
    "id": "u6DyyI7MeYgE"
   },
   "outputs": [],
   "source": [
    "#your code here\n",
    "plt.scatter(((Vdat[\"Pressure\"]>=300) & (Vdat[\"Pressure\"]<=1500)), Vdat[\"Liq_Sat\"],s=5)\n",
    "plt.title(\"Pressure v/s Specific Volume of a Saturated Liquid\")\n",
    "plt.xlabel(\"Pressure\")\n",
    "plt.ylabel(\"Specific Volume\")\n",
    "plt.show()"
   ]
  },
  {
   "cell_type": "markdown",
   "metadata": {},
   "source": [
    "# Section 4 : Conclusion"
   ]
  },
  {
   "cell_type": "markdown",
   "metadata": {},
   "source": [
    "*Congratulations on reaching this point! I hope you had fun solving your first assignment and have also built confidence in applying these libraries. If you are wondering, we will cover more about z-score normalization in Week 2, and the sigmoid function will be used in Week 3. After completing this assignment, you are now prepared to learn about machine learning techniques and implement your own machine learning models.*"
   ]
  }
 ],
 "metadata": {
  "colab": {
   "provenance": [],
   "toc_visible": true
  },
  "kernelspec": {
   "display_name": "Python 3 (ipykernel)",
   "language": "python",
   "name": "python3"
  },
  "language_info": {
   "codemirror_mode": {
    "name": "ipython",
    "version": 3
   },
   "file_extension": ".py",
   "mimetype": "text/x-python",
   "name": "python",
   "nbconvert_exporter": "python",
   "pygments_lexer": "ipython3",
   "version": "3.10.5"
  }
 },
 "nbformat": 4,
 "nbformat_minor": 1
}
