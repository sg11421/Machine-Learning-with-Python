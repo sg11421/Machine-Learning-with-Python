{
 "cells": [
  {
   "cell_type": "markdown",
   "metadata": {
    "id": "UOzd0zRXW5Uv"
   },
   "source": [
    "# Week-1 Assignment\n",
    "\n",
    "*Welcome to your first assignment for the SimuTech Winter Project 2022! I hope you are excited to implement and test everything you have learned up until now. There is an interesting set of questions for you to refine your acquired skills as you delve into hands-on coding and deepen your understanding of numpy, pandas, and data visualization libraries.*"
   ]
  },
  {
   "cell_type": "markdown",
   "metadata": {
    "id": "2XFUXyq9Y9TG"
   },
   "source": [
    "# Section 0 : Importing Libraries"
   ]
  },
  {
   "cell_type": "markdown",
   "metadata": {
    "id": "D_bzcLusjSO0"
   },
   "source": [
    "*Let's begin by importing numpy, pandas and matplotlib.*"
   ]
  },
  {
   "cell_type": "code",
   "execution_count": 1,
   "metadata": {
    "id": "jdwX7bI7aGeY"
   },
   "outputs": [],
   "source": [
    "import numpy as np"
   ]
  },
  {
   "cell_type": "code",
   "execution_count": 2,
   "metadata": {},
   "outputs": [],
   "source": [
    "import pandas as pd"
   ]
  },
  {
   "cell_type": "code",
   "execution_count": 3,
   "metadata": {},
   "outputs": [],
   "source": [
    "import matplotlib"
   ]
  },
  {
   "cell_type": "markdown",
   "metadata": {
    "id": "LM25mz5ta-Q_"
   },
   "source": [
    "# Section 1 : Playing with Python and Numpy"
   ]
  },
  {
   "cell_type": "markdown",
   "metadata": {
    "id": "TcFQVqhAdQw_"
   },
   "source": [
    "### Q1. Matrix Multiplication"
   ]
  },
  {
   "cell_type": "markdown",
   "metadata": {
    "id": "6Dcai9pys0j8"
   },
   "source": [
    "##### (i) Check if matrix multiplication is valid"
   ]
  },
  {
   "cell_type": "code",
   "execution_count": 4,
   "metadata": {
    "id": "0qC4txIss3gG"
   },
   "outputs": [],
   "source": [
    "def isValid(A,B):\n",
    "    return len(A[0])==len(B)"
   ]
  },
  {
   "cell_type": "markdown",
   "metadata": {
    "id": "OPTfRGlTdXxa"
   },
   "source": [
    "##### (ii) Using loops (without using numpy)"
   ]
  },
  {
   "cell_type": "code",
   "execution_count": 5,
   "metadata": {
    "id": "V8F5ETsRct3S"
   },
   "outputs": [],
   "source": [
    "def matrix_multiply(A,B):\n",
    "    ans = [[0 for i in range(len(B[0]))] for i in range(len(A))]\n",
    "    for i in range(len(A)):\n",
    "        for j in range(len(B[0])):\n",
    "            for k in range(len(B)):\n",
    "                ans[i][j] += A[i][k] * B[k][j]\n",
    "    return ans            \n"
   ]
  },
  {
   "cell_type": "markdown",
   "metadata": {
    "id": "umUgUTSWdos8"
   },
   "source": [
    "##### (iii) Using numpy"
   ]
  },
  {
   "cell_type": "code",
   "execution_count": 6,
   "metadata": {
    "id": "-tdXlCHrduBP"
   },
   "outputs": [],
   "source": [
    "def matrix_multiply_2(A,B):\n",
    "    ans = np.dot(A,B)\n",
    "    return ans.tolist()"
   ]
  },
  {
   "cell_type": "markdown",
   "metadata": {
    "id": "2nMFnl84edJG"
   },
   "source": [
    "##### (iv) Testing your code\n",
    "\n",
    "Run the following cell to check if your functions are working properly.\n",
    "\n",
    "*Expected output:*\n",
    "[ [102 108 114]\n",
    " [246 261 276]\n",
    " [390 414 438]\n",
    " [534 567 600] ]"
   ]
  },
  {
   "cell_type": "code",
   "execution_count": 7,
   "metadata": {
    "id": "09rX_Cm9ezmq"
   },
   "outputs": [
    {
     "name": "stdout",
     "output_type": "stream",
     "text": [
      "Result using loops: [[102, 108, 114], [246, 261, 276], [390, 414, 438], [534, 567, 600]]\n",
      "Result using numpy: [[102, 108, 114], [246, 261, 276], [390, 414, 438], [534, 567, 600]]\n"
     ]
    }
   ],
   "source": [
    "A = np.array([\n",
    "    [1, 2, 3],\n",
    "    [4, 5, 6],\n",
    "    [7, 8, 9],\n",
    "    [10, 11, 12]\n",
    "])\n",
    "\n",
    "B = np.array([\n",
    "    [13, 14, 15],\n",
    "    [16, 17, 18],\n",
    "    [19, 20, 21]\n",
    "])\n",
    "\n",
    "if isValid(A,B):\n",
    "  print(f\"Result using loops: {matrix_multiply(A,B)}\")\n",
    "  print(f\"Result using numpy: {matrix_multiply_2(A,B)}\")\n",
    "else:\n",
    "  print(f\"Matrix multiplication is not valid\")"
   ]
  },
  {
   "cell_type": "markdown",
   "metadata": {
    "id": "5hfP7Ao1fwqV"
   },
   "source": [
    "### Q2. Z-Score Normalisation"
   ]
  },
  {
   "cell_type": "markdown",
   "metadata": {
    "id": "0e81Xx5Kw_CQ"
   },
   "source": [
    "Z-score normalization refers to the process of normalizing every value in a dataset such that the mean of all of the values is 0 and the standard deviation is 1.\n",
    "\n",
    "We use the following formula to perform a z-score normalization on every value in a dataset:\n",
    "\n",
    "New value = (x – μ) / σ\n",
    "\n",
    "where:\n",
    "\n",
    "x: Original value\n",
    "\n",
    "μ: Mean of data\n",
    "\n",
    "σ: Standard deviation of data"
   ]
  },
  {
   "cell_type": "markdown",
   "metadata": {
    "id": "GP_MuyUbguSR"
   },
   "source": [
    "##### (i) Without using numpy"
   ]
  },
  {
   "cell_type": "code",
   "execution_count": 8,
   "metadata": {
    "id": "0vix8qaaghwP"
   },
   "outputs": [],
   "source": [
    "def mean(x):\n",
    "    return sum(x)/len(x)"
   ]
  },
  {
   "cell_type": "code",
   "execution_count": 9,
   "metadata": {
    "id": "j1qabel-g_f5"
   },
   "outputs": [],
   "source": [
    "def standard_deviation(x):\n",
    "    sq_diff = [(i - mean(x))**2 for i in x]\n",
    "    var = sum(sq_diff) / len(x)\n",
    "    std_dev = var ** 0.5\n",
    "    return std_dev"
   ]
  },
  {
   "cell_type": "code",
   "execution_count": 10,
   "metadata": {
    "id": "797ewbNqhEpY"
   },
   "outputs": [],
   "source": [
    "def zscore_normalisation(x):\n",
    "    z_scores = [(i - mean(x))/standard_deviation(x) for i in x]\n",
    "    return z_scores"
   ]
  },
  {
   "cell_type": "markdown",
   "metadata": {
    "id": "k8dq1wqRhbUB"
   },
   "source": [
    "##### (ii) Using numpy\n",
    "\n",
    "Numpy has in_built functions for calculating mean and standard deviation"
   ]
  },
  {
   "cell_type": "code",
   "execution_count": 11,
   "metadata": {
    "id": "WjxJTUDihsYg"
   },
   "outputs": [],
   "source": [
    "def zscore_normalisation_2(x):\n",
    "    z_scores = (x - np.mean(x))/np.std(x)\n",
    "    return z_scores"
   ]
  },
  {
   "cell_type": "markdown",
   "metadata": {
    "id": "glRqKU-_1pue"
   },
   "source": [
    "##### (iii) Testing your code"
   ]
  },
  {
   "cell_type": "markdown",
   "metadata": {
    "id": "Kl7XBymOigCU"
   },
   "source": [
    "Run the following cell to check if your functions are working properly.\n",
    "\n",
    "*Expected Output:* [-1.06753267 -0.99745394 -0.99745394 -0.81057732 -0.41346451 -0.06307086\n",
    "  0.31068237  0.91803138  1.22170588  1.89913361]"
   ]
  },
  {
   "cell_type": "code",
   "execution_count": 12,
   "metadata": {
    "id": "78ptZxf6ipZp"
   },
   "outputs": [
    {
     "name": "stdout",
     "output_type": "stream",
     "text": [
      "Result without using numpy: [-1.0675326683028088, -0.9974539373420117, -0.9974539373420117, -0.8105773214465528, -0.41346451266870277, -0.06307085786471743, 0.3106823739262003, 0.9180313755864415, 1.2217058764165623, 1.8991336090376005]\n",
      "Result using numpy: [-1.06753267 -0.99745394 -0.99745394 -0.81057732 -0.41346451 -0.06307086\n",
      "  0.31068237  0.91803138  1.22170588  1.89913361]\n"
     ]
    }
   ],
   "source": [
    "x = [4, 7, 7, 15, 32, 47, 63, 89, 102, 131]\n",
    "print(f\"Result without using numpy: {zscore_normalisation(x)}\")\n",
    "print(f\"Result using numpy: {zscore_normalisation_2(x)}\")"
   ]
  },
  {
   "cell_type": "markdown",
   "metadata": {
    "id": "0WVscJ0z14rp"
   },
   "source": [
    "### Q3. Sigmoid fn and its derivative"
   ]
  },
  {
   "cell_type": "markdown",
   "metadata": {
    "id": "Jfntb0Rg94Tu"
   },
   "source": [
    "The sigmoid function is a mathematical function that maps any input value to a value between 0 and 1.\n",
    "\n",
    "It is defined mathematically as s(x) = 1/(1+e^(-x))."
   ]
  },
  {
   "cell_type": "markdown",
   "metadata": {
    "id": "8SCAPkjO2m7u"
   },
   "source": [
    "##### (i) Write a fn to implement sigmoid fn"
   ]
  },
  {
   "cell_type": "code",
   "execution_count": 13,
   "metadata": {
    "id": "jL_TRQFG2l5m"
   },
   "outputs": [],
   "source": [
    "def sigmoidfn(x):\n",
    "    return 1/(1 + np.exp(-x))"
   ]
  },
  {
   "cell_type": "markdown",
   "metadata": {
    "id": "t7KBbl7N3AUM"
   },
   "source": [
    "##### (ii) Write a fn to implement derivative of sigmoid fn"
   ]
  },
  {
   "cell_type": "code",
   "execution_count": 14,
   "metadata": {
    "id": "okjuOpba3KOJ"
   },
   "outputs": [],
   "source": [
    "def derivative(x):\n",
    "    return np.exp(x)/((np.exp(x)+1)**2)"
   ]
  },
  {
   "cell_type": "markdown",
   "metadata": {
    "id": "NdGTSpsp3mwr"
   },
   "source": [
    "##### (iii) Test your code"
   ]
  },
  {
   "cell_type": "markdown",
   "metadata": {
    "id": "lWY8RBex7gnd"
   },
   "source": [
    "Run the following cell to check if your functions are working properly.\n",
    "\n",
    "*Expected output:*\n",
    "\n",
    "x on applying sigmoid activation fn is: [ [0.99987661 0.88079708 0.99330715 0.5        0.5       ]\n",
    " [0.99908895 0.99330715 0.5        0.5        0.5       ] ]\n",
    "\n",
    "x on applying derivative of sigmoid activation fn is: [ [-1.23379350e-04 -1.04993585e-01 -6.64805667e-03 -2.50000000e-01\n",
    "  -2.50000000e-01]\n",
    " [-9.10221180e-04 -6.64805667e-03 -2.50000000e-01 -2.50000000e-01\n",
    "  -2.50000000e-01] ]"
   ]
  },
  {
   "cell_type": "code",
   "execution_count": 15,
   "metadata": {
    "id": "ssDGpmS33vdA"
   },
   "outputs": [
    {
     "name": "stdout",
     "output_type": "stream",
     "text": [
      "x on applying sigmoid activation fn is: [[0.99987661 0.88079708 0.99330715 0.5        0.5       ]\n",
      " [0.99908895 0.99330715 0.5        0.5        0.5       ]]\n",
      "x on applying derivative of sigmoid activation fn is: [[1.23379350e-04 1.04993585e-01 6.64805667e-03 2.50000000e-01\n",
      "  2.50000000e-01]\n",
      " [9.10221180e-04 6.64805667e-03 2.50000000e-01 2.50000000e-01\n",
      "  2.50000000e-01]]\n"
     ]
    }
   ],
   "source": [
    "x = np.array([\n",
    "    [9,2,5,0,0],\n",
    "    [7,5,0,0,0]\n",
    "])\n",
    "print(f\"x on applying sigmoid activation fn is: {sigmoidfn(x)}\")\n",
    "print(f\"x on applying derivative of sigmoid activation fn is: {derivative(x)}\")"
   ]
  },
  {
   "cell_type": "markdown",
   "metadata": {
    "id": "PMa0cseyZpa1"
   },
   "source": [
    "# Section 2: Exploring Pandas"
   ]
  },
  {
   "cell_type": "markdown",
   "metadata": {},
   "source": [
    "*You have been provided with a dataset which includes information about properties of superheated vapor.*\n",
    "\n",
    "*The dataset consists of the thermophysical properties: specific volume, specific internal energy, specific enthalpy, specific entropy of superheated vapor.*\n",
    "\n",
    "*Pressure is in kPa and Temperature in centigrade. In the dataframe 75, 100, 125, etc. are temperatures.*"
   ]
  },
  {
   "cell_type": "markdown",
   "metadata": {
    "id": "i5Okb_jxZ_VW"
   },
   "source": [
    "### Read the csv file\n"
   ]
  },
  {
   "cell_type": "code",
   "execution_count": 16,
   "metadata": {
    "id": "aQgvyavrcM1l"
   },
   "outputs": [],
   "source": [
    "df = pd.read_csv('superheated_vapor_properties.csv')"
   ]
  },
  {
   "cell_type": "code",
   "execution_count": 17,
   "metadata": {},
   "outputs": [
    {
     "data": {
      "text/html": [
       "<div>\n",
       "<style scoped>\n",
       "    .dataframe tbody tr th:only-of-type {\n",
       "        vertical-align: middle;\n",
       "    }\n",
       "\n",
       "    .dataframe tbody tr th {\n",
       "        vertical-align: top;\n",
       "    }\n",
       "\n",
       "    .dataframe thead th {\n",
       "        text-align: right;\n",
       "    }\n",
       "</style>\n",
       "<table border=\"1\" class=\"dataframe\">\n",
       "  <thead>\n",
       "    <tr style=\"text-align: right;\">\n",
       "      <th></th>\n",
       "      <th>Pressure</th>\n",
       "      <th>Property</th>\n",
       "      <th>Liq_Sat</th>\n",
       "      <th>Vap_Sat</th>\n",
       "      <th>75</th>\n",
       "      <th>100</th>\n",
       "      <th>125</th>\n",
       "      <th>150</th>\n",
       "      <th>175</th>\n",
       "      <th>200</th>\n",
       "      <th>...</th>\n",
       "      <th>425</th>\n",
       "      <th>450</th>\n",
       "      <th>475</th>\n",
       "      <th>500</th>\n",
       "      <th>525</th>\n",
       "      <th>550</th>\n",
       "      <th>575</th>\n",
       "      <th>600</th>\n",
       "      <th>625</th>\n",
       "      <th>650</th>\n",
       "    </tr>\n",
       "  </thead>\n",
       "  <tbody>\n",
       "    <tr>\n",
       "      <th>0</th>\n",
       "      <td>1.0</td>\n",
       "      <td>V</td>\n",
       "      <td>1.0000</td>\n",
       "      <td>129200.0000</td>\n",
       "      <td>160640.0000</td>\n",
       "      <td>172180.0000</td>\n",
       "      <td>183720.0000</td>\n",
       "      <td>195270.0000</td>\n",
       "      <td>206810.0000</td>\n",
       "      <td>218350.0000</td>\n",
       "      <td>...</td>\n",
       "      <td>NaN</td>\n",
       "      <td>333730.0000</td>\n",
       "      <td>NaN</td>\n",
       "      <td>356810.0000</td>\n",
       "      <td>NaN</td>\n",
       "      <td>379880.0000</td>\n",
       "      <td>NaN</td>\n",
       "      <td>402960.0000</td>\n",
       "      <td>NaN</td>\n",
       "      <td>426040.0000</td>\n",
       "    </tr>\n",
       "    <tr>\n",
       "      <th>1</th>\n",
       "      <td>1.0</td>\n",
       "      <td>U</td>\n",
       "      <td>29.3340</td>\n",
       "      <td>2385.2000</td>\n",
       "      <td>2480.8000</td>\n",
       "      <td>2516.4000</td>\n",
       "      <td>2552.3000</td>\n",
       "      <td>2588.5000</td>\n",
       "      <td>2624.9000</td>\n",
       "      <td>2661.7000</td>\n",
       "      <td>...</td>\n",
       "      <td>NaN</td>\n",
       "      <td>3049.9000</td>\n",
       "      <td>NaN</td>\n",
       "      <td>3132.4000</td>\n",
       "      <td>NaN</td>\n",
       "      <td>3216.7000</td>\n",
       "      <td>NaN</td>\n",
       "      <td>3302.6000</td>\n",
       "      <td>NaN</td>\n",
       "      <td>3390.3000</td>\n",
       "    </tr>\n",
       "    <tr>\n",
       "      <th>2</th>\n",
       "      <td>1.0</td>\n",
       "      <td>H</td>\n",
       "      <td>29.3350</td>\n",
       "      <td>2514.4000</td>\n",
       "      <td>2641.5000</td>\n",
       "      <td>2688.6000</td>\n",
       "      <td>2736.0000</td>\n",
       "      <td>2783.7000</td>\n",
       "      <td>2831.7000</td>\n",
       "      <td>2880.1000</td>\n",
       "      <td>...</td>\n",
       "      <td>NaN</td>\n",
       "      <td>3383.6000</td>\n",
       "      <td>NaN</td>\n",
       "      <td>3489.2000</td>\n",
       "      <td>NaN</td>\n",
       "      <td>3596.5000</td>\n",
       "      <td>NaN</td>\n",
       "      <td>3705.6000</td>\n",
       "      <td>NaN</td>\n",
       "      <td>3816.4000</td>\n",
       "    </tr>\n",
       "    <tr>\n",
       "      <th>3</th>\n",
       "      <td>1.0</td>\n",
       "      <td>S</td>\n",
       "      <td>0.1060</td>\n",
       "      <td>8.9767</td>\n",
       "      <td>9.3828</td>\n",
       "      <td>9.5136</td>\n",
       "      <td>9.6365</td>\n",
       "      <td>9.7527</td>\n",
       "      <td>9.8629</td>\n",
       "      <td>9.9679</td>\n",
       "      <td>...</td>\n",
       "      <td>NaN</td>\n",
       "      <td>10.8200</td>\n",
       "      <td>NaN</td>\n",
       "      <td>10.9612</td>\n",
       "      <td>NaN</td>\n",
       "      <td>11.0957</td>\n",
       "      <td>NaN</td>\n",
       "      <td>11.2243</td>\n",
       "      <td>NaN</td>\n",
       "      <td>11.3476</td>\n",
       "    </tr>\n",
       "    <tr>\n",
       "      <th>4</th>\n",
       "      <td>10.0</td>\n",
       "      <td>V</td>\n",
       "      <td>1.0100</td>\n",
       "      <td>14670.0000</td>\n",
       "      <td>16030.0000</td>\n",
       "      <td>17190.0000</td>\n",
       "      <td>18350.0000</td>\n",
       "      <td>19510.0000</td>\n",
       "      <td>20660.0000</td>\n",
       "      <td>21820.0000</td>\n",
       "      <td>...</td>\n",
       "      <td>NaN</td>\n",
       "      <td>33370.0000</td>\n",
       "      <td>NaN</td>\n",
       "      <td>35670.0000</td>\n",
       "      <td>NaN</td>\n",
       "      <td>37980.0000</td>\n",
       "      <td>NaN</td>\n",
       "      <td>40290.0000</td>\n",
       "      <td>NaN</td>\n",
       "      <td>42600.0000</td>\n",
       "    </tr>\n",
       "    <tr>\n",
       "      <th>...</th>\n",
       "      <td>...</td>\n",
       "      <td>...</td>\n",
       "      <td>...</td>\n",
       "      <td>...</td>\n",
       "      <td>...</td>\n",
       "      <td>...</td>\n",
       "      <td>...</td>\n",
       "      <td>...</td>\n",
       "      <td>...</td>\n",
       "      <td>...</td>\n",
       "      <td>...</td>\n",
       "      <td>...</td>\n",
       "      <td>...</td>\n",
       "      <td>...</td>\n",
       "      <td>...</td>\n",
       "      <td>...</td>\n",
       "      <td>...</td>\n",
       "      <td>...</td>\n",
       "      <td>...</td>\n",
       "      <td>...</td>\n",
       "      <td>...</td>\n",
       "    </tr>\n",
       "    <tr>\n",
       "      <th>539</th>\n",
       "      <td>11200.0</td>\n",
       "      <td>S</td>\n",
       "      <td>3.4440</td>\n",
       "      <td>5.5476</td>\n",
       "      <td>NaN</td>\n",
       "      <td>NaN</td>\n",
       "      <td>NaN</td>\n",
       "      <td>NaN</td>\n",
       "      <td>NaN</td>\n",
       "      <td>NaN</td>\n",
       "      <td>...</td>\n",
       "      <td>6.2491</td>\n",
       "      <td>6.3515</td>\n",
       "      <td>6.4452</td>\n",
       "      <td>6.5324</td>\n",
       "      <td>6.6147</td>\n",
       "      <td>6.6929</td>\n",
       "      <td>6.7679</td>\n",
       "      <td>6.8401</td>\n",
       "      <td>6.9099</td>\n",
       "      <td>6.9777</td>\n",
       "    </tr>\n",
       "    <tr>\n",
       "      <th>540</th>\n",
       "      <td>11400.0</td>\n",
       "      <td>V</td>\n",
       "      <td>1.5040</td>\n",
       "      <td>15.2840</td>\n",
       "      <td>NaN</td>\n",
       "      <td>NaN</td>\n",
       "      <td>NaN</td>\n",
       "      <td>NaN</td>\n",
       "      <td>NaN</td>\n",
       "      <td>NaN</td>\n",
       "      <td>...</td>\n",
       "      <td>24.1040</td>\n",
       "      <td>25.5990</td>\n",
       "      <td>27.0100</td>\n",
       "      <td>28.3590</td>\n",
       "      <td>29.6610</td>\n",
       "      <td>30.9250</td>\n",
       "      <td>32.1600</td>\n",
       "      <td>33.3700</td>\n",
       "      <td>34.5600</td>\n",
       "      <td>35.7330</td>\n",
       "    </tr>\n",
       "    <tr>\n",
       "      <th>541</th>\n",
       "      <td>11400.0</td>\n",
       "      <td>U</td>\n",
       "      <td>1450.0000</td>\n",
       "      <td>2527.2000</td>\n",
       "      <td>NaN</td>\n",
       "      <td>NaN</td>\n",
       "      <td>NaN</td>\n",
       "      <td>NaN</td>\n",
       "      <td>NaN</td>\n",
       "      <td>NaN</td>\n",
       "      <td>...</td>\n",
       "      <td>2873.1000</td>\n",
       "      <td>2929.4000</td>\n",
       "      <td>2982.6000</td>\n",
       "      <td>3033.9000</td>\n",
       "      <td>3083.9000</td>\n",
       "      <td>3133.1000</td>\n",
       "      <td>3181.9000</td>\n",
       "      <td>3230.4000</td>\n",
       "      <td>3278.8000</td>\n",
       "      <td>3327.2000</td>\n",
       "    </tr>\n",
       "    <tr>\n",
       "      <th>542</th>\n",
       "      <td>11400.0</td>\n",
       "      <td>H</td>\n",
       "      <td>1467.2000</td>\n",
       "      <td>2701.5000</td>\n",
       "      <td>NaN</td>\n",
       "      <td>NaN</td>\n",
       "      <td>NaN</td>\n",
       "      <td>NaN</td>\n",
       "      <td>NaN</td>\n",
       "      <td>NaN</td>\n",
       "      <td>...</td>\n",
       "      <td>3147.9000</td>\n",
       "      <td>3221.2000</td>\n",
       "      <td>3290.5000</td>\n",
       "      <td>3357.2000</td>\n",
       "      <td>3422.1000</td>\n",
       "      <td>3485.7000</td>\n",
       "      <td>3548.5000</td>\n",
       "      <td>3610.8000</td>\n",
       "      <td>3672.8000</td>\n",
       "      <td>3734.6000</td>\n",
       "    </tr>\n",
       "    <tr>\n",
       "      <th>543</th>\n",
       "      <td>11400.0</td>\n",
       "      <td>S</td>\n",
       "      <td>3.4575</td>\n",
       "      <td>5.5357</td>\n",
       "      <td>NaN</td>\n",
       "      <td>NaN</td>\n",
       "      <td>NaN</td>\n",
       "      <td>NaN</td>\n",
       "      <td>NaN</td>\n",
       "      <td>NaN</td>\n",
       "      <td>...</td>\n",
       "      <td>6.2367</td>\n",
       "      <td>6.3399</td>\n",
       "      <td>6.4341</td>\n",
       "      <td>6.5218</td>\n",
       "      <td>6.6043</td>\n",
       "      <td>6.6828</td>\n",
       "      <td>6.7580</td>\n",
       "      <td>6.8304</td>\n",
       "      <td>6.9004</td>\n",
       "      <td>6.9683</td>\n",
       "    </tr>\n",
       "  </tbody>\n",
       "</table>\n",
       "<p>544 rows × 37 columns</p>\n",
       "</div>"
      ],
      "text/plain": [
       "     Pressure Property    Liq_Sat      Vap_Sat           75          100  \\\n",
       "0         1.0        V     1.0000  129200.0000  160640.0000  172180.0000   \n",
       "1         1.0        U    29.3340    2385.2000    2480.8000    2516.4000   \n",
       "2         1.0        H    29.3350    2514.4000    2641.5000    2688.6000   \n",
       "3         1.0        S     0.1060       8.9767       9.3828       9.5136   \n",
       "4        10.0        V     1.0100   14670.0000   16030.0000   17190.0000   \n",
       "..        ...      ...        ...          ...          ...          ...   \n",
       "539   11200.0        S     3.4440       5.5476          NaN          NaN   \n",
       "540   11400.0        V     1.5040      15.2840          NaN          NaN   \n",
       "541   11400.0        U  1450.0000    2527.2000          NaN          NaN   \n",
       "542   11400.0        H  1467.2000    2701.5000          NaN          NaN   \n",
       "543   11400.0        S     3.4575       5.5357          NaN          NaN   \n",
       "\n",
       "             125          150          175          200  ...        425  \\\n",
       "0    183720.0000  195270.0000  206810.0000  218350.0000  ...        NaN   \n",
       "1      2552.3000    2588.5000    2624.9000    2661.7000  ...        NaN   \n",
       "2      2736.0000    2783.7000    2831.7000    2880.1000  ...        NaN   \n",
       "3         9.6365       9.7527       9.8629       9.9679  ...        NaN   \n",
       "4     18350.0000   19510.0000   20660.0000   21820.0000  ...        NaN   \n",
       "..           ...          ...          ...          ...  ...        ...   \n",
       "539          NaN          NaN          NaN          NaN  ...     6.2491   \n",
       "540          NaN          NaN          NaN          NaN  ...    24.1040   \n",
       "541          NaN          NaN          NaN          NaN  ...  2873.1000   \n",
       "542          NaN          NaN          NaN          NaN  ...  3147.9000   \n",
       "543          NaN          NaN          NaN          NaN  ...     6.2367   \n",
       "\n",
       "             450        475          500        525          550        575  \\\n",
       "0    333730.0000        NaN  356810.0000        NaN  379880.0000        NaN   \n",
       "1      3049.9000        NaN    3132.4000        NaN    3216.7000        NaN   \n",
       "2      3383.6000        NaN    3489.2000        NaN    3596.5000        NaN   \n",
       "3        10.8200        NaN      10.9612        NaN      11.0957        NaN   \n",
       "4     33370.0000        NaN   35670.0000        NaN   37980.0000        NaN   \n",
       "..           ...        ...          ...        ...          ...        ...   \n",
       "539       6.3515     6.4452       6.5324     6.6147       6.6929     6.7679   \n",
       "540      25.5990    27.0100      28.3590    29.6610      30.9250    32.1600   \n",
       "541    2929.4000  2982.6000    3033.9000  3083.9000    3133.1000  3181.9000   \n",
       "542    3221.2000  3290.5000    3357.2000  3422.1000    3485.7000  3548.5000   \n",
       "543       6.3399     6.4341       6.5218     6.6043       6.6828     6.7580   \n",
       "\n",
       "             600        625          650  \n",
       "0    402960.0000        NaN  426040.0000  \n",
       "1      3302.6000        NaN    3390.3000  \n",
       "2      3705.6000        NaN    3816.4000  \n",
       "3        11.2243        NaN      11.3476  \n",
       "4     40290.0000        NaN   42600.0000  \n",
       "..           ...        ...          ...  \n",
       "539       6.8401     6.9099       6.9777  \n",
       "540      33.3700    34.5600      35.7330  \n",
       "541    3230.4000  3278.8000    3327.2000  \n",
       "542    3610.8000  3672.8000    3734.6000  \n",
       "543       6.8304     6.9004       6.9683  \n",
       "\n",
       "[544 rows x 37 columns]"
      ]
     },
     "execution_count": 17,
     "metadata": {},
     "output_type": "execute_result"
    }
   ],
   "source": [
    "df"
   ]
  },
  {
   "cell_type": "markdown",
   "metadata": {
    "id": "Zp8F3rk2cNxy"
   },
   "source": [
    "### Display the shape of data frame\n"
   ]
  },
  {
   "cell_type": "code",
   "execution_count": 18,
   "metadata": {
    "id": "v3Q8kQkucgK0"
   },
   "outputs": [
    {
     "data": {
      "text/plain": [
       "(544, 37)"
      ]
     },
     "execution_count": 18,
     "metadata": {},
     "output_type": "execute_result"
    }
   ],
   "source": [
    "df.shape"
   ]
  },
  {
   "cell_type": "markdown",
   "metadata": {
    "id": "w49cp-8zcgd2"
   },
   "source": [
    "### Return an array containing names of all the columns"
   ]
  },
  {
   "cell_type": "code",
   "execution_count": 19,
   "metadata": {
    "id": "fz4HRb3JcsZp"
   },
   "outputs": [
    {
     "data": {
      "text/plain": [
       "Index(['Pressure', 'Property', 'Liq_Sat', 'Vap_Sat', '75', '100', '125', '150',\n",
       "       '175', '200', '220', '225', '240', '250', '260', '275', '280', '290',\n",
       "       '300', '320', '325', '340', '350', '360', '375', '380', '400', '425',\n",
       "       '450', '475', '500', '525', '550', '575', '600', '625', '650'],\n",
       "      dtype='object')"
      ]
     },
     "execution_count": 19,
     "metadata": {},
     "output_type": "execute_result"
    }
   ],
   "source": [
    "df.columns"
   ]
  },
  {
   "cell_type": "markdown",
   "metadata": {
    "id": "YkTH9tRWcrH-"
   },
   "source": [
    "### Display the number of null values in each column of the dataframe\n",
    "\n"
   ]
  },
  {
   "cell_type": "code",
   "execution_count": 20,
   "metadata": {
    "id": "GK9-PJPxc3Ot"
   },
   "outputs": [
    {
     "data": {
      "text/plain": [
       "Pressure      0\n",
       "Property      0\n",
       "Liq_Sat       0\n",
       "Vap_Sat       0\n",
       "75          528\n",
       "100         508\n",
       "125         488\n",
       "150         448\n",
       "175         384\n",
       "200         320\n",
       "220         408\n",
       "225         400\n",
       "240         408\n",
       "250         344\n",
       "260         384\n",
       "275         340\n",
       "280         380\n",
       "290         488\n",
       "300          60\n",
       "320         480\n",
       "325         136\n",
       "340         476\n",
       "350          68\n",
       "360         476\n",
       "375         204\n",
       "380         476\n",
       "400           0\n",
       "425         204\n",
       "450           0\n",
       "475         204\n",
       "500           0\n",
       "525         272\n",
       "550           0\n",
       "575         340\n",
       "600           0\n",
       "625         476\n",
       "650           0\n",
       "dtype: int64"
      ]
     },
     "execution_count": 20,
     "metadata": {},
     "output_type": "execute_result"
    }
   ],
   "source": [
    "df.isnull().sum()"
   ]
  },
  {
   "cell_type": "markdown",
   "metadata": {},
   "source": [
    "### Create a column which contains the Pressure and Property columns, seperated with 'at' (For eg. V at 1, H at 101.325). Using this print the following:\n",
    "- Enthalpy at 75 kPa and 573 K\n",
    "- Entropy at 493 K and 250 kPa\n",
    "\n"
   ]
  },
  {
   "cell_type": "code",
   "execution_count": 21,
   "metadata": {
    "id": "B2AihQj_c32C"
   },
   "outputs": [
    {
     "data": {
      "text/html": [
       "<div>\n",
       "<style scoped>\n",
       "    .dataframe tbody tr th:only-of-type {\n",
       "        vertical-align: middle;\n",
       "    }\n",
       "\n",
       "    .dataframe tbody tr th {\n",
       "        vertical-align: top;\n",
       "    }\n",
       "\n",
       "    .dataframe thead th {\n",
       "        text-align: right;\n",
       "    }\n",
       "</style>\n",
       "<table border=\"1\" class=\"dataframe\">\n",
       "  <thead>\n",
       "    <tr style=\"text-align: right;\">\n",
       "      <th></th>\n",
       "      <th>Pressure</th>\n",
       "      <th>Property</th>\n",
       "      <th>Liq_Sat</th>\n",
       "      <th>Vap_Sat</th>\n",
       "      <th>75</th>\n",
       "      <th>100</th>\n",
       "      <th>125</th>\n",
       "      <th>150</th>\n",
       "      <th>175</th>\n",
       "      <th>200</th>\n",
       "      <th>...</th>\n",
       "      <th>450</th>\n",
       "      <th>475</th>\n",
       "      <th>500</th>\n",
       "      <th>525</th>\n",
       "      <th>550</th>\n",
       "      <th>575</th>\n",
       "      <th>600</th>\n",
       "      <th>625</th>\n",
       "      <th>650</th>\n",
       "      <th>C</th>\n",
       "    </tr>\n",
       "  </thead>\n",
       "  <tbody>\n",
       "    <tr>\n",
       "      <th>0</th>\n",
       "      <td>1.0</td>\n",
       "      <td>V</td>\n",
       "      <td>1.0000</td>\n",
       "      <td>129200.0000</td>\n",
       "      <td>160640.0000</td>\n",
       "      <td>172180.0000</td>\n",
       "      <td>183720.0000</td>\n",
       "      <td>195270.0000</td>\n",
       "      <td>206810.0000</td>\n",
       "      <td>218350.0000</td>\n",
       "      <td>...</td>\n",
       "      <td>333730.0000</td>\n",
       "      <td>NaN</td>\n",
       "      <td>356810.0000</td>\n",
       "      <td>NaN</td>\n",
       "      <td>379880.0000</td>\n",
       "      <td>NaN</td>\n",
       "      <td>402960.0000</td>\n",
       "      <td>NaN</td>\n",
       "      <td>426040.0000</td>\n",
       "      <td>V at 1.0</td>\n",
       "    </tr>\n",
       "    <tr>\n",
       "      <th>1</th>\n",
       "      <td>1.0</td>\n",
       "      <td>U</td>\n",
       "      <td>29.3340</td>\n",
       "      <td>2385.2000</td>\n",
       "      <td>2480.8000</td>\n",
       "      <td>2516.4000</td>\n",
       "      <td>2552.3000</td>\n",
       "      <td>2588.5000</td>\n",
       "      <td>2624.9000</td>\n",
       "      <td>2661.7000</td>\n",
       "      <td>...</td>\n",
       "      <td>3049.9000</td>\n",
       "      <td>NaN</td>\n",
       "      <td>3132.4000</td>\n",
       "      <td>NaN</td>\n",
       "      <td>3216.7000</td>\n",
       "      <td>NaN</td>\n",
       "      <td>3302.6000</td>\n",
       "      <td>NaN</td>\n",
       "      <td>3390.3000</td>\n",
       "      <td>U at 1.0</td>\n",
       "    </tr>\n",
       "    <tr>\n",
       "      <th>2</th>\n",
       "      <td>1.0</td>\n",
       "      <td>H</td>\n",
       "      <td>29.3350</td>\n",
       "      <td>2514.4000</td>\n",
       "      <td>2641.5000</td>\n",
       "      <td>2688.6000</td>\n",
       "      <td>2736.0000</td>\n",
       "      <td>2783.7000</td>\n",
       "      <td>2831.7000</td>\n",
       "      <td>2880.1000</td>\n",
       "      <td>...</td>\n",
       "      <td>3383.6000</td>\n",
       "      <td>NaN</td>\n",
       "      <td>3489.2000</td>\n",
       "      <td>NaN</td>\n",
       "      <td>3596.5000</td>\n",
       "      <td>NaN</td>\n",
       "      <td>3705.6000</td>\n",
       "      <td>NaN</td>\n",
       "      <td>3816.4000</td>\n",
       "      <td>H at 1.0</td>\n",
       "    </tr>\n",
       "    <tr>\n",
       "      <th>3</th>\n",
       "      <td>1.0</td>\n",
       "      <td>S</td>\n",
       "      <td>0.1060</td>\n",
       "      <td>8.9767</td>\n",
       "      <td>9.3828</td>\n",
       "      <td>9.5136</td>\n",
       "      <td>9.6365</td>\n",
       "      <td>9.7527</td>\n",
       "      <td>9.8629</td>\n",
       "      <td>9.9679</td>\n",
       "      <td>...</td>\n",
       "      <td>10.8200</td>\n",
       "      <td>NaN</td>\n",
       "      <td>10.9612</td>\n",
       "      <td>NaN</td>\n",
       "      <td>11.0957</td>\n",
       "      <td>NaN</td>\n",
       "      <td>11.2243</td>\n",
       "      <td>NaN</td>\n",
       "      <td>11.3476</td>\n",
       "      <td>S at 1.0</td>\n",
       "    </tr>\n",
       "    <tr>\n",
       "      <th>4</th>\n",
       "      <td>10.0</td>\n",
       "      <td>V</td>\n",
       "      <td>1.0100</td>\n",
       "      <td>14670.0000</td>\n",
       "      <td>16030.0000</td>\n",
       "      <td>17190.0000</td>\n",
       "      <td>18350.0000</td>\n",
       "      <td>19510.0000</td>\n",
       "      <td>20660.0000</td>\n",
       "      <td>21820.0000</td>\n",
       "      <td>...</td>\n",
       "      <td>33370.0000</td>\n",
       "      <td>NaN</td>\n",
       "      <td>35670.0000</td>\n",
       "      <td>NaN</td>\n",
       "      <td>37980.0000</td>\n",
       "      <td>NaN</td>\n",
       "      <td>40290.0000</td>\n",
       "      <td>NaN</td>\n",
       "      <td>42600.0000</td>\n",
       "      <td>V at 10.0</td>\n",
       "    </tr>\n",
       "    <tr>\n",
       "      <th>...</th>\n",
       "      <td>...</td>\n",
       "      <td>...</td>\n",
       "      <td>...</td>\n",
       "      <td>...</td>\n",
       "      <td>...</td>\n",
       "      <td>...</td>\n",
       "      <td>...</td>\n",
       "      <td>...</td>\n",
       "      <td>...</td>\n",
       "      <td>...</td>\n",
       "      <td>...</td>\n",
       "      <td>...</td>\n",
       "      <td>...</td>\n",
       "      <td>...</td>\n",
       "      <td>...</td>\n",
       "      <td>...</td>\n",
       "      <td>...</td>\n",
       "      <td>...</td>\n",
       "      <td>...</td>\n",
       "      <td>...</td>\n",
       "      <td>...</td>\n",
       "    </tr>\n",
       "    <tr>\n",
       "      <th>539</th>\n",
       "      <td>11200.0</td>\n",
       "      <td>S</td>\n",
       "      <td>3.4440</td>\n",
       "      <td>5.5476</td>\n",
       "      <td>NaN</td>\n",
       "      <td>NaN</td>\n",
       "      <td>NaN</td>\n",
       "      <td>NaN</td>\n",
       "      <td>NaN</td>\n",
       "      <td>NaN</td>\n",
       "      <td>...</td>\n",
       "      <td>6.3515</td>\n",
       "      <td>6.4452</td>\n",
       "      <td>6.5324</td>\n",
       "      <td>6.6147</td>\n",
       "      <td>6.6929</td>\n",
       "      <td>6.7679</td>\n",
       "      <td>6.8401</td>\n",
       "      <td>6.9099</td>\n",
       "      <td>6.9777</td>\n",
       "      <td>S at 11200.0</td>\n",
       "    </tr>\n",
       "    <tr>\n",
       "      <th>540</th>\n",
       "      <td>11400.0</td>\n",
       "      <td>V</td>\n",
       "      <td>1.5040</td>\n",
       "      <td>15.2840</td>\n",
       "      <td>NaN</td>\n",
       "      <td>NaN</td>\n",
       "      <td>NaN</td>\n",
       "      <td>NaN</td>\n",
       "      <td>NaN</td>\n",
       "      <td>NaN</td>\n",
       "      <td>...</td>\n",
       "      <td>25.5990</td>\n",
       "      <td>27.0100</td>\n",
       "      <td>28.3590</td>\n",
       "      <td>29.6610</td>\n",
       "      <td>30.9250</td>\n",
       "      <td>32.1600</td>\n",
       "      <td>33.3700</td>\n",
       "      <td>34.5600</td>\n",
       "      <td>35.7330</td>\n",
       "      <td>V at 11400.0</td>\n",
       "    </tr>\n",
       "    <tr>\n",
       "      <th>541</th>\n",
       "      <td>11400.0</td>\n",
       "      <td>U</td>\n",
       "      <td>1450.0000</td>\n",
       "      <td>2527.2000</td>\n",
       "      <td>NaN</td>\n",
       "      <td>NaN</td>\n",
       "      <td>NaN</td>\n",
       "      <td>NaN</td>\n",
       "      <td>NaN</td>\n",
       "      <td>NaN</td>\n",
       "      <td>...</td>\n",
       "      <td>2929.4000</td>\n",
       "      <td>2982.6000</td>\n",
       "      <td>3033.9000</td>\n",
       "      <td>3083.9000</td>\n",
       "      <td>3133.1000</td>\n",
       "      <td>3181.9000</td>\n",
       "      <td>3230.4000</td>\n",
       "      <td>3278.8000</td>\n",
       "      <td>3327.2000</td>\n",
       "      <td>U at 11400.0</td>\n",
       "    </tr>\n",
       "    <tr>\n",
       "      <th>542</th>\n",
       "      <td>11400.0</td>\n",
       "      <td>H</td>\n",
       "      <td>1467.2000</td>\n",
       "      <td>2701.5000</td>\n",
       "      <td>NaN</td>\n",
       "      <td>NaN</td>\n",
       "      <td>NaN</td>\n",
       "      <td>NaN</td>\n",
       "      <td>NaN</td>\n",
       "      <td>NaN</td>\n",
       "      <td>...</td>\n",
       "      <td>3221.2000</td>\n",
       "      <td>3290.5000</td>\n",
       "      <td>3357.2000</td>\n",
       "      <td>3422.1000</td>\n",
       "      <td>3485.7000</td>\n",
       "      <td>3548.5000</td>\n",
       "      <td>3610.8000</td>\n",
       "      <td>3672.8000</td>\n",
       "      <td>3734.6000</td>\n",
       "      <td>H at 11400.0</td>\n",
       "    </tr>\n",
       "    <tr>\n",
       "      <th>543</th>\n",
       "      <td>11400.0</td>\n",
       "      <td>S</td>\n",
       "      <td>3.4575</td>\n",
       "      <td>5.5357</td>\n",
       "      <td>NaN</td>\n",
       "      <td>NaN</td>\n",
       "      <td>NaN</td>\n",
       "      <td>NaN</td>\n",
       "      <td>NaN</td>\n",
       "      <td>NaN</td>\n",
       "      <td>...</td>\n",
       "      <td>6.3399</td>\n",
       "      <td>6.4341</td>\n",
       "      <td>6.5218</td>\n",
       "      <td>6.6043</td>\n",
       "      <td>6.6828</td>\n",
       "      <td>6.7580</td>\n",
       "      <td>6.8304</td>\n",
       "      <td>6.9004</td>\n",
       "      <td>6.9683</td>\n",
       "      <td>S at 11400.0</td>\n",
       "    </tr>\n",
       "  </tbody>\n",
       "</table>\n",
       "<p>544 rows × 38 columns</p>\n",
       "</div>"
      ],
      "text/plain": [
       "     Pressure Property    Liq_Sat      Vap_Sat           75          100  \\\n",
       "0         1.0        V     1.0000  129200.0000  160640.0000  172180.0000   \n",
       "1         1.0        U    29.3340    2385.2000    2480.8000    2516.4000   \n",
       "2         1.0        H    29.3350    2514.4000    2641.5000    2688.6000   \n",
       "3         1.0        S     0.1060       8.9767       9.3828       9.5136   \n",
       "4        10.0        V     1.0100   14670.0000   16030.0000   17190.0000   \n",
       "..        ...      ...        ...          ...          ...          ...   \n",
       "539   11200.0        S     3.4440       5.5476          NaN          NaN   \n",
       "540   11400.0        V     1.5040      15.2840          NaN          NaN   \n",
       "541   11400.0        U  1450.0000    2527.2000          NaN          NaN   \n",
       "542   11400.0        H  1467.2000    2701.5000          NaN          NaN   \n",
       "543   11400.0        S     3.4575       5.5357          NaN          NaN   \n",
       "\n",
       "             125          150          175          200  ...          450  \\\n",
       "0    183720.0000  195270.0000  206810.0000  218350.0000  ...  333730.0000   \n",
       "1      2552.3000    2588.5000    2624.9000    2661.7000  ...    3049.9000   \n",
       "2      2736.0000    2783.7000    2831.7000    2880.1000  ...    3383.6000   \n",
       "3         9.6365       9.7527       9.8629       9.9679  ...      10.8200   \n",
       "4     18350.0000   19510.0000   20660.0000   21820.0000  ...   33370.0000   \n",
       "..           ...          ...          ...          ...  ...          ...   \n",
       "539          NaN          NaN          NaN          NaN  ...       6.3515   \n",
       "540          NaN          NaN          NaN          NaN  ...      25.5990   \n",
       "541          NaN          NaN          NaN          NaN  ...    2929.4000   \n",
       "542          NaN          NaN          NaN          NaN  ...    3221.2000   \n",
       "543          NaN          NaN          NaN          NaN  ...       6.3399   \n",
       "\n",
       "           475          500        525          550        575          600  \\\n",
       "0          NaN  356810.0000        NaN  379880.0000        NaN  402960.0000   \n",
       "1          NaN    3132.4000        NaN    3216.7000        NaN    3302.6000   \n",
       "2          NaN    3489.2000        NaN    3596.5000        NaN    3705.6000   \n",
       "3          NaN      10.9612        NaN      11.0957        NaN      11.2243   \n",
       "4          NaN   35670.0000        NaN   37980.0000        NaN   40290.0000   \n",
       "..         ...          ...        ...          ...        ...          ...   \n",
       "539     6.4452       6.5324     6.6147       6.6929     6.7679       6.8401   \n",
       "540    27.0100      28.3590    29.6610      30.9250    32.1600      33.3700   \n",
       "541  2982.6000    3033.9000  3083.9000    3133.1000  3181.9000    3230.4000   \n",
       "542  3290.5000    3357.2000  3422.1000    3485.7000  3548.5000    3610.8000   \n",
       "543     6.4341       6.5218     6.6043       6.6828     6.7580       6.8304   \n",
       "\n",
       "           625          650             C  \n",
       "0          NaN  426040.0000      V at 1.0  \n",
       "1          NaN    3390.3000      U at 1.0  \n",
       "2          NaN    3816.4000      H at 1.0  \n",
       "3          NaN      11.3476      S at 1.0  \n",
       "4          NaN   42600.0000     V at 10.0  \n",
       "..         ...          ...           ...  \n",
       "539     6.9099       6.9777  S at 11200.0  \n",
       "540    34.5600      35.7330  V at 11400.0  \n",
       "541  3278.8000    3327.2000  U at 11400.0  \n",
       "542  3672.8000    3734.6000  H at 11400.0  \n",
       "543     6.9004       6.9683  S at 11400.0  \n",
       "\n",
       "[544 rows x 38 columns]"
      ]
     },
     "execution_count": 21,
     "metadata": {},
     "output_type": "execute_result"
    }
   ],
   "source": [
    "df['C'] = df['Property'] + ' at ' + df['Pressure'].astype(str)\n",
    "df"
   ]
  },
  {
   "cell_type": "code",
   "execution_count": 22,
   "metadata": {},
   "outputs": [
    {
     "name": "stdout",
     "output_type": "stream",
     "text": [
      "Enthalpy at 75kPa and 573K= [3075.1]\n",
      "Entropy at 250kPa and 493K= [nan]\n"
     ]
    }
   ],
   "source": [
    "a=df.index[df['C']=='H at 75.0'].tolist()\n",
    "print(\"Enthalpy at 75kPa and 573K=\",df[\"300\"].values[a])\n",
    "b=df.index[df['C']=='S at 250.0'].tolist()\n",
    "print(\"Entropy at 250kPa and 493K=\",df[\"220\"].values[b])"
   ]
  },
  {
   "cell_type": "markdown",
   "metadata": {
    "id": "GpLtXYRLc4Ho"
   },
   "source": [
    "### Find out the column with the highest number of missing values"
   ]
  },
  {
   "cell_type": "code",
   "execution_count": 23,
   "metadata": {
    "id": "q80Grgeyc4Xn"
   },
   "outputs": [
    {
     "data": {
      "text/plain": [
       "'75'"
      ]
     },
     "execution_count": 23,
     "metadata": {},
     "output_type": "execute_result"
    }
   ],
   "source": [
    "df.isnull().sum().idxmax()"
   ]
  },
  {
   "cell_type": "markdown",
   "metadata": {
    "id": "74NVHTTac4nv"
   },
   "source": [
    "### What is the average enthalpy of Sat. Liq. at all different pressures in the dataset?"
   ]
  },
  {
   "cell_type": "code",
   "execution_count": 24,
   "metadata": {
    "id": "g3mByhBDdpVr"
   },
   "outputs": [
    {
     "data": {
      "text/plain": [
       "936.9707720588235"
      ]
     },
     "execution_count": 24,
     "metadata": {},
     "output_type": "execute_result"
    }
   ],
   "source": [
    "df3 = df[['Pressure', 'Property', 'Liq_Sat']]\n",
    "Enthalpy = 'Property'\n",
    "df4 = df3.iloc[::2]\n",
    "df4\n",
    "df5=df4.reset_index(drop = True)\n",
    "df6 = df5.iloc[1::2]\n",
    "df7 = df6.drop('Property',axis=1)\n",
    "df7\n",
    "avg_value = df7['Liq_Sat'].mean()\n",
    "avg_value"
   ]
  },
  {
   "cell_type": "markdown",
   "metadata": {
    "id": "uS-SuqU8dpxg"
   },
   "source": [
    "### Separate out the V,U,H,S data from the dataset into V_data, U_data, H_data, S_data"
   ]
  },
  {
   "cell_type": "code",
   "execution_count": 25,
   "metadata": {
    "id": "Sg3V9Toyd1Av"
   },
   "outputs": [
    {
     "data": {
      "text/html": [
       "<div>\n",
       "<style scoped>\n",
       "    .dataframe tbody tr th:only-of-type {\n",
       "        vertical-align: middle;\n",
       "    }\n",
       "\n",
       "    .dataframe tbody tr th {\n",
       "        vertical-align: top;\n",
       "    }\n",
       "\n",
       "    .dataframe thead th {\n",
       "        text-align: right;\n",
       "    }\n",
       "</style>\n",
       "<table border=\"1\" class=\"dataframe\">\n",
       "  <thead>\n",
       "    <tr style=\"text-align: right;\">\n",
       "      <th></th>\n",
       "      <th>Property</th>\n",
       "      <th>Liq_Sat</th>\n",
       "      <th>Vap_Sat</th>\n",
       "      <th>75</th>\n",
       "      <th>100</th>\n",
       "      <th>125</th>\n",
       "      <th>150</th>\n",
       "      <th>175</th>\n",
       "      <th>200</th>\n",
       "      <th>220</th>\n",
       "      <th>...</th>\n",
       "      <th>450</th>\n",
       "      <th>475</th>\n",
       "      <th>500</th>\n",
       "      <th>525</th>\n",
       "      <th>550</th>\n",
       "      <th>575</th>\n",
       "      <th>600</th>\n",
       "      <th>625</th>\n",
       "      <th>650</th>\n",
       "      <th>C</th>\n",
       "    </tr>\n",
       "  </thead>\n",
       "  <tbody>\n",
       "    <tr>\n",
       "      <th>0</th>\n",
       "      <td>V</td>\n",
       "      <td>1.0000</td>\n",
       "      <td>129200.0000</td>\n",
       "      <td>160640.0000</td>\n",
       "      <td>172180.0000</td>\n",
       "      <td>183720.0000</td>\n",
       "      <td>195270.0000</td>\n",
       "      <td>206810.0000</td>\n",
       "      <td>218350.0000</td>\n",
       "      <td>NaN</td>\n",
       "      <td>...</td>\n",
       "      <td>333730.0000</td>\n",
       "      <td>NaN</td>\n",
       "      <td>356810.0000</td>\n",
       "      <td>NaN</td>\n",
       "      <td>379880.0000</td>\n",
       "      <td>NaN</td>\n",
       "      <td>402960.0000</td>\n",
       "      <td>NaN</td>\n",
       "      <td>426040.0000</td>\n",
       "      <td>V at 1.0</td>\n",
       "    </tr>\n",
       "    <tr>\n",
       "      <th>1</th>\n",
       "      <td>U</td>\n",
       "      <td>29.3340</td>\n",
       "      <td>2385.2000</td>\n",
       "      <td>2480.8000</td>\n",
       "      <td>2516.4000</td>\n",
       "      <td>2552.3000</td>\n",
       "      <td>2588.5000</td>\n",
       "      <td>2624.9000</td>\n",
       "      <td>2661.7000</td>\n",
       "      <td>NaN</td>\n",
       "      <td>...</td>\n",
       "      <td>3049.9000</td>\n",
       "      <td>NaN</td>\n",
       "      <td>3132.4000</td>\n",
       "      <td>NaN</td>\n",
       "      <td>3216.7000</td>\n",
       "      <td>NaN</td>\n",
       "      <td>3302.6000</td>\n",
       "      <td>NaN</td>\n",
       "      <td>3390.3000</td>\n",
       "      <td>U at 1.0</td>\n",
       "    </tr>\n",
       "    <tr>\n",
       "      <th>2</th>\n",
       "      <td>H</td>\n",
       "      <td>29.3350</td>\n",
       "      <td>2514.4000</td>\n",
       "      <td>2641.5000</td>\n",
       "      <td>2688.6000</td>\n",
       "      <td>2736.0000</td>\n",
       "      <td>2783.7000</td>\n",
       "      <td>2831.7000</td>\n",
       "      <td>2880.1000</td>\n",
       "      <td>NaN</td>\n",
       "      <td>...</td>\n",
       "      <td>3383.6000</td>\n",
       "      <td>NaN</td>\n",
       "      <td>3489.2000</td>\n",
       "      <td>NaN</td>\n",
       "      <td>3596.5000</td>\n",
       "      <td>NaN</td>\n",
       "      <td>3705.6000</td>\n",
       "      <td>NaN</td>\n",
       "      <td>3816.4000</td>\n",
       "      <td>H at 1.0</td>\n",
       "    </tr>\n",
       "    <tr>\n",
       "      <th>3</th>\n",
       "      <td>S</td>\n",
       "      <td>0.1060</td>\n",
       "      <td>8.9767</td>\n",
       "      <td>9.3828</td>\n",
       "      <td>9.5136</td>\n",
       "      <td>9.6365</td>\n",
       "      <td>9.7527</td>\n",
       "      <td>9.8629</td>\n",
       "      <td>9.9679</td>\n",
       "      <td>NaN</td>\n",
       "      <td>...</td>\n",
       "      <td>10.8200</td>\n",
       "      <td>NaN</td>\n",
       "      <td>10.9612</td>\n",
       "      <td>NaN</td>\n",
       "      <td>11.0957</td>\n",
       "      <td>NaN</td>\n",
       "      <td>11.2243</td>\n",
       "      <td>NaN</td>\n",
       "      <td>11.3476</td>\n",
       "      <td>S at 1.0</td>\n",
       "    </tr>\n",
       "    <tr>\n",
       "      <th>4</th>\n",
       "      <td>V</td>\n",
       "      <td>1.0100</td>\n",
       "      <td>14670.0000</td>\n",
       "      <td>16030.0000</td>\n",
       "      <td>17190.0000</td>\n",
       "      <td>18350.0000</td>\n",
       "      <td>19510.0000</td>\n",
       "      <td>20660.0000</td>\n",
       "      <td>21820.0000</td>\n",
       "      <td>NaN</td>\n",
       "      <td>...</td>\n",
       "      <td>33370.0000</td>\n",
       "      <td>NaN</td>\n",
       "      <td>35670.0000</td>\n",
       "      <td>NaN</td>\n",
       "      <td>37980.0000</td>\n",
       "      <td>NaN</td>\n",
       "      <td>40290.0000</td>\n",
       "      <td>NaN</td>\n",
       "      <td>42600.0000</td>\n",
       "      <td>V at 10.0</td>\n",
       "    </tr>\n",
       "    <tr>\n",
       "      <th>...</th>\n",
       "      <td>...</td>\n",
       "      <td>...</td>\n",
       "      <td>...</td>\n",
       "      <td>...</td>\n",
       "      <td>...</td>\n",
       "      <td>...</td>\n",
       "      <td>...</td>\n",
       "      <td>...</td>\n",
       "      <td>...</td>\n",
       "      <td>...</td>\n",
       "      <td>...</td>\n",
       "      <td>...</td>\n",
       "      <td>...</td>\n",
       "      <td>...</td>\n",
       "      <td>...</td>\n",
       "      <td>...</td>\n",
       "      <td>...</td>\n",
       "      <td>...</td>\n",
       "      <td>...</td>\n",
       "      <td>...</td>\n",
       "      <td>...</td>\n",
       "    </tr>\n",
       "    <tr>\n",
       "      <th>539</th>\n",
       "      <td>S</td>\n",
       "      <td>3.4440</td>\n",
       "      <td>5.5476</td>\n",
       "      <td>NaN</td>\n",
       "      <td>NaN</td>\n",
       "      <td>NaN</td>\n",
       "      <td>NaN</td>\n",
       "      <td>NaN</td>\n",
       "      <td>NaN</td>\n",
       "      <td>NaN</td>\n",
       "      <td>...</td>\n",
       "      <td>6.3515</td>\n",
       "      <td>6.4452</td>\n",
       "      <td>6.5324</td>\n",
       "      <td>6.6147</td>\n",
       "      <td>6.6929</td>\n",
       "      <td>6.7679</td>\n",
       "      <td>6.8401</td>\n",
       "      <td>6.9099</td>\n",
       "      <td>6.9777</td>\n",
       "      <td>S at 11200.0</td>\n",
       "    </tr>\n",
       "    <tr>\n",
       "      <th>540</th>\n",
       "      <td>V</td>\n",
       "      <td>1.5040</td>\n",
       "      <td>15.2840</td>\n",
       "      <td>NaN</td>\n",
       "      <td>NaN</td>\n",
       "      <td>NaN</td>\n",
       "      <td>NaN</td>\n",
       "      <td>NaN</td>\n",
       "      <td>NaN</td>\n",
       "      <td>NaN</td>\n",
       "      <td>...</td>\n",
       "      <td>25.5990</td>\n",
       "      <td>27.0100</td>\n",
       "      <td>28.3590</td>\n",
       "      <td>29.6610</td>\n",
       "      <td>30.9250</td>\n",
       "      <td>32.1600</td>\n",
       "      <td>33.3700</td>\n",
       "      <td>34.5600</td>\n",
       "      <td>35.7330</td>\n",
       "      <td>V at 11400.0</td>\n",
       "    </tr>\n",
       "    <tr>\n",
       "      <th>541</th>\n",
       "      <td>U</td>\n",
       "      <td>1450.0000</td>\n",
       "      <td>2527.2000</td>\n",
       "      <td>NaN</td>\n",
       "      <td>NaN</td>\n",
       "      <td>NaN</td>\n",
       "      <td>NaN</td>\n",
       "      <td>NaN</td>\n",
       "      <td>NaN</td>\n",
       "      <td>NaN</td>\n",
       "      <td>...</td>\n",
       "      <td>2929.4000</td>\n",
       "      <td>2982.6000</td>\n",
       "      <td>3033.9000</td>\n",
       "      <td>3083.9000</td>\n",
       "      <td>3133.1000</td>\n",
       "      <td>3181.9000</td>\n",
       "      <td>3230.4000</td>\n",
       "      <td>3278.8000</td>\n",
       "      <td>3327.2000</td>\n",
       "      <td>U at 11400.0</td>\n",
       "    </tr>\n",
       "    <tr>\n",
       "      <th>542</th>\n",
       "      <td>H</td>\n",
       "      <td>1467.2000</td>\n",
       "      <td>2701.5000</td>\n",
       "      <td>NaN</td>\n",
       "      <td>NaN</td>\n",
       "      <td>NaN</td>\n",
       "      <td>NaN</td>\n",
       "      <td>NaN</td>\n",
       "      <td>NaN</td>\n",
       "      <td>NaN</td>\n",
       "      <td>...</td>\n",
       "      <td>3221.2000</td>\n",
       "      <td>3290.5000</td>\n",
       "      <td>3357.2000</td>\n",
       "      <td>3422.1000</td>\n",
       "      <td>3485.7000</td>\n",
       "      <td>3548.5000</td>\n",
       "      <td>3610.8000</td>\n",
       "      <td>3672.8000</td>\n",
       "      <td>3734.6000</td>\n",
       "      <td>H at 11400.0</td>\n",
       "    </tr>\n",
       "    <tr>\n",
       "      <th>543</th>\n",
       "      <td>S</td>\n",
       "      <td>3.4575</td>\n",
       "      <td>5.5357</td>\n",
       "      <td>NaN</td>\n",
       "      <td>NaN</td>\n",
       "      <td>NaN</td>\n",
       "      <td>NaN</td>\n",
       "      <td>NaN</td>\n",
       "      <td>NaN</td>\n",
       "      <td>NaN</td>\n",
       "      <td>...</td>\n",
       "      <td>6.3399</td>\n",
       "      <td>6.4341</td>\n",
       "      <td>6.5218</td>\n",
       "      <td>6.6043</td>\n",
       "      <td>6.6828</td>\n",
       "      <td>6.7580</td>\n",
       "      <td>6.8304</td>\n",
       "      <td>6.9004</td>\n",
       "      <td>6.9683</td>\n",
       "      <td>S at 11400.0</td>\n",
       "    </tr>\n",
       "  </tbody>\n",
       "</table>\n",
       "<p>544 rows × 37 columns</p>\n",
       "</div>"
      ],
      "text/plain": [
       "    Property    Liq_Sat      Vap_Sat           75          100          125  \\\n",
       "0          V     1.0000  129200.0000  160640.0000  172180.0000  183720.0000   \n",
       "1          U    29.3340    2385.2000    2480.8000    2516.4000    2552.3000   \n",
       "2          H    29.3350    2514.4000    2641.5000    2688.6000    2736.0000   \n",
       "3          S     0.1060       8.9767       9.3828       9.5136       9.6365   \n",
       "4          V     1.0100   14670.0000   16030.0000   17190.0000   18350.0000   \n",
       "..       ...        ...          ...          ...          ...          ...   \n",
       "539        S     3.4440       5.5476          NaN          NaN          NaN   \n",
       "540        V     1.5040      15.2840          NaN          NaN          NaN   \n",
       "541        U  1450.0000    2527.2000          NaN          NaN          NaN   \n",
       "542        H  1467.2000    2701.5000          NaN          NaN          NaN   \n",
       "543        S     3.4575       5.5357          NaN          NaN          NaN   \n",
       "\n",
       "             150          175          200  220  ...          450        475  \\\n",
       "0    195270.0000  206810.0000  218350.0000  NaN  ...  333730.0000        NaN   \n",
       "1      2588.5000    2624.9000    2661.7000  NaN  ...    3049.9000        NaN   \n",
       "2      2783.7000    2831.7000    2880.1000  NaN  ...    3383.6000        NaN   \n",
       "3         9.7527       9.8629       9.9679  NaN  ...      10.8200        NaN   \n",
       "4     19510.0000   20660.0000   21820.0000  NaN  ...   33370.0000        NaN   \n",
       "..           ...          ...          ...  ...  ...          ...        ...   \n",
       "539          NaN          NaN          NaN  NaN  ...       6.3515     6.4452   \n",
       "540          NaN          NaN          NaN  NaN  ...      25.5990    27.0100   \n",
       "541          NaN          NaN          NaN  NaN  ...    2929.4000  2982.6000   \n",
       "542          NaN          NaN          NaN  NaN  ...    3221.2000  3290.5000   \n",
       "543          NaN          NaN          NaN  NaN  ...       6.3399     6.4341   \n",
       "\n",
       "             500        525          550        575          600        625  \\\n",
       "0    356810.0000        NaN  379880.0000        NaN  402960.0000        NaN   \n",
       "1      3132.4000        NaN    3216.7000        NaN    3302.6000        NaN   \n",
       "2      3489.2000        NaN    3596.5000        NaN    3705.6000        NaN   \n",
       "3        10.9612        NaN      11.0957        NaN      11.2243        NaN   \n",
       "4     35670.0000        NaN   37980.0000        NaN   40290.0000        NaN   \n",
       "..           ...        ...          ...        ...          ...        ...   \n",
       "539       6.5324     6.6147       6.6929     6.7679       6.8401     6.9099   \n",
       "540      28.3590    29.6610      30.9250    32.1600      33.3700    34.5600   \n",
       "541    3033.9000  3083.9000    3133.1000  3181.9000    3230.4000  3278.8000   \n",
       "542    3357.2000  3422.1000    3485.7000  3548.5000    3610.8000  3672.8000   \n",
       "543       6.5218     6.6043       6.6828     6.7580       6.8304     6.9004   \n",
       "\n",
       "             650             C  \n",
       "0    426040.0000      V at 1.0  \n",
       "1      3390.3000      U at 1.0  \n",
       "2      3816.4000      H at 1.0  \n",
       "3        11.3476      S at 1.0  \n",
       "4     42600.0000     V at 10.0  \n",
       "..           ...           ...  \n",
       "539       6.9777  S at 11200.0  \n",
       "540      35.7330  V at 11400.0  \n",
       "541    3327.2000  U at 11400.0  \n",
       "542    3734.6000  H at 11400.0  \n",
       "543       6.9683  S at 11400.0  \n",
       "\n",
       "[544 rows x 37 columns]"
      ]
     },
     "execution_count": 25,
     "metadata": {},
     "output_type": "execute_result"
    }
   ],
   "source": [
    "df2 = df.drop('Pressure', axis=1)\n",
    "df2"
   ]
  },
  {
   "cell_type": "markdown",
   "metadata": {
    "id": "Ghkj0-0-d1W7"
   },
   "source": [
    "# Section 3: Plotting with Matplotlib"
   ]
  },
  {
   "cell_type": "markdown",
   "metadata": {
    "id": "ka0qrDcZeAL6"
   },
   "source": [
    "### Plot the properties (specific volume, specific internal energy, specific enthalpy, specific entropy) vs Pressure for saturated liquid.\n",
    "\n",
    "Note:\n",
    "- Try using the subplot feature of matplotlib(Explore it!!)\n",
    "- Provide appropriate title, labels, markersize and other parameters to the plot"
   ]
  },
  {
   "cell_type": "code",
   "execution_count": 26,
   "metadata": {
    "id": "XbKdm-cUePKA"
   },
   "outputs": [],
   "source": [
    "from matplotlib import pyplot as plt"
   ]
  },
  {
   "cell_type": "code",
   "execution_count": 27,
   "metadata": {},
   "outputs": [
    {
     "data": {
      "text/plain": [
       "Text(0.5, 0.98, 'For SATURATED LIQUID')"
      ]
     },
     "execution_count": 27,
     "metadata": {},
     "output_type": "execute_result"
    },
    {
     "data": {
      "image/png": "[encoded data removed]",
      "text/plain": [
       "<Figure size 640x480 with 4 Axes>"
      ]
     },
     "metadata": {},
     "output_type": "display_data"
    }
   ],
   "source": [
    "z=[]\n",
    "x=[]\n",
    "c=df.index[df['Property']=='V'].tolist()\n",
    "for i in range(len(c)):\n",
    "    z.append(float(df[\"Liq_Sat\"].values[c[i]]))\n",
    "    x.append(float(df[\"Pressure\"].values[c[i]]))\n",
    "plt.subplot(2,2,1)\n",
    "plt.plot(z,x)\n",
    "plt.title(\"Graph 1\")\n",
    "plt.xlabel(\"Pressure\")\n",
    "plt.ylabel(\"Specific Volume\")\n",
    "z=[]\n",
    "x=[]\n",
    "c=df.index[df['Property']=='U'].tolist()\n",
    "for i in range(len(c)):\n",
    "    z.append(float(df[\"Liq_Sat\"].values[c[i]]))\n",
    "    x.append(float(df[\"Pressure\"].values[c[i]]))\n",
    "plt.subplot(2,2,2)\n",
    "plt.plot(z,x)\n",
    "plt.title(\"Graph 2\")\n",
    "plt.xlabel(\"Pressure\")\n",
    "plt.ylabel(\"Specific Internal Energy\")\n",
    "z=[]\n",
    "x=[]\n",
    "c=df.index[df['Property']=='H'].tolist()\n",
    "for i in range(len(c)):\n",
    "    z.append(float(df[\"Liq_Sat\"].values[c[i]]))\n",
    "    x.append(float(df[\"Pressure\"].values[c[i]]))\n",
    "plt.subplot(2,2,3)\n",
    "plt.plot(z,x)\n",
    "plt.title(\"Graph 3\")\n",
    "plt.xlabel(\"Pressure\")\n",
    "plt.ylabel(\"Specific Enthalpy\")\n",
    "z=[]\n",
    "x=[]\n",
    "c=df.index[df['Property']=='S'].tolist()\n",
    "for i in range(len(c)):\n",
    "    z.append(float(df[\"Liq_Sat\"].values[c[i]]))\n",
    "    x.append(float(df[\"Pressure\"].values[c[i]]))\n",
    "plt.subplot(2,2,4)\n",
    "plt.plot(z,x)\n",
    "plt.title(\"Graph 4\")\n",
    "plt.xlabel(\"Pressure\")\n",
    "plt.ylabel(\"Specific Entropy\")\n",
    "plt.suptitle(\"For SATURATED LIQUID\")\n"
   ]
  },
  {
   "cell_type": "markdown",
   "metadata": {},
   "source": [
    "### Plot the same for saturated vapor."
   ]
  },
  {
   "cell_type": "code",
   "execution_count": 28,
   "metadata": {},
   "outputs": [
    {
     "data": {
      "text/plain": [
       "Text(0.5, 0.98, 'For SATURATED VAPOUR')"
      ]
     },
     "execution_count": 28,
     "metadata": {},
     "output_type": "execute_result"
    },
    {
     "data": {
      "image/png": "[encoded data removed]",
      "text/plain": [
       "<Figure size 640x480 with 4 Axes>"
      ]
     },
     "metadata": {},
     "output_type": "display_data"
    }
   ],
   "source": [
    "z=[]\n",
    "x=[]\n",
    "c=df.index[df['Property']=='V'].tolist()\n",
    "for i in range(len(c)):\n",
    "    z.append(float(df[\"Vap_Sat\"].values[c[i]]))\n",
    "    x.append(float(df[\"Pressure\"].values[c[i]]))\n",
    "plt.subplot(2,2,1)\n",
    "plt.plot(z,x)\n",
    "plt.title(\"Graph 1\")\n",
    "plt.xlabel(\"Pressure\")\n",
    "plt.ylabel(\"Specific Entropy\")\n",
    "z=[]\n",
    "x=[]\n",
    "c=df.index[df['Property']=='U'].tolist()\n",
    "for i in range(len(c)):\n",
    "    z.append(float(df[\"Vap_Sat\"].values[c[i]]))\n",
    "    x.append(float(df[\"Pressure\"].values[c[i]]))\n",
    "plt.subplot(2,2,2)\n",
    "plt.plot(z,x)\n",
    "plt.title(\"Graph 2\")\n",
    "plt.xlabel(\"Pressure\")\n",
    "plt.ylabel(\"Specific Entropy\")\n",
    "z=[]\n",
    "x=[]\n",
    "c=df.index[df['Property']=='H'].tolist()\n",
    "for i in range(len(c)):\n",
    "    z.append(float(df[\"Vap_Sat\"].values[c[i]]))\n",
    "    x.append(float(df[\"Pressure\"].values[c[i]]))\n",
    "plt.subplot(2,2,3)\n",
    "plt.plot(z,x)\n",
    "plt.title(\"Graph 3\")\n",
    "plt.xlabel(\"Pressure\")\n",
    "plt.ylabel(\"Specific Entropy\")\n",
    "z=[]\n",
    "x=[]\n",
    "c=df.index[df['Property']=='S'].tolist()\n",
    "for i in range(len(c)):\n",
    "    z.append(float(df[\"Vap_Sat\"].values[c[i]]))\n",
    "    x.append(float(df[\"Pressure\"].values[c[i]]))\n",
    "plt.subplot(2,2,4)\n",
    "plt.plot(z,x)\n",
    "plt.title(\"Graph 4\")\n",
    "plt.xlabel(\"Pressure\")\n",
    "plt.ylabel(\"Specific Entropy\")\n",
    "plt.suptitle(\"For SATURATED VAPOUR\")"
   ]
  },
  {
   "cell_type": "markdown",
   "metadata": {
    "id": "SCLRji6TeQgh"
   },
   "source": [
    "### Plot the specific volume of saturated liquid between 300 kPa and 1500 kPa"
   ]
  },
  {
   "cell_type": "code",
   "execution_count": 29,
   "metadata": {
    "id": "u6DyyI7MeYgE"
   },
   "outputs": [
    {
     "data": {
      "text/plain": [
       "Text(0, 0.5, 'Specific Volume')"
      ]
     },
     "execution_count": 29,
     "metadata": {},
     "output_type": "execute_result"
    },
    {
     "data": {
      "image/png": "[encoded data removed]",
      "text/plain": [
       "<Figure size 640x480 with 1 Axes>"
      ]
     },
     "metadata": {},
     "output_type": "display_data"
    }
   ],
   "source": [
    "z=[]\n",
    "x=[]\n",
    "c=df.index[df['Property']=='V'].tolist()\n",
    "for i in range(len(c)):\n",
    "    if(float(df['Pressure'].loc[df.index[c[i]]])>=300 and float(df['Pressure'].loc[df.index[c[i]]])<=1500):\n",
    "        z.append(df[\"Liq_Sat\"].values[c[i]])\n",
    "        x.append(df[\"Pressure\"].values[c[i]])\n",
    "plt.plot(z,x)\n",
    "plt.title(\"Graph - Saturated Liquid\")\n",
    "plt.xlabel(\"Pressure\")\n",
    "plt.ylabel(\"Specific Volume\")"
   ]
  },
  {
   "cell_type": "markdown",
   "metadata": {},
   "source": [
    "# Section 4 : Conclusion"
   ]
  },
  {
   "cell_type": "markdown",
   "metadata": {},
   "source": [
    "*Congratulations on reaching this point! I hope you had fun solving your first assignment and have also built confidence in applying these libraries. If you are wondering, we will cover more about z-score normalization in Week 2, and the sigmoid function will be used in Week 3. After completing this assignment, you are now prepared to learn about machine learning techniques and implement your own machine learning models.*"
   ]
  }
 ],
 "metadata": {
  "colab": {
   "provenance": [],
   "toc_visible": true
  },
  "kernelspec": {
   "display_name": "Python 3 (ipykernel)",
   "language": "python",
   "name": "python3"
  },
  "language_info": {
   "codemirror_mode": {
    "name": "ipython",
    "version": 3
   },
   "file_extension": ".py",
   "mimetype": "text/x-python",
   "name": "python",
   "nbconvert_exporter": "python",
   "pygments_lexer": "ipython3",
   "version": "3.12.1"
  }
 },
 "nbformat": 4,
 "nbformat_minor": 1
}
