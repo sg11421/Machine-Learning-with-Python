{
  "cells": [
    {
      "cell_type": "markdown",
      "metadata": {
        "id": "UOzd0zRXW5Uv"
      },
      "source": [
        "# Week-1 Assignment\n",
        "\n",
        "*Welcome to your first assignment for the SimuTech Winter Project 2022! I hope you are excited to implement and test everything you have learned up until now. There is an interesting set of questions for you to refine your acquired skills as you delve into hands-on coding and deepen your understanding of numpy, pandas, and data visualization libraries.*"
      ]
    },
    {
      "cell_type": "markdown",
      "metadata": {
        "id": "2XFUXyq9Y9TG"
      },
      "source": [
        "# Section 0 : Importing Libraries"
      ]
    },
    {
      "cell_type": "markdown",
      "metadata": {
        "id": "D_bzcLusjSO0"
      },
      "source": [
        "*Let's begin by importing numpy, pandas and matplotlib.*"
      ]
    },
    {
      "cell_type": "code",
      "execution_count": 16,
      "metadata": {
        "id": "jdwX7bI7aGeY"
      },
      "outputs": [],
      "source": [
        "#your code here\n",
        "import numpy as np\n",
        "import pandas as pd\n",
        "import matplotlib.pyplot as plt"
      ]
    },
    {
      "cell_type": "markdown",
      "metadata": {
        "id": "LM25mz5ta-Q_"
      },
      "source": [
        "# Section 1 : Playing with Python and Numpy"
      ]
    },
    {
      "cell_type": "markdown",
      "metadata": {
        "id": "TcFQVqhAdQw_"
      },
      "source": [
        "### Q1. Matrix Multiplication"
      ]
    },
    {
      "cell_type": "markdown",
      "metadata": {
        "id": "6Dcai9pys0j8"
      },
      "source": [
        "##### (i) Check if matrix multiplication is valid"
      ]
    },
    {
      "cell_type": "code",
      "execution_count": 17,
      "metadata": {
        "id": "0qC4txIss3gG"
      },
      "outputs": [],
      "source": [
        "def isValid(A,B):\n",
        "  #your code here\n",
        "  # Matrix multiplication is valid if the number of columns of matrix 1 is equal\n",
        "  # to the number of rows of matrix 2\n",
        "  return len(A[0])==len(B)"
      ]
    },
    {
      "cell_type": "markdown",
      "metadata": {
        "id": "OPTfRGlTdXxa"
      },
      "source": [
        "##### (ii) Using loops (without using numpy)"
      ]
    },
    {
      "cell_type": "code",
      "execution_count": 18,
      "metadata": {
        "id": "V8F5ETsRct3S"
      },
      "outputs": [],
      "source": [
        "def matrix_multiply(A,B):\n",
        "  #your code here\n",
        "  A_rows, A_cols = len(A), len(A[0])\n",
        "  B_rows, B_cols = len(B), len(B[0])\n",
        "\n",
        "  # Initializing mul matrix\n",
        "  mul = [[0 for _ in range(B_cols)] for _ in range(A_rows)]\n",
        "\n",
        "  for i in range(A_rows):\n",
        "    for j in range(B_cols):\n",
        "      for k in range(A_cols):\n",
        "        mul[i][j] += A[i][k] * B[k][j]\n",
        "\n",
        "  return mul"
      ]
    },
    {
      "cell_type": "markdown",
      "metadata": {
        "id": "umUgUTSWdos8"
      },
      "source": [
        "##### (iii) Using numpy"
      ]
    },
    {
      "cell_type": "code",
      "execution_count": 19,
      "metadata": {
        "id": "-tdXlCHrduBP"
      },
      "outputs": [],
      "source": [
        "def matrix_multiply_2(A,B):\n",
        "  #your code here\n",
        "  A_np = np.array(A)\n",
        "  B_np = np.array(B)\n",
        "\n",
        "  mul = np.dot(A_np, B_np)\n",
        "  result = mul.tolist()\n",
        "\n",
        "  return result"
      ]
    },
    {
      "cell_type": "markdown",
      "metadata": {
        "id": "2nMFnl84edJG"
      },
      "source": [
        "##### (iv) Testing your code\n",
        "\n",
        "Run the following cell to check if your functions are working properly.\n",
        "\n",
        "*Expected output:*\n",
        "[ [102 108 114]\n",
        " [246 261 276]\n",
        " [390 414 438]\n",
        " [534 567 600] ]"
      ]
    },
    {
      "cell_type": "code",
      "execution_count": 20,
      "metadata": {
        "id": "09rX_Cm9ezmq",
        "colab": {
          "base_uri": "https://localhost:8080/"
        },
        "outputId": "ab142c6e-27d2-4ca2-d902-8c7e4c0dd4b0"
      },
      "outputs": [
        {
          "output_type": "stream",
          "name": "stdout",
          "text": [
            "Result using loops: [[102, 108, 114], [246, 261, 276], [390, 414, 438], [534, 567, 600]]\n",
            "Result using numpy: [[102, 108, 114], [246, 261, 276], [390, 414, 438], [534, 567, 600]]\n"
          ]
        }
      ],
      "source": [
        "A = np.array([\n",
        "    [1, 2, 3],\n",
        "    [4, 5, 6],\n",
        "    [7, 8, 9],\n",
        "    [10, 11, 12]\n",
        "])\n",
        "\n",
        "B = np.array([\n",
        "    [13, 14, 15],\n",
        "    [16, 17, 18],\n",
        "    [19, 20, 21]\n",
        "])\n",
        "\n",
        "if isValid(A,B):\n",
        "  print(f\"Result using loops: {matrix_multiply(A,B)}\")\n",
        "  print(f\"Result using numpy: {matrix_multiply_2(A,B)}\")\n",
        "else:\n",
        "  print(f\"Matrix multiplication is not valid\")"
      ]
    },
    {
      "cell_type": "markdown",
      "metadata": {
        "id": "5hfP7Ao1fwqV"
      },
      "source": [
        "### Q2. Z-Score Normalisation"
      ]
    },
    {
      "cell_type": "markdown",
      "metadata": {
        "id": "0e81Xx5Kw_CQ"
      },
      "source": [
        "Z-score normalization refers to the process of normalizing every value in a dataset such that the mean of all of the values is 0 and the standard deviation is 1.\n",
        "\n",
        "We use the following formula to perform a z-score normalization on every value in a dataset:\n",
        "\n",
        "New value = (x – μ) / σ\n",
        "\n",
        "where:\n",
        "\n",
        "x: Original value\n",
        "\n",
        "μ: Mean of data\n",
        "\n",
        "σ: Standard deviation of data"
      ]
    },
    {
      "cell_type": "markdown",
      "metadata": {
        "id": "GP_MuyUbguSR"
      },
      "source": [
        "##### (i) Without using numpy"
      ]
    },
    {
      "cell_type": "code",
      "execution_count": 21,
      "metadata": {
        "id": "0vix8qaaghwP"
      },
      "outputs": [],
      "source": [
        "def mean(x):\n",
        "  #your code here\n",
        "  if(len(x)==0):\n",
        "      print(\"The list is empty\")\n",
        "      return None\n",
        "  mean_value = sum(x)/len(x)\n",
        "\n",
        "  return mean_value"
      ]
    },
    {
      "cell_type": "code",
      "execution_count": 22,
      "metadata": {
        "id": "j1qabel-g_f5"
      },
      "outputs": [],
      "source": [
        "def standard_deviation(x):\n",
        "  #your code here\n",
        "  if(len(x)==0):\n",
        "      print(\"The list is empty\")\n",
        "      return None\n",
        "\n",
        "  variance = (sum((xi - mean(x)) ** 2 for xi in x)/len(x))\n",
        "  std_dev = np.sqrt(variance)\n",
        "\n",
        "  return std_dev"
      ]
    },
    {
      "cell_type": "code",
      "execution_count": 23,
      "metadata": {
        "id": "797ewbNqhEpY"
      },
      "outputs": [],
      "source": [
        "def zscore_normalisation(x):\n",
        "  #your code here\n",
        "  if (len(x)==0):\n",
        "    print(\"The list is empty\")\n",
        "    return None\n",
        "\n",
        "  mean_value = mean(x)\n",
        "  std_dev = standard_deviation(x)\n",
        "\n",
        "  if (std_dev==0):\n",
        "    print(\"The value of standard devation is Zero, thus cannot perform Z-Score Normalization\")\n",
        "    return None\n",
        "\n",
        "  New_value = [0 for _ in range(len(x))]\n",
        "  New_value = [(xi - mean_value)/std_dev for xi in x]\n",
        "\n",
        "  return New_value\n"
      ]
    },
    {
      "cell_type": "markdown",
      "metadata": {
        "id": "k8dq1wqRhbUB"
      },
      "source": [
        "##### (ii) Using numpy\n",
        "\n",
        "Numpy has in_built functions for calculating mean and standard deviation"
      ]
    },
    {
      "cell_type": "code",
      "execution_count": 24,
      "metadata": {
        "id": "WjxJTUDihsYg"
      },
      "outputs": [],
      "source": [
        "def zscore_normalisation_2(x):\n",
        "  #your code here\n",
        "  np_x = np.array(x)\n",
        "\n",
        "  if (np_x.size==0):\n",
        "    print(\"The list is empty\")\n",
        "    return None\n",
        "  mean_value = np.mean(np_x)\n",
        "  std_dev = np.std(np_x)\n",
        "\n",
        "  if (std_dev==0):\n",
        "    print(\"The value of standard devation is Zero, thus cannot perform Z-Score Normalization\")\n",
        "    return None\n",
        "\n",
        "  New_value = [0 for _ in range(len(x))]\n",
        "  New_value = ((np_x - mean_value)/std_dev)\n",
        "\n",
        "  return New_value.tolist()\n"
      ]
    },
    {
      "cell_type": "markdown",
      "metadata": {
        "id": "glRqKU-_1pue"
      },
      "source": [
        "##### (iii) Testing your code"
      ]
    },
    {
      "cell_type": "markdown",
      "metadata": {
        "id": "Kl7XBymOigCU"
      },
      "source": [
        "Run the following cell to check if your functions are working properly.\n",
        "\n",
        "*Expected Output:* [-1.06753267 -0.99745394 -0.99745394 -0.81057732 -0.41346451 -0.06307086\n",
        "  0.31068237  0.91803138  1.22170588  1.89913361]"
      ]
    },
    {
      "cell_type": "code",
      "execution_count": 25,
      "metadata": {
        "id": "78ptZxf6ipZp",
        "colab": {
          "base_uri": "https://localhost:8080/"
        },
        "outputId": "ba68322a-db49-4e41-cdc6-ebacc8354ffc"
      },
      "outputs": [
        {
          "output_type": "stream",
          "name": "stdout",
          "text": [
            "Result without using numpy: [-1.0675326683028088, -0.9974539373420117, -0.9974539373420117, -0.8105773214465528, -0.41346451266870277, -0.06307085786471743, 0.3106823739262003, 0.9180313755864415, 1.2217058764165623, 1.8991336090376005]\n",
            "Result using numpy: [-1.0675326683028088, -0.9974539373420117, -0.9974539373420117, -0.8105773214465528, -0.41346451266870277, -0.06307085786471743, 0.3106823739262003, 0.9180313755864415, 1.2217058764165623, 1.8991336090376005]\n"
          ]
        }
      ],
      "source": [
        "x = [4, 7, 7, 15, 32, 47, 63, 89, 102, 131]\n",
        "print(f\"Result without using numpy: {zscore_normalisation(x)}\")\n",
        "print(f\"Result using numpy: {zscore_normalisation_2(x)}\")"
      ]
    },
    {
      "cell_type": "markdown",
      "metadata": {
        "id": "0WVscJ0z14rp"
      },
      "source": [
        "### Q3. Sigmoid fn and its derivative"
      ]
    },
    {
      "cell_type": "markdown",
      "metadata": {
        "id": "Jfntb0Rg94Tu"
      },
      "source": [
        "The sigmoid function is a mathematical function that maps any input value to a value between 0 and 1.\n",
        "\n",
        "It is defined mathematically as s(x) = 1/(1+e^(-x))."
      ]
    },
    {
      "cell_type": "markdown",
      "metadata": {
        "id": "8SCAPkjO2m7u"
      },
      "source": [
        "##### (i) Write a fn to implement sigmoid fn"
      ]
    },
    {
      "cell_type": "code",
      "execution_count": 26,
      "metadata": {
        "id": "jL_TRQFG2l5m"
      },
      "outputs": [],
      "source": [
        "def sigmoidfn(x):\n",
        "  #your code here\n",
        "  s = 1/(1+np.exp(-x))\n",
        "  return s"
      ]
    },
    {
      "cell_type": "markdown",
      "metadata": {
        "id": "t7KBbl7N3AUM"
      },
      "source": [
        "##### (ii) Write a fn to implement derivative of sigmoid fn"
      ]
    },
    {
      "cell_type": "code",
      "execution_count": 27,
      "metadata": {
        "id": "okjuOpba3KOJ"
      },
      "outputs": [],
      "source": [
        "def derivative(x):\n",
        "  #your code here\n",
        "  s = sigmoidfn(x)\n",
        "  derivative = s * (1-s)\n",
        "  return derivative"
      ]
    },
    {
      "cell_type": "markdown",
      "metadata": {
        "id": "NdGTSpsp3mwr"
      },
      "source": [
        "##### (iii) Test your code"
      ]
    },
    {
      "cell_type": "markdown",
      "metadata": {
        "id": "lWY8RBex7gnd"
      },
      "source": [
        "Run the following cell to check if your functions are working properly.\n",
        "\n",
        "*Expected output:*\n",
        "\n",
        "x on applying sigmoid activation fn is: [ [0.99987661 0.88079708 0.99330715 0.5        0.5       ]\n",
        " [0.99908895 0.99330715 0.5        0.5        0.5       ] ]\n",
        "\n",
        "x on applying derivative of sigmoid activation fn is: [ [-1.23379350e-04 -1.04993585e-01 -6.64805667e-03 -2.50000000e-01\n",
        "  -2.50000000e-01]\n",
        " [-9.10221180e-04 -6.64805667e-03 -2.50000000e-01 -2.50000000e-01\n",
        "  -2.50000000e-01] ]"
      ]
    },
    {
      "cell_type": "code",
      "execution_count": 28,
      "metadata": {
        "id": "ssDGpmS33vdA",
        "colab": {
          "base_uri": "https://localhost:8080/"
        },
        "outputId": "0c40ed5b-34ff-45f8-b7d8-ac87f8f41b96"
      },
      "outputs": [
        {
          "output_type": "stream",
          "name": "stdout",
          "text": [
            "x on applying sigmoid activation fn is: [[0.99987661 0.88079708 0.99330715 0.5        0.5       ]\n",
            " [0.99908895 0.99330715 0.5        0.5        0.5       ]]\n",
            "x on applying derivative of sigmoid activation fn is: [[1.23379350e-04 1.04993585e-01 6.64805667e-03 2.50000000e-01\n",
            "  2.50000000e-01]\n",
            " [9.10221180e-04 6.64805667e-03 2.50000000e-01 2.50000000e-01\n",
            "  2.50000000e-01]]\n"
          ]
        }
      ],
      "source": [
        "x = np.array([\n",
        "    [9,2,5,0,0],\n",
        "    [7,5,0,0,0]\n",
        "])\n",
        "print(f\"x on applying sigmoid activation fn is: {sigmoidfn(x)}\")\n",
        "print(f\"x on applying derivative of sigmoid activation fn is: {derivative(x)}\")"
      ]
    },
    {
      "cell_type": "markdown",
      "metadata": {
        "id": "PMa0cseyZpa1"
      },
      "source": [
        "# Section 2: Exploring Pandas"
      ]
    },
    {
      "cell_type": "markdown",
      "metadata": {
        "id": "RiwqWsjlGLLs"
      },
      "source": [
        "*You have been provided with a dataset which includes information about properties of superheated vapor.*\n",
        "\n",
        "*The dataset consists of the thermophysical properties: specific volume, specific internal energy, specific enthalpy, specific entropy of superheated vapor.*\n",
        "\n",
        "*Pressure is in kPa and Temperature in centigrade. In the dataframe 75, 100, 125, etc. are temperatures.*"
      ]
    },
    {
      "cell_type": "markdown",
      "metadata": {
        "id": "i5Okb_jxZ_VW"
      },
      "source": [
        "### Read the csv file\n"
      ]
    },
    {
      "cell_type": "code",
      "execution_count": 29,
      "metadata": {
        "id": "aQgvyavrcM1l"
      },
      "outputs": [],
      "source": [
        "#your code here\n",
        "data = pd.read_csv(\"/content/superheated_vapor_properties.csv\")"
      ]
    },
    {
      "cell_type": "markdown",
      "metadata": {
        "id": "Zp8F3rk2cNxy"
      },
      "source": [
        "### Display the shape of data frame\n"
      ]
    },
    {
      "cell_type": "code",
      "execution_count": 30,
      "metadata": {
        "id": "v3Q8kQkucgK0",
        "colab": {
          "base_uri": "https://localhost:8080/"
        },
        "outputId": "1e25d0f9-75b0-49bd-aa66-9fc8f0b744c2"
      },
      "outputs": [
        {
          "output_type": "stream",
          "name": "stdout",
          "text": [
            "(544, 37)\n"
          ]
        }
      ],
      "source": [
        "#your code here\n",
        "print(data.shape)"
      ]
    },
    {
      "cell_type": "markdown",
      "metadata": {
        "id": "w49cp-8zcgd2"
      },
      "source": [
        "### Return an array containing names of all the columns"
      ]
    },
    {
      "cell_type": "code",
      "execution_count": 31,
      "metadata": {
        "id": "fz4HRb3JcsZp",
        "colab": {
          "base_uri": "https://localhost:8080/"
        },
        "outputId": "8d486fb5-560e-4c98-9e9d-391ff9636aa6"
      },
      "outputs": [
        {
          "output_type": "stream",
          "name": "stdout",
          "text": [
            "Column Names are  ['Pressure' 'Property' 'Liq_Sat' 'Vap_Sat' '75' '100' '125' '150' '175'\n",
            " '200' '220' '225' '240' '250' '260' '275' '280' '290' '300' '320' '325'\n",
            " '340' '350' '360' '375' '380' '400' '425' '450' '475' '500' '525' '550'\n",
            " '575' '600' '625' '650']\n"
          ]
        }
      ],
      "source": [
        "#your code here\n",
        "col_names = data.columns.to_numpy()\n",
        "print(\"Column Names are \",col_names)"
      ]
    },
    {
      "cell_type": "markdown",
      "metadata": {
        "id": "YkTH9tRWcrH-"
      },
      "source": [
        "### Display the number of null values in each column of the dataframe\n",
        "\n"
      ]
    },
    {
      "cell_type": "code",
      "execution_count": 32,
      "metadata": {
        "id": "GK9-PJPxc3Ot",
        "colab": {
          "base_uri": "https://localhost:8080/"
        },
        "outputId": "f755f653-9d65-426b-b270-597e230c6d0e"
      },
      "outputs": [
        {
          "output_type": "stream",
          "name": "stdout",
          "text": [
            "Null values: \n",
            "      Pressure  Property  Liq_Sat  Vap_Sat     75    100    125    150    175  \\\n",
            "0       False     False    False    False  False  False  False  False  False   \n",
            "1       False     False    False    False  False  False  False  False  False   \n",
            "2       False     False    False    False  False  False  False  False  False   \n",
            "3       False     False    False    False  False  False  False  False  False   \n",
            "4       False     False    False    False  False  False  False  False  False   \n",
            "..        ...       ...      ...      ...    ...    ...    ...    ...    ...   \n",
            "539     False     False    False    False   True   True   True   True   True   \n",
            "540     False     False    False    False   True   True   True   True   True   \n",
            "541     False     False    False    False   True   True   True   True   True   \n",
            "542     False     False    False    False   True   True   True   True   True   \n",
            "543     False     False    False    False   True   True   True   True   True   \n",
            "\n",
            "       200  ...    425    450    475    500    525    550    575    600  \\\n",
            "0    False  ...   True  False   True  False   True  False   True  False   \n",
            "1    False  ...   True  False   True  False   True  False   True  False   \n",
            "2    False  ...   True  False   True  False   True  False   True  False   \n",
            "3    False  ...   True  False   True  False   True  False   True  False   \n",
            "4    False  ...   True  False   True  False   True  False   True  False   \n",
            "..     ...  ...    ...    ...    ...    ...    ...    ...    ...    ...   \n",
            "539   True  ...  False  False  False  False  False  False  False  False   \n",
            "540   True  ...  False  False  False  False  False  False  False  False   \n",
            "541   True  ...  False  False  False  False  False  False  False  False   \n",
            "542   True  ...  False  False  False  False  False  False  False  False   \n",
            "543   True  ...  False  False  False  False  False  False  False  False   \n",
            "\n",
            "       625    650  \n",
            "0     True  False  \n",
            "1     True  False  \n",
            "2     True  False  \n",
            "3     True  False  \n",
            "4     True  False  \n",
            "..     ...    ...  \n",
            "539  False  False  \n",
            "540  False  False  \n",
            "541  False  False  \n",
            "542  False  False  \n",
            "543  False  False  \n",
            "\n",
            "[544 rows x 37 columns]\n",
            "Total number of Null values in each column are: \n",
            " Pressure      0\n",
            "Property      0\n",
            "Liq_Sat       0\n",
            "Vap_Sat       0\n",
            "75          528\n",
            "100         508\n",
            "125         488\n",
            "150         448\n",
            "175         384\n",
            "200         320\n",
            "220         408\n",
            "225         400\n",
            "240         408\n",
            "250         344\n",
            "260         384\n",
            "275         340\n",
            "280         380\n",
            "290         488\n",
            "300          60\n",
            "320         480\n",
            "325         136\n",
            "340         476\n",
            "350          68\n",
            "360         476\n",
            "375         204\n",
            "380         476\n",
            "400           0\n",
            "425         204\n",
            "450           0\n",
            "475         204\n",
            "500           0\n",
            "525         272\n",
            "550           0\n",
            "575         340\n",
            "600           0\n",
            "625         476\n",
            "650           0\n",
            "dtype: int64\n"
          ]
        }
      ],
      "source": [
        "#your code here\n",
        "null_values = data.isnull()\n",
        "print(\"Null values: \\n\", null_values)\n",
        "\n",
        "no_of_null_values = null_values.sum()\n",
        "print(\"Total number of Null values in each column are: \\n\", no_of_null_values)"
      ]
    },
    {
      "cell_type": "markdown",
      "metadata": {
        "id": "Av-lcft2c3mx"
      },
      "source": [
        "### Create a column which contains the Pressure and Property columns, seperated with 'at' (For eg. V at 1, H at 101.325). Using this print the following:\n",
        "- Enthalpy at 75 kPa and 573 K\n",
        "- Entropy at 493 K and 250 kPa\n",
        "\n"
      ]
    },
    {
      "cell_type": "code",
      "source": [
        "#your code here\n",
        "df = pd.DataFrame(data)\n",
        "\n",
        "df['Pressure_Property'] = df['Property'] + ' at ' + df['Pressure'].astype(str)\n",
        "\n",
        "Enthalpy = df.loc[(df['Pressure_Property'] == 'H at 75.0'), '300'].values[0]\n",
        "print(\"Enthalpy at 75 kPa and 573 K:\", Enthalpy)\n",
        "\n",
        "Entropy = df.loc[(df['Pressure_Property'] == 'S at 250.0'), '220'].values[0]\n",
        "print(\"Enthalpy at 493 K and 250 kPa:\", Entropy)\n"
      ],
      "metadata": {
        "colab": {
          "base_uri": "https://localhost:8080/"
        },
        "id": "JFh3_H75ze6F",
        "outputId": "9eb8f39e-f5fa-4674-e9f3-c00860c79f31"
      },
      "execution_count": 54,
      "outputs": [
        {
          "output_type": "stream",
          "name": "stdout",
          "text": [
            "Enthalpy at 75 kPa and 573 K: 3075.1\n",
            "Enthalpy at 493 K and 250 kPa: nan\n"
          ]
        }
      ]
    },
    {
      "cell_type": "markdown",
      "metadata": {
        "id": "GpLtXYRLc4Ho"
      },
      "source": [
        "### Find out the column with the highest number of missing values"
      ]
    },
    {
      "cell_type": "code",
      "execution_count": 55,
      "metadata": {
        "id": "q80Grgeyc4Xn",
        "colab": {
          "base_uri": "https://localhost:8080/"
        },
        "outputId": "2de0699c-767a-468b-d347-09123c0e2a4d"
      },
      "outputs": [
        {
          "output_type": "stream",
          "name": "stdout",
          "text": [
            "Column with the highest number of missing values is  75\n"
          ]
        }
      ],
      "source": [
        "#your code here\n",
        "\n",
        "req_col = data.isnull().sum().idxmax()\n",
        "\n",
        "print(\"Column with the highest number of missing values is \", req_col)"
      ]
    },
    {
      "cell_type": "markdown",
      "metadata": {
        "id": "74NVHTTac4nv"
      },
      "source": [
        "### What is the average enthalpy of Sat. Liq. at all different pressures in the dataset?"
      ]
    },
    {
      "cell_type": "code",
      "execution_count": 56,
      "metadata": {
        "id": "g3mByhBDdpVr",
        "colab": {
          "base_uri": "https://localhost:8080/"
        },
        "outputId": "d25ea37e-54f8-4033-8c0c-1534779a35ae"
      },
      "outputs": [
        {
          "output_type": "stream",
          "name": "stdout",
          "text": [
            "Average enthalpy of Sat. Liq. at all different pressures:  936.9707720588235\n"
          ]
        }
      ],
      "source": [
        "#your code here\n",
        "Enthalpy_df = data[data['Property']=='H']\n",
        "\n",
        "avg_enthalpy = Enthalpy_df['Liq_Sat'].mean()\n",
        "\n",
        "print(\"Average enthalpy of Sat. Liq. at all different pressures: \",avg_enthalpy)"
      ]
    },
    {
      "cell_type": "markdown",
      "metadata": {
        "id": "uS-SuqU8dpxg"
      },
      "source": [
        "### Separate out the V,U,H,S data from the dataset into V_data, U_data, H_data, S_data"
      ]
    },
    {
      "cell_type": "code",
      "execution_count": 57,
      "metadata": {
        "id": "Sg3V9Toyd1Av",
        "colab": {
          "base_uri": "https://localhost:8080/"
        },
        "outputId": "8e223cd1-05f4-4e65-f1bc-e14e6c0cd719"
      },
      "outputs": [
        {
          "output_type": "stream",
          "name": "stdout",
          "text": [
            "V_data: \n",
            "      Pressure Property  Liq_Sat     Vap_Sat        75       100       125  \\\n",
            "0         1.0        V    1.000  129200.000  160640.0  172180.0  183720.0   \n",
            "4        10.0        V    1.010   14670.000   16030.0   17190.0   18350.0   \n",
            "8        20.0        V    1.017    7649.800    8000.0    8584.7    9167.1   \n",
            "12       30.0        V    1.022    5229.300    5322.0    5714.4    6104.6   \n",
            "16       40.0        V    1.027    3993.400       NaN    4279.2    4573.3   \n",
            "..        ...      ...      ...         ...       ...       ...       ...   \n",
            "524   10600.0        V    1.474      16.778       NaN       NaN       NaN   \n",
            "528   10800.0        V    1.481      16.385       NaN       NaN       NaN   \n",
            "532   11000.0        V    1.489      16.006       NaN       NaN       NaN   \n",
            "536   11200.0        V    1.496      15.639       NaN       NaN       NaN   \n",
            "540   11400.0        V    1.504      15.284       NaN       NaN       NaN   \n",
            "\n",
            "          150       175       200  ...         450     475         500  \\\n",
            "0    195270.0  206810.0  218350.0  ...  333730.000     NaN  356810.000   \n",
            "4     19510.0   20660.0   21820.0  ...   33370.000     NaN   35670.000   \n",
            "8      9748.0   10320.0   10900.0  ...   16680.000     NaN   17830.000   \n",
            "12     6493.2    6880.8    7267.5  ...   11120.000     NaN   11890.000   \n",
            "16     4865.8    5157.2    5447.8  ...    8340.100     NaN    8917.600   \n",
            "..        ...       ...       ...  ...         ...     ...         ...   \n",
            "524       NaN       NaN       NaN  ...      27.834  29.313      30.732   \n",
            "528       NaN       NaN       NaN  ...      27.245  28.706      30.106   \n",
            "532       NaN       NaN       NaN  ...      26.676  28.120      29.503   \n",
            "536       NaN       NaN       NaN  ...      26.128  27.555      28.921   \n",
            "540       NaN       NaN       NaN  ...      25.599  27.010      28.359   \n",
            "\n",
            "        525         550     575         600     625         650  \\\n",
            "0       NaN  379880.000     NaN  402960.000     NaN  426040.000   \n",
            "4       NaN   37980.000     NaN   40290.000     NaN   42600.000   \n",
            "8       NaN   18990.000     NaN   20140.000     NaN   21300.000   \n",
            "12      NaN   12660.000     NaN   13430.000     NaN   14190.000   \n",
            "16      NaN    9494.900     NaN   10070.000     NaN   10640.000   \n",
            "..      ...         ...     ...         ...     ...         ...   \n",
            "524  32.106      33.444  34.753      36.039  37.304      38.552   \n",
            "528  31.461      32.779  34.069      35.335  36.580      37.808   \n",
            "532  30.839      32.139  33.410      34.656  35.882      37.091   \n",
            "536  30.240      31.521  32.774      34.002  35.210      36.400   \n",
            "540  29.661      30.925  32.160      33.370  34.560      35.733   \n",
            "\n",
            "     Pressure_Property  \n",
            "0             V at 1.0  \n",
            "4            V at 10.0  \n",
            "8            V at 20.0  \n",
            "12           V at 30.0  \n",
            "16           V at 40.0  \n",
            "..                 ...  \n",
            "524       V at 10600.0  \n",
            "528       V at 10800.0  \n",
            "532       V at 11000.0  \n",
            "536       V at 11200.0  \n",
            "540       V at 11400.0  \n",
            "\n",
            "[136 rows x 38 columns]\n",
            "U_data: \n",
            "      Pressure Property   Liq_Sat  Vap_Sat      75     100     125     150  \\\n",
            "1         1.0        U    29.334   2385.2  2480.8  2516.4  2552.3  2588.5   \n",
            "5        10.0        U   191.822   2438.0  2479.7  2515.6  2551.6  2588.0   \n",
            "9        20.0        U   251.432   2456.9  2478.4  2514.6  2550.9  2587.4   \n",
            "13       30.0        U   289.271   2468.6  2477.1  2513.6  2550.2  2586.8   \n",
            "17       40.0        U   317.609   2477.1     NaN  2512.6  2549.4  2586.2   \n",
            "..        ...      ...       ...      ...     ...     ...     ...     ...   \n",
            "525   10600.0        U  1418.100   2539.0     NaN     NaN     NaN     NaN   \n",
            "529   10800.0        U  1426.200   2536.2     NaN     NaN     NaN     NaN   \n",
            "533   11000.0        U  1434.200   2533.2     NaN     NaN     NaN     NaN   \n",
            "537   11200.0        U  1442.100   2530.3     NaN     NaN     NaN     NaN   \n",
            "541   11400.0        U  1450.000   2527.2     NaN     NaN     NaN     NaN   \n",
            "\n",
            "        175     200  ...     450     475     500     525     550     575  \\\n",
            "1    2624.9  2661.7  ...  3049.9     NaN  3132.4     NaN  3216.7     NaN   \n",
            "5    2624.5  2661.4  ...  3049.8     NaN  3132.3     NaN  3216.6     NaN   \n",
            "9    2624.1  2661.0  ...  3049.7     NaN  3132.3     NaN  3216.5     NaN   \n",
            "13   2623.6  2660.7  ...  3049.6     NaN  3132.2     NaN  3216.5     NaN   \n",
            "17   2623.2  2660.3  ...  3049.5     NaN  3132.1     NaN  3216.4     NaN   \n",
            "..      ...     ...  ...     ...     ...     ...     ...     ...     ...   \n",
            "525     NaN     NaN  ...  2939.1  2991.1  3041.4  3090.7  3139.3  3187.5   \n",
            "529     NaN     NaN  ...  2936.7  2989.0  3039.6  3089.0  3137.8  3186.1   \n",
            "533     NaN     NaN  ...  2934.3  2986.9  3037.7  3087.3  3136.2  3184.7   \n",
            "537     NaN     NaN  ...  2931.8  2984.8  3035.8  3085.6  3134.7  3183.3   \n",
            "541     NaN     NaN  ...  2929.4  2982.6  3033.9  3083.9  3133.1  3181.9   \n",
            "\n",
            "        600     625     650  Pressure_Property  \n",
            "1    3302.6     NaN  3390.3           U at 1.0  \n",
            "5    3302.6     NaN  3390.3          U at 10.0  \n",
            "9    3302.5     NaN  3390.2          U at 20.0  \n",
            "13   3302.5     NaN  3390.2          U at 30.0  \n",
            "17   3302.4     NaN  3390.1          U at 40.0  \n",
            "..      ...     ...     ...                ...  \n",
            "525  3235.6  3283.6  3331.7       U at 10600.0  \n",
            "529  3234.3  3282.4  3330.6       U at 10800.0  \n",
            "533  3233.0  3281.2  3329.5       U at 11000.0  \n",
            "537  3231.7  3280.0  3328.4       U at 11200.0  \n",
            "541  3230.4  3278.8  3327.2       U at 11400.0  \n",
            "\n",
            "[136 rows x 38 columns]\n",
            "H_data: \n",
            "      Pressure Property   Liq_Sat  Vap_Sat      75     100     125     150  \\\n",
            "2         1.0        H    29.335   2514.4  2641.5  2688.6  2736.0  2783.7   \n",
            "6        10.0        H   191.832   2584.8  2640.0  2687.5  2735.2  2783.1   \n",
            "10       20.0        H   251.453   2609.9  2638.4  2686.3  2734.2  2782.3   \n",
            "14       30.0        H   289.302   2625.4  2636.8  2685.1  2733.3  2781.6   \n",
            "18       40.0        H   317.650   2636.9     NaN  2683.8  2732.3  2780.9   \n",
            "..        ...      ...       ...      ...     ...     ...     ...     ...   \n",
            "526   10600.0        H  1433.700   2716.9     NaN     NaN     NaN     NaN   \n",
            "530   10800.0        H  1442.200   2713.1     NaN     NaN     NaN     NaN   \n",
            "534   11000.0        H  1450.600   2709.3     NaN     NaN     NaN     NaN   \n",
            "538   11200.0        H  1458.900   2705.4     NaN     NaN     NaN     NaN   \n",
            "542   11400.0        H  1467.200   2701.5     NaN     NaN     NaN     NaN   \n",
            "\n",
            "        175     200  ...     450     475     500     525     550     575  \\\n",
            "2    2831.7  2880.1  ...  3383.6     NaN  3489.2     NaN  3596.5     NaN   \n",
            "6    2831.2  2879.6  ...  3383.5     NaN  3489.1     NaN  3596.5     NaN   \n",
            "10   2830.6  2879.2  ...  3383.4     NaN  3489.0     NaN  3596.4     NaN   \n",
            "14   2830.0  2878.7  ...  3383.3     NaN  3488.9     NaN  3596.3     NaN   \n",
            "18   2829.5  2878.2  ...  3383.1     NaN  3488.8     NaN  3596.2     NaN   \n",
            "..      ...     ...  ...     ...     ...     ...     ...     ...     ...   \n",
            "526     NaN     NaN  ...  3234.1  3301.8  3367.2  3431.0  3493.8  3555.9   \n",
            "530     NaN     NaN  ...  3230.9  3299.0  3364.7  3428.8  3491.8  3554.1   \n",
            "534     NaN     NaN  ...  3227.7  3296.2  3362.2  3426.5  3489.7  3552.2   \n",
            "538     NaN     NaN  ...  3224.5  3293.4  3359.7  3424.3  3487.7  3550.4   \n",
            "542     NaN     NaN  ...  3221.2  3290.5  3357.2  3422.1  3485.7  3548.5   \n",
            "\n",
            "        600     625     650  Pressure_Property  \n",
            "2    3705.6     NaN  3816.4           H at 1.0  \n",
            "6    3705.5     NaN  3816.3          H at 10.0  \n",
            "10   3705.4     NaN  3816.2          H at 20.0  \n",
            "14   3705.4     NaN  3816.2          H at 30.0  \n",
            "18   3705.3     NaN  3816.1          H at 40.0  \n",
            "..      ...     ...     ...                ...  \n",
            "526  3617.6  3679.1  3740.4       H at 10600.0  \n",
            "530  3615.9  3677.5  3738.9       H at 10800.0  \n",
            "534  3614.2  3675.9  3737.5       H at 11000.0  \n",
            "538  3612.5  3674.4  3736.0       H at 11200.0  \n",
            "542  3610.8  3672.8  3734.6       H at 11400.0  \n",
            "\n",
            "[136 rows x 38 columns]\n",
            "S_data: \n",
            "      Pressure Property  Liq_Sat  Vap_Sat      75     100     125     150  \\\n",
            "3         1.0        S   0.1060   8.9767  9.3828  9.5136  9.6365  9.7527   \n",
            "7        10.0        S   0.6493   8.1511  8.3168  8.4486  8.5722  8.6888   \n",
            "11       20.0        S   0.8321   7.9094  7.9933  8.1261  8.2504  8.3676   \n",
            "15       30.0        S   0.9441   7.7695  7.8024  7.9363  8.0614  8.1791   \n",
            "19       40.0        S   1.0261   7.6709     NaN  7.8009  7.9268  8.0450   \n",
            "..        ...      ...      ...      ...     ...     ...     ...     ...   \n",
            "527   10600.0        S   3.4029   5.5835     NaN     NaN     NaN     NaN   \n",
            "531   10800.0        S   3.4167   5.5715     NaN     NaN     NaN     NaN   \n",
            "535   11000.0        S   3.4304   5.5595     NaN     NaN     NaN     NaN   \n",
            "539   11200.0        S   3.4440   5.5476     NaN     NaN     NaN     NaN   \n",
            "543   11400.0        S   3.4575   5.5357     NaN     NaN     NaN     NaN   \n",
            "\n",
            "        175     200  ...      450     475      500     525      550     575  \\\n",
            "3    9.8629  9.9679  ...  10.8200     NaN  10.9612     NaN  11.0957     NaN   \n",
            "7    8.7994  8.9045  ...   9.7572     NaN   9.8984     NaN  10.0329     NaN   \n",
            "11   8.4785  8.5839  ...   9.4372     NaN   9.5784     NaN   9.7130     NaN   \n",
            "15   8.2903  8.3960  ...   9.2499     NaN   9.3912     NaN   9.5257     NaN   \n",
            "19   8.1566  8.2624  ...   9.1170     NaN   9.2583     NaN   9.3929     NaN   \n",
            "..      ...     ...  ...      ...     ...      ...     ...      ...     ...   \n",
            "527     NaN     NaN  ...   6.3872  6.4793   6.5652  6.6465   6.7239  6.7983   \n",
            "531     NaN     NaN  ...   6.3752  6.4678   6.5542  6.6357   6.7134  6.7880   \n",
            "535     NaN     NaN  ...   6.3633  6.4564   6.5432  6.6251   6.7031  6.7779   \n",
            "539     NaN     NaN  ...   6.3515  6.4452   6.5324  6.6147   6.6929  6.7679   \n",
            "543     NaN     NaN  ...   6.3399  6.4341   6.5218  6.6043   6.6828  6.7580   \n",
            "\n",
            "         600     625      650  Pressure_Property  \n",
            "3    11.2243     NaN  11.3476           S at 1.0  \n",
            "7    10.1616     NaN  10.2849          S at 10.0  \n",
            "11    9.8416     NaN   9.9650          S at 20.0  \n",
            "15    9.6544     NaN   9.7778          S at 30.0  \n",
            "19    9.5216     NaN   9.6450          S at 40.0  \n",
            "..       ...     ...      ...                ...  \n",
            "527   6.8700  6.9394   7.0067       S at 10600.0  \n",
            "531   6.8599  6.9294   6.9969       S at 10800.0  \n",
            "535   6.8499  6.9196   6.9872       S at 11000.0  \n",
            "539   6.8401  6.9099   6.9777       S at 11200.0  \n",
            "543   6.8304  6.9004   6.9683       S at 11400.0  \n",
            "\n",
            "[136 rows x 38 columns]\n"
          ]
        }
      ],
      "source": [
        "#your code here\n",
        "V_data = data[data['Property']=='V']\n",
        "U_data = data[data['Property']=='U']\n",
        "H_data = data[data['Property']=='H']\n",
        "S_data = data[data['Property']=='S']\n",
        "\n",
        "print(\"V_data: \\n\",V_data)\n",
        "print(\"U_data: \\n\",U_data)\n",
        "print(\"H_data: \\n\",H_data)\n",
        "print(\"S_data: \\n\",S_data)"
      ]
    },
    {
      "cell_type": "markdown",
      "metadata": {
        "id": "Ghkj0-0-d1W7"
      },
      "source": [
        "# Section 3: Plotting with Matplotlib"
      ]
    },
    {
      "cell_type": "markdown",
      "metadata": {
        "id": "ka0qrDcZeAL6"
      },
      "source": [
        "### Plot the properties (specific volume, specific internal energy, specific enthalpy, specific entropy) vs Pressure for saturated liquid.\n",
        "\n",
        "Note:\n",
        "- Try using the subplot feature of matplotlib(Explore it!!)\n",
        "- Provide appropriate title, labels, markersize and other parameters to the plot"
      ]
    },
    {
      "cell_type": "code",
      "execution_count": 58,
      "metadata": {
        "id": "XbKdm-cUePKA",
        "colab": {
          "base_uri": "https://localhost:8080/",
          "height": 402
        },
        "outputId": "71ac7f28-d1d7-419d-a356-67279fb14d2e"
      },
      "outputs": [
        {
          "output_type": "display_data",
          "data": {
            "text/plain": [
              "<Figure size 2000x1200 with 4 Axes>"
            ],
            "image/png": "[encoded data removed]"
          },
          "metadata": {}
        }
      ],
      "source": [
        "#your code here\n",
        "plt.figure(figsize=(20, 12))\n",
        "\n",
        "plt.subplot(2, 2, 1)\n",
        "plt.scatter(V_data['Pressure'], V_data['Liq_Sat'])\n",
        "plt.title('Specific Volume vs Pressure')\n",
        "plt.xlabel('Pressure')\n",
        "plt.ylabel('Specific Volume')\n",
        "\n",
        "plt.subplot(2, 2, 2)\n",
        "plt.scatter(U_data['Pressure'], U_data['Liq_Sat'])\n",
        "plt.title('Specific Internal Energy vs Pressure')\n",
        "plt.xlabel('Pressure')\n",
        "plt.ylabel('Specific Internal Energy')\n",
        "\n",
        "plt.subplot(2, 2, 3)\n",
        "plt.scatter(H_data['Pressure'], H_data['Liq_Sat'])\n",
        "plt.title('Specific Enthalpy vs Pressure')\n",
        "plt.xlabel('Pressure')\n",
        "plt.ylabel('Specific Enthalpy')\n",
        "\n",
        "plt.subplot(2, 2, 4)\n",
        "plt.scatter(S_data['Pressure'], S_data['Liq_Sat'])\n",
        "plt.title('Specific Entropy vs Pressure')\n",
        "plt.xlabel('Pressure')\n",
        "plt.ylabel('Specific Entropy')\n",
        "\n",
        "plt.tight_layout()\n",
        "plt.show()"
      ]
    },
    {
      "cell_type": "markdown",
      "metadata": {
        "id": "dL71bJ7VGLL8"
      },
      "source": [
        "### Plot the same for saturated vapor."
      ]
    },
    {
      "cell_type": "code",
      "execution_count": null,
      "metadata": {
        "id": "JT1U0NbhGLL9"
      },
      "outputs": [],
      "source": [
        "#your code here\n",
        "plt.figure(figsize=(20, 12))\n",
        "\n",
        "plt.subplot(2, 2, 1)\n",
        "plt.scatter(V_data['Pressure'], V_data['Vap_Sat'])\n",
        "plt.title('Specific Volume vs Pressure')\n",
        "plt.xlabel('Pressure')\n",
        "plt.ylabel('Specific Volume')\n",
        "\n",
        "plt.subplot(2, 2, 2)\n",
        "plt.scatter(U_data['Pressure'], U_data['Vap_Sat'])\n",
        "plt.title('Specific Internal Energy vs Pressure')\n",
        "plt.xlabel('Pressure')\n",
        "plt.ylabel('Specific Internal Energy')\n",
        "\n",
        "plt.subplot(2, 2, 3)\n",
        "plt.scatter(H_data['Pressure'], H_data['Vap_Sat'])\n",
        "plt.title('Specific Enthalpy vs Pressure')\n",
        "plt.xlabel('Pressure')\n",
        "plt.ylabel('Specific Enthalpy')\n",
        "\n",
        "plt.subplot(2, 2, 4)\n",
        "plt.scatter(S_data['Pressure'], S_data['Vap_Sat'])\n",
        "plt.title('Specific Entropy vs Pressure')\n",
        "plt.xlabel('Pressure')\n",
        "plt.ylabel('Specific Entropy')\n",
        "\n",
        "plt.tight_layout()\n",
        "plt.show()"
      ]
    },
    {
      "cell_type": "markdown",
      "metadata": {
        "id": "SCLRji6TeQgh"
      },
      "source": [
        "### Plot the specific volume of saturated liquid between 300 kPa and 1500 kPa"
      ]
    },
    {
      "cell_type": "code",
      "execution_count": 59,
      "metadata": {
        "id": "u6DyyI7MeYgE",
        "colab": {
          "base_uri": "https://localhost:8080/",
          "height": 429
        },
        "outputId": "a223aed8-7526-4ddf-9b46-80db4de49cf3"
      },
      "outputs": [
        {
          "output_type": "display_data",
          "data": {
            "text/plain": [
              "<Figure size 1000x600 with 1 Axes>"
            ],
            "image/png": "[encoded data removed]"
          },
          "metadata": {}
        }
      ],
      "source": [
        "#your code here\n",
        "V_df = data[(data['Property'] == 'V') & (data['Pressure'] >= 300) & (data['Pressure'] <= 1500)]\n",
        "\n",
        "# Plotting specific volume vs Pressure\n",
        "plt.figure(figsize=(10, 6))\n",
        "plt.scatter(V_df['Pressure'], V_df['Liq_Sat'])\n",
        "plt.title('Specific Volume of Saturated Liquid between 300 kPa and 1500 kPa')\n",
        "plt.xlabel('Pressure (kPa)')\n",
        "plt.ylabel('Specific Volume')\n",
        "plt.grid(True)\n",
        "\n",
        "plt.show()"
      ]
    },
    {
      "cell_type": "markdown",
      "metadata": {
        "id": "zd8AeoCFGLL9"
      },
      "source": [
        "# Section 4 : Conclusion"
      ]
    },
    {
      "cell_type": "markdown",
      "metadata": {
        "id": "Lz9Oy8nhGLL-"
      },
      "source": [
        "*Congratulations on reaching this point! I hope you had fun solving your first assignment and have also built confidence in applying these libraries. If you are wondering, we will cover more about z-score normalization in Week 2, and the sigmoid function will be used in Week 3. After completing this assignment, you are now prepared to learn about machine learning techniques and implement your own machine learning models.*"
      ]
    }
  ],
  "metadata": {
    "colab": {
      "provenance": []
    },
    "kernelspec": {
      "display_name": "Python 3 (ipykernel)",
      "language": "python",
      "name": "python3"
    },
    "language_info": {
      "codemirror_mode": {
        "name": "ipython",
        "version": 3
      },
      "file_extension": ".py",
      "mimetype": "text/x-python",
      "name": "python",
      "nbconvert_exporter": "python",
      "pygments_lexer": "ipython3",
      "version": "3.10.5"
    }
  },
  "nbformat": 4,
  "nbformat_minor": 0
}