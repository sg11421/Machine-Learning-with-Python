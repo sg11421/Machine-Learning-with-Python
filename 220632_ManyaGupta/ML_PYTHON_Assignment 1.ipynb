{
 "cells": [
  {
   "cell_type": "markdown",
   "metadata": {
    "id": "UOzd0zRXW5Uv"
   },
   "source": [
    "# Week-1 Assignment\n",
    "\n",
    "*Welcome to your first assignment for the SimuTech Winter Project 2022! I hope you are excited to implement and test everything you have learned up until now. There is an interesting set of questions for you to refine your acquired skills as you delve into hands-on coding and deepen your understanding of numpy, pandas, and data visualization libraries.*"
   ]
  },
  {
   "cell_type": "markdown",
   "metadata": {
    "id": "2XFUXyq9Y9TG"
   },
   "source": [
    "# Section 0 : Importing Libraries"
   ]
  },
  {
   "cell_type": "markdown",
   "metadata": {
    "id": "D_bzcLusjSO0"
   },
   "source": [
    "*Let's begin by importing numpy, pandas and matplotlib.*"
   ]
  },
  {
   "cell_type": "code",
   "execution_count": 1001,
   "metadata": {
    "id": "jdwX7bI7aGeY"
   },
   "outputs": [],
   "source": [
    "#your code here\n",
    "import numpy as np \n",
    "import pandas as pd\n",
    "import matplotlib.pyplot as plt"
   ]
  },
  {
   "cell_type": "markdown",
   "metadata": {
    "id": "LM25mz5ta-Q_"
   },
   "source": [
    "# Section 1 : Playing with Python and Numpy"
   ]
  },
  {
   "cell_type": "markdown",
   "metadata": {
    "id": "TcFQVqhAdQw_"
   },
   "source": [
    "### Q1. Matrix Multiplication"
   ]
  },
  {
   "cell_type": "markdown",
   "metadata": {
    "id": "6Dcai9pys0j8"
   },
   "source": [
    "##### (i) Check if matrix multiplication is valid"
   ]
  },
  {
   "cell_type": "code",
   "execution_count": 1002,
   "metadata": {
    "id": "0qC4txIss3gG"
   },
   "outputs": [],
   "source": [
    "def isValid(A,B):\n",
    "  #your code here\n",
    "    if len(A[0])==len(B):\n",
    "     return 1\n",
    "    else: \n",
    "     return 0"
   ]
  },
  {
   "cell_type": "markdown",
   "metadata": {
    "id": "OPTfRGlTdXxa"
   },
   "source": [
    "##### (ii) Using loops (without using numpy)"
   ]
  },
  {
   "cell_type": "code",
   "execution_count": 1003,
   "metadata": {
    "id": "V8F5ETsRct3S"
   },
   "outputs": [],
   "source": [
    "def matrix_multiply(A,B):\n",
    "  #your code here\n",
    "    ans = []\n",
    "    for i in range(len(A)):\n",
    "        result = []\n",
    "        for j in range(len(B[0])):\n",
    "            s=0\n",
    "            for k in range(len(B)):\n",
    "                s=s+A[i][k]*B[k][j]\n",
    "            result.append(s)    \n",
    "        ans.append(result)    \n",
    "    return ans"
   ]
  },
  {
   "cell_type": "markdown",
   "metadata": {
    "id": "umUgUTSWdos8"
   },
   "source": [
    "##### (iii) Using numpy"
   ]
  },
  {
   "cell_type": "code",
   "execution_count": 1004,
   "metadata": {
    "id": "-tdXlCHrduBP"
   },
   "outputs": [],
   "source": [
    "def matrix_multiply_2(A,B):\n",
    "  #your code here\n",
    "  return np.dot(A,B)"
   ]
  },
  {
   "cell_type": "markdown",
   "metadata": {
    "id": "2nMFnl84edJG"
   },
   "source": [
    "##### (iv) Testing your code\n",
    "\n",
    "Run the following cell to check if your functions are working properly.\n",
    "\n",
    "*Expected output:*\n",
    "[ [102 108 114]\n",
    " [246 261 276]\n",
    " [390 414 438]\n",
    " [534 567 600] ]"
   ]
  },
  {
   "cell_type": "code",
   "execution_count": 1005,
   "metadata": {
    "id": "09rX_Cm9ezmq"
   },
   "outputs": [
    {
     "name": "stdout",
     "output_type": "stream",
     "text": [
      "Result using loops: [[102, 108, 114], [246, 261, 276], [390, 414, 438], [534, 567, 600]]\n",
      "Result using numpy: [[102 108 114]\n",
      " [246 261 276]\n",
      " [390 414 438]\n",
      " [534 567 600]]\n"
     ]
    }
   ],
   "source": [
    "A = np.array([\n",
    "    [1, 2, 3],\n",
    "    [4, 5, 6],\n",
    "    [7, 8, 9],\n",
    "    [10, 11, 12]\n",
    "])\n",
    "\n",
    "B = np.array([\n",
    "    [13, 14, 15],\n",
    "    [16, 17, 18],\n",
    "    [19, 20, 21]\n",
    "])\n",
    "\n",
    "if isValid(A,B):\n",
    "  print(f\"Result using loops: {matrix_multiply(A,B)}\")\n",
    "  print(f\"Result using numpy: {matrix_multiply_2(A,B)}\")\n",
    "else:\n",
    "  print(f\"Matrix multiplication is not valid\")"
   ]
  },
  {
   "cell_type": "markdown",
   "metadata": {
    "id": "5hfP7Ao1fwqV"
   },
   "source": [
    "### Q2. Z-Score Normalisation"
   ]
  },
  {
   "cell_type": "markdown",
   "metadata": {
    "id": "0e81Xx5Kw_CQ"
   },
   "source": [
    "Z-score normalization refers to the process of normalizing every value in a dataset such that the mean of all of the values is 0 and the standard deviation is 1.\n",
    "\n",
    "We use the following formula to perform a z-score normalization on every value in a dataset:\n",
    "\n",
    "New value = (x – μ) / σ\n",
    "\n",
    "where:\n",
    "\n",
    "x: Original value\n",
    "\n",
    "μ: Mean of data\n",
    "\n",
    "σ: Standard deviation of data"
   ]
  },
  {
   "cell_type": "markdown",
   "metadata": {
    "id": "GP_MuyUbguSR"
   },
   "source": [
    "##### (i) Without using numpy"
   ]
  },
  {
   "cell_type": "code",
   "execution_count": 1006,
   "metadata": {
    "id": "0vix8qaaghwP"
   },
   "outputs": [],
   "source": [
    "def mean(x):\n",
    "  #your code here\n",
    "    s=0\n",
    "    for i in range(len(x)):\n",
    "        s = s+x[i]\n",
    "    mean = s/len(x)\n",
    "    return mean    "
   ]
  },
  {
   "cell_type": "code",
   "execution_count": 1007,
   "metadata": {
    "id": "j1qabel-g_f5"
   },
   "outputs": [],
   "source": [
    "def standard_deviation(x):\n",
    "  #your code here\n",
    "    mean_u = mean(x)\n",
    "    b=0\n",
    "    for i in range(len(x)):\n",
    "        a = x[i]-mean_u\n",
    "        b =b+ a**2\n",
    "    variance = b/len(x)\n",
    "    std_dev = variance**0.5\n",
    "    return std_dev    \n"
   ]
  },
  {
   "cell_type": "code",
   "execution_count": 1008,
   "metadata": {
    "id": "797ewbNqhEpY"
   },
   "outputs": [],
   "source": [
    "def zscore_normalisation(x):\n",
    "  #your code here\n",
    "    y=[]\n",
    "    mean_u= mean(x)\n",
    "    std_dev = standard_deviation(x)\n",
    "    for i in range(len(x)):\n",
    "        b=round((x[i]-mean_u)/std_dev,8)\n",
    "        y.append(b)\n",
    "    return y    \n",
    "        "
   ]
  },
  {
   "cell_type": "markdown",
   "metadata": {
    "id": "k8dq1wqRhbUB"
   },
   "source": [
    "##### (ii) Using numpy\n",
    "\n",
    "Numpy has in_built functions for calculating mean and standard deviation"
   ]
  },
  {
   "cell_type": "code",
   "execution_count": 1009,
   "metadata": {
    "id": "WjxJTUDihsYg"
   },
   "outputs": [],
   "source": [
    "def zscore_normalisation_2(x):\n",
    "  #your code here\n",
    "    y=np.array(x)\n",
    "    mean_x = np.mean(y)\n",
    "    std_dev_x = np.std(y)\n",
    "    z=(y-mean_x)/std_dev_x\n",
    "    return z"
   ]
  },
  {
   "cell_type": "markdown",
   "metadata": {
    "id": "glRqKU-_1pue"
   },
   "source": [
    "##### (iii) Testing your code"
   ]
  },
  {
   "cell_type": "markdown",
   "metadata": {
    "id": "Kl7XBymOigCU"
   },
   "source": [
    "Run the following cell to check if your functions are working properly.\n",
    "\n",
    "*Expected Output:* [-1.06753267 -0.99745394 -0.99745394 -0.81057732 -0.41346451 -0.06307086\n",
    "  0.31068237  0.91803138  1.22170588  1.89913361]"
   ]
  },
  {
   "cell_type": "code",
   "execution_count": 1010,
   "metadata": {
    "id": "78ptZxf6ipZp"
   },
   "outputs": [
    {
     "name": "stdout",
     "output_type": "stream",
     "text": [
      "Result without using numpy: [-1.06753267, -0.99745394, -0.99745394, -0.81057732, -0.41346451, -0.06307086, 0.31068237, 0.91803138, 1.22170588, 1.89913361]\n",
      "Result using numpy: [-1.06753267 -0.99745394 -0.99745394 -0.81057732 -0.41346451 -0.06307086\n",
      "  0.31068237  0.91803138  1.22170588  1.89913361]\n"
     ]
    }
   ],
   "source": [
    "x = [4, 7, 7, 15, 32, 47, 63, 89, 102, 131]\n",
    "print(f\"Result without using numpy: {zscore_normalisation(x)}\")\n",
    "print(f\"Result using numpy: {zscore_normalisation_2(x)}\")"
   ]
  },
  {
   "cell_type": "markdown",
   "metadata": {
    "id": "0WVscJ0z14rp"
   },
   "source": [
    "### Q3. Sigmoid fn and its derivative"
   ]
  },
  {
   "cell_type": "markdown",
   "metadata": {
    "id": "Jfntb0Rg94Tu"
   },
   "source": [
    "The sigmoid function is a mathematical function that maps any input value to a value between 0 and 1.\n",
    "\n",
    "It is defined mathematically as s(x) = 1/(1+e^(-x))."
   ]
  },
  {
   "cell_type": "markdown",
   "metadata": {
    "id": "8SCAPkjO2m7u"
   },
   "source": [
    "##### (i) Write a fn to implement sigmoid fn"
   ]
  },
  {
   "cell_type": "code",
   "execution_count": 1011,
   "metadata": {
    "id": "jL_TRQFG2l5m"
   },
   "outputs": [],
   "source": [
    "def sigmoidfn(x):\n",
    "  #your code here\n",
    "    sigmoid =[]\n",
    "    for i in range(len(x)):\n",
    "        s=1/(1+np.exp(-1*x[i]))\n",
    "        sigmoid.append(s)\n",
    "    return np.array(sigmoid)"
   ]
  },
  {
   "cell_type": "markdown",
   "metadata": {
    "id": "t7KBbl7N3AUM"
   },
   "source": [
    "##### (ii) Write a fn to implement derivative of sigmoid fn"
   ]
  },
  {
   "cell_type": "code",
   "execution_count": 1012,
   "metadata": {
    "id": "okjuOpba3KOJ"
   },
   "outputs": [],
   "source": [
    "def derivative(x):\n",
    "  #your code here\n",
    "    sigmoid= sigmoidfn(x)\n",
    "    der_Sigmoid = sigmoid*(1-sigmoid)\n",
    "    return der_Sigmoid    "
   ]
  },
  {
   "cell_type": "markdown",
   "metadata": {
    "id": "NdGTSpsp3mwr"
   },
   "source": [
    "##### (iii) Test your code"
   ]
  },
  {
   "cell_type": "markdown",
   "metadata": {
    "id": "lWY8RBex7gnd"
   },
   "source": [
    "Run the following cell to check if your functions are working properly.\n",
    "\n",
    "*Expected output:*\n",
    "\n",
    "x on applying sigmoid activation fn is: [ [0.99987661 0.88079708 0.99330715 0.5        0.5       ]\n",
    " [0.99908895 0.99330715 0.5        0.5        0.5       ] ]\n",
    "\n",
    "x on applying derivative of sigmoid activation fn is: [ [-1.23379350e-04 -1.04993585e-01 -6.64805667e-03 -2.50000000e-01\n",
    "  -2.50000000e-01]\n",
    " [-9.10221180e-04 -6.64805667e-03 -2.50000000e-01 -2.50000000e-01\n",
    "  -2.50000000e-01] ]"
   ]
  },
  {
   "cell_type": "code",
   "execution_count": 1013,
   "metadata": {
    "id": "ssDGpmS33vdA"
   },
   "outputs": [
    {
     "name": "stdout",
     "output_type": "stream",
     "text": [
      "x on applying sigmoid activation fn is: [[0.99987661 0.88079708 0.99330715 0.5        0.5       ]\n",
      " [0.99908895 0.99330715 0.5        0.5        0.5       ]]\n",
      "x on applying derivative of sigmoid activation fn is: [[1.23379350e-04 1.04993585e-01 6.64805667e-03 2.50000000e-01\n",
      "  2.50000000e-01]\n",
      " [9.10221180e-04 6.64805667e-03 2.50000000e-01 2.50000000e-01\n",
      "  2.50000000e-01]]\n"
     ]
    }
   ],
   "source": [
    "x = np.array([\n",
    "    [9,2,5,0,0],\n",
    "    [7,5,0,0,0]\n",
    "])\n",
    "print(f\"x on applying sigmoid activation fn is: {sigmoidfn(x)}\")\n",
    "print(f\"x on applying derivative of sigmoid activation fn is: {derivative(x)}\")"
   ]
  },
  {
   "cell_type": "markdown",
   "metadata": {
    "id": "PMa0cseyZpa1"
   },
   "source": [
    "# Section 2: Exploring Pandas"
   ]
  },
  {
   "cell_type": "markdown",
   "metadata": {},
   "source": [
    "*You have been provided with a dataset which includes information about properties of superheated vapor.*\n",
    "\n",
    "*The dataset consists of the thermophysical properties: specific volume, specific internal energy, specific enthalpy, specific entropy of superheated vapor.*\n",
    "\n",
    "*Pressure is in kPa and Temperature in centigrade. In the dataframe 75, 100, 125, etc. are temperatures.*"
   ]
  },
  {
   "cell_type": "markdown",
   "metadata": {
    "id": "i5Okb_jxZ_VW"
   },
   "source": [
    "### Read the csv file\n"
   ]
  },
  {
   "cell_type": "code",
   "execution_count": 1014,
   "metadata": {
    "id": "aQgvyavrcM1l"
   },
   "outputs": [],
   "source": [
    "#your code here\n",
    "df = pd.read_csv(\"superheated_vapor_properties.csv\")"
   ]
  },
  {
   "cell_type": "markdown",
   "metadata": {
    "id": "Zp8F3rk2cNxy"
   },
   "source": [
    "### Display the shape of data frame\n"
   ]
  },
  {
   "cell_type": "code",
   "execution_count": 1015,
   "metadata": {
    "id": "v3Q8kQkucgK0"
   },
   "outputs": [
    {
     "data": {
      "text/plain": [
       "(544, 37)"
      ]
     },
     "execution_count": 1015,
     "metadata": {},
     "output_type": "execute_result"
    }
   ],
   "source": [
    "#your code here\n",
    "df.shape"
   ]
  },
  {
   "cell_type": "markdown",
   "metadata": {
    "id": "w49cp-8zcgd2"
   },
   "source": [
    "### Return an array containing names of all the columns"
   ]
  },
  {
   "cell_type": "code",
   "execution_count": 1016,
   "metadata": {
    "id": "fz4HRb3JcsZp"
   },
   "outputs": [
    {
     "data": {
      "text/plain": [
       "array(['Pressure', 'Property', 'Liq_Sat', 'Vap_Sat', '75', '100', '125',\n",
       "       '150', '175', '200', '220', '225', '240', '250', '260', '275',\n",
       "       '280', '290', '300', '320', '325', '340', '350', '360', '375',\n",
       "       '380', '400', '425', '450', '475', '500', '525', '550', '575',\n",
       "       '600', '625', '650'], dtype=object)"
      ]
     },
     "execution_count": 1016,
     "metadata": {},
     "output_type": "execute_result"
    }
   ],
   "source": [
    "#your code here\n",
    "df.columns.to_numpy()"
   ]
  },
  {
   "cell_type": "markdown",
   "metadata": {
    "id": "YkTH9tRWcrH-"
   },
   "source": [
    "### Display the number of null values in each column of the dataframe\n",
    "\n"
   ]
  },
  {
   "cell_type": "code",
   "execution_count": 1017,
   "metadata": {
    "id": "GK9-PJPxc3Ot"
   },
   "outputs": [
    {
     "data": {
      "text/plain": [
       "Pressure      0\n",
       "Property      0\n",
       "Liq_Sat       0\n",
       "Vap_Sat       0\n",
       "75          528\n",
       "100         508\n",
       "125         488\n",
       "150         448\n",
       "175         384\n",
       "200         320\n",
       "220         408\n",
       "225         400\n",
       "240         408\n",
       "250         344\n",
       "260         384\n",
       "275         340\n",
       "280         380\n",
       "290         488\n",
       "300          60\n",
       "320         480\n",
       "325         136\n",
       "340         476\n",
       "350          68\n",
       "360         476\n",
       "375         204\n",
       "380         476\n",
       "400           0\n",
       "425         204\n",
       "450           0\n",
       "475         204\n",
       "500           0\n",
       "525         272\n",
       "550           0\n",
       "575         340\n",
       "600           0\n",
       "625         476\n",
       "650           0\n",
       "dtype: int64"
      ]
     },
     "execution_count": 1017,
     "metadata": {},
     "output_type": "execute_result"
    }
   ],
   "source": [
    "#your code here\n",
    "df.isnull().sum()"
   ]
  },
  {
   "cell_type": "markdown",
   "metadata": {
    "id": "Av-lcft2c3mx"
   },
   "source": [
    "### Create a column which contains the Pressure and Property columns, seperated with 'at' (For eg. V at 1, H at 101.325). Using this print the following:\n",
    "- Enthalpy at 75 kPa and 573 K\n",
    "- Entropy at 493 K and 250 kPa\n",
    "\n"
   ]
  },
  {
   "cell_type": "code",
   "execution_count": 1018,
   "metadata": {
    "id": "B2AihQj_c32C"
   },
   "outputs": [
    {
     "name": "stdout",
     "output_type": "stream",
     "text": [
      "value1: 3075.1\n",
      "Value2: nan\n"
     ]
    }
   ],
   "source": [
    "#your code here\n",
    "df['new_column'] = df['Property'].astype(str) + ' at ' + df['Pressure'].astype(str)\n",
    "\n",
    "r1,c1 =np.where(df.values == 'H at 75.0')\n",
    "t1 = '300'\n",
    "s1= df.loc[r1,t1].values[0]\n",
    "print(f\"value1: {s1}\")\n",
    "\n",
    "r2,c2 =np.where(df.values == 'S at 250.0')\n",
    "t2 = '220'\n",
    "s2= df.loc[r2,t2].values[0]\n",
    "print(f\"Value2: {s2}\")\n"
   ]
  },
  {
   "cell_type": "markdown",
   "metadata": {
    "id": "GpLtXYRLc4Ho"
   },
   "source": [
    "### Find out the column with the highest number of missing values"
   ]
  },
  {
   "cell_type": "code",
   "execution_count": 1019,
   "metadata": {
    "id": "q80Grgeyc4Xn"
   },
   "outputs": [
    {
     "data": {
      "text/plain": [
       "'75'"
      ]
     },
     "execution_count": 1019,
     "metadata": {},
     "output_type": "execute_result"
    }
   ],
   "source": [
    "#your code here\n",
    "df.isnull().sum().idxmax()"
   ]
  },
  {
   "cell_type": "markdown",
   "metadata": {
    "id": "74NVHTTac4nv"
   },
   "source": [
    "### What is the average enthalpy of Sat. Liq. at all different pressures in the dataset?"
   ]
  },
  {
   "cell_type": "code",
   "execution_count": 1020,
   "metadata": {
    "id": "g3mByhBDdpVr"
   },
   "outputs": [
    {
     "name": "stdout",
     "output_type": "stream",
     "text": [
      "936.9707720588235\n"
     ]
    }
   ],
   "source": [
    "#your code here\n",
    "dfnew = df.loc[df['Property']=='H','Liq_Sat']\n",
    "print(np.mean(dfnew))"
   ]
  },
  {
   "cell_type": "markdown",
   "metadata": {
    "id": "uS-SuqU8dpxg"
   },
   "source": [
    "### Separate out the V,U,H,S data from the dataset into V_data, U_data, H_data, S_data"
   ]
  },
  {
   "cell_type": "code",
   "execution_count": 1021,
   "metadata": {
    "id": "Sg3V9Toyd1Av"
   },
   "outputs": [
    {
     "data": {
      "text/html": [
       "<div>\n",
       "<style scoped>\n",
       "    .dataframe tbody tr th:only-of-type {\n",
       "        vertical-align: middle;\n",
       "    }\n",
       "\n",
       "    .dataframe tbody tr th {\n",
       "        vertical-align: top;\n",
       "    }\n",
       "\n",
       "    .dataframe thead th {\n",
       "        text-align: right;\n",
       "    }\n",
       "</style>\n",
       "<table border=\"1\" class=\"dataframe\">\n",
       "  <thead>\n",
       "    <tr style=\"text-align: right;\">\n",
       "      <th></th>\n",
       "      <th>Pressure</th>\n",
       "      <th>Property</th>\n",
       "      <th>Liq_Sat</th>\n",
       "      <th>Vap_Sat</th>\n",
       "      <th>75</th>\n",
       "      <th>100</th>\n",
       "      <th>125</th>\n",
       "      <th>150</th>\n",
       "      <th>175</th>\n",
       "      <th>200</th>\n",
       "      <th>...</th>\n",
       "      <th>450</th>\n",
       "      <th>475</th>\n",
       "      <th>500</th>\n",
       "      <th>525</th>\n",
       "      <th>550</th>\n",
       "      <th>575</th>\n",
       "      <th>600</th>\n",
       "      <th>625</th>\n",
       "      <th>650</th>\n",
       "      <th>new_column</th>\n",
       "    </tr>\n",
       "  </thead>\n",
       "  <tbody>\n",
       "    <tr>\n",
       "      <th>0</th>\n",
       "      <td>1.0</td>\n",
       "      <td>V</td>\n",
       "      <td>1.000</td>\n",
       "      <td>129200.000</td>\n",
       "      <td>160640.0</td>\n",
       "      <td>172180.0</td>\n",
       "      <td>183720.0</td>\n",
       "      <td>195270.0</td>\n",
       "      <td>206810.0</td>\n",
       "      <td>218350.0</td>\n",
       "      <td>...</td>\n",
       "      <td>333730.000</td>\n",
       "      <td>NaN</td>\n",
       "      <td>356810.000</td>\n",
       "      <td>NaN</td>\n",
       "      <td>379880.000</td>\n",
       "      <td>NaN</td>\n",
       "      <td>402960.000</td>\n",
       "      <td>NaN</td>\n",
       "      <td>426040.000</td>\n",
       "      <td>V at 1.0</td>\n",
       "    </tr>\n",
       "    <tr>\n",
       "      <th>4</th>\n",
       "      <td>10.0</td>\n",
       "      <td>V</td>\n",
       "      <td>1.010</td>\n",
       "      <td>14670.000</td>\n",
       "      <td>16030.0</td>\n",
       "      <td>17190.0</td>\n",
       "      <td>18350.0</td>\n",
       "      <td>19510.0</td>\n",
       "      <td>20660.0</td>\n",
       "      <td>21820.0</td>\n",
       "      <td>...</td>\n",
       "      <td>33370.000</td>\n",
       "      <td>NaN</td>\n",
       "      <td>35670.000</td>\n",
       "      <td>NaN</td>\n",
       "      <td>37980.000</td>\n",
       "      <td>NaN</td>\n",
       "      <td>40290.000</td>\n",
       "      <td>NaN</td>\n",
       "      <td>42600.000</td>\n",
       "      <td>V at 10.0</td>\n",
       "    </tr>\n",
       "    <tr>\n",
       "      <th>8</th>\n",
       "      <td>20.0</td>\n",
       "      <td>V</td>\n",
       "      <td>1.017</td>\n",
       "      <td>7649.800</td>\n",
       "      <td>8000.0</td>\n",
       "      <td>8584.7</td>\n",
       "      <td>9167.1</td>\n",
       "      <td>9748.0</td>\n",
       "      <td>10320.0</td>\n",
       "      <td>10900.0</td>\n",
       "      <td>...</td>\n",
       "      <td>16680.000</td>\n",
       "      <td>NaN</td>\n",
       "      <td>17830.000</td>\n",
       "      <td>NaN</td>\n",
       "      <td>18990.000</td>\n",
       "      <td>NaN</td>\n",
       "      <td>20140.000</td>\n",
       "      <td>NaN</td>\n",
       "      <td>21300.000</td>\n",
       "      <td>V at 20.0</td>\n",
       "    </tr>\n",
       "    <tr>\n",
       "      <th>12</th>\n",
       "      <td>30.0</td>\n",
       "      <td>V</td>\n",
       "      <td>1.022</td>\n",
       "      <td>5229.300</td>\n",
       "      <td>5322.0</td>\n",
       "      <td>5714.4</td>\n",
       "      <td>6104.6</td>\n",
       "      <td>6493.2</td>\n",
       "      <td>6880.8</td>\n",
       "      <td>7267.5</td>\n",
       "      <td>...</td>\n",
       "      <td>11120.000</td>\n",
       "      <td>NaN</td>\n",
       "      <td>11890.000</td>\n",
       "      <td>NaN</td>\n",
       "      <td>12660.000</td>\n",
       "      <td>NaN</td>\n",
       "      <td>13430.000</td>\n",
       "      <td>NaN</td>\n",
       "      <td>14190.000</td>\n",
       "      <td>V at 30.0</td>\n",
       "    </tr>\n",
       "    <tr>\n",
       "      <th>16</th>\n",
       "      <td>40.0</td>\n",
       "      <td>V</td>\n",
       "      <td>1.027</td>\n",
       "      <td>3993.400</td>\n",
       "      <td>NaN</td>\n",
       "      <td>4279.2</td>\n",
       "      <td>4573.3</td>\n",
       "      <td>4865.8</td>\n",
       "      <td>5157.2</td>\n",
       "      <td>5447.8</td>\n",
       "      <td>...</td>\n",
       "      <td>8340.100</td>\n",
       "      <td>NaN</td>\n",
       "      <td>8917.600</td>\n",
       "      <td>NaN</td>\n",
       "      <td>9494.900</td>\n",
       "      <td>NaN</td>\n",
       "      <td>10070.000</td>\n",
       "      <td>NaN</td>\n",
       "      <td>10640.000</td>\n",
       "      <td>V at 40.0</td>\n",
       "    </tr>\n",
       "    <tr>\n",
       "      <th>...</th>\n",
       "      <td>...</td>\n",
       "      <td>...</td>\n",
       "      <td>...</td>\n",
       "      <td>...</td>\n",
       "      <td>...</td>\n",
       "      <td>...</td>\n",
       "      <td>...</td>\n",
       "      <td>...</td>\n",
       "      <td>...</td>\n",
       "      <td>...</td>\n",
       "      <td>...</td>\n",
       "      <td>...</td>\n",
       "      <td>...</td>\n",
       "      <td>...</td>\n",
       "      <td>...</td>\n",
       "      <td>...</td>\n",
       "      <td>...</td>\n",
       "      <td>...</td>\n",
       "      <td>...</td>\n",
       "      <td>...</td>\n",
       "      <td>...</td>\n",
       "    </tr>\n",
       "    <tr>\n",
       "      <th>524</th>\n",
       "      <td>10600.0</td>\n",
       "      <td>V</td>\n",
       "      <td>1.474</td>\n",
       "      <td>16.778</td>\n",
       "      <td>NaN</td>\n",
       "      <td>NaN</td>\n",
       "      <td>NaN</td>\n",
       "      <td>NaN</td>\n",
       "      <td>NaN</td>\n",
       "      <td>NaN</td>\n",
       "      <td>...</td>\n",
       "      <td>27.834</td>\n",
       "      <td>29.313</td>\n",
       "      <td>30.732</td>\n",
       "      <td>32.106</td>\n",
       "      <td>33.444</td>\n",
       "      <td>34.753</td>\n",
       "      <td>36.039</td>\n",
       "      <td>37.304</td>\n",
       "      <td>38.552</td>\n",
       "      <td>V at 10600.0</td>\n",
       "    </tr>\n",
       "    <tr>\n",
       "      <th>528</th>\n",
       "      <td>10800.0</td>\n",
       "      <td>V</td>\n",
       "      <td>1.481</td>\n",
       "      <td>16.385</td>\n",
       "      <td>NaN</td>\n",
       "      <td>NaN</td>\n",
       "      <td>NaN</td>\n",
       "      <td>NaN</td>\n",
       "      <td>NaN</td>\n",
       "      <td>NaN</td>\n",
       "      <td>...</td>\n",
       "      <td>27.245</td>\n",
       "      <td>28.706</td>\n",
       "      <td>30.106</td>\n",
       "      <td>31.461</td>\n",
       "      <td>32.779</td>\n",
       "      <td>34.069</td>\n",
       "      <td>35.335</td>\n",
       "      <td>36.580</td>\n",
       "      <td>37.808</td>\n",
       "      <td>V at 10800.0</td>\n",
       "    </tr>\n",
       "    <tr>\n",
       "      <th>532</th>\n",
       "      <td>11000.0</td>\n",
       "      <td>V</td>\n",
       "      <td>1.489</td>\n",
       "      <td>16.006</td>\n",
       "      <td>NaN</td>\n",
       "      <td>NaN</td>\n",
       "      <td>NaN</td>\n",
       "      <td>NaN</td>\n",
       "      <td>NaN</td>\n",
       "      <td>NaN</td>\n",
       "      <td>...</td>\n",
       "      <td>26.676</td>\n",
       "      <td>28.120</td>\n",
       "      <td>29.503</td>\n",
       "      <td>30.839</td>\n",
       "      <td>32.139</td>\n",
       "      <td>33.410</td>\n",
       "      <td>34.656</td>\n",
       "      <td>35.882</td>\n",
       "      <td>37.091</td>\n",
       "      <td>V at 11000.0</td>\n",
       "    </tr>\n",
       "    <tr>\n",
       "      <th>536</th>\n",
       "      <td>11200.0</td>\n",
       "      <td>V</td>\n",
       "      <td>1.496</td>\n",
       "      <td>15.639</td>\n",
       "      <td>NaN</td>\n",
       "      <td>NaN</td>\n",
       "      <td>NaN</td>\n",
       "      <td>NaN</td>\n",
       "      <td>NaN</td>\n",
       "      <td>NaN</td>\n",
       "      <td>...</td>\n",
       "      <td>26.128</td>\n",
       "      <td>27.555</td>\n",
       "      <td>28.921</td>\n",
       "      <td>30.240</td>\n",
       "      <td>31.521</td>\n",
       "      <td>32.774</td>\n",
       "      <td>34.002</td>\n",
       "      <td>35.210</td>\n",
       "      <td>36.400</td>\n",
       "      <td>V at 11200.0</td>\n",
       "    </tr>\n",
       "    <tr>\n",
       "      <th>540</th>\n",
       "      <td>11400.0</td>\n",
       "      <td>V</td>\n",
       "      <td>1.504</td>\n",
       "      <td>15.284</td>\n",
       "      <td>NaN</td>\n",
       "      <td>NaN</td>\n",
       "      <td>NaN</td>\n",
       "      <td>NaN</td>\n",
       "      <td>NaN</td>\n",
       "      <td>NaN</td>\n",
       "      <td>...</td>\n",
       "      <td>25.599</td>\n",
       "      <td>27.010</td>\n",
       "      <td>28.359</td>\n",
       "      <td>29.661</td>\n",
       "      <td>30.925</td>\n",
       "      <td>32.160</td>\n",
       "      <td>33.370</td>\n",
       "      <td>34.560</td>\n",
       "      <td>35.733</td>\n",
       "      <td>V at 11400.0</td>\n",
       "    </tr>\n",
       "  </tbody>\n",
       "</table>\n",
       "<p>136 rows × 38 columns</p>\n",
       "</div>"
      ],
      "text/plain": [
       "     Pressure Property  Liq_Sat     Vap_Sat        75       100       125  \\\n",
       "0         1.0        V    1.000  129200.000  160640.0  172180.0  183720.0   \n",
       "4        10.0        V    1.010   14670.000   16030.0   17190.0   18350.0   \n",
       "8        20.0        V    1.017    7649.800    8000.0    8584.7    9167.1   \n",
       "12       30.0        V    1.022    5229.300    5322.0    5714.4    6104.6   \n",
       "16       40.0        V    1.027    3993.400       NaN    4279.2    4573.3   \n",
       "..        ...      ...      ...         ...       ...       ...       ...   \n",
       "524   10600.0        V    1.474      16.778       NaN       NaN       NaN   \n",
       "528   10800.0        V    1.481      16.385       NaN       NaN       NaN   \n",
       "532   11000.0        V    1.489      16.006       NaN       NaN       NaN   \n",
       "536   11200.0        V    1.496      15.639       NaN       NaN       NaN   \n",
       "540   11400.0        V    1.504      15.284       NaN       NaN       NaN   \n",
       "\n",
       "          150       175       200  ...         450     475         500  \\\n",
       "0    195270.0  206810.0  218350.0  ...  333730.000     NaN  356810.000   \n",
       "4     19510.0   20660.0   21820.0  ...   33370.000     NaN   35670.000   \n",
       "8      9748.0   10320.0   10900.0  ...   16680.000     NaN   17830.000   \n",
       "12     6493.2    6880.8    7267.5  ...   11120.000     NaN   11890.000   \n",
       "16     4865.8    5157.2    5447.8  ...    8340.100     NaN    8917.600   \n",
       "..        ...       ...       ...  ...         ...     ...         ...   \n",
       "524       NaN       NaN       NaN  ...      27.834  29.313      30.732   \n",
       "528       NaN       NaN       NaN  ...      27.245  28.706      30.106   \n",
       "532       NaN       NaN       NaN  ...      26.676  28.120      29.503   \n",
       "536       NaN       NaN       NaN  ...      26.128  27.555      28.921   \n",
       "540       NaN       NaN       NaN  ...      25.599  27.010      28.359   \n",
       "\n",
       "        525         550     575         600     625         650    new_column  \n",
       "0       NaN  379880.000     NaN  402960.000     NaN  426040.000      V at 1.0  \n",
       "4       NaN   37980.000     NaN   40290.000     NaN   42600.000     V at 10.0  \n",
       "8       NaN   18990.000     NaN   20140.000     NaN   21300.000     V at 20.0  \n",
       "12      NaN   12660.000     NaN   13430.000     NaN   14190.000     V at 30.0  \n",
       "16      NaN    9494.900     NaN   10070.000     NaN   10640.000     V at 40.0  \n",
       "..      ...         ...     ...         ...     ...         ...           ...  \n",
       "524  32.106      33.444  34.753      36.039  37.304      38.552  V at 10600.0  \n",
       "528  31.461      32.779  34.069      35.335  36.580      37.808  V at 10800.0  \n",
       "532  30.839      32.139  33.410      34.656  35.882      37.091  V at 11000.0  \n",
       "536  30.240      31.521  32.774      34.002  35.210      36.400  V at 11200.0  \n",
       "540  29.661      30.925  32.160      33.370  34.560      35.733  V at 11400.0  \n",
       "\n",
       "[136 rows x 38 columns]"
      ]
     },
     "execution_count": 1021,
     "metadata": {},
     "output_type": "execute_result"
    }
   ],
   "source": [
    "#your code here\n",
    "V_data = df.loc[df['Property']== 'V']\n",
    "U_data = df.loc[df['Property']== 'U']\n",
    "H_data = df.loc[df['Property']== 'H']\n",
    "S_data = df.loc[df['Property']== 'S']\n",
    "V_data\n"
   ]
  },
  {
   "cell_type": "markdown",
   "metadata": {
    "id": "Ghkj0-0-d1W7"
   },
   "source": [
    "# Section 3: Plotting with Matplotlib"
   ]
  },
  {
   "cell_type": "markdown",
   "metadata": {
    "id": "ka0qrDcZeAL6"
   },
   "source": [
    "### Plot the properties (specific volume, specific internal energy, specific enthalpy, specific entropy) vs Pressure for saturated liquid.\n",
    "\n",
    "Note:\n",
    "- Try using the subplot feature of matplotlib(Explore it!!)\n",
    "- Provide appropriate title, labels, markersize and other parameters to the plot"
   ]
  },
  {
   "cell_type": "code",
   "execution_count": 1022,
   "metadata": {
    "id": "XbKdm-cUePKA"
   },
   "outputs": [
    {
     "data": {
      "image/png": "[encoded data removed]",
      "text/plain": [
       "<Figure size 640x480 with 4 Axes>"
      ]
     },
     "metadata": {},
     "output_type": "display_data"
    }
   ],
   "source": [
    "#your code here\n",
    "plt.subplot(2,2,1)\n",
    "plt.plot(V_data.iloc[:,0],V_data.iloc[:,2],'r-',markersize =1)\n",
    "plt.title(\"V vs P\")\n",
    "plt.ylabel(\"Specific Volume V\")\n",
    "plt.xlabel(\"Pressure\")\n",
    "\n",
    "plt.subplot(2,2,2)\n",
    "plt.plot(U_data.iloc[:,0],U_data.iloc[:,2],'r-',markersize =1)\n",
    "plt.title(\"U vs P\")\n",
    "plt.ylabel(\"Specific Internal Energy U\")\n",
    "plt.xlabel(\"Pressure\")\n",
    "\n",
    "plt.subplot(2,2,3)\n",
    "plt.plot(H_data.iloc[:,0],H_data.iloc[:,2],'r-',markersize =1)\n",
    "plt.title(\"H vs P\")\n",
    "plt.ylabel(\"Specific Enthalpy H\")\n",
    "plt.xlabel(\"Pressure\")\n",
    "\n",
    "plt.subplot(2,2,4)\n",
    "plt.plot(S_data.iloc[:,0],S_data.iloc[:,2],'r-',markersize =1)\n",
    "plt.title(\"S vs P\")\n",
    "plt.ylabel(\"Specific Entropy S\")\n",
    "plt.xlabel(\"Pressure\")\n",
    "\n",
    "plt.suptitle(\"Saturated Liquid\")\n",
    "\n",
    "plt.tight_layout()\n",
    "\n",
    "plt.show()"
   ]
  },
  {
   "cell_type": "markdown",
   "metadata": {},
   "source": [
    "### Plot the same for saturated vapor."
   ]
  },
  {
   "cell_type": "code",
   "execution_count": 1023,
   "metadata": {},
   "outputs": [
    {
     "data": {
      "image/png": "[encoded data removed]",
      "text/plain": [
       "<Figure size 640x480 with 4 Axes>"
      ]
     },
     "metadata": {},
     "output_type": "display_data"
    }
   ],
   "source": [
    "#your code here\n",
    "plt.subplot(2,2,1)\n",
    "plt.plot(V_data.iloc[:,0],V_data.iloc[:,3],'r-',markersize =1)\n",
    "plt.title(\"V vs P\")\n",
    "plt.ylabel(\"Specific Volume V\")\n",
    "plt.xlabel(\"Pressure\")\n",
    "\n",
    "plt.subplot(2,2,2)\n",
    "plt.plot(U_data.iloc[:,0],U_data.iloc[:,3],'r-',markersize =1)\n",
    "plt.title(\"U vs P\")\n",
    "plt.ylabel(\"Specific Internal Energy U\")\n",
    "plt.xlabel(\"Pressure\")\n",
    "\n",
    "plt.subplot(2,2,3)\n",
    "plt.plot(H_data.iloc[:,0],H_data.iloc[:,3],'r-',markersize =1)\n",
    "plt.title(\"H vs P\")\n",
    "plt.ylabel(\"Specific Enthalpy H\")\n",
    "plt.xlabel(\"Pressure\")\n",
    "\n",
    "plt.subplot(2,2,4)\n",
    "plt.plot(S_data.iloc[:,0],S_data.iloc[:,3],'r-',markersize =1)\n",
    "plt.title(\"S vs P\")\n",
    "plt.ylabel(\"Specific Entropy S\")\n",
    "plt.xlabel(\"Pressure\")\n",
    "\n",
    "plt.suptitle(\"Saturated Vapor\")\n",
    "\n",
    "plt.tight_layout()\n",
    "\n",
    "plt.show()"
   ]
  },
  {
   "cell_type": "markdown",
   "metadata": {
    "id": "SCLRji6TeQgh"
   },
   "source": [
    "### Plot the specific volume of saturated liquid between 300 kPa and 1500 kPa"
   ]
  },
  {
   "cell_type": "code",
   "execution_count": 1024,
   "metadata": {
    "id": "u6DyyI7MeYgE"
   },
   "outputs": [
    {
     "data": {
      "image/png": "[encoded data removed]",
      "text/plain": [
       "<Figure size 640x480 with 1 Axes>"
      ]
     },
     "metadata": {},
     "output_type": "display_data"
    }
   ],
   "source": [
    "#your code here\n",
    "plt.plot(V_data.iloc[:,0],V_data.iloc[:,2],'r-',markersize =1)\n",
    "plt.xlim(300,1500)\n",
    "plt.title(\"V vs P for 300kPa to 1500kPa\") \n",
    "plt.xlabel(\"Pressure\")\n",
    "plt.ylabel(\"Specific Volume\")\n",
    "plt.show()"
   ]
  },
  {
   "cell_type": "markdown",
   "metadata": {},
   "source": [
    "# Section 4 : Conclusion"
   ]
  },
  {
   "cell_type": "markdown",
   "metadata": {},
   "source": [
    "*Congratulations on reaching this point! I hope you had fun solving your first assignment and have also built confidence in applying these libraries. If you are wondering, we will cover more about z-score normalization in Week 2, and the sigmoid function will be used in Week 3. After completing this assignment, you are now prepared to learn about machine learning techniques and implement your own machine learning models.*"
   ]
  }
 ],
 "metadata": {
  "colab": {
   "provenance": [],
   "toc_visible": true
  },
  "kernelspec": {
   "display_name": "Python 3 (ipykernel)",
   "language": "python",
   "name": "python3"
  },
  "language_info": {
   "codemirror_mode": {
    "name": "ipython",
    "version": 3
   },
   "file_extension": ".py",
   "mimetype": "text/x-python",
   "name": "python",
   "nbconvert_exporter": "python",
   "pygments_lexer": "ipython3",
   "version": "3.11.5"
  }
 },
 "nbformat": 4,
 "nbformat_minor": 1
}
