{
 "cells": [
  {
   "cell_type": "markdown",
   "metadata": {
    "id": "UOzd0zRXW5Uv"
   },
   "source": [
    "# Week-1 Assignment\n",
    "\n",
    "*Welcome to your first assignment for the SimuTech Winter Project 2022! I hope you are excited to implement and test everything you have learned up until now. There is an interesting set of questions for you to refine your acquired skills as you delve into hands-on coding and deepen your understanding of numpy, pandas, and data visualization libraries.*"
   ]
  },
  {
   "cell_type": "markdown",
   "metadata": {
    "id": "2XFUXyq9Y9TG"
   },
   "source": [
    "# Section 0 : Importing Libraries"
   ]
  },
  {
   "cell_type": "markdown",
   "metadata": {
    "id": "D_bzcLusjSO0"
   },
   "source": [
    "*Let's begin by importing numpy, pandas and matplotlib.*"
   ]
  },
  {
   "cell_type": "code",
   "execution_count": 38,
   "metadata": {
    "id": "jdwX7bI7aGeY"
   },
   "outputs": [],
   "source": [
    "import numpy as np\n",
    "import pandas as pd\n",
    "from matplotlib import pyplot as plt"
   ]
  },
  {
   "cell_type": "markdown",
   "metadata": {
    "id": "LM25mz5ta-Q_"
   },
   "source": [
    "# Section 1 : Playing with Python and Numpy"
   ]
  },
  {
   "cell_type": "markdown",
   "metadata": {
    "id": "TcFQVqhAdQw_"
   },
   "source": [
    "### Q1. Matrix Multiplication"
   ]
  },
  {
   "cell_type": "markdown",
   "metadata": {
    "id": "6Dcai9pys0j8"
   },
   "source": [
    "##### (i) Check if matrix multiplication is valid"
   ]
  },
  {
   "cell_type": "code",
   "execution_count": 38,
   "metadata": {
    "id": "0qC4txIss3gG"
   },
   "outputs": [
    {
     "name": "stdout",
     "output_type": "stream",
     "text": [
      "(4, 3)\n",
      "(3, 3)\n"
     ]
    }
   ],
   "source": [
    "\n",
    "    A = np.array([[1,2,3],\n",
    "                  [4,5,6],\n",
    "                  [7,8,9],\n",
    "                  [10,11,12]])\n",
    "    B = np.array([[13,14,15],\n",
    "                  [16,17,18],\n",
    "                  [19,20,21]])\n",
    "print(A.shape)\n",
    "print(B.shape)\n",
    "#no. of columns in A = no. of rows in B\n",
    "#hence,matrix multiplication is defined\n",
    "  "
   ]
  },
  {
   "cell_type": "markdown",
   "metadata": {
    "id": "OPTfRGlTdXxa"
   },
   "source": [
    "##### (ii) Using loops (without using numpy)"
   ]
  },
  {
   "cell_type": "code",
   "execution_count": 40,
   "metadata": {
    "id": "V8F5ETsRct3S"
   },
   "outputs": [
    {
     "name": "stdout",
     "output_type": "stream",
     "text": [
      "[102, 108, 114]\n",
      "[246, 261, 276]\n",
      "[390, 414, 438]\n",
      "[534, 567, 600]\n"
     ]
    }
   ],
   "source": [
    "result = [[0,0,0],\n",
    "          [0,0,0],\n",
    "          [0,0,0],\n",
    "          [0,0,0]] \n",
    "for i in range(len(A)):\n",
    "    for j in range(len(B[0])):\n",
    "        for k in range(len(B)):\n",
    "            result[i][j] += A[i][k] * B[k][j]\n",
    "    \n",
    "for r in result:\n",
    "    print(r)\n",
    "        \n"
   ]
  },
  {
   "cell_type": "markdown",
   "metadata": {
    "id": "umUgUTSWdos8"
   },
   "source": [
    "##### (iii) Using numpy"
   ]
  },
  {
   "cell_type": "code",
   "execution_count": 29,
   "metadata": {
    "id": "-tdXlCHrduBP"
   },
   "outputs": [
    {
     "data": {
      "text/plain": [
       "array([[102, 108, 114],\n",
       "       [246, 261, 276],\n",
       "       [390, 414, 438],\n",
       "       [534, 567, 600]])"
      ]
     },
     "execution_count": 29,
     "metadata": {},
     "output_type": "execute_result"
    }
   ],
   "source": [
    "np.matmul(A,B)"
   ]
  },
  {
   "cell_type": "markdown",
   "metadata": {
    "id": "2nMFnl84edJG"
   },
   "source": [
    "##### (iv) Testing your code\n",
    "\n",
    "Run the following cell to check if your functions are working properly.\n",
    "\n",
    "*Expected output:*\n",
    "[ [102 108 114]\n",
    " [246 261 276]\n",
    " [390 414 438]\n",
    " [534 567 600] ]"
   ]
  },
  {
   "cell_type": "code",
   "execution_count": null,
   "metadata": {
    "id": "09rX_Cm9ezmq"
   },
   "outputs": [],
   "source": [
    "A = np.array([\n",
    "    [1, 2, 3],\n",
    "    [4, 5, 6],\n",
    "    [7, 8, 9],\n",
    "    [10, 11, 12]\n",
    "])\n",
    "\n",
    "B = np.array([\n",
    "    [13, 14, 15],\n",
    "    [16, 17, 18],\n",
    "    [19, 20, 21]\n",
    "])\n",
    "\n",
    "if isValid(A,B):\n",
    "  print(f\"Result using loops: {matrix_multiply(A,B)}\")\n",
    "  print(f\"Result using numpy: {matrix_multiply_2(A,B)}\")\n",
    "else:\n",
    "  print(f\"Matrix multiplication is not valid\")"
   ]
  },
  {
   "cell_type": "markdown",
   "metadata": {
    "id": "5hfP7Ao1fwqV"
   },
   "source": [
    "### Q2. Z-Score Normalisation"
   ]
  },
  {
   "cell_type": "markdown",
   "metadata": {
    "id": "0e81Xx5Kw_CQ"
   },
   "source": [
    "Z-score normalization refers to the process of normalizing every value in a dataset such that the mean of all of the values is 0 and the standard deviation is 1.\n",
    "\n",
    "We use the following formula to perform a z-score normalization on every value in a dataset:\n",
    "\n",
    "New value = (x – μ) / σ\n",
    "\n",
    "where:\n",
    "\n",
    "x: Original value\n",
    "\n",
    "μ: Mean of data\n",
    "\n",
    "σ: Standard deviation of data"
   ]
  },
  {
   "cell_type": "markdown",
   "metadata": {
    "id": "GP_MuyUbguSR"
   },
   "source": [
    "##### (i) Without using numpy"
   ]
  },
  {
   "cell_type": "code",
   "execution_count": 59,
   "metadata": {
    "id": "0vix8qaaghwP"
   },
   "outputs": [
    {
     "name": "stdout",
     "output_type": "stream",
     "text": [
      "49.7\n"
     ]
    }
   ],
   "source": [
    "# Finding mean for given dataset(x)\n",
    "x = [4, 7, 7, 15, 32, 47, 63, 89, 102, 131]\n",
    "import math\n",
    "mean = sum(x)/len(x)\n",
    "print(mean)\n",
    "\n",
    "\n"
   ]
  },
  {
   "cell_type": "code",
   "execution_count": 67,
   "metadata": {
    "id": "j1qabel-g_f5"
   },
   "outputs": [
    {
     "name": "stdout",
     "output_type": "stream",
     "text": [
      "Standard Deviation of the dataset: 42.8089943820221\n"
     ]
    }
   ],
   "source": [
    "#Finding standard deviation for given dataset(x)\n",
    "variance = sum((xi - mean) ** 2 for xi in x) / len(x)\n",
    "std_dev = math.sqrt(variance)\n",
    "\n",
    "print(\"Standard Deviation of the dataset:\", std_dev)\n"
   ]
  },
  {
   "cell_type": "code",
   "execution_count": 68,
   "metadata": {
    "id": "797ewbNqhEpY"
   },
   "outputs": [
    {
     "name": "stdout",
     "output_type": "stream",
     "text": [
      "Z-scores normalization: [-1.0675326683028088, -0.9974539373420117, -0.9974539373420117, -0.8105773214465528, -0.41346451266870277, -0.06307085786471743, 0.3106823739262003, 0.9180313755864415, 1.2217058764165623, 1.8991336090376005]\n"
     ]
    }
   ],
   "source": [
    "#Finding Z-score normalisation for given dataset (x)\n",
    "z_scores = [(xi - mean) / std_dev for xi in x]\n",
    "\n",
    "print(\"Z-scores normalization:\", z_scores)"
   ]
  },
  {
   "cell_type": "markdown",
   "metadata": {
    "id": "k8dq1wqRhbUB"
   },
   "source": [
    "##### (ii) Using numpy\n",
    "\n",
    "Numpy has in_built functions for calculating mean and standard deviation"
   ]
  },
  {
   "cell_type": "code",
   "execution_count": 69,
   "metadata": {
    "id": "WjxJTUDihsYg"
   },
   "outputs": [
    {
     "name": "stdout",
     "output_type": "stream",
     "text": [
      "Z-scores  normalization: [-1.06753267 -0.99745394 -0.99745394 -0.81057732 -0.41346451 -0.06307086\n",
      "  0.31068237  0.91803138  1.22170588  1.89913361]\n"
     ]
    }
   ],
   "source": [
    "#Z -score normalization using numpy for given dataset (x)\n",
    "x = np.array([4, 7, 7, 15, 32, 47, 63, 89, 102, 131])\n",
    "mean = np.mean(x)\n",
    "std_dev = np.std(x)\n",
    "z_scores = (x-mean)/std_dev\n",
    "print(\"Z-scores  normalization:\",z_scores)"
   ]
  },
  {
   "cell_type": "markdown",
   "metadata": {
    "id": "glRqKU-_1pue"
   },
   "source": [
    "##### (iii) Testing your code"
   ]
  },
  {
   "cell_type": "markdown",
   "metadata": {
    "id": "Kl7XBymOigCU"
   },
   "source": [
    "Run the following cell to check if your functions are working properly.\n",
    "\n",
    "*Expected Output:* [-1.06753267 -0.99745394 -0.99745394 -0.81057732 -0.41346451 -0.06307086\n",
    "  0.31068237  0.91803138  1.22170588  1.89913361]"
   ]
  },
  {
   "cell_type": "code",
   "execution_count": null,
   "metadata": {
    "id": "78ptZxf6ipZp"
   },
   "outputs": [],
   "source": [
    "x = [4, 7, 7, 15, 32, 47, 63, 89, 102, 131]\n",
    "print(f\"Result without using numpy: {zscore_normalisation(x)}\")\n",
    "print(f\"Result using numpy: {zscore_normalisation_2(x)}\")"
   ]
  },
  {
   "cell_type": "markdown",
   "metadata": {
    "id": "0WVscJ0z14rp"
   },
   "source": [
    "### Q3. Sigmoid fn and its derivative"
   ]
  },
  {
   "cell_type": "markdown",
   "metadata": {
    "id": "Jfntb0Rg94Tu"
   },
   "source": [
    "The sigmoid function is a mathematical function that maps any input value to a value between 0 and 1.\n",
    "\n",
    "It is defined mathematically as s(x) = 1/(1+e^(-x))."
   ]
  },
  {
   "cell_type": "markdown",
   "metadata": {
    "id": "8SCAPkjO2m7u"
   },
   "source": [
    "##### (i) Write a fn to implement sigmoid fn"
   ]
  },
  {
   "cell_type": "code",
   "execution_count": 80,
   "metadata": {
    "id": "jL_TRQFG2l5m"
   },
   "outputs": [
    {
     "name": "stdout",
     "output_type": "stream",
     "text": [
      "Result after applying the sigmoid function:\n",
      " [[0.99987661 0.88079708 0.99330715 0.5        0.5       ]\n",
      " [0.99908895 0.99330715 0.5        0.5        0.5       ]]\n"
     ]
    }
   ],
   "source": [
    "def sigmoidfn(x):\n",
    "    return 1/(1+np.exp(-x))\n",
    "x = np.array([[9,2,5,0,0],\n",
    "              [7,5,0,0,0]])\n",
    "result = sigmoidfn(x)\n",
    "\n",
    "print(\"Result on applying sigmoid activation function:\\n\", result)\n",
    "              \n",
    "  "
   ]
  },
  {
   "cell_type": "markdown",
   "metadata": {
    "id": "t7KBbl7N3AUM"
   },
   "source": [
    "##### (ii) Write a fn to implement derivative of sigmoid fn"
   ]
  },
  {
   "cell_type": "code",
   "execution_count": 84,
   "metadata": {
    "id": "okjuOpba3KOJ"
   },
   "outputs": [
    {
     "name": "stdout",
     "output_type": "stream",
     "text": [
      "Result on applying derivative of sigmoid activation function:\n",
      " [[1.23379350e-04 1.04993585e-01 6.64805667e-03 2.50000000e-01\n",
      "  2.50000000e-01]\n",
      " [9.10221180e-04 6.64805667e-03 2.50000000e-01 2.50000000e-01\n",
      "  2.50000000e-01]]\n"
     ]
    }
   ],
   "source": [
    "def derivative(x):\n",
    "    return np.exp(-x)/(1+np.exp(-x))**2\n",
    "\n",
    "\n",
    "result = derivative(x)\n",
    "\n",
    "print(\"Result on applying derivative of sigmoid activation function:\\n\", result)"
   ]
  },
  {
   "cell_type": "markdown",
   "metadata": {
    "id": "NdGTSpsp3mwr"
   },
   "source": [
    "##### (iii) Test your code"
   ]
  },
  {
   "cell_type": "markdown",
   "metadata": {
    "id": "lWY8RBex7gnd"
   },
   "source": [
    "Run the following cell to check if your functions are working properly.\n",
    "\n",
    "*Expected output:*\n",
    "\n",
    "x on applying sigmoid activation fn is: [ [0.99987661 0.88079708 0.99330715 0.5        0.5       ]\n",
    " [0.99908895 0.99330715 0.5        0.5        0.5       ] ]\n",
    "\n",
    "x on applying derivative of sigmoid activation fn is: [ [-1.23379350e-04 -1.04993585e-01 -6.64805667e-03 -2.50000000e-01\n",
    "  -2.50000000e-01]\n",
    " [-9.10221180e-04 -6.64805667e-03 -2.50000000e-01 -2.50000000e-01\n",
    "  -2.50000000e-01] ]"
   ]
  },
  {
   "cell_type": "code",
   "execution_count": null,
   "metadata": {
    "id": "ssDGpmS33vdA"
   },
   "outputs": [],
   "source": [
    "x = np.array([\n",
    "    [9,2,5,0,0],\n",
    "    [7,5,0,0,0]\n",
    "])\n",
    "print(f\"x on applying sigmoid activation fn is: {sigmoidfn(x)}\")\n",
    "print(f\"x on applying derivative of sigmoid activation fn is: {derivative(x)}\")"
   ]
  },
  {
   "cell_type": "markdown",
   "metadata": {
    "id": "PMa0cseyZpa1"
   },
   "source": [
    "# Section 2: Exploring Pandas"
   ]
  },
  {
   "cell_type": "markdown",
   "metadata": {},
   "source": [
    "*You have been provided with a dataset which includes information about properties of superheated vapor.*\n",
    "\n",
    "*The dataset consists of the thermophysical properties: specific volume, specific internal energy, specific enthalpy, specific entropy of superheated vapor.*\n",
    "\n",
    "*Pressure is in kPa and Temperature in centigrade. In the dataframe 75, 100, 125, etc. are temperatures.*"
   ]
  },
  {
   "cell_type": "markdown",
   "metadata": {
    "id": "i5Okb_jxZ_VW"
   },
   "source": [
    "### Read the csv file\n"
   ]
  },
  {
   "cell_type": "code",
   "execution_count": 3,
   "metadata": {
    "id": "aQgvyavrcM1l"
   },
   "outputs": [
    {
     "data": {
      "text/html": [
       "<div>\n",
       "<style scoped>\n",
       "    .dataframe tbody tr th:only-of-type {\n",
       "        vertical-align: middle;\n",
       "    }\n",
       "\n",
       "    .dataframe tbody tr th {\n",
       "        vertical-align: top;\n",
       "    }\n",
       "\n",
       "    .dataframe thead th {\n",
       "        text-align: right;\n",
       "    }\n",
       "</style>\n",
       "<table border=\"1\" class=\"dataframe\">\n",
       "  <thead>\n",
       "    <tr style=\"text-align: right;\">\n",
       "      <th></th>\n",
       "      <th>Pressure</th>\n",
       "      <th>Property</th>\n",
       "      <th>Liq_Sat</th>\n",
       "      <th>Vap_Sat</th>\n",
       "      <th>75</th>\n",
       "      <th>100</th>\n",
       "      <th>125</th>\n",
       "      <th>150</th>\n",
       "      <th>175</th>\n",
       "      <th>200</th>\n",
       "      <th>...</th>\n",
       "      <th>425</th>\n",
       "      <th>450</th>\n",
       "      <th>475</th>\n",
       "      <th>500</th>\n",
       "      <th>525</th>\n",
       "      <th>550</th>\n",
       "      <th>575</th>\n",
       "      <th>600</th>\n",
       "      <th>625</th>\n",
       "      <th>650</th>\n",
       "    </tr>\n",
       "  </thead>\n",
       "  <tbody>\n",
       "    <tr>\n",
       "      <th>0</th>\n",
       "      <td>1.0</td>\n",
       "      <td>V</td>\n",
       "      <td>1.0000</td>\n",
       "      <td>129200.0000</td>\n",
       "      <td>160640.0000</td>\n",
       "      <td>172180.0000</td>\n",
       "      <td>183720.0000</td>\n",
       "      <td>195270.0000</td>\n",
       "      <td>206810.0000</td>\n",
       "      <td>218350.0000</td>\n",
       "      <td>...</td>\n",
       "      <td>NaN</td>\n",
       "      <td>333730.0000</td>\n",
       "      <td>NaN</td>\n",
       "      <td>356810.0000</td>\n",
       "      <td>NaN</td>\n",
       "      <td>379880.0000</td>\n",
       "      <td>NaN</td>\n",
       "      <td>402960.0000</td>\n",
       "      <td>NaN</td>\n",
       "      <td>426040.0000</td>\n",
       "    </tr>\n",
       "    <tr>\n",
       "      <th>1</th>\n",
       "      <td>1.0</td>\n",
       "      <td>U</td>\n",
       "      <td>29.3340</td>\n",
       "      <td>2385.2000</td>\n",
       "      <td>2480.8000</td>\n",
       "      <td>2516.4000</td>\n",
       "      <td>2552.3000</td>\n",
       "      <td>2588.5000</td>\n",
       "      <td>2624.9000</td>\n",
       "      <td>2661.7000</td>\n",
       "      <td>...</td>\n",
       "      <td>NaN</td>\n",
       "      <td>3049.9000</td>\n",
       "      <td>NaN</td>\n",
       "      <td>3132.4000</td>\n",
       "      <td>NaN</td>\n",
       "      <td>3216.7000</td>\n",
       "      <td>NaN</td>\n",
       "      <td>3302.6000</td>\n",
       "      <td>NaN</td>\n",
       "      <td>3390.3000</td>\n",
       "    </tr>\n",
       "    <tr>\n",
       "      <th>2</th>\n",
       "      <td>1.0</td>\n",
       "      <td>H</td>\n",
       "      <td>29.3350</td>\n",
       "      <td>2514.4000</td>\n",
       "      <td>2641.5000</td>\n",
       "      <td>2688.6000</td>\n",
       "      <td>2736.0000</td>\n",
       "      <td>2783.7000</td>\n",
       "      <td>2831.7000</td>\n",
       "      <td>2880.1000</td>\n",
       "      <td>...</td>\n",
       "      <td>NaN</td>\n",
       "      <td>3383.6000</td>\n",
       "      <td>NaN</td>\n",
       "      <td>3489.2000</td>\n",
       "      <td>NaN</td>\n",
       "      <td>3596.5000</td>\n",
       "      <td>NaN</td>\n",
       "      <td>3705.6000</td>\n",
       "      <td>NaN</td>\n",
       "      <td>3816.4000</td>\n",
       "    </tr>\n",
       "    <tr>\n",
       "      <th>3</th>\n",
       "      <td>1.0</td>\n",
       "      <td>S</td>\n",
       "      <td>0.1060</td>\n",
       "      <td>8.9767</td>\n",
       "      <td>9.3828</td>\n",
       "      <td>9.5136</td>\n",
       "      <td>9.6365</td>\n",
       "      <td>9.7527</td>\n",
       "      <td>9.8629</td>\n",
       "      <td>9.9679</td>\n",
       "      <td>...</td>\n",
       "      <td>NaN</td>\n",
       "      <td>10.8200</td>\n",
       "      <td>NaN</td>\n",
       "      <td>10.9612</td>\n",
       "      <td>NaN</td>\n",
       "      <td>11.0957</td>\n",
       "      <td>NaN</td>\n",
       "      <td>11.2243</td>\n",
       "      <td>NaN</td>\n",
       "      <td>11.3476</td>\n",
       "    </tr>\n",
       "    <tr>\n",
       "      <th>4</th>\n",
       "      <td>10.0</td>\n",
       "      <td>V</td>\n",
       "      <td>1.0100</td>\n",
       "      <td>14670.0000</td>\n",
       "      <td>16030.0000</td>\n",
       "      <td>17190.0000</td>\n",
       "      <td>18350.0000</td>\n",
       "      <td>19510.0000</td>\n",
       "      <td>20660.0000</td>\n",
       "      <td>21820.0000</td>\n",
       "      <td>...</td>\n",
       "      <td>NaN</td>\n",
       "      <td>33370.0000</td>\n",
       "      <td>NaN</td>\n",
       "      <td>35670.0000</td>\n",
       "      <td>NaN</td>\n",
       "      <td>37980.0000</td>\n",
       "      <td>NaN</td>\n",
       "      <td>40290.0000</td>\n",
       "      <td>NaN</td>\n",
       "      <td>42600.0000</td>\n",
       "    </tr>\n",
       "    <tr>\n",
       "      <th>...</th>\n",
       "      <td>...</td>\n",
       "      <td>...</td>\n",
       "      <td>...</td>\n",
       "      <td>...</td>\n",
       "      <td>...</td>\n",
       "      <td>...</td>\n",
       "      <td>...</td>\n",
       "      <td>...</td>\n",
       "      <td>...</td>\n",
       "      <td>...</td>\n",
       "      <td>...</td>\n",
       "      <td>...</td>\n",
       "      <td>...</td>\n",
       "      <td>...</td>\n",
       "      <td>...</td>\n",
       "      <td>...</td>\n",
       "      <td>...</td>\n",
       "      <td>...</td>\n",
       "      <td>...</td>\n",
       "      <td>...</td>\n",
       "      <td>...</td>\n",
       "    </tr>\n",
       "    <tr>\n",
       "      <th>539</th>\n",
       "      <td>11200.0</td>\n",
       "      <td>S</td>\n",
       "      <td>3.4440</td>\n",
       "      <td>5.5476</td>\n",
       "      <td>NaN</td>\n",
       "      <td>NaN</td>\n",
       "      <td>NaN</td>\n",
       "      <td>NaN</td>\n",
       "      <td>NaN</td>\n",
       "      <td>NaN</td>\n",
       "      <td>...</td>\n",
       "      <td>6.2491</td>\n",
       "      <td>6.3515</td>\n",
       "      <td>6.4452</td>\n",
       "      <td>6.5324</td>\n",
       "      <td>6.6147</td>\n",
       "      <td>6.6929</td>\n",
       "      <td>6.7679</td>\n",
       "      <td>6.8401</td>\n",
       "      <td>6.9099</td>\n",
       "      <td>6.9777</td>\n",
       "    </tr>\n",
       "    <tr>\n",
       "      <th>540</th>\n",
       "      <td>11400.0</td>\n",
       "      <td>V</td>\n",
       "      <td>1.5040</td>\n",
       "      <td>15.2840</td>\n",
       "      <td>NaN</td>\n",
       "      <td>NaN</td>\n",
       "      <td>NaN</td>\n",
       "      <td>NaN</td>\n",
       "      <td>NaN</td>\n",
       "      <td>NaN</td>\n",
       "      <td>...</td>\n",
       "      <td>24.1040</td>\n",
       "      <td>25.5990</td>\n",
       "      <td>27.0100</td>\n",
       "      <td>28.3590</td>\n",
       "      <td>29.6610</td>\n",
       "      <td>30.9250</td>\n",
       "      <td>32.1600</td>\n",
       "      <td>33.3700</td>\n",
       "      <td>34.5600</td>\n",
       "      <td>35.7330</td>\n",
       "    </tr>\n",
       "    <tr>\n",
       "      <th>541</th>\n",
       "      <td>11400.0</td>\n",
       "      <td>U</td>\n",
       "      <td>1450.0000</td>\n",
       "      <td>2527.2000</td>\n",
       "      <td>NaN</td>\n",
       "      <td>NaN</td>\n",
       "      <td>NaN</td>\n",
       "      <td>NaN</td>\n",
       "      <td>NaN</td>\n",
       "      <td>NaN</td>\n",
       "      <td>...</td>\n",
       "      <td>2873.1000</td>\n",
       "      <td>2929.4000</td>\n",
       "      <td>2982.6000</td>\n",
       "      <td>3033.9000</td>\n",
       "      <td>3083.9000</td>\n",
       "      <td>3133.1000</td>\n",
       "      <td>3181.9000</td>\n",
       "      <td>3230.4000</td>\n",
       "      <td>3278.8000</td>\n",
       "      <td>3327.2000</td>\n",
       "    </tr>\n",
       "    <tr>\n",
       "      <th>542</th>\n",
       "      <td>11400.0</td>\n",
       "      <td>H</td>\n",
       "      <td>1467.2000</td>\n",
       "      <td>2701.5000</td>\n",
       "      <td>NaN</td>\n",
       "      <td>NaN</td>\n",
       "      <td>NaN</td>\n",
       "      <td>NaN</td>\n",
       "      <td>NaN</td>\n",
       "      <td>NaN</td>\n",
       "      <td>...</td>\n",
       "      <td>3147.9000</td>\n",
       "      <td>3221.2000</td>\n",
       "      <td>3290.5000</td>\n",
       "      <td>3357.2000</td>\n",
       "      <td>3422.1000</td>\n",
       "      <td>3485.7000</td>\n",
       "      <td>3548.5000</td>\n",
       "      <td>3610.8000</td>\n",
       "      <td>3672.8000</td>\n",
       "      <td>3734.6000</td>\n",
       "    </tr>\n",
       "    <tr>\n",
       "      <th>543</th>\n",
       "      <td>11400.0</td>\n",
       "      <td>S</td>\n",
       "      <td>3.4575</td>\n",
       "      <td>5.5357</td>\n",
       "      <td>NaN</td>\n",
       "      <td>NaN</td>\n",
       "      <td>NaN</td>\n",
       "      <td>NaN</td>\n",
       "      <td>NaN</td>\n",
       "      <td>NaN</td>\n",
       "      <td>...</td>\n",
       "      <td>6.2367</td>\n",
       "      <td>6.3399</td>\n",
       "      <td>6.4341</td>\n",
       "      <td>6.5218</td>\n",
       "      <td>6.6043</td>\n",
       "      <td>6.6828</td>\n",
       "      <td>6.7580</td>\n",
       "      <td>6.8304</td>\n",
       "      <td>6.9004</td>\n",
       "      <td>6.9683</td>\n",
       "    </tr>\n",
       "  </tbody>\n",
       "</table>\n",
       "<p>544 rows × 37 columns</p>\n",
       "</div>"
      ],
      "text/plain": [
       "     Pressure Property    Liq_Sat      Vap_Sat           75          100  \\\n",
       "0         1.0        V     1.0000  129200.0000  160640.0000  172180.0000   \n",
       "1         1.0        U    29.3340    2385.2000    2480.8000    2516.4000   \n",
       "2         1.0        H    29.3350    2514.4000    2641.5000    2688.6000   \n",
       "3         1.0        S     0.1060       8.9767       9.3828       9.5136   \n",
       "4        10.0        V     1.0100   14670.0000   16030.0000   17190.0000   \n",
       "..        ...      ...        ...          ...          ...          ...   \n",
       "539   11200.0        S     3.4440       5.5476          NaN          NaN   \n",
       "540   11400.0        V     1.5040      15.2840          NaN          NaN   \n",
       "541   11400.0        U  1450.0000    2527.2000          NaN          NaN   \n",
       "542   11400.0        H  1467.2000    2701.5000          NaN          NaN   \n",
       "543   11400.0        S     3.4575       5.5357          NaN          NaN   \n",
       "\n",
       "             125          150          175          200  ...        425  \\\n",
       "0    183720.0000  195270.0000  206810.0000  218350.0000  ...        NaN   \n",
       "1      2552.3000    2588.5000    2624.9000    2661.7000  ...        NaN   \n",
       "2      2736.0000    2783.7000    2831.7000    2880.1000  ...        NaN   \n",
       "3         9.6365       9.7527       9.8629       9.9679  ...        NaN   \n",
       "4     18350.0000   19510.0000   20660.0000   21820.0000  ...        NaN   \n",
       "..           ...          ...          ...          ...  ...        ...   \n",
       "539          NaN          NaN          NaN          NaN  ...     6.2491   \n",
       "540          NaN          NaN          NaN          NaN  ...    24.1040   \n",
       "541          NaN          NaN          NaN          NaN  ...  2873.1000   \n",
       "542          NaN          NaN          NaN          NaN  ...  3147.9000   \n",
       "543          NaN          NaN          NaN          NaN  ...     6.2367   \n",
       "\n",
       "             450        475          500        525          550        575  \\\n",
       "0    333730.0000        NaN  356810.0000        NaN  379880.0000        NaN   \n",
       "1      3049.9000        NaN    3132.4000        NaN    3216.7000        NaN   \n",
       "2      3383.6000        NaN    3489.2000        NaN    3596.5000        NaN   \n",
       "3        10.8200        NaN      10.9612        NaN      11.0957        NaN   \n",
       "4     33370.0000        NaN   35670.0000        NaN   37980.0000        NaN   \n",
       "..           ...        ...          ...        ...          ...        ...   \n",
       "539       6.3515     6.4452       6.5324     6.6147       6.6929     6.7679   \n",
       "540      25.5990    27.0100      28.3590    29.6610      30.9250    32.1600   \n",
       "541    2929.4000  2982.6000    3033.9000  3083.9000    3133.1000  3181.9000   \n",
       "542    3221.2000  3290.5000    3357.2000  3422.1000    3485.7000  3548.5000   \n",
       "543       6.3399     6.4341       6.5218     6.6043       6.6828     6.7580   \n",
       "\n",
       "             600        625          650  \n",
       "0    402960.0000        NaN  426040.0000  \n",
       "1      3302.6000        NaN    3390.3000  \n",
       "2      3705.6000        NaN    3816.4000  \n",
       "3        11.2243        NaN      11.3476  \n",
       "4     40290.0000        NaN   42600.0000  \n",
       "..           ...        ...          ...  \n",
       "539       6.8401     6.9099       6.9777  \n",
       "540      33.3700    34.5600      35.7330  \n",
       "541    3230.4000  3278.8000    3327.2000  \n",
       "542    3610.8000  3672.8000    3734.6000  \n",
       "543       6.8304     6.9004       6.9683  \n",
       "\n",
       "[544 rows x 37 columns]"
      ]
     },
     "execution_count": 3,
     "metadata": {},
     "output_type": "execute_result"
    }
   ],
   "source": [
    "import pandas as pd\n",
    "df = pd.read_csv(r\"C:/Machine-Learning-with-Python/Assignments/Assignment 1/superheated_vapor_properties.csv\")\n",
    "df\n",
    "                 "
   ]
  },
  {
   "cell_type": "markdown",
   "metadata": {
    "id": "Zp8F3rk2cNxy"
   },
   "source": [
    "### Display the shape of data frame\n"
   ]
  },
  {
   "cell_type": "code",
   "execution_count": 48,
   "metadata": {
    "id": "v3Q8kQkucgK0"
   },
   "outputs": [
    {
     "data": {
      "text/plain": [
       "(544, 37)"
      ]
     },
     "execution_count": 48,
     "metadata": {},
     "output_type": "execute_result"
    }
   ],
   "source": [
    "df.shape"
   ]
  },
  {
   "cell_type": "markdown",
   "metadata": {
    "id": "w49cp-8zcgd2"
   },
   "source": [
    "### Return an array containing names of all the columns"
   ]
  },
  {
   "cell_type": "code",
   "execution_count": 49,
   "metadata": {
    "id": "fz4HRb3JcsZp"
   },
   "outputs": [
    {
     "data": {
      "text/plain": [
       "Index(['Pressure', 'Property', 'Liq_Sat', 'Vap_Sat', '75', '100', '125', '150',\n",
       "       '175', '200', '220', '225', '240', '250', '260', '275', '280', '290',\n",
       "       '300', '320', '325', '340', '350', '360', '375', '380', '400', '425',\n",
       "       '450', '475', '500', '525', '550', '575', '600', '625', '650'],\n",
       "      dtype='object')"
      ]
     },
     "execution_count": 49,
     "metadata": {},
     "output_type": "execute_result"
    }
   ],
   "source": [
    "df.columns"
   ]
  },
  {
   "cell_type": "markdown",
   "metadata": {
    "id": "YkTH9tRWcrH-"
   },
   "source": [
    "### Display the number of null values in each column of the dataframe\n",
    "\n"
   ]
  },
  {
   "cell_type": "code",
   "execution_count": 50,
   "metadata": {
    "id": "GK9-PJPxc3Ot"
   },
   "outputs": [
    {
     "data": {
      "text/plain": [
       "Pressure      0\n",
       "Property      0\n",
       "Liq_Sat       0\n",
       "Vap_Sat       0\n",
       "75          528\n",
       "100         508\n",
       "125         488\n",
       "150         448\n",
       "175         384\n",
       "200         320\n",
       "220         408\n",
       "225         400\n",
       "240         408\n",
       "250         344\n",
       "260         384\n",
       "275         340\n",
       "280         380\n",
       "290         488\n",
       "300          60\n",
       "320         480\n",
       "325         136\n",
       "340         476\n",
       "350          68\n",
       "360         476\n",
       "375         204\n",
       "380         476\n",
       "400           0\n",
       "425         204\n",
       "450           0\n",
       "475         204\n",
       "500           0\n",
       "525         272\n",
       "550           0\n",
       "575         340\n",
       "600           0\n",
       "625         476\n",
       "650           0\n",
       "dtype: int64"
      ]
     },
     "execution_count": 50,
     "metadata": {},
     "output_type": "execute_result"
    }
   ],
   "source": [
    "df.isnull().sum()"
   ]
  },
  {
   "cell_type": "markdown",
   "metadata": {
    "id": "Av-lcft2c3mx"
   },
   "source": [
    "### Create a column which contains the Pressure and Property columns, seperated with 'at' (For eg. V at 1, H at 101.325). Using this print the following:\n",
    "- Enthalpy at 75 kPa and 573 K\n",
    "- Entropy at 493 K and 250 kPa\n",
    "\n"
   ]
  },
  {
   "cell_type": "code",
   "execution_count": 23,
   "metadata": {
    "id": "B2AihQj_c32C"
   },
   "outputs": [
    {
     "name": "stdout",
     "output_type": "stream",
     "text": [
      "Enthalpy at 75kPa and 300: ['V at 75.0kPa' 'U at 75.0kPa' 'H at 75.0kPa' 'S at 75.0kPa']\n",
      "Entropy at 220 and 250kPa: []\n"
     ]
    }
   ],
   "source": [
    "df['Combined'] = df['Property'] + ' at ' + df['Pressure'].astype(str) +'kPa'\n",
    "enthalpy_at_75kPa_300 = df.loc[(df['Pressure'] == 75) & (df['300']), 'Combined'].values\n",
    "entropy_at_250kPa_220 = df.loc[(df['Pressure'] == 250) & (df['220']), 'Combined'].values\n",
    "\n",
    "#493K = 220degree celsius\n",
    "#573K = 300degree celsius\n",
    "\n",
    "print(\"Enthalpy at 75kPa and 300:\", enthalpy_at_75kPa_300)\n",
    "print(\"Entropy at 220 and 250kPa:\", entropy_at_220_250kPa)"
   ]
  },
  {
   "cell_type": "markdown",
   "metadata": {
    "id": "GpLtXYRLc4Ho"
   },
   "source": [
    "### Find out the column with the highest number of missing values"
   ]
  },
  {
   "cell_type": "code",
   "execution_count": 55,
   "metadata": {
    "id": "q80Grgeyc4Xn"
   },
   "outputs": [
    {
     "data": {
      "text/plain": [
       "'75'"
      ]
     },
     "execution_count": 55,
     "metadata": {},
     "output_type": "execute_result"
    }
   ],
   "source": [
    "df.count().idxmin()"
   ]
  },
  {
   "cell_type": "markdown",
   "metadata": {
    "id": "74NVHTTac4nv"
   },
   "source": [
    "### What is the average enthalpy of Sat. Liq. at all different pressures in the dataset?"
   ]
  },
  {
   "cell_type": "code",
   "execution_count": 108,
   "metadata": {
    "id": "g3mByhBDdpVr"
   },
   "outputs": [
    {
     "name": "stdout",
     "output_type": "stream",
     "text": [
      "936.9707720588235\n"
     ]
    }
   ],
   "source": [
    "\n",
    "average_enthalpy =df[df['Property']=='H']['Liq_Sat'].mean()\n",
    "print(average_enthalpy)\n",
    "\n"
   ]
  },
  {
   "cell_type": "markdown",
   "metadata": {
    "id": "uS-SuqU8dpxg"
   },
   "source": [
    "### Separate out the V,U,H,S data from the dataset into V_data, U_data, H_data, S_data"
   ]
  },
  {
   "cell_type": "code",
   "execution_count": 86,
   "metadata": {
    "id": "Sg3V9Toyd1Av",
    "scrolled": true
   },
   "outputs": [
    {
     "name": "stdout",
     "output_type": "stream",
     "text": [
      "V dataset:\n",
      "      Pressure Property  Liq_Sat     Vap_Sat        75       100       125  \\\n",
      "0         1.0        V    1.000  129200.000  160640.0  172180.0  183720.0   \n",
      "4        10.0        V    1.010   14670.000   16030.0   17190.0   18350.0   \n",
      "8        20.0        V    1.017    7649.800    8000.0    8584.7    9167.1   \n",
      "12       30.0        V    1.022    5229.300    5322.0    5714.4    6104.6   \n",
      "16       40.0        V    1.027    3993.400       NaN    4279.2    4573.3   \n",
      "..        ...      ...      ...         ...       ...       ...       ...   \n",
      "524   10600.0        V    1.474      16.778       NaN       NaN       NaN   \n",
      "528   10800.0        V    1.481      16.385       NaN       NaN       NaN   \n",
      "532   11000.0        V    1.489      16.006       NaN       NaN       NaN   \n",
      "536   11200.0        V    1.496      15.639       NaN       NaN       NaN   \n",
      "540   11400.0        V    1.504      15.284       NaN       NaN       NaN   \n",
      "\n",
      "          150       175       200  ...         450     475         500  \\\n",
      "0    195270.0  206810.0  218350.0  ...  333730.000     NaN  356810.000   \n",
      "4     19510.0   20660.0   21820.0  ...   33370.000     NaN   35670.000   \n",
      "8      9748.0   10320.0   10900.0  ...   16680.000     NaN   17830.000   \n",
      "12     6493.2    6880.8    7267.5  ...   11120.000     NaN   11890.000   \n",
      "16     4865.8    5157.2    5447.8  ...    8340.100     NaN    8917.600   \n",
      "..        ...       ...       ...  ...         ...     ...         ...   \n",
      "524       NaN       NaN       NaN  ...      27.834  29.313      30.732   \n",
      "528       NaN       NaN       NaN  ...      27.245  28.706      30.106   \n",
      "532       NaN       NaN       NaN  ...      26.676  28.120      29.503   \n",
      "536       NaN       NaN       NaN  ...      26.128  27.555      28.921   \n",
      "540       NaN       NaN       NaN  ...      25.599  27.010      28.359   \n",
      "\n",
      "        525         550     575         600     625         650  \\\n",
      "0       NaN  379880.000     NaN  402960.000     NaN  426040.000   \n",
      "4       NaN   37980.000     NaN   40290.000     NaN   42600.000   \n",
      "8       NaN   18990.000     NaN   20140.000     NaN   21300.000   \n",
      "12      NaN   12660.000     NaN   13430.000     NaN   14190.000   \n",
      "16      NaN    9494.900     NaN   10070.000     NaN   10640.000   \n",
      "..      ...         ...     ...         ...     ...         ...   \n",
      "524  32.106      33.444  34.753      36.039  37.304      38.552   \n",
      "528  31.461      32.779  34.069      35.335  36.580      37.808   \n",
      "532  30.839      32.139  33.410      34.656  35.882      37.091   \n",
      "536  30.240      31.521  32.774      34.002  35.210      36.400   \n",
      "540  29.661      30.925  32.160      33.370  34.560      35.733   \n",
      "\n",
      "            Combined  \n",
      "0        V at 1.0kPa  \n",
      "4       V at 10.0kPa  \n",
      "8       V at 20.0kPa  \n",
      "12      V at 30.0kPa  \n",
      "16      V at 40.0kPa  \n",
      "..               ...  \n",
      "524  V at 10600.0kPa  \n",
      "528  V at 10800.0kPa  \n",
      "532  V at 11000.0kPa  \n",
      "536  V at 11200.0kPa  \n",
      "540  V at 11400.0kPa  \n",
      "\n",
      "[136 rows x 38 columns]\n",
      "\n",
      "U dataset:\n",
      "      Pressure Property   Liq_Sat  Vap_Sat      75     100     125     150  \\\n",
      "1         1.0        U    29.334   2385.2  2480.8  2516.4  2552.3  2588.5   \n",
      "5        10.0        U   191.822   2438.0  2479.7  2515.6  2551.6  2588.0   \n",
      "9        20.0        U   251.432   2456.9  2478.4  2514.6  2550.9  2587.4   \n",
      "13       30.0        U   289.271   2468.6  2477.1  2513.6  2550.2  2586.8   \n",
      "17       40.0        U   317.609   2477.1     NaN  2512.6  2549.4  2586.2   \n",
      "..        ...      ...       ...      ...     ...     ...     ...     ...   \n",
      "525   10600.0        U  1418.100   2539.0     NaN     NaN     NaN     NaN   \n",
      "529   10800.0        U  1426.200   2536.2     NaN     NaN     NaN     NaN   \n",
      "533   11000.0        U  1434.200   2533.2     NaN     NaN     NaN     NaN   \n",
      "537   11200.0        U  1442.100   2530.3     NaN     NaN     NaN     NaN   \n",
      "541   11400.0        U  1450.000   2527.2     NaN     NaN     NaN     NaN   \n",
      "\n",
      "        175     200  ...     450     475     500     525     550     575  \\\n",
      "1    2624.9  2661.7  ...  3049.9     NaN  3132.4     NaN  3216.7     NaN   \n",
      "5    2624.5  2661.4  ...  3049.8     NaN  3132.3     NaN  3216.6     NaN   \n",
      "9    2624.1  2661.0  ...  3049.7     NaN  3132.3     NaN  3216.5     NaN   \n",
      "13   2623.6  2660.7  ...  3049.6     NaN  3132.2     NaN  3216.5     NaN   \n",
      "17   2623.2  2660.3  ...  3049.5     NaN  3132.1     NaN  3216.4     NaN   \n",
      "..      ...     ...  ...     ...     ...     ...     ...     ...     ...   \n",
      "525     NaN     NaN  ...  2939.1  2991.1  3041.4  3090.7  3139.3  3187.5   \n",
      "529     NaN     NaN  ...  2936.7  2989.0  3039.6  3089.0  3137.8  3186.1   \n",
      "533     NaN     NaN  ...  2934.3  2986.9  3037.7  3087.3  3136.2  3184.7   \n",
      "537     NaN     NaN  ...  2931.8  2984.8  3035.8  3085.6  3134.7  3183.3   \n",
      "541     NaN     NaN  ...  2929.4  2982.6  3033.9  3083.9  3133.1  3181.9   \n",
      "\n",
      "        600     625     650         Combined  \n",
      "1    3302.6     NaN  3390.3      U at 1.0kPa  \n",
      "5    3302.6     NaN  3390.3     U at 10.0kPa  \n",
      "9    3302.5     NaN  3390.2     U at 20.0kPa  \n",
      "13   3302.5     NaN  3390.2     U at 30.0kPa  \n",
      "17   3302.4     NaN  3390.1     U at 40.0kPa  \n",
      "..      ...     ...     ...              ...  \n",
      "525  3235.6  3283.6  3331.7  U at 10600.0kPa  \n",
      "529  3234.3  3282.4  3330.6  U at 10800.0kPa  \n",
      "533  3233.0  3281.2  3329.5  U at 11000.0kPa  \n",
      "537  3231.7  3280.0  3328.4  U at 11200.0kPa  \n",
      "541  3230.4  3278.8  3327.2  U at 11400.0kPa  \n",
      "\n",
      "[136 rows x 38 columns]\n",
      "\n",
      "H dataset:\n",
      "      Pressure Property   Liq_Sat  Vap_Sat      75     100     125     150  \\\n",
      "2         1.0        H    29.335   2514.4  2641.5  2688.6  2736.0  2783.7   \n",
      "6        10.0        H   191.832   2584.8  2640.0  2687.5  2735.2  2783.1   \n",
      "10       20.0        H   251.453   2609.9  2638.4  2686.3  2734.2  2782.3   \n",
      "14       30.0        H   289.302   2625.4  2636.8  2685.1  2733.3  2781.6   \n",
      "18       40.0        H   317.650   2636.9     NaN  2683.8  2732.3  2780.9   \n",
      "..        ...      ...       ...      ...     ...     ...     ...     ...   \n",
      "526   10600.0        H  1433.700   2716.9     NaN     NaN     NaN     NaN   \n",
      "530   10800.0        H  1442.200   2713.1     NaN     NaN     NaN     NaN   \n",
      "534   11000.0        H  1450.600   2709.3     NaN     NaN     NaN     NaN   \n",
      "538   11200.0        H  1458.900   2705.4     NaN     NaN     NaN     NaN   \n",
      "542   11400.0        H  1467.200   2701.5     NaN     NaN     NaN     NaN   \n",
      "\n",
      "        175     200  ...     450     475     500     525     550     575  \\\n",
      "2    2831.7  2880.1  ...  3383.6     NaN  3489.2     NaN  3596.5     NaN   \n",
      "6    2831.2  2879.6  ...  3383.5     NaN  3489.1     NaN  3596.5     NaN   \n",
      "10   2830.6  2879.2  ...  3383.4     NaN  3489.0     NaN  3596.4     NaN   \n",
      "14   2830.0  2878.7  ...  3383.3     NaN  3488.9     NaN  3596.3     NaN   \n",
      "18   2829.5  2878.2  ...  3383.1     NaN  3488.8     NaN  3596.2     NaN   \n",
      "..      ...     ...  ...     ...     ...     ...     ...     ...     ...   \n",
      "526     NaN     NaN  ...  3234.1  3301.8  3367.2  3431.0  3493.8  3555.9   \n",
      "530     NaN     NaN  ...  3230.9  3299.0  3364.7  3428.8  3491.8  3554.1   \n",
      "534     NaN     NaN  ...  3227.7  3296.2  3362.2  3426.5  3489.7  3552.2   \n",
      "538     NaN     NaN  ...  3224.5  3293.4  3359.7  3424.3  3487.7  3550.4   \n",
      "542     NaN     NaN  ...  3221.2  3290.5  3357.2  3422.1  3485.7  3548.5   \n",
      "\n",
      "        600     625     650         Combined  \n",
      "2    3705.6     NaN  3816.4      H at 1.0kPa  \n",
      "6    3705.5     NaN  3816.3     H at 10.0kPa  \n",
      "10   3705.4     NaN  3816.2     H at 20.0kPa  \n",
      "14   3705.4     NaN  3816.2     H at 30.0kPa  \n",
      "18   3705.3     NaN  3816.1     H at 40.0kPa  \n",
      "..      ...     ...     ...              ...  \n",
      "526  3617.6  3679.1  3740.4  H at 10600.0kPa  \n",
      "530  3615.9  3677.5  3738.9  H at 10800.0kPa  \n",
      "534  3614.2  3675.9  3737.5  H at 11000.0kPa  \n",
      "538  3612.5  3674.4  3736.0  H at 11200.0kPa  \n",
      "542  3610.8  3672.8  3734.6  H at 11400.0kPa  \n",
      "\n",
      "[136 rows x 38 columns]\n",
      "\n",
      "S dataset:\n",
      "      Pressure Property  Liq_Sat  Vap_Sat      75     100     125     150  \\\n",
      "3         1.0        S   0.1060   8.9767  9.3828  9.5136  9.6365  9.7527   \n",
      "7        10.0        S   0.6493   8.1511  8.3168  8.4486  8.5722  8.6888   \n",
      "11       20.0        S   0.8321   7.9094  7.9933  8.1261  8.2504  8.3676   \n",
      "15       30.0        S   0.9441   7.7695  7.8024  7.9363  8.0614  8.1791   \n",
      "19       40.0        S   1.0261   7.6709     NaN  7.8009  7.9268  8.0450   \n",
      "..        ...      ...      ...      ...     ...     ...     ...     ...   \n",
      "527   10600.0        S   3.4029   5.5835     NaN     NaN     NaN     NaN   \n",
      "531   10800.0        S   3.4167   5.5715     NaN     NaN     NaN     NaN   \n",
      "535   11000.0        S   3.4304   5.5595     NaN     NaN     NaN     NaN   \n",
      "539   11200.0        S   3.4440   5.5476     NaN     NaN     NaN     NaN   \n",
      "543   11400.0        S   3.4575   5.5357     NaN     NaN     NaN     NaN   \n",
      "\n",
      "        175     200  ...      450     475      500     525      550     575  \\\n",
      "3    9.8629  9.9679  ...  10.8200     NaN  10.9612     NaN  11.0957     NaN   \n",
      "7    8.7994  8.9045  ...   9.7572     NaN   9.8984     NaN  10.0329     NaN   \n",
      "11   8.4785  8.5839  ...   9.4372     NaN   9.5784     NaN   9.7130     NaN   \n",
      "15   8.2903  8.3960  ...   9.2499     NaN   9.3912     NaN   9.5257     NaN   \n",
      "19   8.1566  8.2624  ...   9.1170     NaN   9.2583     NaN   9.3929     NaN   \n",
      "..      ...     ...  ...      ...     ...      ...     ...      ...     ...   \n",
      "527     NaN     NaN  ...   6.3872  6.4793   6.5652  6.6465   6.7239  6.7983   \n",
      "531     NaN     NaN  ...   6.3752  6.4678   6.5542  6.6357   6.7134  6.7880   \n",
      "535     NaN     NaN  ...   6.3633  6.4564   6.5432  6.6251   6.7031  6.7779   \n",
      "539     NaN     NaN  ...   6.3515  6.4452   6.5324  6.6147   6.6929  6.7679   \n",
      "543     NaN     NaN  ...   6.3399  6.4341   6.5218  6.6043   6.6828  6.7580   \n",
      "\n",
      "         600     625      650         Combined  \n",
      "3    11.2243     NaN  11.3476      S at 1.0kPa  \n",
      "7    10.1616     NaN  10.2849     S at 10.0kPa  \n",
      "11    9.8416     NaN   9.9650     S at 20.0kPa  \n",
      "15    9.6544     NaN   9.7778     S at 30.0kPa  \n",
      "19    9.5216     NaN   9.6450     S at 40.0kPa  \n",
      "..       ...     ...      ...              ...  \n",
      "527   6.8700  6.9394   7.0067  S at 10600.0kPa  \n",
      "531   6.8599  6.9294   6.9969  S at 10800.0kPa  \n",
      "535   6.8499  6.9196   6.9872  S at 11000.0kPa  \n",
      "539   6.8401  6.9099   6.9777  S at 11200.0kPa  \n",
      "543   6.8304  6.9004   6.9683  S at 11400.0kPa  \n",
      "\n",
      "[136 rows x 38 columns]\n"
     ]
    }
   ],
   "source": [
    "property_column = 'Property'\n",
    "v_dataset = df[df[property_column] == 'V']\n",
    "u_dataset = df[df[property_column] == 'U']\n",
    "h_dataset = df[df[property_column] == 'H']\n",
    "s_dataset = df[df[property_column] == 'S']\n",
    "\n",
    "# Print the datasets\n",
    "print(\"V dataset:\\n\", v_dataset)\n",
    "print(\"\\nU dataset:\\n\", u_dataset)\n",
    "print(\"\\nH dataset:\\n\", h_dataset)\n",
    "print(\"\\nS dataset:\\n\", s_dataset)"
   ]
  },
  {
   "cell_type": "markdown",
   "metadata": {
    "id": "Ghkj0-0-d1W7"
   },
   "source": [
    "# Section 3: Plotting with Matplotlib"
   ]
  },
  {
   "cell_type": "markdown",
   "metadata": {
    "id": "ka0qrDcZeAL6"
   },
   "source": [
    "### Plot the properties (specific volume, specific internal energy, specific enthalpy, specific entropy) vs Pressure for saturated liquid.\n",
    "\n",
    "Note:\n",
    "- Try using the subplot feature of matplotlib(Explore it!!)\n",
    "- Provide appropriate title, labels, markersize and other parameters to the plot"
   ]
  },
  {
   "cell_type": "code",
   "execution_count": 24,
   "metadata": {
    "id": "XbKdm-cUePKA"
   },
   "outputs": [
    {
     "data": {
      "image/png": "[encoded data removed]",
      "text/plain": [
       "<Figure size 1200x1000 with 4 Axes>"
      ]
     },
     "metadata": {},
     "output_type": "display_data"
    }
   ],
   "source": [
    "\n",
    "plt.subplots(nrows=2, ncols=2, figsize=(12, 10))\n",
    "plt.suptitle('Properties vs. Pressure for Saturated Liquid', fontsize=16)\n",
    "\n",
    "# Plot specific volume vs. Pressure\n",
    "plt.subplot(2,2,1)\n",
    "plt.xlabel('Pressure (kPa)')\n",
    "plt.ylabel('Specific Volume(m^3/kg)')\n",
    "plt.plot(df[df['Property']=='V']['Pressure'],df[df['Property']=='V']['Liq_Sat'],label='Graph 1')\n",
    "\n",
    "\n",
    "\n",
    "# Plot specific internal energy vs. Pressure\n",
    "plt.subplot(2,2,2)\n",
    "plt.xlabel('Pressure (kPa)')\n",
    "plt.ylabel('Specific Internal Energy(J/kg)')\n",
    "plt.plot(df[df['Property']=='U']['Pressure'],df[df['Property']=='U']['Liq_Sat'],label='Graph 2')\n",
    "\n",
    "\n",
    "#Plot specific enthalpy vs Pressure\n",
    "plt.subplot(2,2,3)\n",
    "plt.xlabel('Pressure (kPa)')\n",
    "plt.ylabel('Specific Enthalpy(kJ/kg)')\n",
    "plt.plot(df[df['Property']=='H']['Pressure'],df[df['Property']=='H']['Liq_Sat'],label='Graph 3')\n",
    "\n",
    "\n",
    "#Plot specific entropy vs Pressure\n",
    "plt.subplot(2,2,4)\n",
    "plt.xlabel('Pressure (kPa)')\n",
    "plt.ylabel('Specific Entropy(J/kgK)')\n",
    "plt.plot(df[df['Property']=='S']['Pressure'],df[df['Property']=='S']['Liq_Sat'],label='Graph 4')\n",
    "\n",
    "\n",
    "\n",
    "plt.tight_layout()\n",
    "\n",
    "plt.show()"
   ]
  },
  {
   "cell_type": "markdown",
   "metadata": {},
   "source": [
    "### Plot the same for saturated vapor."
   ]
  },
  {
   "cell_type": "code",
   "execution_count": 21,
   "metadata": {},
   "outputs": [
    {
     "data": {
      "image/png": "[encoded data removed]",
      "text/plain": [
       "<Figure size 640x480 with 4 Axes>"
      ]
     },
     "metadata": {},
     "output_type": "display_data"
    }
   ],
   "source": [
    "\n",
    "plt.subplots(nrows=2,ncols=2)\n",
    "plt.subplot(2,2,1)\n",
    "plt.suptitle('Properties vs. Pressure for Saturated Vapour', fontsize=16)\n",
    "\n",
    "# Plot specific volume vs. Pressure\n",
    "plt.xlabel('Pressure (kPa)')\n",
    "plt.ylabel('Specific Volume(m^3/kg)')\n",
    "plt.plot(df[df['Property']=='U']['Pressure'],df[df['Property']=='U']['Vap_Sat'],label='Graph 2')\n",
    "\n",
    "# Plot specific internal energy vs. Pressure\n",
    "plt.subplot(2,2,2)\n",
    "plt.xlabel('Pressure (kPa)')\n",
    "plt.ylabel('Specific Internal Energy(J/kg)')\n",
    "plt.plot(df[df['Property']=='U']['Pressure'],df[df['Property']=='U']['Vap_Sat'],label='Graph 2')\n",
    "\n",
    "#Plot specific enthalpy vs Pressure\n",
    "plt.subplot(2,2,3)\n",
    "plt.xlabel('Pressure (kPa)')\n",
    "plt.ylabel('Specific Enthalpy (kJ/kg)')\n",
    "plt.plot(df[df['Property']=='H']['Pressure'],df[df['Property']=='H']['Vap_Sat'],label='Graph 3')\n",
    "\n",
    "#Plot specific entropy vs Pressure\n",
    "plt.subplot(2,2,4)\n",
    "plt.xlabel('Pressure (kPa)')\n",
    "plt.ylabel('Specific Entropy (J/kgK)')\n",
    "plt.plot(df[df['Property']=='S']['Pressure'],df[df['Property']=='S']['Vap_Sat'],label='Graph 4')\n",
    "\n",
    "plt.tight_layout()\n",
    "\n",
    "plt.show()\n"
   ]
  },
  {
   "cell_type": "markdown",
   "metadata": {
    "id": "SCLRji6TeQgh"
   },
   "source": [
    "### Plot the specific volume of saturated liquid between 300 kPa and 1500 kPa"
   ]
  },
  {
   "cell_type": "code",
   "execution_count": 16,
   "metadata": {
    "id": "u6DyyI7MeYgE"
   },
   "outputs": [
    {
     "data": {
      "image/png": "[encoded data removed]",
      "text/plain": [
       "<Figure size 640x480 with 1 Axes>"
      ]
     },
     "metadata": {},
     "output_type": "display_data"
    }
   ],
   "source": [
    "\n",
    "plt.plot(df[(df['Property']=='V') & (df['Pressure']>300) & (df['Pressure']<1500)]['Pressure'],df[(df['Property'] == 'V') &(df['Pressure']>300) &\n",
    "         (df['Pressure']<1500)]['Liq_Sat'])\n",
    "plt.title('Specific Volume vs. Pressure')\n",
    "plt.xlabel('Pressure (kPa)')\n",
    "plt.ylabel('Specific Volume (m³/kg)')\n",
    "\n",
    "\n",
    "plt.show()"
   ]
  },
  {
   "cell_type": "code",
   "execution_count": 26,
   "metadata": {},
   "outputs": [],
   "source": [
    "#Section 4 : Conclusion"
   ]
  },
  {
   "cell_type": "markdown",
   "metadata": {},
   "source": [
    "*Congratulations on reaching this point! I hope you had fun solving your first assignment and have also built confidence in applying these libraries. If you are wondering, we will cover more about z-score normalization in Week 2, and the sigmoid function will be used in Week 3. After completing this assignment, you are now prepared to learn about machine learning techniques and implement your own machine learning models.*"
   ]
  }
 ],
 "metadata": {
  "colab": {
   "provenance": [],
   "toc_visible": true
  },
  "kernelspec": {
   "display_name": "Python 3 (ipykernel)",
   "language": "python",
   "name": "python3"
  },
  "language_info": {
   "codemirror_mode": {
    "name": "ipython",
    "version": 3
   },
   "file_extension": ".py",
   "mimetype": "text/x-python",
   "name": "python",
   "nbconvert_exporter": "python",
   "pygments_lexer": "ipython3",
   "version": "3.12.1"
  }
 },
 "nbformat": 4,
 "nbformat_minor": 4
}
